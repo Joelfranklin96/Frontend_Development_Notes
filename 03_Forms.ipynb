{
 "cells": [
  {
   "cell_type": "code",
   "execution_count": null,
   "id": "490d9a64",
   "metadata": {},
   "outputs": [],
   "source": [
    "# Forms are used for collection of data"
   ]
  },
  {
   "cell_type": "raw",
   "id": "82b5597f",
   "metadata": {},
   "source": [
    "<!DOCTYPE html>\n",
    "<html>\n",
    "<head>\n",
    "\t<title></title>\n",
    "</head>\n",
    "<body>\n",
    "\t<form>\n",
    "\t\t<div>\n",
    "\t\t\t<input type=\"text\">\n",
    "\t\t</div>\n",
    "\t\t<div>\n",
    "\t\t\t<input type=\"password\">\n",
    "\t\t</div>\n",
    "\t\t<div>\n",
    "\t\t\t<input type=\"submit\">\n",
    "\t\t</div>\n",
    "\t</form>\n",
    "\n",
    "\n",
    "</body>\n",
    "</html>"
   ]
  },
  {
   "cell_type": "markdown",
   "id": "ccd8c468",
   "metadata": {},
   "source": [
    "<!DOCTYPE html>\n",
    "<html>\n",
    "<head>\n",
    "\t<title></title>\n",
    "</head>\n",
    "<body>\n",
    "\t<form>\n",
    "\t\t<div>\n",
    "\t\t\t<input type=\"text\">\n",
    "\t\t</div>\n",
    "\t\t<div>\n",
    "\t\t\t<input type=\"password\">\n",
    "\t\t</div>\n",
    "\t\t<div>\n",
    "\t\t\t<input type=\"submit\">\n",
    "\t\t</div>\n",
    "\t</form>\n",
    "\n",
    "\n",
    "</body>\n",
    "</html>"
   ]
  },
  {
   "cell_type": "code",
   "execution_count": 1,
   "id": "2ad9957e",
   "metadata": {},
   "outputs": [],
   "source": [
    "# The <input> tags are inline elements. That's why we enclone them within <div>"
   ]
  },
  {
   "cell_type": "raw",
   "id": "d50bcb23",
   "metadata": {},
   "source": [
    "<!DOCTYPE html>\n",
    "<html>\n",
    "<head>\n",
    "\t<title></title>\n",
    "</head>\n",
    "<body>\n",
    "\t<form>\n",
    "\t\t<div>\n",
    "\t\t\t<label for=\"1\">Username</label>\n",
    "\t\t</div>\n",
    "\t\t<div>\n",
    "\t\t\t<input type=\"text\" id=\"1\" required>\n",
    "\t\t</div>\n",
    "\t\t<div>\n",
    "\t\t\t<label for=\"2\">Password</label>\n",
    "\t\t</div>\n",
    "\t\t<div>\n",
    "\t\t\t<input type=\"password\" id=\"2\" required>\n",
    "\t\t</div>\n",
    "\t\t<div>\n",
    "\t\t\t<input type=\"submit\">\n",
    "\t\t</div>\n",
    "\t</form>\n",
    "\n",
    "\n",
    "</body>\n",
    "</html>"
   ]
  },
  {
   "cell_type": "markdown",
   "id": "6d091a1a",
   "metadata": {},
   "source": [
    "<!DOCTYPE html>\n",
    "<html>\n",
    "<head>\n",
    "\t<title></title>\n",
    "</head>\n",
    "<body>\n",
    "\t<form>\n",
    "\t\t<div>\n",
    "\t\t\t<label for=\"1\">Username</label>\n",
    "\t\t</div>\n",
    "\t\t<div>\n",
    "\t\t\t<input type=\"text\" id=\"1\" required>\n",
    "\t\t</div>\n",
    "\t\t<div>\n",
    "\t\t\t<label for=\"2\">Password</label>\n",
    "\t\t</div>\n",
    "\t\t<div>\n",
    "\t\t\t<input type=\"password\" id=\"2\" required>\n",
    "\t\t</div>\n",
    "\t\t<div>\n",
    "\t\t\t<input type=\"submit\">\n",
    "\t\t</div>\n",
    "\t</form>\n",
    "\n",
    "\n",
    "</body>\n",
    "</html>"
   ]
  },
  {
   "cell_type": "code",
   "execution_count": 2,
   "id": "90025480",
   "metadata": {},
   "outputs": [],
   "source": [
    "# The <label> tag is also an inline element. That's why we enclose them within <div>\n",
    "# We mention the 'id' of the 'input' in the 'for' attribute of label tag.\n",
    "# The attribute 'required' makes sure that we need to enter something in 'Username' and 'Password' input fields.\n",
    "# The attribute 'required' is a bool\n",
    "\n",
    "# The default ‘type’ attribute of <input> element is 'text'"
   ]
  },
  {
   "cell_type": "code",
   "execution_count": 3,
   "id": "9c18b2de",
   "metadata": {},
   "outputs": [],
   "source": [
    "# We have seen the input types - \"text\", \"password\" and \"submit\"\n",
    "# Some more input types are - 'number', 'time','email', 'url'\n",
    "\n",
    "# If we specify the input types as 'number' and 'time', then we can only enter numbers and time.\n",
    "# If we specify the input type as 'email', then if we don't enter in email format, it will throw error\n",
    "\n",
    "# There is one another input type - 'range'. This will give us a slider when rendered."
   ]
  },
  {
   "cell_type": "raw",
   "id": "673d2f9e",
   "metadata": {},
   "source": [
    "<!DOCTYPE html>\n",
    "<html>\n",
    "<head>\n",
    "\t<title></title>\n",
    "</head>\n",
    "<body>\n",
    "\t<form>\n",
    "\t\t<div>\n",
    "\t\t\t<label for=\"1\">Email</label>\n",
    "\t\t</div>\n",
    "\t\t<div>\n",
    "\t\t\t<input type=\"Email\" id=\"1\" required placeholder=\"abc@example.com\">\n",
    "\t\t</div>\n",
    "\t\t<div>\n",
    "\t\t\t<label for=\"2\">Password</label>\n",
    "\t\t</div>\n",
    "\t\t<div>\n",
    "\t\t\t<input type=\"password\" id=\"2\" required>\n",
    "\t\t</div>\n",
    "\t\t<div>\n",
    "\t\t\t<input type=\"submit\">\n",
    "\t\t</div>\n",
    "\t</form>\n",
    "\n",
    "\n",
    "</body>\n",
    "</html>"
   ]
  },
  {
   "cell_type": "markdown",
   "id": "ce49d7a3",
   "metadata": {},
   "source": [
    "<!DOCTYPE html>\n",
    "<html>\n",
    "<head>\n",
    "\t<title></title>\n",
    "</head>\n",
    "<body>\n",
    "\t<form>\n",
    "\t\t<div>\n",
    "\t\t\t<label for=\"1\">Email</label>\n",
    "\t\t</div>\n",
    "\t\t<div>\n",
    "\t\t\t<input type=\"Email\" id=\"1\" required placeholder=\"abc@example.com\">\n",
    "\t\t</div>\n",
    "\t\t<div>\n",
    "\t\t\t<label for=\"2\">Password</label>\n",
    "\t\t</div>\n",
    "\t\t<div>\n",
    "\t\t\t<input type=\"password\" id=\"2\" required>\n",
    "\t\t</div>\n",
    "\t\t<div>\n",
    "\t\t\t<input type=\"submit\">\n",
    "\t\t</div>\n",
    "\t</form>\n",
    "\n",
    "\n",
    "</body>\n",
    "</html>"
   ]
  },
  {
   "cell_type": "code",
   "execution_count": null,
   "id": "df46a921",
   "metadata": {},
   "outputs": [],
   "source": [
    "# The 'placeholder' attribute of input tag displays the placeholder before we click on the Email to enter."
   ]
  },
  {
   "cell_type": "raw",
   "id": "37c1cfb1",
   "metadata": {},
   "source": [
    "<!DOCTYPE html>\n",
    "<html>\n",
    "<head>\n",
    "\t<title></title>\n",
    "</head>\n",
    "<body>\n",
    "\t<form>\n",
    "\t\t<div>\n",
    "\t\t\t<label for=\"1\">Email</label>\n",
    "\t\t</div>\n",
    "\t\t<div>\n",
    "\t\t\t<input type = \"email\" id=\"1\" required placeholder=\"abc@example.com\" name=\"User email\">\n",
    "\t\t</div>\n",
    "\t\t<div>\n",
    "\t\t\t<label for=\"2\">Password</label>\n",
    "\t\t</div>\n",
    "\t\t<div>\n",
    "\t\t\t<input type=\"password\" id=\"2\" required name=\"User password\">\n",
    "\t\t</div>\n",
    "\t\t<div>\n",
    "\t\t\t<input type=\"submit\">\n",
    "\t\t</div>\n",
    "\t</form>\n",
    "\n",
    "\n",
    "</body>\n",
    "</html>"
   ]
  },
  {
   "cell_type": "code",
   "execution_count": 4,
   "id": "341aecc0",
   "metadata": {},
   "outputs": [],
   "source": [
    "# Since forms are used for collection of data, if we don't mention the 'name' attribute for a particular 'input',\n",
    "# then the form will not pass that particular 'input' data forward. If we would want to extract the data from Forms,\n",
    "# then we have to know the value of 'name' attribute of 'input'."
   ]
  },
  {
   "cell_type": "raw",
   "id": "f166de5d",
   "metadata": {},
   "source": [
    "<!DOCTYPE html>\n",
    "<html>\n",
    "<head>\n",
    "\t<title></title>\n",
    "</head>\n",
    "<body>\n",
    "\t<form>\n",
    "\t\t<div>\n",
    "\t\t\t<label for=\"1\">Email</label>\n",
    "\t\t</div>\n",
    "\t\t<div>\n",
    "\t\t\t<input type = \"email\" id=\"1\" required placeholder=\"abc@example.com\" name=\"User email\">\n",
    "\t\t</div>\n",
    "\t\t<div>\n",
    "\t\t\t<label for=\"2\">Password</label>\n",
    "\t\t</div>\n",
    "\t\t<div>\n",
    "\t\t\t<input type=\"password\" id=\"2\" required name=\"User password\">\n",
    "\t\t</div>\n",
    "\t\t<div>\n",
    "\t\t\t<label for=\"3\">Country</label>\n",
    "\t\t</div>\n",
    "\t\t<div>\n",
    "\t\t\t<input type=\"text\" id=\"3\" required name=\"User country\" value=\"India\" disabled>\n",
    "\t\t</div>\n",
    "\t\t<div>\n",
    "\t\t\t<input type=\"submit\">\n",
    "\t\t</div>\n",
    "\t</form>\n",
    "\n",
    "\n",
    "</body>\n",
    "</html>"
   ]
  },
  {
   "cell_type": "markdown",
   "id": "79b5288d",
   "metadata": {},
   "source": [
    "<!DOCTYPE html>\n",
    "<html>\n",
    "<head>\n",
    "\t<title></title>\n",
    "</head>\n",
    "<body>\n",
    "\t<form>\n",
    "\t\t<div>\n",
    "\t\t\t<label for=\"1\">Email</label>\n",
    "\t\t</div>\n",
    "\t\t<div>\n",
    "\t\t\t<input type = \"email\" id=\"1\" required placeholder=\"abc@example.com\" name=\"User email\">\n",
    "\t\t</div>\n",
    "\t\t<div>\n",
    "\t\t\t<label for=\"2\">Password</label>\n",
    "\t\t</div>\n",
    "\t\t<div>\n",
    "\t\t\t<input type=\"password\" id=\"2\" required name=\"User password\">\n",
    "\t\t</div>\n",
    "\t\t<div>\n",
    "\t\t\t<label for=\"3\">Country</label>\n",
    "\t\t</div>\n",
    "\t\t<div>\n",
    "\t\t\t<input type=\"text\" id=\"3\" required name=\"User country\" value=\"India\" disabled>\n",
    "\t\t</div>\n",
    "\t\t<div>\n",
    "\t\t\t<input type=\"submit\">\n",
    "\t\t</div>\n",
    "\t</form>\n",
    "\n",
    "\n",
    "</body>\n",
    "</html>"
   ]
  },
  {
   "cell_type": "code",
   "execution_count": 5,
   "id": "dc2b46ef",
   "metadata": {},
   "outputs": [],
   "source": [
    "# The 'value' attribute of 'input' tag is the default value of 'input' tag. If nothing is entered, then the default 'value'\n",
    "# will be submitted.\n",
    "# The 'disabled' (bool) attribute of 'input' tag makes sure the field can't be edited by the user."
   ]
  },
  {
   "cell_type": "code",
   "execution_count": 6,
   "id": "b6893eb0",
   "metadata": {},
   "outputs": [],
   "source": [
    "# Radio Buttons"
   ]
  },
  {
   "cell_type": "raw",
   "id": "54ab1643",
   "metadata": {},
   "source": [
    "<!DOCTYPE html>\n",
    "<html>\n",
    "<head>\n",
    "\t<title></title>\n",
    "</head>\n",
    "<body>\n",
    "\t<form>\n",
    "\t\t<p> Gender </p>\n",
    "\t\t<div>\n",
    "\t\t\t<input type=\"radio\"> Male\n",
    "\t\t</div>\n",
    "\t\t<div>\n",
    "\t\t\t<input type=\"radio\"> Female\n",
    "\t\t</div>\n",
    "\t\t<div>\n",
    "\t\t\t<input type=\"radio\"> Other\n",
    "\t\t</div>\n",
    "\t\t<div>\n",
    "\t\t\t<input type=\"submit\">\n",
    "\t\t</div>\n",
    "\t</form>\n",
    "\n",
    "\n",
    "</body>\n",
    "</html>"
   ]
  },
  {
   "cell_type": "markdown",
   "id": "863cf797",
   "metadata": {},
   "source": [
    "<!DOCTYPE html>\n",
    "<html>\n",
    "<head>\n",
    "\t<title></title>\n",
    "</head>\n",
    "<body>\n",
    "\t<form>\n",
    "\t\t<p> Gender </p>\n",
    "\t\t<div>\n",
    "\t\t\t<input type=\"radio\"> Male\n",
    "\t\t</div>\n",
    "\t\t<div>\n",
    "\t\t\t<input type=\"radio\"> Female\n",
    "\t\t</div>\n",
    "\t\t<div>\n",
    "\t\t\t<input type=\"radio\"> Other\n",
    "\t\t</div>\n",
    "\t\t<div>\n",
    "\t\t\t<input type=\"submit\">\n",
    "\t\t</div>\n",
    "\t</form>\n",
    "\n",
    "\n",
    "</body>\n",
    "</html>"
   ]
  },
  {
   "cell_type": "code",
   "execution_count": 7,
   "id": "7d7f0436",
   "metadata": {},
   "outputs": [],
   "source": [
    "# In the above case, we can select more than one radio buttons which defeats the purpose of Radio buttons. So we enter the\n",
    "# 'name' attribute which makes sure we are able to select only one radio button.\n",
    "\n",
    "# Also we enter the 'value' attribute which is the value stored in that radio button. That data stored in 'value' will be passed\n",
    "# when submitted.\n",
    "\n",
    "# The 'checked' attribute is nothing but it makes sure the Male radio button is checked when we render the page."
   ]
  },
  {
   "cell_type": "raw",
   "id": "0721c59b",
   "metadata": {},
   "source": [
    "<!DOCTYPE html>\n",
    "<html>\n",
    "<head>\n",
    "\t<title></title>\n",
    "</head>\n",
    "<body>\n",
    "\t<form>\n",
    "\t\t<p> Gender </p>\n",
    "\t\t<div>\n",
    "\t\t\t<input type=\"radio\" name=\"gender\" value = \"male sex\" checked> Male\n",
    "\t\t</div>\n",
    "\t\t<div>\n",
    "\t\t\t<input type=\"radio\" name=\"gender\" value = \"female sex\"> Female\n",
    "\t\t</div>\n",
    "\t\t<div>\n",
    "\t\t\t<input type=\"radio\" name=\"gender\" value = \"other sex\"> Other\n",
    "\t\t</div>\n",
    "\t\t<div>\n",
    "\t\t\t<input type=\"submit\">\n",
    "\t\t</div>\n",
    "\t</form>\n",
    "\n",
    "\n",
    "</body>\n",
    "</html>"
   ]
  },
  {
   "cell_type": "code",
   "execution_count": 8,
   "id": "5ea0ae40",
   "metadata": {},
   "outputs": [],
   "source": [
    "# CheckBox\n",
    "\n",
    "# In case of CheckBox, we can select multiple boxes even though every 'input' has the same 'name' attribute\n",
    "# Also we can unselect/uncheck boxes by clicking on the selected boxes."
   ]
  },
  {
   "cell_type": "raw",
   "id": "67c44973",
   "metadata": {},
   "source": [
    "<!DOCTYPE html>\n",
    "<html>\n",
    "<head>\n",
    "\t<title></title>\n",
    "</head>\n",
    "<body>\n",
    "\t<form>\n",
    "\t\t<p> Course Done </p>\n",
    "\t\t<div>\n",
    "\t\t\t<input type=\"checkbox\" name=\"Course completed\" value=\"Python\"> Python\n",
    "\t\t</div>\n",
    "\t\t<div>\n",
    "\t\t\t<input type=\"checkbox\" name=\"Course completed\" value=\"C++\"> C++\n",
    "\t\t</div>\n",
    "\t\t<div>\n",
    "\t\t\t<input type=\"checkbox\" name=\"Course completed\" value=\"Java\"> Java\n",
    "\t\t</div>\n",
    "\t</form>\n",
    "</body>\n",
    "</html>"
   ]
  },
  {
   "cell_type": "markdown",
   "id": "da6677bd",
   "metadata": {},
   "source": [
    "<!DOCTYPE html>\n",
    "<html>\n",
    "<head>\n",
    "\t<title></title>\n",
    "</head>\n",
    "<body>\n",
    "\t<form>\n",
    "\t\t<p> Course Done </p>\n",
    "\t\t<div>\n",
    "\t\t\t<input type=\"checkbox\" name=\"Course completed\" value=\"Python\"> Python\n",
    "\t\t</div>\n",
    "\t\t<div>\n",
    "\t\t\t<input type=\"checkbox\" name=\"Course completed\" value=\"C++\"> C++\n",
    "\t\t</div>\n",
    "\t\t<div>\n",
    "\t\t\t<input type=\"checkbox\" name=\"Course completed\" value=\"Java\"> Java\n",
    "\t\t</div>\n",
    "\t</form>\n",
    "</body>\n",
    "</html>"
   ]
  },
  {
   "cell_type": "code",
   "execution_count": 9,
   "id": "20b1c7a7",
   "metadata": {},
   "outputs": [],
   "source": [
    "# The 'name' attribute in RadioButton serves 2 purposes\n",
    "# If all 'input' have the same 'name' attribute, then only 1 radiobutton can be selected\n",
    "# The 'name' attribute helps us to collect data after the form has been submitted.\n",
    "\n",
    "# Whereas the 'name' attribute in CheckBox serves only 1 purpose\n",
    "# The 'name' attribute helps us to collect data after the form has been submitted."
   ]
  },
  {
   "cell_type": "code",
   "execution_count": 10,
   "id": "b2542ac3",
   "metadata": {},
   "outputs": [],
   "source": [
    "# Drop Down list\n",
    "\n",
    "# Drop Down List is preferred when the number of options to select from is more than 6-7 options.\n",
    "\n",
    "# Even in 'Drop Down List', the 'name' field is required for the processing of data after submission of form"
   ]
  },
  {
   "cell_type": "raw",
   "id": "c4e97667",
   "metadata": {},
   "source": [
    "<!DOCTYPE html>\n",
    "<html>\n",
    "<head>\n",
    "\t<title></title>\n",
    "</head>\n",
    "<body>\n",
    "\t<form>\n",
    "\t\t<p>Month</p>\n",
    "\t\t<select name = \"Month selected\">\n",
    "\t\t\t<option>Jan</option>\n",
    "\t\t\t<option>Feb</option>\n",
    "\t\t\t<option>Mar</option>\n",
    "\t\t\t<option>April</option>\n",
    "\t\t\t<option>May</option>\n",
    "\t\t\t<option>June</option>\n",
    "\t\t\t<option>July</option>\n",
    "\t\t\t<option>Aug</option>\n",
    "\t\t\t<option>Sept</option>\n",
    "\t\t\t<option>Oct</option>\n",
    "\t\t\t<option>Nov</option>\n",
    "\t\t\t<option>Dec</option>\n",
    "\t\t</select>\n",
    "\t</form>\n",
    "</body>\n",
    "</html>"
   ]
  },
  {
   "cell_type": "markdown",
   "id": "51d00bb4",
   "metadata": {},
   "source": [
    "<!DOCTYPE html>\n",
    "<html>\n",
    "<head>\n",
    "\t<title></title>\n",
    "</head>\n",
    "<body>\n",
    "\t<form>\n",
    "\t\t<p>Month</p>\n",
    "\t\t<select name = \"Month selected\">\n",
    "\t\t\t<option>Jan</option>\n",
    "\t\t\t<option>Feb</option>\n",
    "\t\t\t<option>Mar</option>\n",
    "\t\t\t<option>April</option>\n",
    "\t\t\t<option>May</option>\n",
    "\t\t\t<option>June</option>\n",
    "\t\t\t<option>July</option>\n",
    "\t\t\t<option>Aug</option>\n",
    "\t\t\t<option>Sept</option>\n",
    "\t\t\t<option>Oct</option>\n",
    "\t\t\t<option>Nov</option>\n",
    "\t\t\t<option>Dec</option>\n",
    "\t\t</select>\n",
    "\t</form>\n",
    "</body>\n",
    "</html>"
   ]
  },
  {
   "cell_type": "code",
   "execution_count": 11,
   "id": "47db739d",
   "metadata": {},
   "outputs": [],
   "source": [
    "# To select multiple options, use the 'multiple' attribute"
   ]
  },
  {
   "cell_type": "raw",
   "id": "5f72649c",
   "metadata": {},
   "source": [
    "<!DOCTYPE html>\n",
    "<html>\n",
    "<head>\n",
    "\t<title></title>\n",
    "</head>\n",
    "<body>\n",
    "\t<form>\n",
    "\t\t<p>Month</p>\n",
    "\t\t<select name = \"Month selected\" multiple>\n",
    "\t\t\t<option>Jan</option>\n",
    "\t\t\t<option>Feb</option>\n",
    "\t\t\t<option>Mar</option>\n",
    "\t\t\t<option>April</option>\n",
    "\t\t\t<option>May</option>\n",
    "\t\t\t<option>June</option>\n",
    "\t\t\t<option>July</option>\n",
    "\t\t\t<option>Aug</option>\n",
    "\t\t\t<option>Sept</option>\n",
    "\t\t\t<option>Oct</option>\n",
    "\t\t\t<option>Nov</option>\n",
    "\t\t\t<option>Dec</option>\n",
    "\t\t</select>\n",
    "\t</form>\n",
    "</body>\n",
    "</html>"
   ]
  },
  {
   "cell_type": "markdown",
   "id": "64e23c34",
   "metadata": {},
   "source": [
    "<!DOCTYPE html>\n",
    "<html>\n",
    "<head>\n",
    "\t<title></title>\n",
    "</head>\n",
    "<body>\n",
    "\t<form>\n",
    "\t\t<p>Month</p>\n",
    "\t\t<select name = \"Month selected\" multiple>\n",
    "\t\t\t<option>Jan</option>\n",
    "\t\t\t<option>Feb</option>\n",
    "\t\t\t<option>Mar</option>\n",
    "\t\t\t<option>April</option>\n",
    "\t\t\t<option>May</option>\n",
    "\t\t\t<option>June</option>\n",
    "\t\t\t<option>July</option>\n",
    "\t\t\t<option>Aug</option>\n",
    "\t\t\t<option>Sept</option>\n",
    "\t\t\t<option>Oct</option>\n",
    "\t\t\t<option>Nov</option>\n",
    "\t\t\t<option>Dec</option>\n",
    "\t\t</select>\n",
    "\t</form>\n",
    "</body>\n",
    "</html>"
   ]
  },
  {
   "cell_type": "code",
   "execution_count": null,
   "id": "0c13f06f",
   "metadata": {},
   "outputs": [],
   "source": [
    "# Text Area\n",
    "# If the number of 'rows' and 'cols' are not specified, the default number of 'rows' and 'cols' will be used"
   ]
  },
  {
   "cell_type": "raw",
   "id": "0fafc5a8",
   "metadata": {},
   "source": [
    "<!DOCTYPE html>\n",
    "<html>\n",
    "<head>\n",
    "\t<title></title>\n",
    "</head>\n",
    "<body>\n",
    "\t<form>\n",
    "\t\t<p> Write your experience </p>\n",
    "\t\t<textarea name=\"experience\" rows=\"10\" cols=\"30\"></textarea>\n",
    "\t</form>\n",
    "</body>\n",
    "</html>"
   ]
  },
  {
   "cell_type": "markdown",
   "id": "4070a7b2",
   "metadata": {},
   "source": [
    "<!DOCTYPE html>\n",
    "<html>\n",
    "<head>\n",
    "\t<title></title>\n",
    "</head>\n",
    "<body>\n",
    "\t<form>\n",
    "\t\t<p> Write your experience </p>\n",
    "\t\t<textarea name=\"experience\" rows=\"10\" cols=\"30\"></textarea>\n",
    "\t</form>\n",
    "</body>\n",
    "</html>"
   ]
  },
  {
   "cell_type": "code",
   "execution_count": 12,
   "id": "b83bfbc1",
   "metadata": {},
   "outputs": [],
   "source": [
    "# Adding buttons"
   ]
  },
  {
   "cell_type": "raw",
   "id": "f02c9df0",
   "metadata": {},
   "source": [
    "<!DOCTYPE html>\n",
    "<html>\n",
    "<head>\n",
    "\t<title></title>\n",
    "</head>\n",
    "<body>\n",
    "\t<form>\n",
    "\t\t<p> Write your experience </p>\n",
    "\t\t<div>\n",
    "\t\t\t<textarea name=\"experience\" rows=\"10\" cols=\"30\"></textarea>\n",
    "\t\t</div>\n",
    "\t\t<div>\n",
    "\t\t\t<input type=\"button\" value=\"Button 1\">\n",
    "\t\t</div>\n",
    "\t\t<div>\n",
    "\t\t\t<button type=\"button\">Button 2</button>\n",
    "\t\t</div>\n",
    "\t</form>\n",
    "</body>\n",
    "</html>"
   ]
  },
  {
   "cell_type": "markdown",
   "id": "7e2fd334",
   "metadata": {},
   "source": [
    "<!DOCTYPE html>\n",
    "<html>\n",
    "<head>\n",
    "\t<title></title>\n",
    "</head>\n",
    "<body>\n",
    "\t<form>\n",
    "\t\t<p> Write your experience </p>\n",
    "\t\t<div>\n",
    "\t\t\t<textarea name=\"experience\" rows=\"10\" cols=\"30\"></textarea>\n",
    "\t\t</div>\n",
    "\t\t<div>\n",
    "\t\t\t<input type=\"button\" value=\"Button 1\">\n",
    "\t\t</div>\n",
    "\t\t<div>\n",
    "\t\t\t<button type=\"button\">Button 2</button>\n",
    "\t\t</div>\n",
    "\t</form>\n",
    "</body>\n",
    "</html>"
   ]
  },
  {
   "cell_type": "code",
   "execution_count": 13,
   "id": "e44403c8",
   "metadata": {},
   "outputs": [],
   "source": [
    "# Another way of adding Buttons is through the 'button' tag.\n",
    "# The 'type' attribute of 'button' tag has 3 values namely - 'button', 'submit', 'reset'\n",
    "# The default value of 'button' tag is 'submit'"
   ]
  },
  {
   "cell_type": "code",
   "execution_count": 14,
   "id": "58793fcf",
   "metadata": {},
   "outputs": [],
   "source": [
    "# The advantage of using 'button' tag over 'input' tag is we can use an image as a Button as shown in the below cell"
   ]
  },
  {
   "cell_type": "raw",
   "id": "12bb6065",
   "metadata": {},
   "source": [
    "<!DOCTYPE html>\n",
    "<html>\n",
    "<head>\n",
    "\t<title></title>\n",
    "</head>\n",
    "<body>\n",
    "\t<form>\n",
    "\t\t<p> Write your experience </p>\n",
    "\t\t<div>\n",
    "\t\t\t<textarea name=\"experience\" rows=\"10\" cols=\"30\"></textarea>\n",
    "\t\t</div>\n",
    "\t\t<div>\n",
    "\t\t\t<input type=\"button\" value=\"Button 1\">\n",
    "\t\t</div>\n",
    "\t\t<div>\n",
    "\t\t\t<button type=\"button\"><img src=\"Passport size photograph.jpg\"></button>\n",
    "\t\t</div>\n",
    "\t</form>\n",
    "</body>\n",
    "</html>"
   ]
  },
  {
   "cell_type": "markdown",
   "id": "137638ff",
   "metadata": {},
   "source": [
    "<!DOCTYPE html>\n",
    "<html>\n",
    "<head>\n",
    "\t<title></title>\n",
    "</head>\n",
    "<body>\n",
    "\t<form>\n",
    "\t\t<p> Write your experience </p>\n",
    "\t\t<div>\n",
    "\t\t\t<textarea name=\"experience\" rows=\"10\" cols=\"30\"></textarea>\n",
    "\t\t</div>\n",
    "\t\t<div>\n",
    "\t\t\t<input type=\"button\" value=\"Button 1\">\n",
    "\t\t</div>\n",
    "\t\t<div>\n",
    "\t\t\t<button type=\"button\"><img src=\"Passport size photograph.jpg\"></button>\n",
    "\t\t</div>\n",
    "\t</form>\n",
    "</body>\n",
    "</html>"
   ]
  },
  {
   "cell_type": "code",
   "execution_count": 15,
   "id": "e08bab2c",
   "metadata": {},
   "outputs": [],
   "source": [
    "# The form has to send the data to a URL that is hosted on the Server. The browser (form) has to send a request to the Server.\n",
    "# There are 2 types of common Requests namely - GET and POST.\n",
    "# GET is when the browser requests for some data from the server and POST is when data has to be created in server or \n",
    "# update existing data.\n",
    "\n",
    "# Another difference between GET and POST is that in GET Request, when you submit data, the data can be seen in the URL\n",
    "# Whereas in POST Request, when you submit data, the data will not be seen in the URL. POST Request is generally for \n",
    "# submitting passwords.\n",
    "# POST requests are more secure."
   ]
  },
  {
   "cell_type": "raw",
   "id": "1fb7c301",
   "metadata": {},
   "source": [
    "<form action = \"\" method = \"\">\n",
    "</form>"
   ]
  },
  {
   "cell_type": "code",
   "execution_count": 16,
   "id": "a64e7e8f",
   "metadata": {},
   "outputs": [],
   "source": [
    "# Action attribute is the URL to which the form sends the submitted data\n",
    "# method attribute is the type of Request made by the Form(browser) to the Server. Method attribute specifies\n",
    "# the method name that process the form data"
   ]
  },
  {
   "cell_type": "code",
   "execution_count": 17,
   "id": "4cd31175",
   "metadata": {},
   "outputs": [],
   "source": [
    "# Media Tags - Help us to upload audio, video and images to our webpage"
   ]
  },
  {
   "cell_type": "code",
   "execution_count": 18,
   "id": "2e190ff0",
   "metadata": {},
   "outputs": [],
   "source": [
    "# Uploading Audio"
   ]
  },
  {
   "cell_type": "raw",
   "id": "76226f46",
   "metadata": {},
   "source": [
    "<!DOCTYPE html>\n",
    "<html>\n",
    "<head>\n",
    "\t<title></title>\n",
    "</head>\n",
    "<body>\n",
    "\t<audio src=\"static/audio.mp3\" controls></audio>\n",
    "</body>\n",
    "</html>"
   ]
  },
  {
   "cell_type": "code",
   "execution_count": 19,
   "id": "81789df7",
   "metadata": {},
   "outputs": [],
   "source": [
    "# Using the 'source' tag"
   ]
  },
  {
   "cell_type": "raw",
   "id": "0ccc9cf9",
   "metadata": {},
   "source": [
    "<!DOCTYPE html>\n",
    "<html>\n",
    "<head>\n",
    "\t<title></title>\n",
    "</head>\n",
    "<body>\n",
    "\t<audio controls>\n",
    "\t\t<source src=\"static/audio.mp3\" type=\"audio/mp3\">\n",
    "\t\t<source src=\"static/audio.ogg\" type=\"audio/ogg\">\n",
    "\t</audio>\n",
    "</body>\n",
    "</html>"
   ]
  },
  {
   "cell_type": "markdown",
   "id": "3a343130",
   "metadata": {},
   "source": [
    "<!DOCTYPE html>\n",
    "<html>\n",
    "<head>\n",
    "\t<title></title>\n",
    "</head>\n",
    "<body>\n",
    "\t<audio controls>\n",
    "\t\t<source src=\"static/audio.mp3\" type=\"audio/mp3\">\n",
    "\t\t<source src=\"static/audio.ogg\" type=\"audio/ogg\">\n",
    "\t</audio>\n",
    "</body>\n",
    "</html>"
   ]
  },
  {
   "cell_type": "code",
   "execution_count": 20,
   "id": "6de6e8bc",
   "metadata": {},
   "outputs": [],
   "source": [
    "# If we don't know the exact audio format the browser supports, we can use the 'source' tag to specify different audio formats if \n",
    "# only we have the audio clip in multiple formats. The browser will play the first source tag that's working.\n",
    "\n",
    "# Same applies to Video tag"
   ]
  },
  {
   "cell_type": "code",
   "execution_count": 21,
   "id": "48b4869e",
   "metadata": {},
   "outputs": [],
   "source": [
    "# Video tag"
   ]
  },
  {
   "cell_type": "raw",
   "id": "35b216f8",
   "metadata": {},
   "source": [
    "<!DOCTYPE html>\n",
    "<html>\n",
    "<head>\n",
    "\t<title></title>\n",
    "</head>\n",
    "<body>\n",
    "\t<video controls height=\"200\" width=\"400\">\n",
    "\t\t<source src=\"static/video.mp3\" type=\"video/mp4\">\n",
    "\t</video>\n",
    "</body>\n",
    "</html>"
   ]
  },
  {
   "cell_type": "markdown",
   "id": "26eba9d2",
   "metadata": {},
   "source": [
    "<!DOCTYPE html>\n",
    "<html>\n",
    "<head>\n",
    "\t<title></title>\n",
    "</head>\n",
    "<body>\n",
    "\t<video controls height=\"200\" width=\"400\">\n",
    "\t\t<source src=\"static/video.mp3\" type=\"video/mp4\">\n",
    "\t</video>\n",
    "</body>\n",
    "</html>"
   ]
  },
  {
   "cell_type": "code",
   "execution_count": 22,
   "id": "c0f7d6b7",
   "metadata": {},
   "outputs": [],
   "source": [
    "# figure tag\n",
    "\n",
    "# The 'figcaption' displays the caption for the image"
   ]
  },
  {
   "cell_type": "raw",
   "id": "3b4546b5",
   "metadata": {},
   "source": [
    "<!DOCTYPE html>\n",
    "<html>\n",
    "<head>\n",
    "\t<title></title>\n",
    "</head>\n",
    "<body>\n",
    "\t<figure>\n",
    "\t\t<img src=\"static/image1.png\">\n",
    "\t\t<figcaption>Sample image</figcaption>\n",
    "\t</figure>\n",
    "</body>\n",
    "</html>"
   ]
  },
  {
   "cell_type": "code",
   "execution_count": 23,
   "id": "d9fc2b30",
   "metadata": {},
   "outputs": [],
   "source": [
    "# Favicon tag - This is the image that we see to the left of the title tab"
   ]
  },
  {
   "cell_type": "raw",
   "id": "1204de67",
   "metadata": {},
   "source": [
    "<!DOCTYPE html>\n",
    "<html>\n",
    "<head>\n",
    "\t<link rel = \"shortcut_icon\" type = \"image/x-icon\"\n",
    "\thref = \"static/favicon.ico\">\n",
    "\t<title>Media tags</title>\n",
    "</head>\n",
    "<body>\n",
    "\t\n",
    "</body>\n",
    "</html>"
   ]
  },
  {
   "cell_type": "code",
   "execution_count": 24,
   "id": "f52c52f5",
   "metadata": {},
   "outputs": [],
   "source": [
    "# Meta Tags - They are important from the perspective of SEO."
   ]
  },
  {
   "cell_type": "raw",
   "id": "9ab17642",
   "metadata": {},
   "source": [
    "<!DOCTYPE html>\n",
    "<html>\n",
    "<head>\n",
    "\t<link rel = \"shortcut_icon\" type = \"image/x-icon\"\n",
    "\thref = \"static/favicon.ico\">\n",
    "\t<title>Media tags</title>\n",
    "\n",
    "\t<meta name = \"description\" content = \" \">\n",
    "\t<meta name = \"keywords\" content = \"coding, html, css\">\n",
    "\t<meta name = \"author\" content = \"Joel\"\n",
    "</head>\n",
    "<body>\n",
    "\t\n",
    "</body>\n",
    "</html>"
   ]
  },
  {
   "cell_type": "code",
   "execution_count": null,
   "id": "a2ab6754",
   "metadata": {},
   "outputs": [],
   "source": [
    "# The 'description' is 1-4 lines and the 'keywords' are few words that are important.\n",
    "# The 'description' and 'keywords' are important from the perspective of SEO.\n",
    "# The 'title' is also important for SEO\n",
    "# The 'headings' in the 'body' is also important for SEO"
   ]
  },
  {
   "cell_type": "code",
   "execution_count": 25,
   "id": "5d8e503b",
   "metadata": {},
   "outputs": [],
   "source": [
    "# It's mandatory to declare the version of HTML we are using. In case we forget, then the browser will do its best to \n",
    "# layout the page and each browser may show the page differently, the elements may be displayed incorrectly or it may hide \n",
    "# some components while facing the errors that existed in older browsers.\n",
    "\n",
    "# It is important to specify the width and height attribute in the img tag because \n",
    "# the space required for the image is reserved when the page is loaded and helps the webpage to load faster.\n",
    "\n",
    "# Nesting of ul/ol should be inside the li element.\n",
    "\n",
    "# Semantic tags simply describe how the content within them should behave just for the ease of developers and browsers. \n",
    "# It does not necessarily force the elements to align according to their meaning.\n",
    "\n",
    "# Suppose there are 2 images of width 600px each and the width of the computer screen is 1000px.\n",
    "# Though img is an inline element, but there is only 400px space left for the second image, \n",
    "# hence it will be placed at the bottom of the first image.\n",
    "\n",
    "# Adding anchor tag to a paragraph (When we click on the paragraph, the link opens in a new tag)\n",
    "# <a href=\"https://www.google.com/\" target=\"_blank\"> <p> This is a paragraph. </p> </a>\n",
    "\n",
    "# Width and height attributes can only be used with\n",
    "# <img> tag, <input type = \"image\"> and <video> tag"
   ]
  }
 ],
 "metadata": {
  "kernelspec": {
   "display_name": "Python 3 (ipykernel)",
   "language": "python",
   "name": "python3"
  },
  "language_info": {
   "codemirror_mode": {
    "name": "ipython",
    "version": 3
   },
   "file_extension": ".py",
   "mimetype": "text/x-python",
   "name": "python",
   "nbconvert_exporter": "python",
   "pygments_lexer": "ipython3",
   "version": "3.9.12"
  }
 },
 "nbformat": 4,
 "nbformat_minor": 5
}
