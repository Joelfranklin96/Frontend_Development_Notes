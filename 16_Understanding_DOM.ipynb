{
 "cells": [
  {
   "cell_type": "code",
   "execution_count": 1,
   "id": "89e1ddc9",
   "metadata": {},
   "outputs": [],
   "source": [
    "# Wtih javascript, we would be able to add behaviour and interativity to our webpages"
   ]
  },
  {
   "cell_type": "code",
   "execution_count": 2,
   "id": "af151c0f",
   "metadata": {},
   "outputs": [],
   "source": [
    "# DOM (Document Object Model)\n",
    "\n",
    "# DOM is a tree like structure which represents the hierarchy of tags in a webpage"
   ]
  },
  {
   "cell_type": "code",
   "execution_count": 3,
   "id": "b978d3e1",
   "metadata": {},
   "outputs": [],
   "source": [
    "# window is an object\n",
    "# document or window.document is an object\n",
    "# document.head is an object\n",
    "# document.body is an object\n",
    "\n",
    "# screen or window.screen is an object"
   ]
  },
  {
   "cell_type": "code",
   "execution_count": null,
   "id": "2e7b5fb6",
   "metadata": {},
   "outputs": [],
   "source": [
    "# API - Application Programming Interface"
   ]
  },
  {
   "cell_type": "raw",
   "id": "fc9eae2e",
   "metadata": {},
   "source": [
    "console.log(window.location === document.location)"
   ]
  },
  {
   "cell_type": "code",
   "execution_count": null,
   "id": "2d464b3d",
   "metadata": {},
   "outputs": [],
   "source": [
    "# output in above case\n",
    "\n",
    "# true"
   ]
  },
  {
   "cell_type": "code",
   "execution_count": null,
   "id": "901c1c05",
   "metadata": {},
   "outputs": [],
   "source": [
    "# The window.location object can be used to get the current page address (URL) and to redirect the browser to a new page. \n",
    "# The Document.location read-only property returns a Location object, which contains information about the URL of the document \n",
    "# and provides methods for changing that URL and loading another URL. "
   ]
  },
  {
   "cell_type": "raw",
   "id": "67aa4d25",
   "metadata": {},
   "source": [
    "function test(){\n",
    "    return this;\n",
    "}\n",
    "console.log(test()==window);"
   ]
  },
  {
   "cell_type": "code",
   "execution_count": 4,
   "id": "f6072e08",
   "metadata": {},
   "outputs": [],
   "source": [
    "# output in above case\n",
    "\n",
    "# true"
   ]
  },
  {
   "cell_type": "code",
   "execution_count": 5,
   "id": "00a88d4e",
   "metadata": {},
   "outputs": [],
   "source": [
    "# index.html"
   ]
  },
  {
   "cell_type": "raw",
   "id": "92bce137",
   "metadata": {},
   "source": [
    "<!DOCTYPE html>\n",
    "<html>\n",
    "<head>\n",
    "\t<title>sample</title>\n",
    "</head>\n",
    "<body>\n",
    "\t<h1 id=\"one\">Heading 1</h1>\n",
    "\t<h1 id=\"two\">Heading 2</h1>\n",
    "\t<p>This is a sample paragraph</p>\n",
    "</body>\n",
    "</html>"
   ]
  },
  {
   "cell_type": "raw",
   "id": "5a135325",
   "metadata": {},
   "source": [
    "console.log(document.getElementById('one'));"
   ]
  },
  {
   "cell_type": "code",
   "execution_count": 6,
   "id": "cf54b108",
   "metadata": {},
   "outputs": [],
   "source": [
    "# output in above case\n",
    "\n",
    "# <h1 id=\"one\">Heading 1</h1>"
   ]
  },
  {
   "cell_type": "raw",
   "id": "9e945d29",
   "metadata": {},
   "source": [
    "var heading = document.getElementById('one');\n",
    "heading.style.color = 'red';\n",
    "heading.style.backgroundColor = 'cyan';"
   ]
  },
  {
   "cell_type": "code",
   "execution_count": null,
   "id": "676865bf",
   "metadata": {},
   "outputs": [],
   "source": [
    "# output in above case\n",
    "\n",
    "# heading 1 is turned to red color\n",
    "# Background of heading 1 is turned to cyan color"
   ]
  },
  {
   "cell_type": "raw",
   "id": "742bd150",
   "metadata": {},
   "source": [
    "var headings = document.getElementsByTagName(\"h1\");\n",
    "console.log(headings);"
   ]
  },
  {
   "cell_type": "code",
   "execution_count": null,
   "id": "5bcf4701",
   "metadata": {},
   "outputs": [],
   "source": [
    "# output in above case\n",
    "\n",
    "# an array of 2 headings"
   ]
  },
  {
   "cell_type": "raw",
   "id": "5ab65b29",
   "metadata": {},
   "source": [
    "headings[1].innerText = \"Second heading\";"
   ]
  },
  {
   "cell_type": "code",
   "execution_count": null,
   "id": "0a32e914",
   "metadata": {},
   "outputs": [],
   "source": [
    "# The 'Heading 2' text is changed to 'Second heading'"
   ]
  },
  {
   "cell_type": "raw",
   "id": "5dd20c83",
   "metadata": {},
   "source": [
    "var para = document.getElementsByClassName(\"class1\");"
   ]
  },
  {
   "cell_type": "raw",
   "id": "ecf209d2",
   "metadata": {},
   "source": [
    "var heading = document.querySelector('#one');"
   ]
  },
  {
   "cell_type": "raw",
   "id": "5d92c5c8",
   "metadata": {},
   "source": [
    "var heading = document.querySelector('.one');"
   ]
  },
  {
   "cell_type": "code",
   "execution_count": null,
   "id": "b81e61ad",
   "metadata": {},
   "outputs": [],
   "source": [
    "# In the above case, document.querySelector('.one') returns the first element with class = 'one'"
   ]
  },
  {
   "cell_type": "raw",
   "id": "b2df827f",
   "metadata": {},
   "source": [
    "var headings = document.querySelectorAll('.one');"
   ]
  },
  {
   "cell_type": "code",
   "execution_count": null,
   "id": "c49e4775",
   "metadata": {},
   "outputs": [],
   "source": [
    "# In the above case, document.querySelectorAll('.one') returns all elements with class = 'one'"
   ]
  },
  {
   "cell_type": "raw",
   "id": "7442ca83",
   "metadata": {},
   "source": [
    "headings[0].style.color = 'red';"
   ]
  },
  {
   "cell_type": "code",
   "execution_count": 8,
   "id": "51e46e1c",
   "metadata": {},
   "outputs": [],
   "source": [
    "# Event Handling"
   ]
  },
  {
   "cell_type": "code",
   "execution_count": null,
   "id": "8e3a3a4c",
   "metadata": {},
   "outputs": [],
   "source": [
    "# First method"
   ]
  },
  {
   "cell_type": "raw",
   "id": "099b50e2",
   "metadata": {},
   "source": [
    "<!DOCTYPE html>\n",
    "<html>\n",
    "<head>\n",
    "\t<title>sample</title>\n",
    "</head>\n",
    "<body>\n",
    "\t<button id = 'btn' onclick=\"alert('hey')\">Say Hello!</button>\n",
    "</body>\n",
    "</html>"
   ]
  },
  {
   "cell_type": "code",
   "execution_count": 9,
   "id": "1a7c9b76",
   "metadata": {},
   "outputs": [],
   "source": [
    "# Now when you click on 'Say Hello!' button, an alert saying 'hey' is displayed."
   ]
  },
  {
   "cell_type": "code",
   "execution_count": 10,
   "id": "592217bc",
   "metadata": {},
   "outputs": [],
   "source": [
    "# Second method"
   ]
  },
  {
   "cell_type": "code",
   "execution_count": 11,
   "id": "fb372a9d",
   "metadata": {},
   "outputs": [],
   "source": [
    "# index.html"
   ]
  },
  {
   "cell_type": "raw",
   "id": "e1619fe2",
   "metadata": {},
   "source": [
    "<!DOCTYPE html>\n",
    "<html>\n",
    "<head>\n",
    "\t<title>sample</title>\n",
    "</head>\n",
    "<body>\n",
    "\t<button id = 'btn'>Say Hello!</button>\n",
    "</body>\n",
    "</html>"
   ]
  },
  {
   "cell_type": "raw",
   "id": "376ce0d9",
   "metadata": {},
   "source": [
    "var helloButton = document.getElementById(\"btn\");\n",
    "helloButton.addEventListener('click', function(){\n",
    "  alert(\"Hey\")\n",
    "});"
   ]
  },
  {
   "cell_type": "code",
   "execution_count": null,
   "id": "0f064f69",
   "metadata": {},
   "outputs": [],
   "source": [
    "# Now when you click on 'Say Hello!' button, an alert saying 'hey' is displayed.\n",
    "\n",
    "# In the above case, 'click' is the event and the function is executed when the event is carried out."
   ]
  },
  {
   "cell_type": "code",
   "execution_count": 12,
   "id": "83874f50",
   "metadata": {},
   "outputs": [],
   "source": [
    "# An event handler is in general, a function that handles or responds to an event. \n",
    "# For example onclick, onkeypress, onload etc are event handler functions."
   ]
  },
  {
   "cell_type": "code",
   "execution_count": 13,
   "id": "542c7715",
   "metadata": {},
   "outputs": [],
   "source": [
    "# In the first method, 'onclick' is the event handler\n",
    "# In the second method, function(){alert(\"Hey\")} is the event handler"
   ]
  },
  {
   "cell_type": "code",
   "execution_count": null,
   "id": "99aa34ca",
   "metadata": {},
   "outputs": [],
   "source": [
    "# We can write the javascript code inside the html file itself rather than writing it separately in console"
   ]
  },
  {
   "cell_type": "raw",
   "id": "47971599",
   "metadata": {},
   "source": [
    "<!DOCTYPE html>\n",
    "<html>\n",
    "<head>\n",
    "\t<title>sample</title>\n",
    "\t<script type=\"text/javascript\">\n",
    "\t\tvar heyButton = document.getElementById('btn');\n",
    "\t\theyButton.addEventListener('click', function(){\n",
    "\t\t\talert('hey');\n",
    "\t\t});\n",
    "\t</script>\n",
    "</head>\n",
    "<body>\n",
    "\t<button id = 'btn'>Say Hello!</button>\n",
    "</body>\n",
    "</html>"
   ]
  },
  {
   "cell_type": "code",
   "execution_count": 15,
   "id": "c7f07d9b",
   "metadata": {},
   "outputs": [],
   "source": [
    "# output in above case\n",
    "\n",
    "# TypeError : Cannot read properties of null\n",
    "\n",
    "# We get this error because at the time the line of code var heyButton = document.getElementById('btn'); is being executed,\n",
    "# it hasn't ecountered the button with id = 'btn'\n",
    "\n",
    "# That's why we need to have the script tag at the end"
   ]
  },
  {
   "cell_type": "code",
   "execution_count": 19,
   "id": "9f850427",
   "metadata": {},
   "outputs": [],
   "source": [
    "# External Javascript file"
   ]
  },
  {
   "cell_type": "code",
   "execution_count": null,
   "id": "71bad67d",
   "metadata": {},
   "outputs": [],
   "source": [
    "# First method"
   ]
  },
  {
   "cell_type": "code",
   "execution_count": 17,
   "id": "ab5f5579",
   "metadata": {},
   "outputs": [],
   "source": [
    "# index.html"
   ]
  },
  {
   "cell_type": "raw",
   "id": "e8abff65",
   "metadata": {},
   "source": [
    "<!DOCTYPE html>\n",
    "<html>\n",
    "<head>\n",
    "\t<title>sample</title>\n",
    "</head>\n",
    "<body>\n",
    "\t<button id = 'btn'>Say Hello!</button>\n",
    "\t<script type=\"text/javascript\" src=\"sample_script.js\">\n",
    "\t</script>\n",
    "</body>\n",
    "</html>"
   ]
  },
  {
   "cell_type": "code",
   "execution_count": 18,
   "id": "01f049c9",
   "metadata": {},
   "outputs": [],
   "source": [
    "# script.js"
   ]
  },
  {
   "cell_type": "raw",
   "id": "951aff0e",
   "metadata": {},
   "source": [
    "function sayHey(){\n",
    "\talert('hey');\n",
    "}\n",
    "\n",
    "var heyButton = document.getElementById('btn');\n",
    "heyButton.addEventListener('click', sayHey);"
   ]
  },
  {
   "cell_type": "code",
   "execution_count": null,
   "id": "b707acbf",
   "metadata": {},
   "outputs": [],
   "source": [
    "# Second alternate method"
   ]
  },
  {
   "cell_type": "code",
   "execution_count": 20,
   "id": "23024412",
   "metadata": {},
   "outputs": [],
   "source": [
    "# index.html"
   ]
  },
  {
   "cell_type": "raw",
   "id": "612e540a",
   "metadata": {},
   "source": [
    "<!DOCTYPE html>\n",
    "<html>\n",
    "<head>\n",
    "\t<title>sample</title>\n",
    "</head>\n",
    "<body>\n",
    "\t<button id = 'btn' onclick=\"sayHey()\">Say Hello!</button>\n",
    "\t<script type=\"text/javascript\" src=\"sample_script.js\">\n",
    "\t</script>\n",
    "</body>\n",
    "</html>"
   ]
  },
  {
   "cell_type": "code",
   "execution_count": 21,
   "id": "9fe56ea0",
   "metadata": {},
   "outputs": [],
   "source": [
    "# script.js"
   ]
  },
  {
   "cell_type": "raw",
   "id": "969e12db",
   "metadata": {},
   "source": [
    "function sayHey(){\n",
    "\talert('hey');\n",
    "}"
   ]
  },
  {
   "cell_type": "code",
   "execution_count": 22,
   "id": "1e33cb7c",
   "metadata": {},
   "outputs": [],
   "source": [
    "# We can also have 2 event listeners to a button"
   ]
  },
  {
   "cell_type": "code",
   "execution_count": 23,
   "id": "46b2edc8",
   "metadata": {},
   "outputs": [],
   "source": [
    "# index.html"
   ]
  },
  {
   "cell_type": "raw",
   "id": "82f5a61d",
   "metadata": {},
   "source": [
    "<!DOCTYPE html>\n",
    "<html>\n",
    "<head>\n",
    "\t<title>sample</title>\n",
    "</head>\n",
    "<body>\n",
    "\t<button id = 'btn'>Welcome!</button>\n",
    "\t<script type=\"text/javascript\" src=\"sample_script.js\">\n",
    "\t</script>\n",
    "</body>\n",
    "</html>"
   ]
  },
  {
   "cell_type": "code",
   "execution_count": 24,
   "id": "f316a67f",
   "metadata": {},
   "outputs": [],
   "source": [
    "# script.js"
   ]
  },
  {
   "cell_type": "raw",
   "id": "09d808b5",
   "metadata": {},
   "source": [
    "function sayHey(){\n",
    "\talert('hey');\n",
    "}\n",
    "\n",
    "function sayBye(){\n",
    "\talert('bye');\n",
    "}\n",
    "\n",
    "var welcomeButton = document.getElementById('btn');\n",
    "welcomeButton.addEventListener('click', sayHey);\n",
    "welcomeButton.addEventListener('click', sayBye);"
   ]
  },
  {
   "cell_type": "code",
   "execution_count": 25,
   "id": "9ff9916e",
   "metadata": {},
   "outputs": [],
   "source": [
    "# In the above case, the 2 pop up events come one after the another"
   ]
  },
  {
   "cell_type": "code",
   "execution_count": 26,
   "id": "9fb2ec5f",
   "metadata": {},
   "outputs": [],
   "source": [
    "# Other Mouse and Keyboard events"
   ]
  },
  {
   "cell_type": "code",
   "execution_count": null,
   "id": "029080ee",
   "metadata": {},
   "outputs": [],
   "source": [
    "# Mouse events"
   ]
  },
  {
   "cell_type": "code",
   "execution_count": 27,
   "id": "4902b86f",
   "metadata": {},
   "outputs": [],
   "source": [
    "# index.html"
   ]
  },
  {
   "cell_type": "raw",
   "id": "7cd3079b",
   "metadata": {},
   "source": [
    "<!DOCTYPE html>\n",
    "<html>\n",
    "<head>\n",
    "    <title>Click Count</title>\n",
    "    <link rel=\"stylesheet\" type=\"text/css\" href=\"sampleStyle.css\">\n",
    "</head>\n",
    "<body>\n",
    "\t<div id=\"outer\"></div>\n",
    "\n",
    "    <script type=\"text/javascript\" src=\"sample_script.js\"></script>\n",
    "</body>\n",
    "</html>"
   ]
  },
  {
   "cell_type": "code",
   "execution_count": 28,
   "id": "8c60fabb",
   "metadata": {},
   "outputs": [],
   "source": [
    "# style.css"
   ]
  },
  {
   "cell_type": "raw",
   "id": "2771f521",
   "metadata": {},
   "source": [
    "#outer{\n",
    "\tmargin: 50px;\n",
    "\tpadding: 50px;\n",
    "\theight: 200px;\n",
    "\twidth: 200px;\n",
    "\tbackground-color: red;\n",
    "\tbox-sizing: border-box;\n",
    "}"
   ]
  },
  {
   "cell_type": "code",
   "execution_count": 29,
   "id": "b5522b9b",
   "metadata": {},
   "outputs": [],
   "source": [
    "# script.js"
   ]
  },
  {
   "cell_type": "raw",
   "id": "7eeb3493",
   "metadata": {},
   "source": [
    "var outerdiv = document.getElementById('outer');\n",
    "outerdiv.addEventListener('mouseover', function(){\n",
    "\tconsole.log('Mouse Over');\n",
    "});\n",
    "\n",
    "outerdiv.addEventListener('mouseout', function(){\n",
    "\tconsole.log('Mouse Out');\n",
    "});"
   ]
  },
  {
   "cell_type": "code",
   "execution_count": 35,
   "id": "34550cc4",
   "metadata": {},
   "outputs": [],
   "source": [
    "# In the above case, if I move over the div, 'Mouse over' is printed on the console. If I move out from the div,\n",
    "# 'Mouse out' is printed on the console.\n",
    "\n",
    "# When you go from 'away from div' to 'away from div' or 'over the div' to 'over the div', nothing is printed.\n",
    "# It is printed only when it's 'away from div' to 'over the div' or 'over the div' to 'away from div'"
   ]
  },
  {
   "cell_type": "code",
   "execution_count": 30,
   "id": "469f2e44",
   "metadata": {},
   "outputs": [],
   "source": [
    "# Keyboard events"
   ]
  },
  {
   "cell_type": "code",
   "execution_count": 31,
   "id": "4e6de5df",
   "metadata": {},
   "outputs": [],
   "source": [
    "# keypress"
   ]
  },
  {
   "cell_type": "code",
   "execution_count": 32,
   "id": "aa3c8af8",
   "metadata": {},
   "outputs": [],
   "source": [
    "# index.html"
   ]
  },
  {
   "cell_type": "raw",
   "id": "c2c59ef2",
   "metadata": {},
   "source": [
    "<!DOCTYPE html>\n",
    "<html>\n",
    "<head>\n",
    "    <title>Click Count</title>\n",
    "    <link rel=\"stylesheet\" type=\"text/css\" href=\"sampleStyle.css\">\n",
    "</head>\n",
    "<body>\n",
    "\t<input type=\"text\" name=\"search\" id=\"search\">\n",
    "\n",
    "    <script type=\"text/javascript\" src=\"sample_script.js\"></script>\n",
    "</body>\n",
    "</html>"
   ]
  },
  {
   "cell_type": "code",
   "execution_count": 33,
   "id": "f50bcb88",
   "metadata": {},
   "outputs": [],
   "source": [
    "# style.css"
   ]
  },
  {
   "cell_type": "raw",
   "id": "52ade31a",
   "metadata": {},
   "source": [
    "#search{\n",
    "\tborder: 1px solid black;\n",
    "}"
   ]
  },
  {
   "cell_type": "code",
   "execution_count": 34,
   "id": "be53b8f6",
   "metadata": {},
   "outputs": [],
   "source": [
    "# script.jss"
   ]
  },
  {
   "cell_type": "raw",
   "id": "d291bb8c",
   "metadata": {},
   "source": [
    "function keyboardEvent(){\n",
    "\tconsole.log('Key pressed');\n",
    "}\n",
    "\n",
    "var inputform = document.getElementById('search');\n",
    "inputform.addEventListener('keypress', keyboardEvent);"
   ]
  },
  {
   "cell_type": "code",
   "execution_count": 36,
   "id": "59965580",
   "metadata": {},
   "outputs": [],
   "source": [
    "# In the above case, when you press a key inside the 'search input', then 'Key pressed' is printed on the console"
   ]
  },
  {
   "cell_type": "raw",
   "id": "3dbbd2ca",
   "metadata": {},
   "source": [
    "function keyboardEvent(){\n",
    "\tconsole.log('Key pressed');\n",
    "}\n",
    "\n",
    "document.addEventListener('keypress', keyboardEvent);"
   ]
  },
  {
   "cell_type": "code",
   "execution_count": 37,
   "id": "9102b5ef",
   "metadata": {},
   "outputs": [],
   "source": [
    "# In the above case, when you press a key anywhere on the screen, then 'Key pressed' is printed on the console"
   ]
  },
  {
   "cell_type": "code",
   "execution_count": 38,
   "id": "e86eaacf",
   "metadata": {},
   "outputs": [],
   "source": [
    "# 'keypress' does not detect up, down, left, right, shift, alt, tab keys"
   ]
  },
  {
   "cell_type": "code",
   "execution_count": 39,
   "id": "c5a69eab",
   "metadata": {},
   "outputs": [],
   "source": [
    "# 'keypress' - When you press one key and then release it\n",
    "# 'keydown' - When you press down one key\n",
    "# 'keyup' - When you release the pressed key"
   ]
  },
  {
   "cell_type": "code",
   "execution_count": 40,
   "id": "79815b13",
   "metadata": {},
   "outputs": [],
   "source": [
    "# 'keydown' and 'keyup' detects up, down, left, right, shift, alt, tab keys"
   ]
  },
  {
   "cell_type": "raw",
   "id": "7d4c49b5",
   "metadata": {},
   "source": [
    "function keyboardEvent(event){\n",
    "\tconsole.log('Key pressed', event.keyCode);\n",
    "}\n",
    "\n",
    "document.addEventListener('keypress', keyboardEvent);"
   ]
  },
  {
   "cell_type": "code",
   "execution_count": 41,
   "id": "3c91e439",
   "metadata": {},
   "outputs": [],
   "source": [
    "# In the above case, we pass the event that happened as argument to the keyboardEvent function.\n",
    "# Now the ascii value of the key pressed is also printed on the console"
   ]
  },
  {
   "cell_type": "code",
   "execution_count": 45,
   "id": "f43d5a18",
   "metadata": {},
   "outputs": [],
   "source": [
    "# Propogation of Event"
   ]
  },
  {
   "cell_type": "code",
   "execution_count": 42,
   "id": "8855a010",
   "metadata": {},
   "outputs": [],
   "source": [
    "# index.html"
   ]
  },
  {
   "cell_type": "raw",
   "id": "bea22093",
   "metadata": {},
   "source": [
    "<!DOCTYPE html>\n",
    "<html>\n",
    "<head>\n",
    "    <title>Click Count</title>\n",
    "    <link rel=\"stylesheet\" type=\"text/css\" href=\"sampleStyle.css\">\n",
    "</head>\n",
    "<body>\n",
    "\t<div id=\"outer\">\n",
    "\t\t<div id=\"inner\">\n",
    "\t\t\t\n",
    "\t\t</div>\n",
    "\t</div>\n",
    "\t<script type=\"text/javascript\" src=\"sample_script.js\"></script>\n",
    "</body>\n",
    "</html>"
   ]
  },
  {
   "cell_type": "code",
   "execution_count": 43,
   "id": "5b1e6fb7",
   "metadata": {},
   "outputs": [],
   "source": [
    "# style.css"
   ]
  },
  {
   "cell_type": "raw",
   "id": "33073d17",
   "metadata": {},
   "source": [
    "#outer{\n",
    "\tmargin: 50px;\n",
    "\tpadding: 50px;\n",
    "\theight: 200px;\n",
    "\twidth: 200px;\n",
    "\tbackground-color: red;\n",
    "\tbox-sizing: border-box;\n",
    "}\n",
    "\n",
    "#inner{\n",
    "\theight: 100px;\n",
    "\twidth: 100px;\n",
    "\tbackground-color: cyan;\n",
    "}"
   ]
  },
  {
   "cell_type": "raw",
   "id": "b339e0bf",
   "metadata": {},
   "source": [
    "function clickOuter(){\n",
    "\tconsole.log('Outer div clicked');\n",
    "}\n",
    "\n",
    "function clickInner(){\n",
    "\tconsole.log('Inner div clicked');\n",
    "}\n",
    "\n",
    "var outerdiv = document.getElementById('outer');\n",
    "outerdiv.addEventListener('click', clickOuter);\n",
    "\n",
    "var innerdiv = document.getElementById('inner');\n",
    "innerdiv.addEventListener('click', clickInner);"
   ]
  },
  {
   "cell_type": "code",
   "execution_count": 44,
   "id": "982c9e56",
   "metadata": {},
   "outputs": [],
   "source": [
    "# In the above case, when I click on the outer div, 'Outer div clicked' gets printed on the console.\n",
    "# When I click on the inner div, both 'Inner div clicked' and 'Outer div clicked' get printed on the console.\n",
    "# 'Inner div clicked' gets printed first and then 'Outer div clicked' gets printed\n",
    "\n",
    "# First the inner div event happens, then propogates to outer div and then propogates to document"
   ]
  },
  {
   "cell_type": "code",
   "execution_count": 46,
   "id": "cb19b47b",
   "metadata": {},
   "outputs": [],
   "source": [
    "# To stop propogation of events"
   ]
  },
  {
   "cell_type": "raw",
   "id": "4410bee1",
   "metadata": {},
   "source": [
    "function clickOuter(){\n",
    "\tconsole.log('Outer div clicked');\n",
    "}\n",
    "\n",
    "function clickInner(event){\n",
    "\tconsole.log('Inner div clicked');\n",
    "\tevent.stopPropagation();\n",
    "}\n",
    "\n",
    "var outerdiv = document.getElementById('outer');\n",
    "outerdiv.addEventListener('click', clickOuter);\n",
    "\n",
    "var innerdiv = document.getElementById('inner');\n",
    "innerdiv.addEventListener('click', clickInner);"
   ]
  },
  {
   "cell_type": "code",
   "execution_count": 47,
   "id": "b059ae3d",
   "metadata": {},
   "outputs": [],
   "source": [
    "# The output in above case is only 'Inner div clicked' gets printed on the console\n",
    "\n",
    "# We passed event as an arugument to clickInner function. It can be any word. Not necesarrily 'event'"
   ]
  },
  {
   "cell_type": "raw",
   "id": "95d8567d",
   "metadata": {},
   "source": [
    "<!DOCTYPE html>\n",
    "<html>\n",
    "<head>\n",
    "  <title>Event Bubbling</title>\n",
    "</head>\n",
    "<body>\n",
    "  <div id=\"parent\">\n",
    "    <button id=\"child\">Child</button>\n",
    "  </div>\n",
    "  <script>\n",
    "    var parent = document.querySelector('#parent');\n",
    "      parent.addEventListener('click', function(){\n",
    "        console.log(\"Parent clicked\");\n",
    "      });\n",
    "    var child = document.querySelector('#child');\n",
    "      child.addEventListener('click', function(){\n",
    "        console.log(\"Child clicked\");\n",
    "      });\n",
    "  </script>\n",
    "</body>\n",
    "</html>"
   ]
  },
  {
   "cell_type": "code",
   "execution_count": 48,
   "id": "34b0bb1b",
   "metadata": {},
   "outputs": [],
   "source": [
    "# output in above case when we click on 'child' button\n",
    "\n",
    "# Child clicked\n",
    "# Parent clicked"
   ]
  },
  {
   "cell_type": "code",
   "execution_count": null,
   "id": "4563ca86",
   "metadata": {},
   "outputs": [],
   "source": [
    "# Strict Mode"
   ]
  },
  {
   "cell_type": "code",
   "execution_count": 49,
   "id": "e07c9316",
   "metadata": {},
   "outputs": [],
   "source": [
    "# index.html"
   ]
  },
  {
   "cell_type": "raw",
   "id": "a0a99ddd",
   "metadata": {},
   "source": [
    "<!DOCTYPE html>\n",
    "<html>\n",
    "<head>\n",
    "  <title>Event Bubbling</title>\n",
    "  <link rel=\"stylesheet\" type=\"text/css\" href=\"sampleStyle.css\">\n",
    "</head>\n",
    "<body>\n",
    "  <div id=\"box\"></div>\n",
    "  <p>Box Clicked <span id=\"click-count\"> 0 </span> times </p>\n",
    "  <script type=\"text/javascript\" src=\"sample_script.js\">\n",
    "    \n",
    "  </script>\n",
    "</body>\n",
    "</html>"
   ]
  },
  {
   "cell_type": "code",
   "execution_count": 50,
   "id": "087b6000",
   "metadata": {},
   "outputs": [],
   "source": [
    "# style.css"
   ]
  },
  {
   "cell_type": "raw",
   "id": "955d4dd8",
   "metadata": {},
   "source": [
    "#box{\n",
    "\theight: 100px;\n",
    "\twidth: 100px;\n",
    "\tbackground-color: red;\n",
    "\tmargin: 50px;\n",
    "}"
   ]
  },
  {
   "cell_type": "code",
   "execution_count": 52,
   "id": "60a40e48",
   "metadata": {},
   "outputs": [],
   "source": [
    "# script.js"
   ]
  },
  {
   "cell_type": "raw",
   "id": "6f6c7397",
   "metadata": {},
   "source": [
    "var x = 0;\n",
    "\n",
    "function boxClick(){\n",
    "\tx++;\n",
    "\tconsole.log(x);\n",
    "\tcountText.innerText = x;\n",
    "}\n",
    "\n",
    "var countText = document.getElementById('click-count');\n",
    "\n",
    "var box = document.getElementById('box');\n",
    "box.addEventListener('click', boxClick);"
   ]
  },
  {
   "cell_type": "code",
   "execution_count": 53,
   "id": "b71f77bc",
   "metadata": {},
   "outputs": [],
   "source": [
    "# In above case, when we click on the box, the click-count increases."
   ]
  },
  {
   "cell_type": "code",
   "execution_count": 54,
   "id": "b9fc150e",
   "metadata": {},
   "outputs": [],
   "source": [
    "# In the above case, even if we don't write 'var' in var x = 0; the code still works fine as javascript is lenient and\n",
    "# declares x as a global variable.\n",
    "\n",
    "# This leniency of javascript sometimes results in incorrect code logic.\n",
    "\n",
    "# For javascript to throw error if there is no 'var' in var x = 0, type \"use strict\"; at beginning of script.js as shown below"
   ]
  },
  {
   "cell_type": "raw",
   "id": "785d65e0",
   "metadata": {},
   "source": [
    "\"use strict\";\n",
    "\n",
    "var x = 0;\n",
    "\n",
    "function boxClick(){\n",
    "\tx++;\n",
    "\tconsole.log(x);\n",
    "\tcountText.innerText = x;\n",
    "}\n",
    "\n",
    "var countText = document.getElementById('click-count');\n",
    "\n",
    "var box = document.getElementById('box');\n",
    "box.addEventListener('click', boxClick);"
   ]
  },
  {
   "cell_type": "code",
   "execution_count": 55,
   "id": "158c9c19",
   "metadata": {},
   "outputs": [],
   "source": [
    "# In above case, we apply strict mode to the whole document\n",
    "\n",
    "# We can apply strict mode to a particular function as well like in the below case"
   ]
  },
  {
   "cell_type": "raw",
   "id": "23d31012",
   "metadata": {},
   "source": [
    "var x = 0;\n",
    "\n",
    "function boxClick(){\n",
    "\t\"use strict\";\n",
    "\tx++;\n",
    "\tconsole.log(x);\n",
    "\tcountText.innerText = x;\n",
    "}\n",
    "\n",
    "var countText = document.getElementById('click-count');\n",
    "\n",
    "var box = document.getElementById('box');\n",
    "box.addEventListener('click', boxClick);"
   ]
  }
 ],
 "metadata": {
  "kernelspec": {
   "display_name": "Python 3 (ipykernel)",
   "language": "python",
   "name": "python3"
  },
  "language_info": {
   "codemirror_mode": {
    "name": "ipython",
    "version": 3
   },
   "file_extension": ".py",
   "mimetype": "text/x-python",
   "name": "python",
   "nbconvert_exporter": "python",
   "pygments_lexer": "ipython3",
   "version": "3.9.12"
  }
 },
 "nbformat": 4,
 "nbformat_minor": 5
}
