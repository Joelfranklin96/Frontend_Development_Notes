{
 "cells": [
  {
   "cell_type": "code",
   "execution_count": 1,
   "id": "7cd6b21a",
   "metadata": {},
   "outputs": [],
   "source": [
    "# HTML - HyperText Markup Language"
   ]
  },
  {
   "cell_type": "code",
   "execution_count": 2,
   "id": "dfb7e11a",
   "metadata": {},
   "outputs": [],
   "source": [
    "# The body of HTML page can be divided into 3 sections\n",
    "\n",
    "# 1) Header section\n",
    "# 2) Main section\n",
    "# 3) Footer section\n",
    "\n",
    "# The HTML page has 2 default tags\n",
    "\n",
    "# 1) Head tag (Contains the metadata)\n",
    "# 2) Body tag"
   ]
  },
  {
   "cell_type": "code",
   "execution_count": 3,
   "id": "15c7df5a",
   "metadata": {},
   "outputs": [],
   "source": [
    "# Though we don't explicitly mention these head and body tags in the HTML code, the browser adds these tags while rendering\n",
    "# the HTML code."
   ]
  },
  {
   "cell_type": "raw",
   "id": "2f6b6d00",
   "metadata": {},
   "source": [
    "<!DOCTYPE html> # This indicates we are using HTML 5 standards\n",
    "<html>\n",
    "<head>\n",
    "\t<title></title>\n",
    "</head>\n",
    "<body>\n",
    "\tHello World!\n",
    "</body>\n",
    "</html>"
   ]
  },
  {
   "cell_type": "code",
   "execution_count": 5,
   "id": "9a324b5d",
   "metadata": {},
   "outputs": [],
   "source": [
    "# Valid HTML tags are surrounded by the angle brackets and the tag name can only either start from an \n",
    "# alphabet or an underscore(_) (Examples - <s1>, <tag>, <_tag>)\n",
    "\n",
    "# HTML comments are written using !. <!comment1>\n",
    "# There are 6 different heading tags inside body tag starting from h1 to h6.\n",
    "# The <br> tag is not a paired tag unlike all other tags. There is no opening/closing <br> tag. Just a single <br> tag\n",
    "\n",
    "# HTML doesn't recognize multiple spaces or enters in the source code\n",
    "# If we want to have more than 1 space between words, use '&nbsp'. Each &nbsp is equivalent to a single space\n",
    "\n",
    "# Tags are case insensitive. <h1> is same as <H1>\n",
    "\n",
    "# Difference between HTML tags and elements\n",
    "# HTML tags are used to define starting and ending of an HTML element using opening and closing tags. \n",
    "# Whereas an HTML element is a collection of these HTML tags and all the content in between them."
   ]
  },
  {
   "cell_type": "code",
   "execution_count": 6,
   "id": "ded57e40",
   "metadata": {},
   "outputs": [],
   "source": [
    "# There are 2 types of Lists - Unordered lists and Ordered Lists.\n",
    "# Unordered lists are bullet points. Ordered Lists are number points\n",
    "\n",
    "# Unordered Lists (indicated by <ul> </ul>)\n",
    "# Each list item is indicated by <li> </li>"
   ]
  },
  {
   "cell_type": "raw",
   "id": "b6c8ed8f",
   "metadata": {},
   "source": [
    "<!DOCTYPE html>\n",
    "<html>\n",
    "<head>\n",
    "\t<title>5 tips for front end development</title>\n",
    "</head>\n",
    "<body>\n",
    "\t<ul type=\"circle\"> # 'type' is an attribute of <ul> tag. If we mention it as 'circle', we would get unfilled circle points\n",
    "\t\t<li>Number1</li>\n",
    "\t\t<li>Number2</li>\n",
    "\t\t<li>Number3</li>\n",
    "\t</ul>\n",
    "</body>\n",
    "</html>"
   ]
  },
  {
   "cell_type": "code",
   "execution_count": 7,
   "id": "58d24e21",
   "metadata": {},
   "outputs": [],
   "source": [
    "# The <li> tag defines a list item.\n",
    "\n",
    "# All attributes have default values. \n",
    "# Default value of 'type' attribute of <ul> tag - 'disc' (filled circle points)\n",
    "# 2 other values of 'type' attribute of <ul> tag - 'circle' (unfilled circle points), 'square' (filled square points)"
   ]
  },
  {
   "cell_type": "raw",
   "id": "8d04ff95",
   "metadata": {},
   "source": [
    "# Unordered lists\n",
    "\n",
    "<!DOCTYPE html>\n",
    "<html>\n",
    "<head>\n",
    "\t<title>5 tips for front end development</title>\n",
    "</head>\n",
    "<body>\n",
    "\t<ol type=\"a\">\n",
    "\t\t<li>Number1</li>\n",
    "\t\t<li>Number2</li>\n",
    "\t\t<li>Number3</li>\n",
    "\t</ul>\n",
    "</body>\n",
    "</html>"
   ]
  },
  {
   "cell_type": "code",
   "execution_count": 8,
   "id": "1be9dab5",
   "metadata": {},
   "outputs": [],
   "source": [
    "# <ol type=\"a\"> - Small alphabets numbering\n",
    "# <ol type=\"A\"> - Capital alphabets numbering\n",
    "# <ol type=\"i\"> - Small roman numerals numbering (i,ii,iii,iv)\n",
    "# <ol type=\"I\"> - Capital roman numerals numbering (I,II,III,IV)\n",
    "# <ol type=\"1\"> - Numbers numbering\n",
    "# <ol type=\"1\", start = \"10\"> - Numbers numbering starts from 10\n",
    "# <ol type=\"A\", start = \"10\"> - Numbering starts from 10th alphabet J"
   ]
  },
  {
   "cell_type": "code",
   "execution_count": null,
   "id": "f4827e4b",
   "metadata": {},
   "outputs": [],
   "source": [
    "# NESTED LISTS (A List within a list)"
   ]
  },
  {
   "cell_type": "raw",
   "id": "c14435c3",
   "metadata": {},
   "source": [
    "<!DOCTYPE html>\n",
    "<html lang=\"en\">\n",
    "<head>\n",
    "    <meta charset=\"UTF-8\">\n",
    "    <meta name=\"viewport\" content=\"width=device-width, initial-scale=1.0\">\n",
    "    <title>Document</title>\n",
    "</head>\n",
    "<body>\n",
    "    <!-- Write your code here -->\n",
    "    <h1>\n",
    "        <center><u><i>My Name is Joel</i></u></center> #It centers, italicizes and underlines the text\n",
    "    </h1>\n",
    "    <ul>\n",
    "        <li>\n",
    "            <h2>\n",
    "                My favorite books\n",
    "            </h2>\n",
    "            <ul>\n",
    "                <li>Harry Potter</li>\n",
    "                <li>The God of Small Things</li>\n",
    "                <li> The Prophet</li>\n",
    "            </ul>\n",
    "        </li>\n",
    "        <li>\n",
    "            <h2>\n",
    "                My favorite writers\n",
    "            </h2>\n",
    "            <ul type = \"circle\">\n",
    "                <li>JK Rowling</li>\n",
    "                <li>Arundhati Roy</li>\n",
    "                <li>Kahlil Gibran</li>\n",
    "            </ul>\n",
    "        </li>\n",
    "    </ul>\n",
    "    <ol type = \"I\">\n",
    "        <li>\n",
    "            <h2>\n",
    "                My favorite subjects\n",
    "            </h2>\n",
    "            <ol type = \"a\">\n",
    "                <li>Data Structures and Algorithms</li>\n",
    "                <li>Operating System</li>\n",
    "                <li>DBMS</li>\n",
    "            </ol>\n",
    "        </li>\n",
    "        <li>\n",
    "            <h2>\n",
    "                Online courses I wish to explore\n",
    "            </h2>\n",
    "            <ol start = \"4\">\n",
    "                <li>Frontend using HTML, CSS, JS</li>\n",
    "                <li>Frontend using React.js</li>\n",
    "                <li>Backend using Node.js</li>\n",
    "            </ol>\n",
    "        </li>\n",
    "    </ol>\n",
    "</body>\n",
    "</html>"
   ]
  },
  {
   "cell_type": "code",
   "execution_count": null,
   "id": "1e1345f5",
   "metadata": {},
   "outputs": [],
   "source": [
    "# Adding an image to the HTML file"
   ]
  },
  {
   "cell_type": "raw",
   "id": "4a14883a",
   "metadata": {},
   "source": [
    "<!DOCTYPE html>\n",
    "<html>\n",
    "<head>\n",
    "\t<title>5 tips for front end development</title>\n",
    "</head>\n",
    "<body>\n",
    "\t<img src = \"C:\\files\\11. Coding Ninjas\\03_Web_development\\01_Front_end\\HTML\\Passport size photograph.jpg\">\n",
    "</body>\n",
    "</html>"
   ]
  },
  {
   "cell_type": "code",
   "execution_count": null,
   "id": "952f8d33",
   "metadata": {},
   "outputs": [],
   "source": [
    "# We can either specify the absolute path of the image or the relative path of the image w.r.t folder \n",
    "# in which index.html is present\n",
    "\n",
    "# Relative path has one advantage. Even if I move the entire HTML folder to a different location, the relative path remains same"
   ]
  },
  {
   "cell_type": "raw",
   "id": "55f80137",
   "metadata": {},
   "source": [
    "<!DOCTYPE html>\n",
    "<html>\n",
    "<head>\n",
    "\t<title>5 tips for front end development</title>\n",
    "</head>\n",
    "<body>\n",
    "\t<img src = \"Passport size photograph.jpg\">\n",
    "</body>\n",
    "</html>"
   ]
  },
  {
   "cell_type": "code",
   "execution_count": null,
   "id": "ded65cdd",
   "metadata": {},
   "outputs": [],
   "source": [
    "# In the below code, the image will be not be loaded because it's spelled wrong.\n",
    "# The 'alt' message will be displayed if the image is unable to load.\n",
    "# If the image is able to be loaded, then 'alt' message will not be shown"
   ]
  },
  {
   "cell_type": "raw",
   "id": "341f334b",
   "metadata": {},
   "source": [
    "<!DOCTYPE html>\n",
    "<html>\n",
    "<head>\n",
    "\t<title>5 tips for front end development</title>\n",
    "</head>\n",
    "<body>\n",
    "\t<img src = \"Passport size photographhhhh.jpg\" alt = \"It's a passport size photo\">\n",
    "</body>\n",
    "</html>"
   ]
  },
  {
   "cell_type": "code",
   "execution_count": 9,
   "id": "89ce8d69",
   "metadata": {},
   "outputs": [],
   "source": [
    "# Setting the dimensions of the image"
   ]
  },
  {
   "cell_type": "raw",
   "id": "5cebe890",
   "metadata": {},
   "source": [
    "<!DOCTYPE html>\n",
    "<html>\n",
    "<head>\n",
    "\t<title>5 tips for front end development</title>\n",
    "</head>\n",
    "<body>\n",
    "\t<img src = \"Passport size photograph.jpg\" \n",
    "\talt = \"It's a photo\"\n",
    "\theight = \"200\"\n",
    "\twidth = \"200\">\n",
    "</body>\n",
    "</html>"
   ]
  },
  {
   "cell_type": "code",
   "execution_count": null,
   "id": "90e6b566",
   "metadata": {},
   "outputs": [],
   "source": [
    "# If we set the width to 50%, the image will be 50% of the body tag (screen size)"
   ]
  },
  {
   "cell_type": "raw",
   "id": "08f6846d",
   "metadata": {},
   "source": [
    "<!DOCTYPE html>\n",
    "<html>\n",
    "<head>\n",
    "\t<title>5 tips for front end development</title>\n",
    "</head>\n",
    "<body>\n",
    "\t<img src = \"Passport size photograph.jpg\" \n",
    "\talt = \"It's a photo\"\n",
    "\theight = \"200\"\n",
    "\twidth = \"50%\">\n",
    "</body>\n",
    "</html>"
   ]
  },
  {
   "cell_type": "code",
   "execution_count": 10,
   "id": "d9fd910d",
   "metadata": {},
   "outputs": [],
   "source": [
    "# Adding Hyperlinks using the Anchor tag"
   ]
  },
  {
   "cell_type": "raw",
   "id": "d7cf7961",
   "metadata": {},
   "source": [
    "<!DOCTYPE html>\n",
    "<html>\n",
    "<head>\n",
    "\t<title>Learning links</title>\n",
    "</head>\n",
    "<body>\n",
    "\t<a href = \"https://www.google.com/\">Google</a>\n",
    "</body>\n",
    "</html>"
   ]
  },
  {
   "cell_type": "code",
   "execution_count": null,
   "id": "8797024f",
   "metadata": {},
   "outputs": [],
   "source": [
    "# <a>Google</a> (If we don't mention href, then only 'Google' will be displayed without any link)\n",
    "# <a href = \"https://www.google.com/\" target = \"_blank\">Google</a> (When we set target = \"_blank\", the tab will be opened\n",
    "# in a separate tab)"
   ]
  },
  {
   "cell_type": "raw",
   "id": "60c59518",
   "metadata": {},
   "source": [
    "<!DOCTYPE html>\n",
    "<html>\n",
    "<head>\n",
    "\t<title>Learning links</title>\n",
    "</head>\n",
    "<body>\n",
    "\t<a href = \"https://www.google.com/\" target = \"_blank\">Google</a>\n",
    "</body>\n",
    "</html>"
   ]
  },
  {
   "cell_type": "code",
   "execution_count": 11,
   "id": "60e935a1",
   "metadata": {},
   "outputs": [],
   "source": [
    "# Adding links to images"
   ]
  },
  {
   "cell_type": "raw",
   "id": "aed9907f",
   "metadata": {},
   "source": [
    "<!DOCTYPE html>\n",
    "<html>\n",
    "<head>\n",
    "\t<title>Learning links</title>\n",
    "</head>\n",
    "<body>\n",
    "\t<a href = \"https://www.google.com/\" target = \"_blank\">\n",
    "\t\t<img src = \"Google.jpg\">\n",
    "\t</a>\n",
    "</body>\n",
    "</html>"
   ]
  },
  {
   "cell_type": "code",
   "execution_count": 12,
   "id": "2d54b61f",
   "metadata": {},
   "outputs": [],
   "source": [
    "# Connecting different webpages"
   ]
  },
  {
   "cell_type": "raw",
   "id": "f1c2e68b",
   "metadata": {},
   "source": [
    "<!DOCTYPE html>\n",
    "<html>\n",
    "<head>\n",
    "\t<title>Learning links</title>\n",
    "</head>\n",
    "<body>\n",
    "\t<ul>\n",
    "\t\t<li>\n",
    "\t\t\t<a href = \"general/best-coding-practices.html\">General</a>\n",
    "\t\t</li>\n",
    "\t\t<li>\n",
    "\t\t\t<a href = \"web/five-tips.html\">Web</a>\n",
    "\t\t</li>\n",
    "\t</ul>\n",
    "</body>\n",
    "</html>"
   ]
  },
  {
   "cell_type": "raw",
   "id": "21e4299e",
   "metadata": {},
   "source": [
    "<!DOCTYPE html>\n",
    "<html>\n",
    "<head>\n",
    "\t<title>Learning links</title>\n",
    "</head>\n",
    "<body>\n",
    "\t<ul>\n",
    "\t\t<li>\n",
    "\t\t\t<a href = \"../general/best-coding-practices.html\">General</a>\n",
    "\t\t</li>\n",
    "\t\t<li>\n",
    "\t\t\t<a href = \"../web/five-tips.html\">Web</a>\n",
    "\t\t</li>\n",
    "\t</ul>\n",
    "</body>\n",
    "</html>"
   ]
  },
  {
   "cell_type": "code",
   "execution_count": 13,
   "id": "ca52813c",
   "metadata": {},
   "outputs": [],
   "source": [
    "# Suppose 'Folder 1' contains 3 folders 'general' folder, 'web' folder and 'folder 2'. Inside 'general' folder, there is\n",
    "# \"best-coding-practices.html\". Inside 'web' folder, there is \"five-tips.html\". The above html page is present inside 'folder 2'.\n",
    "# So to link \"best-coding-practices.html\" in the above html page, we have to go back to \"folder 1\" and then access the \n",
    "# \"general\" folder. So we use .. to go back to the parent folder."
   ]
  },
  {
   "cell_type": "code",
   "execution_count": 14,
   "id": "2a7fdc8d",
   "metadata": {},
   "outputs": [],
   "source": [
    "# In HTML, tags that include both start and end tag are called Container tags\n",
    "\n",
    "# An unvisited link is underlined and blue. A visited link is underlined and purple. An active link is underlined and red.\n",
    "\n",
    "# To create a link to an email address - <a href= \"mailto:name@example.com\">email</a>"
   ]
  },
  {
   "cell_type": "code",
   "execution_count": 15,
   "id": "7b04df73",
   "metadata": {},
   "outputs": [],
   "source": [
    "# div tag\n",
    "\n",
    "# div tag is used to structure the code better and apply common styling to a group of elements.\n",
    "# div tag is a block-level tag due to which the image will automatically be displayed in the next line otherwise \n",
    "# it may appear in the same line."
   ]
  },
  {
   "cell_type": "code",
   "execution_count": null,
   "id": "d83ad9a0",
   "metadata": {},
   "outputs": [],
   "source": [
    "# Sematic tags convey the meaning of the content contained within them and make the code more readable\n",
    "\n",
    "# There are different types of Semantic tags namely <nav> </nav> (navigation), <header> </header>, <main> </main>, <footer> </footer>,\n",
    "# <section> </section> and <aside> </aside> (sidebar)"
   ]
  },
  {
   "cell_type": "code",
   "execution_count": 16,
   "id": "ddb7e4e1",
   "metadata": {},
   "outputs": [],
   "source": [
    "# Internal Links"
   ]
  },
  {
   "cell_type": "raw",
   "id": "751ab385",
   "metadata": {},
   "source": [
    "<!DOCTYPE html>\n",
    "<html>\n",
    "<head>\n",
    "\t<title>Learning links</title>\n",
    "</head>\n",
    "<body>\n",
    "\t<ul>\n",
    "\t\t<li>\n",
    "\t\t\t<a href = \"#comment\">See comments at Bottom</a> (\"#comment\" takes you to tag whose id is 'comment')\n",
    "\t\t</li>\n",
    "\t\t<li>\n",
    "\t\t\t<section id = \"comment\">\n",
    "\t\t\t<a href = \"#\">Back to Top</a> (\"#\" takes you to the top)\n",
    "\t\t\t</section>\n",
    "\t\t</li>\n",
    "\t</ul>\n",
    "</body>\n",
    "</html>"
   ]
  },
  {
   "cell_type": "code",
   "execution_count": 17,
   "id": "2b08fd7e",
   "metadata": {},
   "outputs": [],
   "source": [
    "# \"#\" indicates internal links"
   ]
  },
  {
   "cell_type": "code",
   "execution_count": 18,
   "id": "fb82d318",
   "metadata": {},
   "outputs": [],
   "source": [
    "# Block vs In-line elements"
   ]
  },
  {
   "cell_type": "code",
   "execution_count": 19,
   "id": "f800a7be",
   "metadata": {},
   "outputs": [],
   "source": [
    "# Block elements occupy the complete width and move the cursor to the new line for the succeeding tags\n",
    "# <h1>, <p>, <div> are examples of block elements\n",
    "\n",
    "# <img> and <a> are in-line elements. If we use 2 images <img> <img>, the 2 images will be side by side.\n",
    "# If we enclose only the first image inside a <div> and not the second image, still the 2 images will be one after the other.\n",
    "\n",
    "# If we use a block element, the block element will display the content and take the cursor to the next line."
   ]
  },
  {
   "cell_type": "code",
   "execution_count": 21,
   "id": "a4c34a6d",
   "metadata": {},
   "outputs": [],
   "source": [
    "# Text Formatting tags\n",
    "\n",
    "# <b> tag"
   ]
  },
  {
   "cell_type": "raw",
   "id": "f4c0b23c",
   "metadata": {},
   "source": [
    "<!DOCTYPE html>\n",
    "<html>\n",
    "<head>\n",
    "\t<title>Learning links</title>\n",
    "</head>\n",
    "<body>\n",
    "\t<p>This is a <b>sample</b> paragraph</p>\n",
    "\t<p>This is a <i>sample</i> paragraph</p>\n",
    "\t<p> a<sup>2</sup> </p>\n",
    "\t<p> a<sub>j</sup> </p>\n",
    "\t<p><q> Quoted Text </q></p>\n",
    "</body>\n",
    "</html>"
   ]
  },
  {
   "cell_type": "code",
   "execution_count": 22,
   "id": "bcfb1dff",
   "metadata": {},
   "outputs": [],
   "source": [
    "# <b> is an in-line element and that's why in the above html code, the word 'paragraph' is not displayed in the next line\n",
    "# <i> italicizes the text\n",
    "# <strong> also makes the text bold.\n",
    "# <p> a<sup>2</sup> </p> (To represent a^2) (superscript) (Not necessary to use <p> tag here)\n",
    "# <p> a<sub>j</sup> </p> (To represent aj) (subscript) (Not necessary to use <p> tag here)\n",
    "# <q> Quoted Text </q> (For quoted text)"
   ]
  },
  {
   "cell_type": "code",
   "execution_count": 1,
   "id": "5cdd99fd",
   "metadata": {},
   "outputs": [],
   "source": [
    "# <span> tag is similar to <div> tag.\n",
    "# Like <div> tag, <span> tag acts as a container.\n",
    "# But the difference is that <div> tag is a block tag and <span> tag is an in-line tag\n",
    "# <span> groups all the in-line elements together to apply a common styling to them in CSS."
   ]
  },
  {
   "cell_type": "code",
   "execution_count": 3,
   "id": "f5bc78cb",
   "metadata": {},
   "outputs": [],
   "source": [
    "# Special characters\n",
    "\n",
    "# We need to represent certain special characters in a specific syntax to print them in the browser because the meaning of \n",
    "# certain characters is reserved in HTML and HTML doesn't support printing certain characters directly.\n",
    "\n",
    "# &nbsp; - provides 1 space\n",
    "# &nbsp; - provides 2 spaces\n",
    "# &nbsp; - provides 3 spaces\n",
    "# &lt; - <\n",
    "# &gt; - >\n",
    "# &apos; - '\n",
    "# &amp - &"
   ]
  },
  {
   "cell_type": "raw",
   "id": "ab26c1f3",
   "metadata": {},
   "source": [
    "<!DOCTYPE html>\n",
    "<html>\n",
    "<head>\n",
    "\t<title>Learning links</title>\n",
    "</head>\n",
    "<body>\n",
    "\t<p>I am &nbsp; &nbsp; &nbsp; Joel</p>\n",
    "</body>\n",
    "</html>"
   ]
  },
  {
   "cell_type": "code",
   "execution_count": null,
   "id": "935c24ae",
   "metadata": {},
   "outputs": [],
   "source": [
    "# Table\n",
    "\n",
    "# <tr> - table row\n",
    "# <th> - table header entry\n",
    "# <td> - table data entry\n",
    "\n",
    "# <table> is a semantic tag\n",
    "# <table> is a block element\n",
    "# The tr, td elements have no significance of their own (as a table row or table data) until we wrap them in the table tag."
   ]
  },
  {
   "cell_type": "raw",
   "id": "552f22ca",
   "metadata": {},
   "source": [
    "<!DOCTYPE html>\n",
    "<html>\n",
    "<head>\n",
    "\t<title>Learning links</title>\n",
    "</head>\n",
    "<body>\n",
    "\t<table border = \"2\"> (Indicates the thickness of the border)\n",
    "        <caption>Demo Table</caption> (Table heading)\n",
    "\t\t<tr>\n",
    "\t\t\t<th></th>\n",
    "\t\t\t<th>Column 1</th>\n",
    "\t\t\t<th>Column 2</th>\n",
    "\t\t\t<th>Column 3</th>\n",
    "\t\t</tr>\n",
    "\t\t<tr>\n",
    "\t\t\t<th>Row 1</th>\n",
    "\t\t\t<td>Cell 1,1</td>\n",
    "\t\t\t<td>Cell 1,2</td>\n",
    "\t\t\t<td>Cell 1,3</td>\n",
    "\t\t</tr>\n",
    "\t\t<tr>\n",
    "\t\t\t<th>Row 2</th>\n",
    "\t\t\t<td>Cell 2,1</td>\n",
    "\t\t\t<td>Cell 2,2</td>\n",
    "\t\t\t<td>Cell 2,3</td>\n",
    "\t\t</tr>\n",
    "\t\t<tr>\n",
    "\t\t\t<th>Row 3</th>\n",
    "\t\t\t<td>Cell 3,1</td>\n",
    "\t\t\t<td>Cell 3,2</td>\n",
    "\t\t\t<td>Cell 3,3</td>\n",
    "\t\t</tr>\n",
    "\t</table>\n",
    "</body>\n",
    "</html>"
   ]
  },
  {
   "cell_type": "raw",
   "id": "80613f75",
   "metadata": {},
   "source": [
    "<!DOCTYPE html>\n",
    "<html>\n",
    "<head>\n",
    "\t<title>Learning links</title>\n",
    "</head>\n",
    "<body>\n",
    "\t<table border = \"2\">\n",
    "\t\t<caption>Demo Table</caption>\n",
    "\t\t<tr>\n",
    "\t\t\t<th></th>\n",
    "\t\t\t<th colspan=\"2\">Column 1</th>\n",
    "\t\t\t<th>Column 2</th>\n",
    "\t\t\t<!--th>Column 3</th>-->\n",
    "\t\t</tr>\n",
    "\t\t<tr>\n",
    "\t\t\t<th rowspan=\"2\">Row 1</th>\n",
    "\t\t\t<td>Cell 1,1</td>\n",
    "\t\t\t<td>Cell 1,2</td>\n",
    "\t\t\t<td>Cell 1,3</td>\n",
    "\t\t</tr>\n",
    "\t\t<tr>\n",
    "\t\t\t<!-- <th>Row 2</th> -->\n",
    "\t\t\t<td>Cell 2,1</td>\n",
    "\t\t\t<td>Cell 2,2</td>\n",
    "\t\t\t<td>Cell 2,3</td>\n",
    "\t\t</tr>\n",
    "\t\t<tr>\n",
    "\t\t\t<th>Row 3</th>\n",
    "\t\t\t<td>Cell 3,1</td>\n",
    "\t\t\t<td>Cell 3,2</td>\n",
    "\t\t\t<td>Cell 3,3</td>\n",
    "\t\t</tr>\n",
    "\t</table>\n",
    "</body>\n",
    "</html>"
   ]
  },
  {
   "cell_type": "markdown",
   "id": "e601d43e",
   "metadata": {},
   "source": [
    "<!DOCTYPE html>\n",
    "<html>\n",
    "<head>\n",
    "\t<title>Learning links</title>\n",
    "</head>\n",
    "<body>\n",
    "\t<table border = \"2\">\n",
    "\t\t<caption>Demo Table</caption>\n",
    "\t\t<tr>\n",
    "\t\t\t<th></th>\n",
    "\t\t\t<th colspan=\"2\">Column 1</th>\n",
    "\t\t\t<th>Column 2</th>\n",
    "\t\t\t<!--th>Column 3</th>-->\n",
    "\t\t</tr>\n",
    "\t\t<tr>\n",
    "\t\t\t<th rowspan=\"2\">Row 1</th>\n",
    "\t\t\t<td>Cell 1,1</td>\n",
    "\t\t\t<td>Cell 1,2</td>\n",
    "\t\t\t<td>Cell 1,3</td>\n",
    "\t\t</tr>\n",
    "\t\t<tr>\n",
    "\t\t\t<!-- <th>Row 2</th> -->\n",
    "\t\t\t<td>Cell 2,1</td>\n",
    "\t\t\t<td>Cell 2,2</td>\n",
    "\t\t\t<td>Cell 2,3</td>\n",
    "\t\t</tr>\n",
    "\t\t<tr>\n",
    "\t\t\t<th>Row 3</th>\n",
    "\t\t\t<td>Cell 3,1</td>\n",
    "\t\t\t<td>Cell 3,2</td>\n",
    "\t\t\t<td>Cell 3,3</td>\n",
    "\t\t</tr>\n",
    "\t</table>\n",
    "</body>\n",
    "</html>"
   ]
  },
  {
   "cell_type": "raw",
   "id": "0c78dcd2",
   "metadata": {},
   "source": [
    "<!DOCTYPE html>\n",
    "<html>\n",
    "<head>\n",
    "\t<title>Learning links</title>\n",
    "</head>\n",
    "<body>\n",
    "\t<table border = \"2\">\n",
    "\t\t<caption>Demo Table</caption>\n",
    "\t\t<tr>\n",
    "\t\t\t<th></th>\n",
    "\t\t\t<th colspan=\"2\">Column 1</th>\n",
    "\t\t\t<th>Column 2</th>\n",
    "\t\t\t<!--th>Column 3</th>-->\n",
    "\t\t</tr>\n",
    "\t\t<tr>\n",
    "\t\t\t<th rowspan=\"2\">Row 1</th>\n",
    "\t\t\t<td colspan = \"2\">Cell 1,1</td>\n",
    "\t\t\t<td>Cell 1,2</td>\n",
    "\t\t\t<!-- <td>Cell 1,3</td> -->\n",
    "\t\t</tr>\n",
    "\t\t<tr>\n",
    "\t\t\t<!-- <th>Row 2</th> -->\n",
    "\t\t\t<td>Cell 2,1</td>\n",
    "\t\t\t<td>Cell 2,2</td>\n",
    "\t\t\t<td>Cell 2,3</td>\n",
    "\t\t</tr>\n",
    "\t\t<tr>\n",
    "\t\t\t<th>Row 3</th>\n",
    "\t\t\t<td>Cell 3,1</td>\n",
    "\t\t\t<td>Cell 3,2</td>\n",
    "\t\t\t<td>Cell 3,3</td>\n",
    "\t\t</tr>\n",
    "\t</table>\n",
    "</body>\n",
    "</html>"
   ]
  },
  {
   "cell_type": "markdown",
   "id": "3f9e2b8d",
   "metadata": {},
   "source": [
    "<!DOCTYPE html>\n",
    "<html>\n",
    "<head>\n",
    "\t<title>Learning links</title>\n",
    "</head>\n",
    "<body>\n",
    "\t<table border = \"2\">\n",
    "\t\t<caption>Demo Table</caption>\n",
    "\t\t<tr>\n",
    "\t\t\t<th></th>\n",
    "\t\t\t<th colspan=\"2\">Column 1</th>\n",
    "\t\t\t<th>Column 2</th>\n",
    "\t\t\t<!--th>Column 3</th>-->\n",
    "\t\t</tr>\n",
    "\t\t<tr>\n",
    "\t\t\t<th rowspan=\"2\">Row 1</th>\n",
    "\t\t\t<td colspan = \"2\">Cell 1,1</td>\n",
    "\t\t\t<td>Cell 1,2</td>\n",
    "\t\t\t<!-- <td>Cell 1,3</td> -->\n",
    "\t\t</tr>\n",
    "\t\t<tr>\n",
    "\t\t\t<!-- <th>Row 2</th> -->\n",
    "\t\t\t<td>Cell 2,1</td>\n",
    "\t\t\t<td>Cell 2,2</td>\n",
    "\t\t\t<td>Cell 2,3</td>\n",
    "\t\t</tr>\n",
    "\t\t<tr>\n",
    "\t\t\t<th>Row 3</th>\n",
    "\t\t\t<td>Cell 3,1</td>\n",
    "\t\t\t<td>Cell 3,2</td>\n",
    "\t\t\t<td>Cell 3,3</td>\n",
    "\t\t</tr>\n",
    "\t</table>\n",
    "</body>\n",
    "</html>"
   ]
  },
  {
   "cell_type": "code",
   "execution_count": null,
   "id": "9c6a2ebb",
   "metadata": {},
   "outputs": [],
   "source": [
    "# When you click on 'Epcot Center', the 'details' will be shown"
   ]
  },
  {
   "cell_type": "raw",
   "id": "ebbd7264",
   "metadata": {},
   "source": [
    "<!DOCTYPE html>\n",
    "<html>\n",
    "<body>\n",
    "\n",
    "<h1>The summary element</h1>\n",
    "\n",
    "<details>\n",
    "  <summary>Epcot Center</summary>\n",
    "  <p>Epcot is a theme park at Walt Disney World Resort featuring exciting attractions, international pavilions, award-winning fireworks and seasonal special events.</p>\n",
    "</details>\n",
    "\n",
    "</body>\n",
    "</html>"
   ]
  },
  {
   "cell_type": "markdown",
   "id": "3745b2de",
   "metadata": {},
   "source": [
    "<!DOCTYPE html>\n",
    "<html>\n",
    "<body>\n",
    "\n",
    "<h1>The summary element</h1>\n",
    "\n",
    "<details>\n",
    "  <summary>Epcot Center</summary>\n",
    "  <p>Epcot is a theme park at Walt Disney World Resort featuring exciting attractions, international pavilions, award-winning fireworks and seasonal special events.</p>\n",
    "</details>\n",
    "\n",
    "</body>\n",
    "</html>"
   ]
  },
  {
   "cell_type": "code",
   "execution_count": 4,
   "id": "8ba22232",
   "metadata": {},
   "outputs": [],
   "source": [
    "# A table within a table"
   ]
  },
  {
   "cell_type": "raw",
   "id": "94bef5db",
   "metadata": {},
   "source": [
    "<!DOCTYPE html>\n",
    "<html>\n",
    "<head>\n",
    "\t<title>Learning links</title>\n",
    "</head>\n",
    "<body>\n",
    "\t<table border = \"2\"> \n",
    "        <caption>Demo Table</caption>\n",
    "\t\t<tr>\n",
    "\t\t\t<th></th>\n",
    "\t\t\t<th>Column 1</th>\n",
    "\t\t\t<th>Column 2</th>\n",
    "\t\t\t<th>Column 3</th>\n",
    "\t\t</tr>\n",
    "\t\t<tr>\n",
    "\t\t\t<th>Row 1</th>\n",
    "\t\t\t<td>\n",
    "\t\t\t\t<table border = \"2\">\n",
    "\t\t\t\t\t<caption>Sub Table</caption>\n",
    "\t\t\t\t\t<tr>\n",
    "\t\t\t\t\t\t<th></th>\n",
    "\t\t\t\t\t\t<th>Sub col1</th>\n",
    "\t\t\t\t\t\t<th>sub col2</th>\n",
    "\t\t\t\t\t</tr>\n",
    "\t\t\t\t\t<tr>\n",
    "\t\t\t\t\t\t<th>sub row1</th>\n",
    "\t\t\t\t\t\t<td>sub cell 1,1</td>\n",
    "\t\t\t\t\t\t<td>sub cell 1,2</td>\n",
    "\t\t\t\t\t</tr>\n",
    "\t\t\t\t</table>\n",
    "\t\t\t</td>\n",
    "\t\t\t<td>Cell 1,2</td>\n",
    "\t\t\t<td>Cell 1,3</td>\n",
    "\t\t</tr>\n",
    "\t\t<tr>\n",
    "\t\t\t<th>Row 2</th>\n",
    "\t\t\t<td>Cell 2,1</td>\n",
    "\t\t\t<td>Cell 2,2</td>\n",
    "\t\t\t<td>Cell 2,3</td>\n",
    "\t\t</tr>\n",
    "\t\t<tr>\n",
    "\t\t\t<th>Row 3</th>\n",
    "\t\t\t<td>Cell 3,1</td>\n",
    "\t\t\t<td>Cell 3,2</td>\n",
    "\t\t\t<td>Cell 3,3</td>\n",
    "\t\t</tr>\n",
    "\t</table>\n",
    "</body>\n",
    "</html>"
   ]
  },
  {
   "cell_type": "markdown",
   "id": "5a895b70",
   "metadata": {},
   "source": [
    "<!DOCTYPE html>\n",
    "<html>\n",
    "<head>\n",
    "\t<title>Learning links</title>\n",
    "</head>\n",
    "<body>\n",
    "\t<table border = \"2\"> \n",
    "        <caption>Demo Table</caption>\n",
    "\t\t<tr>\n",
    "\t\t\t<th></th>\n",
    "\t\t\t<th>Column 1</th>\n",
    "\t\t\t<th>Column 2</th>\n",
    "\t\t\t<th>Column 3</th>\n",
    "\t\t</tr>\n",
    "\t\t<tr>\n",
    "\t\t\t<th>Row 1</th>\n",
    "\t\t\t<td>\n",
    "\t\t\t\t<table border = \"2\">\n",
    "\t\t\t\t\t<caption>Sub Table</caption>\n",
    "\t\t\t\t\t<tr>\n",
    "\t\t\t\t\t\t<th></th>\n",
    "\t\t\t\t\t\t<th>Sub col1</th>\n",
    "\t\t\t\t\t\t<th>sub col2</th>\n",
    "\t\t\t\t\t</tr>\n",
    "\t\t\t\t\t<tr>\n",
    "\t\t\t\t\t\t<th>sub row1</th>\n",
    "\t\t\t\t\t\t<td>sub cell 1,1</td>\n",
    "\t\t\t\t\t\t<td>sub cell 1,2</td>\n",
    "\t\t\t\t\t</tr>\n",
    "\t\t\t\t</table>\n",
    "\t\t\t</td>\n",
    "\t\t\t<td>Cell 1,2</td>\n",
    "\t\t\t<td>Cell 1,3</td>\n",
    "\t\t</tr>\n",
    "\t\t<tr>\n",
    "\t\t\t<th>Row 2</th>\n",
    "\t\t\t<td>Cell 2,1</td>\n",
    "\t\t\t<td>Cell 2,2</td>\n",
    "\t\t\t<td>Cell 2,3</td>\n",
    "\t\t</tr>\n",
    "\t\t<tr>\n",
    "\t\t\t<th>Row 3</th>\n",
    "\t\t\t<td>Cell 3,1</td>\n",
    "\t\t\t<td>Cell 3,2</td>\n",
    "\t\t\t<td>Cell 3,3</td>\n",
    "\t\t</tr>\n",
    "\t</table>\n",
    "</body>\n",
    "</html>"
   ]
  }
 ],
 "metadata": {
  "kernelspec": {
   "display_name": "Python 3 (ipykernel)",
   "language": "python",
   "name": "python3"
  },
  "language_info": {
   "codemirror_mode": {
    "name": "ipython",
    "version": 3
   },
   "file_extension": ".py",
   "mimetype": "text/x-python",
   "name": "python",
   "nbconvert_exporter": "python",
   "pygments_lexer": "ipython3",
   "version": "3.9.12"
  }
 },
 "nbformat": 4,
 "nbformat_minor": 5
}
