{
 "cells": [
  {
   "cell_type": "code",
   "execution_count": 1,
   "id": "d79394ec",
   "metadata": {},
   "outputs": [],
   "source": [
    "# Responsive Design\n",
    "\n",
    "# The website should be able to adapt itself according to different screen dimensions, screen layouts, etc."
   ]
  },
  {
   "cell_type": "code",
   "execution_count": null,
   "id": "0c26a76e",
   "metadata": {},
   "outputs": [],
   "source": [
    "# We can create Responsive Design through the below mentioned ways\n",
    "\n",
    "# 1) Responsive Web Design\n",
    "# 2) Dynamic Serving\n",
    "# 3) Separate Mobile websites"
   ]
  },
  {
   "cell_type": "code",
   "execution_count": 2,
   "id": "3d3d62a3",
   "metadata": {},
   "outputs": [],
   "source": [
    "# Dynamic Serving\n",
    "\n",
    "# If you are viewing amazon website on desktop, the desktop hits the server of amazon and the server identifies the device and\n",
    "# sends the relevant HTML, CSS and Javascript files to load.\n",
    "\n",
    "# If the device is dekstop, it sends a set of relevant HTML, CSS and JS files. If the device is mobile, it sends a different\n",
    "# set of relevant HTML, CSS and JS files.\n",
    "\n",
    "# The challenges faced in this approach are we have to maintain separate set of HTML, CSS, JS files for each device.\n",
    "# If we want to introduce a new feature, we'll have to make the change in all sets of files."
   ]
  },
  {
   "cell_type": "code",
   "execution_count": 3,
   "id": "7dbb0683",
   "metadata": {},
   "outputs": [],
   "source": [
    "# Responsive Web Design\n",
    "\n",
    "# The HTML, CSS files are the same irrespective of whether desktop or mobile. But through CSS rules, we achieve responsive\n",
    "# design."
   ]
  },
  {
   "cell_type": "code",
   "execution_count": 4,
   "id": "17f161b9",
   "metadata": {},
   "outputs": [],
   "source": [
    "# Seperate Mobile websites\n",
    "\n",
    "# The URL is different for mobiles and desktops"
   ]
  },
  {
   "cell_type": "code",
   "execution_count": 5,
   "id": "891dbaca",
   "metadata": {},
   "outputs": [],
   "source": [
    "# Measurement units for responsive web designs\n",
    "\n",
    "# 1) Absolute units - px, in, cm\n",
    "# 2) Relative units - %, vh, vw, rem, em\n",
    "\n",
    "# rem is wrt to root font size\n",
    "# em is wrt to element font size"
   ]
  },
  {
   "cell_type": "code",
   "execution_count": 6,
   "id": "e8e612e3",
   "metadata": {},
   "outputs": [],
   "source": [
    "# If we only use absolute units, it is called a 'fixed' layout.\n",
    "# If we only use relative units, it is called a 'fluid' layout and we can achieve responsive web design through fluid layout.\n",
    "\n",
    "# When we use percentages, we also use min-width and max-width so that the relative units don't pixelate/shrink the images.\n",
    "# Because if we set the relative size in terms of percentage, then if it is a very large screen size, the image may get\n",
    "# pixelated and if it is a very small screen size, the image may shrink."
   ]
  },
  {
   "cell_type": "code",
   "execution_count": 7,
   "id": "8bee581b",
   "metadata": {},
   "outputs": [],
   "source": [
    "# Viewport is not the screen size but the size of the window that we are seeing.\n",
    "\n",
    "# When we click on inspect, there is an option to see how the webpage will appear on a mobile screen. but how does the browser\n",
    "# do this?\n",
    "\n",
    "# The browser first renders the page on a 900px virtual viewport and then zooms out the page till it fits the mobile screen size"
   ]
  },
  {
   "cell_type": "code",
   "execution_count": 8,
   "id": "47b218f0",
   "metadata": {},
   "outputs": [],
   "source": [
    "# Viewport meta tag\n",
    "\n",
    "# We write this meta tag under the head of the html file"
   ]
  },
  {
   "cell_type": "raw",
   "id": "d55bc04d",
   "metadata": {},
   "source": [
    "<meta name=\"viewport\" content=\"Width=device-width, initial-scale=1\">"
   ]
  },
  {
   "cell_type": "code",
   "execution_count": 9,
   "id": "33750252",
   "metadata": {},
   "outputs": [],
   "source": [
    "# 'Width=device-width' means that the webpage is being rendered on the virtual viewport whose width matches to that of the device\n",
    "# width. So there is no zooming out taking place.\n",
    "\n",
    "# The 'initial scale=1' means the zoom factor is equal to 1."
   ]
  },
  {
   "cell_type": "code",
   "execution_count": 10,
   "id": "ff507a78",
   "metadata": {},
   "outputs": [],
   "source": [
    "# Media Queries"
   ]
  },
  {
   "cell_type": "code",
   "execution_count": 11,
   "id": "0eabd48f",
   "metadata": {},
   "outputs": [],
   "source": [
    "# style.css"
   ]
  },
  {
   "cell_type": "raw",
   "id": "a06fe436",
   "metadata": {},
   "source": [
    "#div1 {\n",
    "    width: 60%;\n",
    "    border: 1px solid black;\n",
    "}\n",
    "\n",
    "@media screen and (max-width: 900px){\n",
    "\t#div1{\n",
    "\t\twidth: 90%;\n",
    "\t}\n",
    "}\n",
    "\n",
    "@media screen and (max-width: 600px){\n",
    "\t#div1{\n",
    "\t\twidth: 100%;\n",
    "\t}\n",
    "}"
   ]
  },
  {
   "cell_type": "code",
   "execution_count": null,
   "id": "f7c4b9d6",
   "metadata": {},
   "outputs": [],
   "source": [
    "# As per above media queries, if the max-width is greater than 900px, then width of 'div' = 60% of screen\n",
    "# If max-width is greater than/equal to 600px and less than/equal to 900px, then width of 'div' = 90% of screen\n",
    "# If max-width is lesser than 600px, then wdith of 'div' = 100% of screen\n",
    "\n",
    "# The max-width: 900px media query should come before the max-width: 600px media query because CSS logic run from top to bottom\n",
    "# and the last rule will be applied to the div.\n",
    "\n",
    "# There are 2 breakpoints in the above style.css. The 2 breakpoints are 900px and 600px."
   ]
  },
  {
   "cell_type": "code",
   "execution_count": 12,
   "id": "38255fbc",
   "metadata": {},
   "outputs": [],
   "source": [
    "# index.html"
   ]
  },
  {
   "cell_type": "raw",
   "id": "c7705720",
   "metadata": {},
   "source": [
    "<!DOCTYPE html>\n",
    "<html>\n",
    "<head>\n",
    "    <link rel=\"stylesheet\" type=\"text/css\" href=\"style.css\">\n",
    "</head>\n",
    "<body>\n",
    "    <div id=\"div1\"><p>Hi How are you doing?</p></div>\n",
    "</body>\n",
    "</html>"
   ]
  },
  {
   "cell_type": "code",
   "execution_count": null,
   "id": "203718b5",
   "metadata": {},
   "outputs": [],
   "source": [
    "# desktop-first\n",
    "\n",
    "# We think of desktop first, then move to ipad and then move to mobile.\n",
    "# The earlier media query that we discussed is a desktop-first approach.\n",
    "\n",
    "# mobile-first\n",
    "\n",
    "# We think of mobile first, then move to ipad and then move to desktop.\n",
    "# The below media query we discussed is a mobile-first approach."
   ]
  },
  {
   "cell_type": "raw",
   "id": "9b41fe59",
   "metadata": {},
   "source": [
    "#div1 {\n",
    "    width: 100%;\n",
    "    border: 1px solid black;\n",
    "}\n",
    "\n",
    "@media screen and (min-width: 600px){\n",
    "\t#div1{\n",
    "\t\twidth: 80%;\n",
    "\t}\n",
    "}\n",
    "\n",
    "@media screen and (min-width: 900px){\n",
    "\t#div1{\n",
    "\t\twidth: 60%;\n",
    "\t}\n",
    "}"
   ]
  },
  {
   "cell_type": "code",
   "execution_count": 1,
   "id": "de00ba33",
   "metadata": {},
   "outputs": [],
   "source": [
    "# flex automatically takes care of the responsiveness factor\n",
    "\n",
    "# The viewport meta tag must be there if we are talking about responsiveness"
   ]
  }
 ],
 "metadata": {
  "kernelspec": {
   "display_name": "Python 3 (ipykernel)",
   "language": "python",
   "name": "python3"
  },
  "language_info": {
   "codemirror_mode": {
    "name": "ipython",
    "version": 3
   },
   "file_extension": ".py",
   "mimetype": "text/x-python",
   "name": "python",
   "nbconvert_exporter": "python",
   "pygments_lexer": "ipython3",
   "version": "3.9.12"
  }
 },
 "nbformat": 4,
 "nbformat_minor": 5
}
