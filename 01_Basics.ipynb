{
 "cells": [
  {
   "cell_type": "code",
   "execution_count": 1,
   "id": "d174a3de",
   "metadata": {},
   "outputs": [],
   "source": [
    "# World wide web is a collection of interlinked documents. We need a web browser to browse world wide web\n",
    "# Hyperlinks - Links that redirect you to another document\n",
    "\n",
    "# HTML - Hypertext Markup Language (Decides the structure of the webpage)\n",
    "# CSS - To design the webpage (CSS is to make the webpage look good)\n",
    "\n",
    "# The webpages designed by HTML and CSS are not interactive. Javascript helps to interact with the webpages.\n",
    "\n",
    "# Client Server Architecture\n",
    "# The Browser is the Client which requests for the website code from the Server.\n",
    "# The Client is the entity that requests for the resource and\n",
    "# the Server is the entity which responds to the request by providing the resource.\n",
    "\n",
    "# Static Website - If the content served to all the users is the same, it is a static website\n",
    "# These days, all the websites are dynamic.\n",
    "# Dynamic website - The content served differs from the user to user. Facebook website."
   ]
  },
  {
   "cell_type": "code",
   "execution_count": 2,
   "id": "e2befe4d",
   "metadata": {},
   "outputs": [],
   "source": [
    "# Front end vs Back end\n",
    "\n",
    "# The client side is the Front end side (Front end side shows the data. Displays the data)\n",
    "# The server side is the Back end side (Back end side gets you the right data to be displayed by Front end side)\n",
    "\n",
    "# The user specific content served the server is handled by the Back end side."
   ]
  },
  {
   "cell_type": "code",
   "execution_count": 3,
   "id": "93645608",
   "metadata": {},
   "outputs": [],
   "source": [
    "# Google.com has a server maintained by Google (Actually there are multiple google servers)\n",
    "# Facebook.com has a server maintained by Facebook\n",
    "# CodingNinjas.com has a server maintained by Coding Ninjas\n",
    "\n",
    "# Every device connected to the internet has an unique address called the IP address\n",
    "# Every server has an IP address too.\n",
    "# DNS (Domain Name Search)\n",
    "\n",
    "# We enter the google.com (URL) in the browser. The browser contacts the ISP (Internet Service Provider) and\n",
    "# ISP conducts a DNS (Domain Name Search) and returns the relevant IP address of the server.\n",
    "# The browser then contacts and connects to the server"
   ]
  },
  {
   "cell_type": "code",
   "execution_count": 4,
   "id": "a553dae0",
   "metadata": {},
   "outputs": [],
   "source": [
    "# Client-server communication is done using HTTP/HTTPS (Hypertext Transfer Protocol)\n",
    "# Web pages with hyperlinks or media contents are not considered dynamic unless the web page's content \n",
    "# can be changed at real-time."
   ]
  }
 ],
 "metadata": {
  "kernelspec": {
   "display_name": "Python 3 (ipykernel)",
   "language": "python",
   "name": "python3"
  },
  "language_info": {
   "codemirror_mode": {
    "name": "ipython",
    "version": 3
   },
   "file_extension": ".py",
   "mimetype": "text/x-python",
   "name": "python",
   "nbconvert_exporter": "python",
   "pygments_lexer": "ipython3",
   "version": "3.9.12"
  }
 },
 "nbformat": 4,
 "nbformat_minor": 5
}
