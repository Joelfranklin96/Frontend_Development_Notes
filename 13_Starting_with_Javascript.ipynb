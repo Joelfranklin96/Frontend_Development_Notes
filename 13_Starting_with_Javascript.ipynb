{
 "cells": [
  {
   "cell_type": "code",
   "execution_count": 1,
   "id": "12772dcd",
   "metadata": {},
   "outputs": [],
   "source": [
    "# Javascript helps to add action\n",
    "# Mouse events happen without refreshing the page using Javascript\n",
    "# Javascript adds interactivity to web browsers"
   ]
  },
  {
   "cell_type": "code",
   "execution_count": 2,
   "id": "d2be121e",
   "metadata": {},
   "outputs": [],
   "source": [
    "# Variables"
   ]
  },
  {
   "cell_type": "code",
   "execution_count": 3,
   "id": "bd90b8d8",
   "metadata": {},
   "outputs": [],
   "source": [
    "# 6 primitive data types in Javascript\n",
    "\n",
    "# 1) Number (both integral and decimal) (64 bit)\n",
    "# 2) String\n",
    "# 3) boolean\n",
    "# 4) null\n",
    "# 5) undefined\n",
    "# 6) symbol\n",
    "\n",
    "# And there is 1 object\n",
    "\n",
    "# Variables in javascript are loosely typed. i.e A single variable can be used to store different types."
   ]
  },
  {
   "cell_type": "code",
   "execution_count": 4,
   "id": "426e9779",
   "metadata": {},
   "outputs": [],
   "source": [
    "# Adding semi-colon at end of line is optional in javascript. Optional in the sense that Javascript will add semi-colon at the\n",
    "# end of the line if there is no semicolon."
   ]
  },
  {
   "cell_type": "raw",
   "id": "949ece21",
   "metadata": {},
   "source": [
    "var a = 10;\n",
    "console.log(a);"
   ]
  },
  {
   "cell_type": "code",
   "execution_count": 5,
   "id": "54ee745f",
   "metadata": {},
   "outputs": [],
   "source": [
    "# console.log(a) prints the value of a to the console."
   ]
  },
  {
   "cell_type": "code",
   "execution_count": 6,
   "id": "7687e902",
   "metadata": {},
   "outputs": [],
   "source": [
    "# variable declaration - We are just declaring a variable and not assigning any value to it\n",
    "# variable definition - We are both declaring a variable and assigning value to it\n",
    "\n",
    "# The undefined values don't have any garbage values in them. They just show as undefined."
   ]
  },
  {
   "cell_type": "raw",
   "id": "135cd26d",
   "metadata": {},
   "source": [
    "var a = null;"
   ]
  },
  {
   "cell_type": "code",
   "execution_count": 7,
   "id": "2adafba1",
   "metadata": {},
   "outputs": [],
   "source": [
    "# In the above, we set the value of a as null"
   ]
  },
  {
   "cell_type": "code",
   "execution_count": 8,
   "id": "183ad345",
   "metadata": {},
   "outputs": [],
   "source": [
    "# Infinity is a type in javascript\n",
    "# 1/0 = infinity\n",
    "# Math.pow(10, 1000) = Infinity. Any number that can't be stored (beyond the limits) is given the value of inifinity."
   ]
  },
  {
   "cell_type": "code",
   "execution_count": 9,
   "id": "a5b88443",
   "metadata": {},
   "outputs": [],
   "source": [
    "# Number.MAX_VALUE; gives the maximum number that can be stored in a number data type"
   ]
  },
  {
   "cell_type": "code",
   "execution_count": 10,
   "id": "f5e34112",
   "metadata": {},
   "outputs": [],
   "source": [
    "# NaN - Not a number\n",
    "# Examples - sqrt(-2), parseInt(\"hello\")"
   ]
  },
  {
   "cell_type": "code",
   "execution_count": 11,
   "id": "afe0f346",
   "metadata": {},
   "outputs": [],
   "source": [
    "# typeof operator"
   ]
  },
  {
   "cell_type": "raw",
   "id": "db0be542",
   "metadata": {},
   "source": [
    "var a = 10;\n",
    "typeof a"
   ]
  },
  {
   "cell_type": "code",
   "execution_count": 12,
   "id": "bba351fb",
   "metadata": {},
   "outputs": [],
   "source": [
    "# output of above - \"number\""
   ]
  },
  {
   "cell_type": "raw",
   "id": "dd0377bf",
   "metadata": {},
   "source": [
    "var a = null;\n",
    "typeof a"
   ]
  },
  {
   "cell_type": "code",
   "execution_count": 14,
   "id": "6028e6ed",
   "metadata": {},
   "outputs": [],
   "source": [
    "# output of above - \"object\"\n",
    "# The above is a bug in javascript"
   ]
  },
  {
   "cell_type": "raw",
   "id": "11769fd2",
   "metadata": {},
   "source": [
    "typeof Infinity;"
   ]
  },
  {
   "cell_type": "code",
   "execution_count": 15,
   "id": "c69a8250",
   "metadata": {},
   "outputs": [],
   "source": [
    "# output of above - \"number\""
   ]
  },
  {
   "cell_type": "raw",
   "id": "7c28682f",
   "metadata": {},
   "source": [
    "typeof NaN;"
   ]
  },
  {
   "cell_type": "code",
   "execution_count": 16,
   "id": "13aac4b6",
   "metadata": {},
   "outputs": [],
   "source": [
    "# output of above - \"number\"\n",
    "# This is strange"
   ]
  },
  {
   "cell_type": "raw",
   "id": "f0a95e91",
   "metadata": {},
   "source": [
    "a = 5;\n",
    "console.log(++a);\n",
    "console.log(a++);\n",
    "console.log(a);"
   ]
  },
  {
   "cell_type": "code",
   "execution_count": 18,
   "id": "138220dc",
   "metadata": {},
   "outputs": [],
   "source": [
    "# output of above\n",
    "\n",
    "# 6\n",
    "# 6\n",
    "# 7"
   ]
  },
  {
   "cell_type": "code",
   "execution_count": 19,
   "id": "0cc4796a",
   "metadata": {},
   "outputs": [],
   "source": [
    "# Logical operators - &&, ||, !"
   ]
  },
  {
   "cell_type": "code",
   "execution_count": 20,
   "id": "41f3a699",
   "metadata": {},
   "outputs": [],
   "source": [
    "# Short circuit evaluation"
   ]
  },
  {
   "cell_type": "raw",
   "id": "b7178c0f",
   "metadata": {},
   "source": [
    "var a = 26;\n",
    "var b = 100;\n",
    "a < 20 && b++ > 99;\n",
    "b"
   ]
  },
  {
   "cell_type": "code",
   "execution_count": 21,
   "id": "e561ef37",
   "metadata": {},
   "outputs": [],
   "source": [
    "# Output of above\n",
    "\n",
    "# false\n",
    "# 100\n",
    "\n",
    "# In the above case, the value of b has not been incremented because of short circuit evaluation."
   ]
  },
  {
   "cell_type": "code",
   "execution_count": 22,
   "id": "d8305206",
   "metadata": {},
   "outputs": [],
   "source": [
    "# Bitwise operators - >>, <<, &, |, >>>"
   ]
  },
  {
   "cell_type": "raw",
   "id": "ab897b78",
   "metadata": {},
   "source": [
    "\"hello\" + \" world\"\n",
    "\"hello\" + 2\n",
    "\"1\" + 1\n",
    "'1' - 2\n",
    "'1' * 5\n",
    "'1' / 2\n",
    "'1' > 2"
   ]
  },
  {
   "cell_type": "code",
   "execution_count": null,
   "id": "26f2dee5",
   "metadata": {},
   "outputs": [],
   "source": [
    "# output of above\n",
    "\n",
    "# \"hello world\"\n",
    "# \"hello2\"\n",
    "# \"11\"\n",
    "# -1\n",
    "# 5\n",
    "# 0.5\n",
    "# false"
   ]
  },
  {
   "cell_type": "code",
   "execution_count": 23,
   "id": "08f7a436",
   "metadata": {},
   "outputs": [],
   "source": [
    "# type coercion\n",
    "\n",
    "# When you add a string and number, concatenation happens\n",
    "# When a subtract/multiply/compare a string and number, automatic type conversion (known as type coercion) happens (i.e string is converted to number) and \n",
    "# the result is a number"
   ]
  },
  {
   "cell_type": "code",
   "execution_count": 24,
   "id": "65bb32d9",
   "metadata": {},
   "outputs": [],
   "source": [
    "# Operator precedence is 'multiplication', 'division', 'addition' and then 'subtraction'"
   ]
  },
  {
   "cell_type": "raw",
   "id": "a1cb7a54",
   "metadata": {},
   "source": [
    "var a;\n",
    "console.log(a + \"b\");"
   ]
  },
  {
   "cell_type": "code",
   "execution_count": 25,
   "id": "466f4594",
   "metadata": {},
   "outputs": [],
   "source": [
    "# output of above\n",
    "\n",
    "# undefinedb"
   ]
  },
  {
   "cell_type": "code",
   "execution_count": null,
   "id": "ea269e38",
   "metadata": {},
   "outputs": [],
   "source": [
    "# == vs ===\n",
    "# != vs !=="
   ]
  },
  {
   "cell_type": "raw",
   "id": "268532c4",
   "metadata": {},
   "source": [
    "1 == '1'\n",
    "1 != '1'\n",
    "1 === '1'\n",
    "1 !== '1'"
   ]
  },
  {
   "cell_type": "code",
   "execution_count": null,
   "id": "dea7c58d",
   "metadata": {},
   "outputs": [],
   "source": [
    "# output of above\n",
    "\n",
    "# true\n",
    "# false\n",
    "# false\n",
    "# true"
   ]
  },
  {
   "cell_type": "code",
   "execution_count": 26,
   "id": "b190ac67",
   "metadata": {},
   "outputs": [],
   "source": [
    "# Conditionals"
   ]
  },
  {
   "cell_type": "raw",
   "id": "64a71105",
   "metadata": {},
   "source": [
    "var a = 10;\n",
    "\n",
    "if (a>0){\n",
    "    console.log(\"Positive\");\n",
    "} else if (a < 0){\n",
    "    console.log(\"Negative\");\n",
    "} else {\n",
    "    console.log(\"Zero\");\n",
    "}"
   ]
  },
  {
   "cell_type": "code",
   "execution_count": 27,
   "id": "056a05f5",
   "metadata": {},
   "outputs": [],
   "source": [
    "# output of above\n",
    "\n",
    "# Positive"
   ]
  },
  {
   "cell_type": "code",
   "execution_count": null,
   "id": "46dec313",
   "metadata": {},
   "outputs": [],
   "source": [
    "# block comments - /*, */\n",
    "# line comments - //"
   ]
  },
  {
   "cell_type": "raw",
   "id": "c950de3b",
   "metadata": {},
   "source": [
    "var a = -2;\n",
    "\n",
    "if (a){\n",
    "    console.log(\"True\");\n",
    "} else{\n",
    "    console.log(\"False\");\n",
    "}"
   ]
  },
  {
   "cell_type": "code",
   "execution_count": 28,
   "id": "a0ba622f",
   "metadata": {},
   "outputs": [],
   "source": [
    "# output of above\n",
    "\n",
    "# True"
   ]
  },
  {
   "cell_type": "raw",
   "id": "c3c0915d",
   "metadata": {},
   "source": [
    "var a = 0;\n",
    "\n",
    "if (a){\n",
    "    console.log(\"True\");\n",
    "} else{\n",
    "    console.log(\"False\");\n",
    "}"
   ]
  },
  {
   "cell_type": "code",
   "execution_count": 29,
   "id": "2934b666",
   "metadata": {},
   "outputs": [],
   "source": [
    "# output of above\n",
    "\n",
    "# False"
   ]
  },
  {
   "cell_type": "code",
   "execution_count": 1,
   "id": "83af965a",
   "metadata": {},
   "outputs": [],
   "source": [
    "# In javascript all the values have associated boolean values.\n",
    "\n",
    "# In the case of numbers, anything other than 0 is considered to be true.\n",
    "# In the case of strings, an empty string is considered false and any other string is considered true.\n",
    "# If the variable is undefined or null, it will be treated as false."
   ]
  },
  {
   "cell_type": "code",
   "execution_count": 2,
   "id": "c54c6b60",
   "metadata": {},
   "outputs": [],
   "source": [
    "# nul == undefined returns the boolean value true"
   ]
  },
  {
   "cell_type": "code",
   "execution_count": 3,
   "id": "c1d80dc4",
   "metadata": {},
   "outputs": [],
   "source": [
    "# Loops"
   ]
  },
  {
   "cell_type": "code",
   "execution_count": 4,
   "id": "3f6e6e69",
   "metadata": {},
   "outputs": [],
   "source": [
    "# While loop"
   ]
  },
  {
   "cell_type": "raw",
   "id": "7d6afd25",
   "metadata": {},
   "source": [
    "var i = 1;\n",
    "while(i<5){\n",
    "  console.log(i);\n",
    "  i++;\n",
    "}"
   ]
  },
  {
   "cell_type": "code",
   "execution_count": 5,
   "id": "6ae2a244",
   "metadata": {},
   "outputs": [],
   "source": [
    "# for loop"
   ]
  },
  {
   "cell_type": "raw",
   "id": "1f3727ab",
   "metadata": {},
   "source": [
    "for(i = 1; i<5; i++){\n",
    "  console.log(i);\n",
    "}"
   ]
  },
  {
   "cell_type": "code",
   "execution_count": 6,
   "id": "c17e9a57",
   "metadata": {},
   "outputs": [],
   "source": [
    "# do while loop"
   ]
  },
  {
   "cell_type": "raw",
   "id": "e84e5e46",
   "metadata": {},
   "source": [
    "var i = 1;\n",
    "do{\n",
    "  console.log(i);\n",
    "  i++;\n",
    "}while(i<5)"
   ]
  },
  {
   "cell_type": "raw",
   "id": "1e2f2dff",
   "metadata": {},
   "source": [
    "var a = 5\n",
    "console.log(typeof(typeof(a)));"
   ]
  },
  {
   "cell_type": "code",
   "execution_count": 7,
   "id": "d5c01ede",
   "metadata": {},
   "outputs": [],
   "source": [
    "# output of above - string"
   ]
  },
  {
   "cell_type": "raw",
   "id": "695219f5",
   "metadata": {},
   "source": [
    "var a = 5\n",
    "console.log(typeof(typeof(typeof(a))));"
   ]
  },
  {
   "cell_type": "code",
   "execution_count": 9,
   "id": "2d1abad0",
   "metadata": {},
   "outputs": [],
   "source": [
    "# output of above - string"
   ]
  },
  {
   "cell_type": "raw",
   "id": "e0ccce44",
   "metadata": {},
   "source": [
    "var a;\n",
    "console.log(a)"
   ]
  },
  {
   "cell_type": "code",
   "execution_count": 10,
   "id": "f20fb43e",
   "metadata": {},
   "outputs": [],
   "source": [
    "# output of above - undefined"
   ]
  },
  {
   "cell_type": "raw",
   "id": "1ec02f66",
   "metadata": {},
   "source": [
    "var a;\n",
    "console.log(typeof(a));"
   ]
  },
  {
   "cell_type": "code",
   "execution_count": 11,
   "id": "1d5364c0",
   "metadata": {},
   "outputs": [],
   "source": [
    "# output of above - string"
   ]
  },
  {
   "cell_type": "raw",
   "id": "6774e4ab",
   "metadata": {},
   "source": [
    "var a = undefined;\n",
    "var b = null;\n",
    "console.log(a==b);\n",
    "console.log(a===b);"
   ]
  },
  {
   "cell_type": "code",
   "execution_count": 13,
   "id": "ce4bd957",
   "metadata": {},
   "outputs": [],
   "source": [
    "# output of above\n",
    "\n",
    "# false\n",
    "# true"
   ]
  },
  {
   "cell_type": "code",
   "execution_count": 14,
   "id": "e163213d",
   "metadata": {},
   "outputs": [],
   "source": [
    "# condition ? expressionIfTrue : expressionIfFalse;"
   ]
  },
  {
   "cell_type": "code",
   "execution_count": 28,
   "id": "43806d94",
   "metadata": {},
   "outputs": [],
   "source": [
    "import numpy as np\n",
    "def sigmoid(z):\n",
    "    return 1 / (1+np.exp(-z))"
   ]
  },
  {
   "cell_type": "code",
   "execution_count": 23,
   "id": "e8fe1d83",
   "metadata": {},
   "outputs": [
    {
     "data": {
      "text/plain": [
       "array([2.36787944, 2.27253179, 2.44932896])"
      ]
     },
     "execution_count": 23,
     "metadata": {},
     "output_type": "execute_result"
    }
   ],
   "source": [
    "a = sigmoid(np.array([1,1.3,0.8]))\n",
    "a"
   ]
  },
  {
   "cell_type": "code",
   "execution_count": 25,
   "id": "f82c871f",
   "metadata": {},
   "outputs": [
    {
     "data": {
      "text/plain": [
       "array([4.0510258])"
      ]
     },
     "execution_count": 25,
     "metadata": {},
     "output_type": "execute_result"
    }
   ],
   "source": [
    "np.dot(a,np.array([[0.3],\n",
    "                   [0.5],\n",
    "                   [0.9]]))"
   ]
  },
  {
   "cell_type": "code",
   "execution_count": 26,
   "id": "19309287",
   "metadata": {},
   "outputs": [
    {
     "data": {
      "text/plain": [
       "array([], dtype=float64)"
      ]
     },
     "execution_count": 26,
     "metadata": {},
     "output_type": "execute_result"
    }
   ],
   "source": [
    "np.array([])"
   ]
  },
  {
   "cell_type": "code",
   "execution_count": 31,
   "id": "46befc15",
   "metadata": {},
   "outputs": [
    {
     "data": {
      "text/plain": [
       "array([[0.73105858],\n",
       "       [0.78583498],\n",
       "       [0.68997448]])"
      ]
     },
     "execution_count": 31,
     "metadata": {},
     "output_type": "execute_result"
    }
   ],
   "source": [
    "i = np.array([[1],[1]])\n",
    "w1 = np.array([[0.8,0.4,0.3],[0.2,0.9,0.5]])\n",
    "a = sigmoid(np.dot(np.transpose(w1),i))\n",
    "a"
   ]
  },
  {
   "cell_type": "code",
   "execution_count": 33,
   "id": "9be1354e",
   "metadata": {},
   "outputs": [
    {
     "data": {
      "text/plain": [
       "array([[1.2332121]])"
      ]
     },
     "execution_count": 33,
     "metadata": {},
     "output_type": "execute_result"
    }
   ],
   "source": [
    "np.dot(np.array([[0.3,0.5,0.9]]),a)"
   ]
  },
  {
   "cell_type": "code",
   "execution_count": null,
   "id": "a65d1989",
   "metadata": {},
   "outputs": [],
   "source": []
  }
 ],
 "metadata": {
  "kernelspec": {
   "display_name": "Python 3 (ipykernel)",
   "language": "python",
   "name": "python3"
  },
  "language_info": {
   "codemirror_mode": {
    "name": "ipython",
    "version": 3
   },
   "file_extension": ".py",
   "mimetype": "text/x-python",
   "name": "python",
   "nbconvert_exporter": "python",
   "pygments_lexer": "ipython3",
   "version": "3.9.12"
  }
 },
 "nbformat": 4,
 "nbformat_minor": 5
}
