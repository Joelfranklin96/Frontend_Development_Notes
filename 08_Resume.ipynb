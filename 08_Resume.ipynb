{
 "cells": [
  {
   "cell_type": "code",
   "execution_count": 1,
   "id": "23489d7d",
   "metadata": {},
   "outputs": [],
   "source": [
    "# overflow-break\n",
    "\n",
    "# It breaks the words so that the words don't overflow out of the container"
   ]
  },
  {
   "cell_type": "code",
   "execution_count": 2,
   "id": "668fbf94",
   "metadata": {},
   "outputs": [],
   "source": [
    "# style.css"
   ]
  },
  {
   "cell_type": "raw",
   "id": "9c3c35ed",
   "metadata": {},
   "source": [
    "#container{\n",
    "\theight: auto;\n",
    "\twidth: 50px;\n",
    "\tborder: 2px solid black;\n",
    "\toverflow-wrap: break-word;\n",
    "}"
   ]
  },
  {
   "cell_type": "code",
   "execution_count": 3,
   "id": "f23f3e9d",
   "metadata": {},
   "outputs": [],
   "source": [
    "# index.html"
   ]
  },
  {
   "cell_type": "raw",
   "id": "55a8002c",
   "metadata": {},
   "source": [
    "<!DOCTYPE html>\n",
    "<html>\n",
    "<head>\n",
    "    <link rel=\"stylesheet\" type=\"text/css\" href=\"style.css\">\n",
    "</head>\n",
    "<body>\n",
    "    <div id=\"container\">\n",
    "      <p>This is a sample document</p>\n",
    "    </div>\n",
    "</body>\n",
    "</html>"
   ]
  },
  {
   "cell_type": "code",
   "execution_count": 4,
   "id": "fd94b6c7",
   "metadata": {},
   "outputs": [],
   "source": [
    "# linear-gradient"
   ]
  },
  {
   "cell_type": "code",
   "execution_count": 5,
   "id": "25df5987",
   "metadata": {},
   "outputs": [],
   "source": [
    "# style.css"
   ]
  },
  {
   "cell_type": "raw",
   "id": "d1239b8c",
   "metadata": {},
   "source": [
    "#container{\n",
    "\theight: 200px;\n",
    "\twidth: 200px;\n",
    "\tborder: 2px solid black;\n",
    "\tmargin: 40px;\n",
    "\tbackground-image: linear-gradient(to top right,red, blue 40%);\n",
    "\n",
    "}"
   ]
  },
  {
   "cell_type": "code",
   "execution_count": 6,
   "id": "7beea561",
   "metadata": {},
   "outputs": [],
   "source": [
    "# index.html"
   ]
  },
  {
   "cell_type": "raw",
   "id": "6af3b10a",
   "metadata": {},
   "source": [
    "<!DOCTYPE html>\n",
    "<html>\n",
    "<head>\n",
    "    <link rel=\"stylesheet\" type=\"text/css\" href=\"style.css\">\n",
    "</head>\n",
    "<body>\n",
    "    <div id=\"container\">\n",
    "      \n",
    "    </div>\n",
    "</body>\n",
    "</html>"
   ]
  },
  {
   "cell_type": "code",
   "execution_count": 7,
   "id": "3ac611c4",
   "metadata": {},
   "outputs": [],
   "source": [
    "# We can specify more than 2 colors.\n",
    "# 0% is the start of first color and 100% is the start of last color (we can specify it in pixels too)\n",
    "# We can specify the direction in degrees too. linear-gradient(120deg,red,blue)"
   ]
  },
  {
   "cell_type": "code",
   "execution_count": 8,
   "id": "ad9068ef",
   "metadata": {},
   "outputs": [],
   "source": [
    "# We can use 'background' too"
   ]
  },
  {
   "cell_type": "raw",
   "id": "7f0982af",
   "metadata": {},
   "source": [
    "#container{\n",
    "\theight: 200px;\n",
    "\twidth: 200px;\n",
    "\tborder: 2px solid black;\n",
    "\tmargin: 40px;\n",
    "\tbackground: repeating-linear-gradient(to top right,red,blue 20px)\n",
    "}"
   ]
  },
  {
   "cell_type": "code",
   "execution_count": 9,
   "id": "c46bebb1",
   "metadata": {},
   "outputs": [],
   "source": [
    "# We have only seen linear-gradient(). There is also radial-gradient()."
   ]
  },
  {
   "cell_type": "code",
   "execution_count": 10,
   "id": "00176826",
   "metadata": {},
   "outputs": [],
   "source": [
    "# Some more Psuedo classes"
   ]
  },
  {
   "cell_type": "code",
   "execution_count": 11,
   "id": "5174f90f",
   "metadata": {},
   "outputs": [],
   "source": [
    "# style.css"
   ]
  },
  {
   "cell_type": "raw",
   "id": "76a7d918",
   "metadata": {},
   "source": [
    "a:active{\n",
    "\tcolor:red;\n",
    "}\n",
    "\n",
    "a:visited{\n",
    "\tcolor: green;\n",
    "}\n",
    "\n",
    "p:active{\n",
    "\tbackground-color: cyan;\n",
    "}"
   ]
  },
  {
   "cell_type": "code",
   "execution_count": 12,
   "id": "9f1a9697",
   "metadata": {},
   "outputs": [],
   "source": [
    "# index.html"
   ]
  },
  {
   "cell_type": "raw",
   "id": "d67b4675",
   "metadata": {},
   "source": [
    "<!DOCTYPE html>\n",
    "<html>\n",
    "<head>\n",
    "    <link rel=\"stylesheet\" type=\"text/css\" href=\"style.css\">\n",
    "</head>\n",
    "<body>\n",
    "    <div>\n",
    "      <p>Click <a href=\"https://www.google.com/\">Google</a> to search</p>\n",
    "    </div>\n",
    "</body>\n",
    "</html>"
   ]
  },
  {
   "cell_type": "code",
   "execution_count": 13,
   "id": "622b32a5",
   "metadata": {},
   "outputs": [],
   "source": [
    "# The :link selector is used to select unvisited links.\n",
    "\n",
    "# There is also 'target' psuedo class"
   ]
  },
  {
   "cell_type": "code",
   "execution_count": null,
   "id": "1d51bdc4",
   "metadata": {},
   "outputs": [],
   "source": [
    "# Light-Box Animation"
   ]
  },
  {
   "cell_type": "code",
   "execution_count": null,
   "id": "dc997e0d",
   "metadata": {},
   "outputs": [],
   "source": [
    "# style.css"
   ]
  },
  {
   "cell_type": "raw",
   "id": "8efeddd0",
   "metadata": {},
   "source": [
    "#lightbox{\n",
    "\theight: 0;\n",
    "\twidth: 0;\n",
    "\tposition: fixed;\n",
    "\ttop: 0;\n",
    "\tleft: 0;\n",
    "\toverflow: hidden;\n",
    "\ttransition: all 2s  ease-in-out;\n",
    "}\n",
    "\n",
    "#lightbox:target{\n",
    "\theight: 30%;\n",
    "\twidth: 30%;\n",
    "\ttop:25%;\n",
    "\tleft: 25%;\n",
    "\tbackground-color: lightgrey;\n",
    "}"
   ]
  },
  {
   "cell_type": "code",
   "execution_count": 18,
   "id": "849891f5",
   "metadata": {},
   "outputs": [],
   "source": [
    "# index.html"
   ]
  },
  {
   "cell_type": "raw",
   "id": "eb219c22",
   "metadata": {},
   "source": [
    "<!DOCTYPE html>\n",
    "<html>\n",
    "<head>\n",
    "    <link rel=\"stylesheet\" type=\"text/css\" href=\"style.css\">\n",
    "</head>\n",
    "<body>\n",
    "    <div>\n",
    "      <a href=\"#lightbox\">LightBox</a>\n",
    "    </div>\n",
    "    <div id=\"lightbox\">\n",
    "      <a href=\"#\">X</a>\n",
    "      <p>Lightbox content</p>\n",
    "    </div>\n",
    "</body>\n",
    "</html>"
   ]
  },
  {
   "cell_type": "code",
   "execution_count": 14,
   "id": "cdd194ab",
   "metadata": {},
   "outputs": [],
   "source": [
    "# We have only looked at pseudo classes above.\n",
    "# We will look at pseudo elements below"
   ]
  },
  {
   "cell_type": "code",
   "execution_count": 15,
   "id": "2bf6c41f",
   "metadata": {},
   "outputs": [],
   "source": [
    "# Styling the first-letter Pseudo element"
   ]
  },
  {
   "cell_type": "code",
   "execution_count": 16,
   "id": "5cbd7df5",
   "metadata": {},
   "outputs": [],
   "source": [
    "# style.css"
   ]
  },
  {
   "cell_type": "raw",
   "id": "6aada0b1",
   "metadata": {},
   "source": [
    "#p1::first-letter{\n",
    "\tfont-size: 1.5rem;\n",
    "\tfont-weight: bold;\n",
    "\ttext-transform: capitalize;\n",
    "}"
   ]
  },
  {
   "cell_type": "code",
   "execution_count": 17,
   "id": "e4e1e9ad",
   "metadata": {},
   "outputs": [],
   "source": [
    "# index.html"
   ]
  },
  {
   "cell_type": "raw",
   "id": "ef66f59e",
   "metadata": {},
   "source": [
    "<!DOCTYPE html>\n",
    "<html>\n",
    "<head>\n",
    "    <link rel=\"stylesheet\" type=\"text/css\" href=\"style.css\">\n",
    "</head>\n",
    "<body>\n",
    "    <p id=\"p1\">this is a paragraph</p>\n",
    "    <p>this is a paragraph</p>\n",
    "</body>\n",
    "</html>"
   ]
  },
  {
   "cell_type": "code",
   "execution_count": 19,
   "id": "5785a97c",
   "metadata": {},
   "outputs": [],
   "source": [
    "# There is also first-line psuedo element"
   ]
  },
  {
   "cell_type": "code",
   "execution_count": 20,
   "id": "2be41742",
   "metadata": {},
   "outputs": [],
   "source": [
    "# 'Before' and 'After' psuedo elements"
   ]
  },
  {
   "cell_type": "code",
   "execution_count": 21,
   "id": "05959d17",
   "metadata": {},
   "outputs": [],
   "source": [
    "# style.css"
   ]
  },
  {
   "cell_type": "raw",
   "id": "11fcd9d6",
   "metadata": {},
   "source": [
    "#p2::before{\n",
    "\tcontent: 'this comes before ';\n",
    "\tfont-size: 1.5rem;\n",
    "\tfont-weight: bold;\n",
    "\ttext-transform: capitalize;\n",
    "}"
   ]
  },
  {
   "cell_type": "code",
   "execution_count": 22,
   "id": "46774c05",
   "metadata": {},
   "outputs": [],
   "source": [
    "# index.html"
   ]
  },
  {
   "cell_type": "raw",
   "id": "a2752aff",
   "metadata": {},
   "source": [
    "<!DOCTYPE html>\n",
    "<html>\n",
    "<head>\n",
    "    <link rel=\"stylesheet\" type=\"text/css\" href=\"style.css\">\n",
    "</head>\n",
    "<body>\n",
    "    <p id=\"p2\">this is a paragraph</p>\n",
    "</body>\n",
    "</html>"
   ]
  },
  {
   "cell_type": "code",
   "execution_count": null,
   "id": "b33f9831",
   "metadata": {},
   "outputs": [],
   "source": [
    "# Use cases of 'Before' and 'After'"
   ]
  },
  {
   "cell_type": "code",
   "execution_count": 1,
   "id": "cc2ff4dd",
   "metadata": {},
   "outputs": [],
   "source": [
    "# style.css"
   ]
  },
  {
   "cell_type": "raw",
   "id": "c3efe9bd",
   "metadata": {},
   "source": [
    "#p2::after{\n",
    "\tcontent: \"\";\n",
    "\tfont-size: 1.5rem;\n",
    "\tfont-weight: bold;\n",
    "\ttext-transform: capitalize;\n",
    "\tdisplay: inline-block;\n",
    "\tbackground-image: url(scenery.jpg);\n",
    "\theight: 40px;\n",
    "\twidth: 40px;\n",
    "\tbackground-size: contain;\n",
    "\n",
    "}"
   ]
  },
  {
   "cell_type": "code",
   "execution_count": 2,
   "id": "5980ee0c",
   "metadata": {},
   "outputs": [],
   "source": [
    "# index.html"
   ]
  },
  {
   "cell_type": "raw",
   "id": "e36fe353",
   "metadata": {},
   "source": [
    "<!DOCTYPE html>\n",
    "<html>\n",
    "<head>\n",
    "    <link rel=\"stylesheet\" type=\"text/css\" href=\"style.css\">\n",
    "</head>\n",
    "<body>\n",
    "    <p id=\"p2\">this is a paragraph</p>\n",
    "</body>\n",
    "</html>"
   ]
  }
 ],
 "metadata": {
  "kernelspec": {
   "display_name": "Python 3 (ipykernel)",
   "language": "python",
   "name": "python3"
  },
  "language_info": {
   "codemirror_mode": {
    "name": "ipython",
    "version": 3
   },
   "file_extension": ".py",
   "mimetype": "text/x-python",
   "name": "python",
   "nbconvert_exporter": "python",
   "pygments_lexer": "ipython3",
   "version": "3.9.12"
  }
 },
 "nbformat": 4,
 "nbformat_minor": 5
}
