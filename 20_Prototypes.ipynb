{
 "cells": [
  {
   "cell_type": "code",
   "execution_count": 1,
   "id": "bbdd2686",
   "metadata": {},
   "outputs": [],
   "source": [
    "# 'this' keyword"
   ]
  },
  {
   "cell_type": "code",
   "execution_count": null,
   "id": "807c86fe",
   "metadata": {},
   "outputs": [],
   "source": [
    "# When we want to find out the value of 'this' inside a function, we look at how the function is being called"
   ]
  },
  {
   "cell_type": "code",
   "execution_count": null,
   "id": "1b447fa7",
   "metadata": {},
   "outputs": [],
   "source": [
    "# First rule"
   ]
  },
  {
   "cell_type": "raw",
   "id": "6bf9d520",
   "metadata": {},
   "source": [
    "function Vehicle(){\n",
    "  console.log(this);\n",
    "}\n",
    "\n",
    "new Vehicle();"
   ]
  },
  {
   "cell_type": "code",
   "execution_count": 2,
   "id": "47d88a84",
   "metadata": {},
   "outputs": [],
   "source": [
    "# output in above case\n",
    "\n",
    "# Vehicle {}"
   ]
  },
  {
   "cell_type": "code",
   "execution_count": 3,
   "id": "4dadf234",
   "metadata": {},
   "outputs": [],
   "source": [
    "# When we call the 'new' keyword along with a function, the following things happen\n",
    "\n",
    "# 1) The 'new' keyword creates a new object {}.\n",
    "# 2) The 'new' keyword then links the brand new object with prototype of constructor function (Vehicle.prototype) \n",
    "# 3) The 'new' keyword then calls the function and passes the brand new object as the argument (Vehicle.call({})) and\n",
    "# the value of 'this' is set to the new empty object.\n",
    "# 4) If the Vehicle function is not returning anything, the 'new' keyword returns the brand new object"
   ]
  },
  {
   "cell_type": "raw",
   "id": "3455ffd7",
   "metadata": {},
   "source": [
    "function Vehicle(name){\n",
    "  this.name = name\n",
    "  console.log(this);\n",
    "}\n",
    "\n",
    "new Vehicle('car');"
   ]
  },
  {
   "cell_type": "code",
   "execution_count": 4,
   "id": "71aa6719",
   "metadata": {},
   "outputs": [],
   "source": [
    "# output in above case\n",
    "\n",
    "# Vehicle {name: 'car'}"
   ]
  },
  {
   "cell_type": "code",
   "execution_count": 6,
   "id": "8047722d",
   "metadata": {},
   "outputs": [],
   "source": [
    "# In the above case, the following things happen\n",
    "\n",
    "# 1) The 'new' keyword creates a new object {}.\n",
    "# 2) The 'new' keyword then links the brand new object with prototype of constructor function (Vehicle.prototype) \n",
    "# 3) The 'new' keyword then calls the function and passes the brand new object as the argument (Vehicle.call({})) and\n",
    "# the value of 'this' is set to the new empty object.\n",
    "# 4) 'this'.name is set to name\n",
    "# 5) If the Vehicle function is not returning anything, the 'new' keyword returns the brand new object which is Vehicle {name: 'car'}"
   ]
  },
  {
   "cell_type": "code",
   "execution_count": 7,
   "id": "b68164b8",
   "metadata": {},
   "outputs": [],
   "source": [
    "# The ‘new’ keyword is primarily used for creating a new instance of an object from a function (called a constructor function)."
   ]
  },
  {
   "cell_type": "raw",
   "id": "4577c782",
   "metadata": {},
   "source": [
    "function ask(){\n",
    "  console.log(this, this.name);\n",
    "}\n",
    "\n",
    "ask();"
   ]
  },
  {
   "cell_type": "code",
   "execution_count": 8,
   "id": "8c154427",
   "metadata": {},
   "outputs": [],
   "source": [
    "# For some reason, nothing is printed in scratchJS\n",
    "\n",
    "# Output in above case must be the window object because we are calling the ask() function in the global context.\n",
    "# this.name is empty because the window object has an empty string as 'name' property"
   ]
  },
  {
   "cell_type": "code",
   "execution_count": null,
   "id": "89debdeb",
   "metadata": {},
   "outputs": [],
   "source": [
    "# Second rule (Explicit binding)"
   ]
  },
  {
   "cell_type": "code",
   "execution_count": 9,
   "id": "872106a0",
   "metadata": {},
   "outputs": [],
   "source": [
    "# How to modify the value of 'this' inside 'ask' function while calling the 'ask' function"
   ]
  },
  {
   "cell_type": "raw",
   "id": "b541b714",
   "metadata": {},
   "source": [
    "const john = {\n",
    "  name: \"John\"\n",
    "};\n",
    "\n",
    "function ask(){\n",
    "  console.log(this, this.name);\n",
    "}\n",
    "\n",
    "ask.call(john);"
   ]
  },
  {
   "cell_type": "code",
   "execution_count": 10,
   "id": "5c20ed62",
   "metadata": {},
   "outputs": [],
   "source": [
    "# output in above case\n",
    "\n",
    "# {name: 'John'} 'John'"
   ]
  },
  {
   "cell_type": "raw",
   "id": "92417d82",
   "metadata": {},
   "source": [
    "const john = {\n",
    "  name: \"John\"\n",
    "};\n",
    "\n",
    "function ask(){\n",
    "  console.log(this, this.name);\n",
    "}\n",
    "\n",
    "ask.apply(john);"
   ]
  },
  {
   "cell_type": "code",
   "execution_count": 11,
   "id": "a3228ce5",
   "metadata": {},
   "outputs": [],
   "source": [
    "# output in above case\n",
    "\n",
    "# {name: 'John'} 'John'"
   ]
  },
  {
   "cell_type": "code",
   "execution_count": 12,
   "id": "6f9274a3",
   "metadata": {},
   "outputs": [],
   "source": [
    "# Second sub rule (Hard binding rule)"
   ]
  },
  {
   "cell_type": "raw",
   "id": "98413013",
   "metadata": {},
   "source": [
    "var raj = {\n",
    "  name: 'Raj',\n",
    "  greet: function(){\n",
    "    console.log(\"hello\", this)\n",
    "  }\n",
    "}\n",
    "\n",
    "raj.greet();"
   ]
  },
  {
   "cell_type": "code",
   "execution_count": 13,
   "id": "0af2bcbf",
   "metadata": {},
   "outputs": [],
   "source": [
    "# output in above case\n",
    "\n",
    "# hello {name: 'Raj', greet: ƒ}"
   ]
  },
  {
   "cell_type": "raw",
   "id": "3fe8513e",
   "metadata": {},
   "source": [
    "var raj = {\n",
    "  name: 'Raj',\n",
    "  greet: function(){\n",
    "    console.log(\"hello\", this)\n",
    "  }\n",
    "}\n",
    "\n",
    "var localGreet = raj.greet;\n",
    "localGreet();"
   ]
  },
  {
   "cell_type": "code",
   "execution_count": 14,
   "id": "332eae8e",
   "metadata": {},
   "outputs": [],
   "source": [
    "# wrong output in the case of ScratchJS\n",
    "\n",
    "# output in above case is as per first rule\n",
    "\n",
    "# hello window object"
   ]
  },
  {
   "cell_type": "code",
   "execution_count": 15,
   "id": "2cf5c562",
   "metadata": {},
   "outputs": [],
   "source": [
    "# This is because raj.greet function is stored in localGreet and localGreet behaves like in global context and first rule applies here\n",
    "# and we get the above output"
   ]
  },
  {
   "cell_type": "code",
   "execution_count": 16,
   "id": "ff434523",
   "metadata": {},
   "outputs": [],
   "source": [
    "# Using hard binding rule"
   ]
  },
  {
   "cell_type": "raw",
   "id": "250f3f82",
   "metadata": {},
   "source": [
    "var raj = {\n",
    "  name: 'Raj',\n",
    "  greet: function(){\n",
    "    console.log(\"hello\", this)\n",
    "  }\n",
    "}\n",
    "\n",
    "var localAsk = raj.greet.bind(raj);\n",
    "localAsk();"
   ]
  },
  {
   "cell_type": "code",
   "execution_count": 17,
   "id": "8c84e869",
   "metadata": {},
   "outputs": [],
   "source": [
    "# output in above case\n",
    "\n",
    "# hello {name: 'Raj', greet: ƒ}"
   ]
  },
  {
   "cell_type": "code",
   "execution_count": null,
   "id": "ee36e9b0",
   "metadata": {},
   "outputs": [],
   "source": [
    "# The bind method makes sure that the function it is returning is a property of the raj object."
   ]
  },
  {
   "cell_type": "raw",
   "id": "f87d7667",
   "metadata": {},
   "source": [
    "var raj = {\n",
    "  name: 'Raj',\n",
    "  greet: function(){\n",
    "    console.log(\"hello\", this)\n",
    "  }\n",
    "}\n",
    "\n",
    "setTimeout(raj.greet, 1000);"
   ]
  },
  {
   "cell_type": "code",
   "execution_count": 18,
   "id": "021116f3",
   "metadata": {},
   "outputs": [],
   "source": [
    "# output in above case\n",
    "\n",
    "# hello window object"
   ]
  },
  {
   "cell_type": "code",
   "execution_count": 19,
   "id": "fe7afe30",
   "metadata": {},
   "outputs": [],
   "source": [
    "# We get such a output in the above case because when we use setTimeout and pass raj.greet, then raj.greet behaves as in \n",
    "# global context and value of 'this' is window object"
   ]
  },
  {
   "cell_type": "raw",
   "id": "1fe61660",
   "metadata": {},
   "source": [
    "var raj = {\n",
    "  name: 'Raj',\n",
    "  greet: function(){\n",
    "    console.log(\"hello\", this)\n",
    "  }\n",
    "}\n",
    "\n",
    "setTimeout(raj.greet.bind(raj), 1000);"
   ]
  },
  {
   "cell_type": "code",
   "execution_count": 20,
   "id": "48b2a3d3",
   "metadata": {},
   "outputs": [],
   "source": [
    "# output in above case\n",
    "\n",
    "# hello {name: 'Raj', greet: ƒ}"
   ]
  },
  {
   "cell_type": "raw",
   "id": "72e53722",
   "metadata": {},
   "source": [
    "var joe = {\n",
    "    name: \"Joe\",\n",
    "    hello: function (){\n",
    "       console.log(\"hi, I am \" + this.name) ;\n",
    "    }\n",
    "}\n",
    "\n",
    "var globalHello1 = joe.hello.bind(joe) ;\n",
    "var globalHello2 = joe.hello ;\n",
    "globalHello1();\n",
    "globalHello2.bind(joe)();"
   ]
  },
  {
   "cell_type": "code",
   "execution_count": null,
   "id": "e1307d6d",
   "metadata": {},
   "outputs": [],
   "source": [
    "# output in above case\n",
    "\n",
    "# ‘hi, I am Joe’ \n",
    "# ‘hi, I am Joe’"
   ]
  },
  {
   "cell_type": "code",
   "execution_count": null,
   "id": "afa38f78",
   "metadata": {},
   "outputs": [],
   "source": [
    "# Third rule - Implicit Binding"
   ]
  },
  {
   "cell_type": "raw",
   "id": "33957dbc",
   "metadata": {},
   "source": [
    "var raj = {\n",
    "  name: 'Raj',\n",
    "  greet: function(){\n",
    "    console.log(\"hello\", this)\n",
    "  }\n",
    "}\n",
    "\n",
    "raj.greet();"
   ]
  },
  {
   "cell_type": "code",
   "execution_count": null,
   "id": "36f3c3a8",
   "metadata": {},
   "outputs": [],
   "source": [
    "# output in above case\n",
    "\n",
    "# hello {name: 'Raj', greet: ƒ}\n",
    "\n",
    "# In the above case, we are calling raj.greet() in the local context"
   ]
  },
  {
   "cell_type": "raw",
   "id": "88c2a237",
   "metadata": {},
   "source": [
    "var raj = {\n",
    "  name: 'Raj',\n",
    "  greet: function(){\n",
    "    console.log(\"hello\", this)\n",
    "  }\n",
    "}\n",
    "\n",
    "var localGreetFunc = raj.greet;\n",
    "localGreetFunc();"
   ]
  },
  {
   "cell_type": "code",
   "execution_count": 1,
   "id": "7bd426a5",
   "metadata": {},
   "outputs": [],
   "source": [
    "# output in above case\n",
    "\n",
    "# hello window object\n",
    "\n",
    "# In the above case, we are calling the raj.greet() in the global context. So fourth rule will apply here"
   ]
  },
  {
   "cell_type": "code",
   "execution_count": null,
   "id": "a68d3d87",
   "metadata": {},
   "outputs": [],
   "source": [
    "# Fourth rule - Default Binding"
   ]
  },
  {
   "cell_type": "raw",
   "id": "83fed518",
   "metadata": {},
   "source": [
    "function greet(){\n",
    "  console.log(this, this.name)\n",
    "}\n",
    "\n",
    "greet();"
   ]
  },
  {
   "cell_type": "code",
   "execution_count": 2,
   "id": "c6661795",
   "metadata": {},
   "outputs": [],
   "source": [
    "# output in above case\n",
    "\n",
    "# window object"
   ]
  },
  {
   "cell_type": "raw",
   "id": "1ce4a9f2",
   "metadata": {},
   "source": [
    "const billy = {\n",
    "  name: \"Billy Jol\", \n",
    "  outer: function() {\n",
    "       function inner(){\n",
    "       console.log(this);\n",
    "     }     \n",
    "     inner();\n",
    "  }\n",
    "}\n",
    "billy.outer();"
   ]
  },
  {
   "cell_type": "code",
   "execution_count": 3,
   "id": "5f7cba16",
   "metadata": {},
   "outputs": [],
   "source": [
    "# output in above case\n",
    "\n",
    "# window object\n",
    "\n",
    "# Here the outer() function is implicitly binded to the billy object. \n",
    "# But the inner() has a default binding of ‘this’ as its value depends only on how inner() is called."
   ]
  },
  {
   "cell_type": "code",
   "execution_count": 4,
   "id": "2979a103",
   "metadata": {},
   "outputs": [],
   "source": [
    "# Putting all 4 rules together"
   ]
  },
  {
   "cell_type": "raw",
   "id": "89e11644",
   "metadata": {},
   "source": [
    "var person = {\n",
    "  name: \"John\",\n",
    "  ask: function(){\n",
    "    console.log(this);\n",
    "  }\n",
    "}\n",
    "\n",
    "new (person.ask.bind(person));"
   ]
  },
  {
   "cell_type": "code",
   "execution_count": null,
   "id": "8be2e7a1",
   "metadata": {},
   "outputs": [],
   "source": [
    "# output in above case\n",
    "\n",
    "# ask {}"
   ]
  },
  {
   "cell_type": "code",
   "execution_count": 5,
   "id": "637e0582",
   "metadata": {},
   "outputs": [],
   "source": [
    "# person.ask.bind will give a new Function and we are explicitly (hard binding) binding the 'person' to the new function.\n",
    "# Then we are calling the new which returns the 'ask {}'"
   ]
  },
  {
   "cell_type": "code",
   "execution_count": 6,
   "id": "1561d513",
   "metadata": {},
   "outputs": [],
   "source": [
    "# Function to create student objects"
   ]
  },
  {
   "cell_type": "raw",
   "id": "6264ec35",
   "metadata": {},
   "source": [
    "function createStudent(name, rollNo, marks){\n",
    "  var student = {};\n",
    "  student.name = name;\n",
    "  student.rollNo = rollNo;\n",
    "  student.marks = marks;\n",
    "  return student\n",
    "}\n",
    "\n",
    "var student1 = createStudent('John', 12, 80);\n",
    "var student2 = createStudent('Raj', 5, 75);"
   ]
  },
  {
   "cell_type": "code",
   "execution_count": 7,
   "id": "34623003",
   "metadata": {},
   "outputs": [],
   "source": [
    "# The above function is like a constructor\n",
    "\n",
    "# The constructor is called to initialize the values of the object"
   ]
  },
  {
   "cell_type": "raw",
   "id": "51f2f14c",
   "metadata": {},
   "source": [
    "function createStudent(name, rollNo, marks){\n",
    "  \n",
    "  this.name = name;\n",
    "  this.rollNo = rollNo;\n",
    "  this.marks = marks;\n",
    "}\n",
    "\n",
    "var student1 = new createStudent('John', 12, 80);\n",
    "\n",
    "console.log(student1.name)"
   ]
  },
  {
   "cell_type": "code",
   "execution_count": null,
   "id": "beb9196e",
   "metadata": {},
   "outputs": [],
   "source": [
    "# In the above case, the 'new' keyword returns the object with passed in properties\n",
    "\n",
    "# This is not the same as a typical constructor in other object oriented programming languages where we define constructors\n",
    "# within a class."
   ]
  },
  {
   "cell_type": "raw",
   "id": "7b7ccf34",
   "metadata": {},
   "source": [
    "function createStudent(name, rollNo, marks){\n",
    "  \n",
    "  this.name = name;\n",
    "  this.rollNo = rollNo;\n",
    "  this.marks = marks;\n",
    "  console.log(this);\n",
    "}\n",
    "\n",
    "var student1 = createStudent('John', 12, 80);\n",
    "\n",
    "console.log(student1.name)"
   ]
  },
  {
   "cell_type": "code",
   "execution_count": null,
   "id": "15447c3d",
   "metadata": {},
   "outputs": [],
   "source": [
    "# output in above case\n",
    "\n",
    "# window object\n",
    "# undefined"
   ]
  },
  {
   "cell_type": "raw",
   "id": "a765b76f",
   "metadata": {},
   "source": [
    "\"use strict\";\n",
    "function createStudent(name, rollNo, marks){\n",
    "  console.log(this);\n",
    "  this.name = name;\n",
    "  this.rollNo = rollNo;\n",
    "  this.marks = marks;\n",
    "}\n",
    "\n",
    "var student1 = createStudent('John', 12, 80);\n",
    "\n",
    "console.log(student1.name)"
   ]
  },
  {
   "cell_type": "code",
   "execution_count": 9,
   "id": "38a228ca",
   "metadata": {},
   "outputs": [],
   "source": [
    "# output in above case\n",
    "\n",
    "# undefined\n",
    "# undefined"
   ]
  },
  {
   "cell_type": "code",
   "execution_count": null,
   "id": "a27c6243",
   "metadata": {},
   "outputs": [],
   "source": [
    "# When we use a function as a constructor, we don't use camelcase naming. Every letter is in capital"
   ]
  },
  {
   "cell_type": "raw",
   "id": "9e56b1e2",
   "metadata": {},
   "source": [
    "var obj = {};\n",
    "function A() { return obj; }\n",
    "function B() { return obj; }\n",
    "console.log( new A() == new B() );"
   ]
  },
  {
   "cell_type": "code",
   "execution_count": null,
   "id": "1ebdaa8c",
   "metadata": {},
   "outputs": [],
   "source": [
    "# output in above case\n",
    "\n",
    "# true\n",
    "\n",
    "# If the function is not returning anything, then the 'new' keyword returns the brand new object.\n",
    "# If the function is returning something, then that something is returned."
   ]
  },
  {
   "cell_type": "code",
   "execution_count": 10,
   "id": "1efe40c7",
   "metadata": {},
   "outputs": [],
   "source": [
    "# Adding behaviour to objects"
   ]
  },
  {
   "cell_type": "raw",
   "id": "c3005a2e",
   "metadata": {},
   "source": [
    "function Vehicle(numWheels, price){\n",
    "  this.numWheels = numWheels;\n",
    "  this.price = price;\n",
    "  this.getPrice = function(){\n",
    "    return this.price\n",
    "  }\n",
    "}\n",
    "\n",
    "var vehicle1 = new Vehicle(2, 50000);\n",
    "console.log(vehicle1.getPrice());"
   ]
  },
  {
   "cell_type": "code",
   "execution_count": null,
   "id": "bfe48fab",
   "metadata": {},
   "outputs": [],
   "source": [
    "# output in above case\n",
    "\n",
    "# 50000"
   ]
  },
  {
   "cell_type": "raw",
   "id": "418d9b1f",
   "metadata": {},
   "source": [
    "function Vehicle(numWheels, price){\n",
    "  this.numWheels = numWheels;\n",
    "  this.price = price;\n",
    "  this.getPrice = function(){\n",
    "    return this.price\n",
    "  }\n",
    "}\n",
    "\n",
    "var vehicle1 = new Vehicle(2, 50000);\n",
    "var vehicle2 = new Vehicle(4, 500000);\n",
    "\n",
    "console.log(vehicle1);\n",
    "console.log(vehicle2);"
   ]
  },
  {
   "cell_type": "code",
   "execution_count": null,
   "id": "9859c243",
   "metadata": {},
   "outputs": [],
   "source": [
    "# output in above case\n",
    "\n",
    "# Vehicle {numWheels: 2, price: 50000, getPrice: ƒ}\n",
    "# getPrice: ƒ ()\n",
    "# numWheels: 2\n",
    "# price: 50000\n",
    "# [[Prototype]]: Object\n",
    "\n",
    "\n",
    "# Vehicle {numWheels: 4, price: 500000, getPrice: ƒ}\n",
    "# getPrice: ƒ ()\n",
    "# numWheels: 2\n",
    "# price: 50000\n",
    "# [[Prototype]]: Object\n",
    "\n",
    "# In above case, both objects vehicle1 and vehicle2 have the same behaviour (functions). This is unnecessary and a memory wastage.\n",
    "# We are creating getPrice() function everytime in every object"
   ]
  },
  {
   "cell_type": "code",
   "execution_count": null,
   "id": "38a83702",
   "metadata": {},
   "outputs": [],
   "source": [
    "# Suppose you have a constructor function with name and getThis() properties. The getThis() function simply console logs the \n",
    "# value of this. Now you create two objects, obj1 and obj2, using the constructor function by passing the same name as arguments. \n",
    "# What will the following line of code print?\n",
    "# console.log(obj1.getThis === obj2.getThis);\n",
    "\n",
    "# Both sides refer to two different copies of the same function; hence it is false."
   ]
  },
  {
   "cell_type": "code",
   "execution_count": 11,
   "id": "4cfe77c8",
   "metadata": {},
   "outputs": [],
   "source": [
    "# Prototype"
   ]
  },
  {
   "cell_type": "code",
   "execution_count": null,
   "id": "330e7cdb",
   "metadata": {},
   "outputs": [],
   "source": [
    "# For every function we create, Javascript engine will create 2 objects. One is the function itself and the other is the \n",
    "# prototype of the function\n",
    "\n",
    "# Javascript creates a function prototype for any function that you create. Although the prototype created becomes \n",
    "# useful when we use the function as a constructor, it is created for all the functions. "
   ]
  },
  {
   "cell_type": "raw",
   "id": "ecc072da",
   "metadata": {},
   "source": [
    "function Vehicle(numWheels, price){\n",
    "  this.numWheels = numWheels;\n",
    "  this.price = price;\n",
    "  this.getPrice = function(){\n",
    "    return this.price\n",
    "  }\n",
    "}\n",
    "\n",
    "var vehicle1 = new Vehicle(2, 50000);\n",
    "\n",
    "console.log(Vehicle.prototype);"
   ]
  },
  {
   "cell_type": "code",
   "execution_count": null,
   "id": "a3d07269",
   "metadata": {},
   "outputs": [],
   "source": [
    "# output in above case\n",
    "\n",
    "# There is a difference between scratchJS and coding ninjas\n",
    "\n",
    "# {constructor: ƒ}\n",
    "\n",
    "# We go from the function (constructor) to prototype"
   ]
  },
  {
   "cell_type": "raw",
   "id": "e79f2bca",
   "metadata": {},
   "source": [
    "function Vehicle(numWheels, price){\n",
    "  this.numWheels = numWheels;\n",
    "  this.price = price;\n",
    "  this.getPrice = function(){\n",
    "    return this.price\n",
    "  }\n",
    "}\n",
    "\n",
    "var vehicle1 = new Vehicle(2, 50000);\n",
    "\n",
    "console.log(Vehicle.prototype.constructor);"
   ]
  },
  {
   "cell_type": "code",
   "execution_count": 1,
   "id": "bcd0b28c",
   "metadata": {},
   "outputs": [],
   "source": [
    "# output in above case\n",
    "\n",
    "# ƒ Vehicle(numWheels, price) {\n",
    "#  this.numWheels = numWheels;\n",
    "#  this.price = price;\n",
    "#  this.getPrice = function () {\n",
    "#    return this.price;\n",
    "#  };\n",
    "# }\n",
    "\n",
    "# We go from the prototype to function (constructor)"
   ]
  },
  {
   "cell_type": "code",
   "execution_count": 2,
   "id": "ebafb062",
   "metadata": {},
   "outputs": [],
   "source": [
    "# Whenever a function is created, a SINGLE copy of the associated function prototype is created too. \n",
    "# All the objects created using this constructor function share the same function prototype. \n",
    "# A new prototype is NOT created for every instance of the object."
   ]
  },
  {
   "cell_type": "raw",
   "id": "f6ab8617",
   "metadata": {},
   "source": [
    "function Vehicle(numWheels, price){\n",
    "  this.numWheels = numWheels;\n",
    "  this.price = price;\n",
    "  this.getPrice = function(){\n",
    "    return this.price\n",
    "  }\n",
    "}\n",
    "\n",
    "var v1 = new Vehicle(2, 50000);\n",
    "var v2 = new Vehicle(4, 500000);"
   ]
  },
  {
   "cell_type": "code",
   "execution_count": 3,
   "id": "491060ec",
   "metadata": {},
   "outputs": [],
   "source": [
    "# v1 and v2 are objects created by function in constructor mode\n",
    "# Both v1 and v2 will have references to the prototype"
   ]
  },
  {
   "cell_type": "code",
   "execution_count": null,
   "id": "2dbc5fdf",
   "metadata": {},
   "outputs": [],
   "source": [
    "# The problem with creating objects in constructor mode is that each of the object will have copies of the behaviour (getPrice function)\n",
    "# This will lead to memory wastage"
   ]
  },
  {
   "cell_type": "raw",
   "id": "6ff53eda",
   "metadata": {},
   "source": [
    "function Vehicle(numWheels, price){\n",
    "  this.numWheels = numWheels;\n",
    "  this.price = price;\n",
    "  this.getPrice = function(){\n",
    "    return this.price\n",
    "  }\n",
    "}\n",
    "\n",
    "var v1 = new Vehicle(2, 50000);\n",
    "\n",
    "console.log(v1);"
   ]
  },
  {
   "cell_type": "code",
   "execution_count": null,
   "id": "6df70e08",
   "metadata": {},
   "outputs": [],
   "source": [
    "# output in above case\n",
    "\n",
    "# Vehicle {numWheels: 2, price: 50000, getPrice: ƒ}\n",
    "# getPrice: ƒ ()\n",
    "# numWheels: 2\n",
    "# price: 50000\n",
    "# [[Prototype]]: Object\n"
   ]
  },
  {
   "cell_type": "raw",
   "id": "6872bf63",
   "metadata": {},
   "source": [
    "function Vehicle(numWheels, price){\n",
    "  this.numWheels = numWheels;\n",
    "  this.price = price;\n",
    "}\n",
    "\n",
    "\n",
    "Vehicle.prototype.getPrice = function(){\n",
    "    return this.price\n",
    "  }\n",
    "\n",
    "var v1 = new Vehicle(2, 50000);\n",
    "\n",
    "console.log(v1)\n",
    "console.log(v1.getPrice())"
   ]
  },
  {
   "cell_type": "code",
   "execution_count": 4,
   "id": "a06d3546",
   "metadata": {},
   "outputs": [],
   "source": [
    "# output in above case\n",
    "\n",
    "# Vehicle {numWheels: 2, price: 50000}\n",
    "# numWheels: 2\n",
    "# price: 50000\n",
    "# [[Prototype]]: Object\n",
    "\n",
    "# 50000\n",
    "\n",
    "# In above case, getPrice() is no more there in v1 but we can still v1.getPrice()"
   ]
  },
  {
   "cell_type": "raw",
   "id": "306b8695",
   "metadata": {},
   "source": [
    "function Vehicle(numWheels, price){\n",
    "  this.numWheels = numWheels;\n",
    "  this.price = price;\n",
    "}\n",
    "\n",
    "\n",
    "Vehicle.prototype.getPrice = function(){\n",
    "    return this.price\n",
    "  }\n",
    "\n",
    "var v1 = new Vehicle(2, 50000);\n",
    "\n",
    "console.log(Vehicle.prototype);"
   ]
  },
  {
   "cell_type": "code",
   "execution_count": 5,
   "id": "0584f157",
   "metadata": {},
   "outputs": [],
   "source": [
    "# output in above case\n",
    "\n",
    "# {getPrice: ƒ, constructor: ƒ}\n",
    "\n",
    "# getPrice function is present in the prototype"
   ]
  },
  {
   "cell_type": "code",
   "execution_count": null,
   "id": "103278de",
   "metadata": {},
   "outputs": [],
   "source": [
    "# Benefits of Prototype\n",
    "\n",
    "# 1) Prototype are used to share the behaviours among different objects that are being created.\n",
    "# 2) We can add properties to objects in run time\n",
    "\n",
    "# Objects inherit the properties from the prototypes"
   ]
  },
  {
   "cell_type": "code",
   "execution_count": 6,
   "id": "55882a51",
   "metadata": {},
   "outputs": [],
   "source": [
    "# One of the benefit of Prototype is that we can add properties to objects in run time\n",
    "\n",
    "# This is demonstrated in the below case"
   ]
  },
  {
   "cell_type": "raw",
   "id": "240ae251",
   "metadata": {},
   "source": [
    "function Vehicle(numWheels, price){\n",
    "  this.numWheels = numWheels;\n",
    "  this.price = price;\n",
    "}\n",
    "\n",
    "\n",
    "var v1 = new Vehicle(2, 50000);\n",
    "var v2 = new Vehicle(2, 50000);\n",
    "v1.color = 'black';\n",
    "console.log(v2.color);"
   ]
  },
  {
   "cell_type": "code",
   "execution_count": null,
   "id": "a0a063f5",
   "metadata": {},
   "outputs": [],
   "source": [
    "# output in above case\n",
    "\n",
    "# undefined"
   ]
  },
  {
   "cell_type": "raw",
   "id": "76fa0a54",
   "metadata": {},
   "source": [
    "function Vehicle(numWheels, price){\n",
    "  this.numWheels = numWheels;\n",
    "  this.price = price;\n",
    "}\n",
    "\n",
    "\n",
    "var v1 = new Vehicle(2, 50000);\n",
    "var v2 = new Vehicle(2, 50000);\n",
    "\n",
    "Vehicle.prototype.color = 'black';\n",
    "\n",
    "console.log(v1.color);\n",
    "console.log(v2.color);"
   ]
  },
  {
   "cell_type": "code",
   "execution_count": 8,
   "id": "158769bd",
   "metadata": {},
   "outputs": [],
   "source": [
    "# output in above case\n",
    "\n",
    "# black\n",
    "# black\n",
    "\n",
    "# How does the above code work?\n",
    "\n",
    "# First it will look for 'color' property in v1. If it is not present, it will go up and look for 'color' property in the\n",
    "# prototype of Vehicle.\n",
    "\n",
    "# Also there will be only one copy of the property and not individual copies"
   ]
  },
  {
   "cell_type": "code",
   "execution_count": null,
   "id": "2805ca95",
   "metadata": {},
   "outputs": [],
   "source": [
    "# We can't add properties and behaviours to objects in runtime in other object oriented programming languages like C++.\n",
    "# But in Javascript, we can"
   ]
  },
  {
   "cell_type": "raw",
   "id": "fa747c15",
   "metadata": {},
   "source": [
    "function Person(name) {\n",
    "  this.name = name;\n",
    "}\n",
    "var p1 = new Person(\"Joy\");\n",
    "var p2 = new Person(\"Julie\");\n",
    "\n",
    "Person.prototype.getName = function() { return this.name };\n",
    "\n",
    "p1.getName = function() {return ‘John’};\n",
    "console.log(p1.getName() + \" is friend with \" + p2.getName());\n",
    "p2.getName = function() {return ‘Jonson’};"
   ]
  },
  {
   "cell_type": "code",
   "execution_count": null,
   "id": "e8beac48",
   "metadata": {},
   "outputs": [],
   "source": [
    "# output in above case\n",
    "\n",
    "# John is friend with Julie\n",
    "\n",
    "# First it searchs for getName() function in the object. If not then it searches in the prototype"
   ]
  },
  {
   "cell_type": "raw",
   "id": "7d9524a5",
   "metadata": {},
   "source": [
    "function Vehicle(numWheels, price){\n",
    "  this.numWheels = numWheels;\n",
    "  this.price = price;\n",
    "}\n",
    "\n",
    "var v1 = new Vehicle(2, 50000);\n",
    "\n",
    "console.log(v1);\n",
    "console.log(v1.__proto__);"
   ]
  },
  {
   "cell_type": "code",
   "execution_count": 9,
   "id": "95350c7e",
   "metadata": {},
   "outputs": [],
   "source": [
    "# output in above case\n",
    "\n",
    "# Vehicle {numWheels: 2, price: 50000}\n",
    "# numWheels: 2\n",
    "# price: 50000\n",
    "# [[Prototype]]: Object\n",
    "\n",
    "# {constructor: ƒ}\n",
    "\n",
    "# The prototype property is going to take us to the prototype of the object"
   ]
  },
  {
   "cell_type": "raw",
   "id": "ba5f289d",
   "metadata": {},
   "source": [
    "console.log(v1.__proto__ === Vehicle.prototype) "
   ]
  },
  {
   "cell_type": "code",
   "execution_count": 10,
   "id": "ade976b3",
   "metadata": {},
   "outputs": [],
   "source": [
    "# output in above case\n",
    "\n",
    "# true"
   ]
  },
  {
   "cell_type": "code",
   "execution_count": 11,
   "id": "1ac8cc7c",
   "metadata": {},
   "outputs": [],
   "source": [
    "# The use of property __proto__ is not encouraged\n",
    "\n",
    "# Instead we can use the below"
   ]
  },
  {
   "cell_type": "raw",
   "id": "6b3e127d",
   "metadata": {},
   "source": [
    "Object.getPrototypeOf(v1)"
   ]
  },
  {
   "cell_type": "raw",
   "id": "4eea5c9f",
   "metadata": {},
   "source": [
    "function Vehicle(numWheels, price){\n",
    "  this.numWheels = numWheels;\n",
    "  this.price = price;\n",
    "}\n",
    "\n",
    "\n",
    "var v1 = new Vehicle(2, 50000);\n",
    "\n",
    "console.log(Vehicle.prototype.isPrototypeOf(v1));"
   ]
  },
  {
   "cell_type": "code",
   "execution_count": 14,
   "id": "f289e67d",
   "metadata": {},
   "outputs": [],
   "source": [
    "# output in above case\n",
    "\n",
    "# true"
   ]
  },
  {
   "cell_type": "raw",
   "id": "6130638f",
   "metadata": {},
   "source": [
    "function Vehicle(numWheels, price){\n",
    "  this.numWheels = numWheels;\n",
    "  this.price = price;\n",
    "}\n",
    "\n",
    "var v1 = new Vehicle(2, 50000);\n",
    "Vehicle.prototype.color = 'black';\n",
    "\n",
    "console.log(v1.color);\n",
    "console.log(v1.hasOwnProperty('price'))\n",
    "console.log(v1.hasOwnProperty('color'))"
   ]
  },
  {
   "cell_type": "code",
   "execution_count": null,
   "id": "4f887396",
   "metadata": {},
   "outputs": [],
   "source": [
    "# output in above case\n",
    "\n",
    "# black\n",
    "# true\n",
    "# false\n",
    "\n",
    "# hasOwnProperty() checks if the property belongs to v1 or not or v1 is getting it from it's prototype"
   ]
  },
  {
   "cell_type": "raw",
   "id": "d351ac6d",
   "metadata": {},
   "source": [
    "function Vehicle(numWheels, price){\n",
    "  this.numWheels = numWheels;\n",
    "  this.price = price;\n",
    "}\n",
    "\n",
    "var v1 = new Vehicle(2, 50000);\n",
    "Vehicle.prototype.color = 'black';\n",
    "\n",
    "console.log(Vehicle.prototype);"
   ]
  },
  {
   "cell_type": "code",
   "execution_count": null,
   "id": "04faf1bb",
   "metadata": {},
   "outputs": [],
   "source": [
    "# output in above case\n",
    "\n",
    "# {color: 'black', constructor: ƒ}"
   ]
  },
  {
   "cell_type": "raw",
   "id": "f05d7d2c",
   "metadata": {},
   "source": [
    "function Vehicle(numWheels, price){\n",
    "  this.numWheels = numWheels;\n",
    "  this.price = price;\n",
    "}\n",
    "\n",
    "var v1 = new Vehicle(2, 50000);\n",
    "var v2 = new Vehicle(4, 500000)\n",
    "Vehicle.prototype.color = 'black';\n",
    "\n",
    "v1.color = \"white\";\n",
    "\n",
    "console.log(Vehicle.prototype);\n",
    "console.log(v1.color);\n",
    "console.log(v2.color);\n",
    "console.log(v1.hasOwnProperty('color'));\n",
    "console.log(v2.hasOwnProperty('color'));"
   ]
  },
  {
   "cell_type": "code",
   "execution_count": null,
   "id": "3d110ea9",
   "metadata": {},
   "outputs": [],
   "source": [
    "# output in above case\n",
    "\n",
    "# {color: 'black', constructor: ƒ}\n",
    "# white\n",
    "# black\n",
    "# true\n",
    "# false\n",
    "\n",
    "# The 'color' property of the prototype is not changed"
   ]
  },
  {
   "cell_type": "raw",
   "id": "cd01cd87",
   "metadata": {},
   "source": [
    "function Person(age) {\n",
    "this.age = age;\n",
    "}\n",
    "\n",
    "console.log(Person.hasOwnProperty(\"name\"));"
   ]
  },
  {
   "cell_type": "code",
   "execution_count": 15,
   "id": "988e98cc",
   "metadata": {},
   "outputs": [],
   "source": [
    "# output in above case\n",
    "\n",
    "# true\n",
    "\n",
    "# Every function has a property called ‘name’. By default, the value of ‘name’ is set to the function's name."
   ]
  },
  {
   "cell_type": "code",
   "execution_count": 16,
   "id": "78f79b1d",
   "metadata": {},
   "outputs": [],
   "source": [
    "# Objects"
   ]
  },
  {
   "cell_type": "code",
   "execution_count": 17,
   "id": "476371a5",
   "metadata": {},
   "outputs": [],
   "source": [
    "# 2 ways to create empty object in javascript"
   ]
  },
  {
   "cell_type": "raw",
   "id": "5fcf21b7",
   "metadata": {},
   "source": [
    "var obj = {};\n",
    "var obj = new Object();"
   ]
  },
  {
   "cell_type": "code",
   "execution_count": null,
   "id": "ba6bed6b",
   "metadata": {},
   "outputs": [],
   "source": [
    "# If the Object() function exists, then the prototype of the function also exists as well"
   ]
  },
  {
   "cell_type": "raw",
   "id": "ffeb9bef",
   "metadata": {},
   "source": [
    "console.log(Object)\n",
    "console.log(Object.prototype)"
   ]
  },
  {
   "cell_type": "code",
   "execution_count": 18,
   "id": "30124c84",
   "metadata": {},
   "outputs": [],
   "source": [
    "# output in above case\n",
    "\n",
    "# ƒ Object() { [native code] }\n",
    "# {constructor: ƒ, __defineGetter__: ƒ, __defineSetter__: ƒ, hasOwnProperty: ƒ, __lookupGetter__: ƒ, …}constructor: ƒ Object()hasOwnProperty: ƒ hasOwnProperty()isPrototypeOf: ƒ isPrototypeOf()propertyIsEnumerable: ƒ propertyIsEnumerable()toLocaleString: ƒ toLocaleString()toString: ƒ toString()valueOf: ƒ valueOf()__defineGetter__: ƒ __defineGetter__()__defineSetter__: ƒ __defineSetter__()__lookupGetter__: ƒ __lookupGetter__()__lookupSetter__: ƒ __lookupSetter__()__proto__: (...)get __proto__: ƒ __proto__()set __proto__: ƒ __proto__()"
   ]
  },
  {
   "cell_type": "raw",
   "id": "68332666",
   "metadata": {},
   "source": [
    "var obj = new Object();\n",
    "console.log(Object.getPrototypeOf(obj));"
   ]
  },
  {
   "cell_type": "code",
   "execution_count": null,
   "id": "d5a4967c",
   "metadata": {},
   "outputs": [],
   "source": [
    "# output in above case\n",
    "\n",
    "# {constructor: ƒ, __defineGetter__: ƒ, __defineSetter__: ƒ, hasOwnProperty: ƒ, __lookupGetter__: ƒ, …}constructor: ƒ Object()hasOwnProperty: ƒ hasOwnProperty()isPrototypeOf: ƒ isPrototypeOf()propertyIsEnumerable: ƒ propertyIsEnumerable()toLocaleString: ƒ toLocaleString()toString: ƒ toString()valueOf: ƒ valueOf()__defineGetter__: ƒ __defineGetter__()__defineSetter__: ƒ __defineSetter__()__lookupGetter__: ƒ __lookupGetter__()__lookupSetter__: ƒ __lookupSetter__()__proto__: (...)get __proto__: ƒ __proto__()set __proto__: ƒ __proto__()"
   ]
  },
  {
   "cell_type": "raw",
   "id": "bda773c4",
   "metadata": {},
   "source": [
    "var obj = new Object();\n",
    "console.log(Object.prototype.isPrototypeOf(obj));"
   ]
  },
  {
   "cell_type": "code",
   "execution_count": null,
   "id": "e95ee2d1",
   "metadata": {},
   "outputs": [],
   "source": [
    "# output in above case\n",
    "\n",
    "# true"
   ]
  },
  {
   "cell_type": "raw",
   "id": "0f32bd43",
   "metadata": {},
   "source": [
    "var obj = new Object();\n",
    "\n",
    "function Vehicle(numWheels, price){\n",
    "  this.numWheels = numWheels;\n",
    "  this.price = price;\n",
    "}\n",
    "\n",
    "console.log(Vehicle.prototype);\n",
    "console.log(Vehicle.prototype.__proto__);\n",
    "console.log(Vehicle.prototype.__proto__.isPrototypeOf(obj));"
   ]
  },
  {
   "cell_type": "code",
   "execution_count": 20,
   "id": "81655362",
   "metadata": {},
   "outputs": [],
   "source": [
    "# output in above case\n",
    "\n",
    "# {constructor: ƒ}\n",
    "# {constructor: ƒ, __defineGetter__: ƒ, __defineSetter__: ƒ, hasOwnProperty: ƒ, __lookupGetter__: ƒ, …}\n",
    "# true\n",
    "\n",
    "# Vehicle.Prototype is an object and that object has the property (reference to) called Object prototype"
   ]
  },
  {
   "cell_type": "code",
   "execution_count": null,
   "id": "bb660161",
   "metadata": {},
   "outputs": [],
   "source": [
    "# All the objects that we create in javascript will be inherting from the 'Object' prototype"
   ]
  },
  {
   "cell_type": "raw",
   "id": "3a73163d",
   "metadata": {},
   "source": [
    "function Vehicle(numWheels, price){\n",
    "  this.numWheels = numWheels;\n",
    "  this.price = price;\n",
    "}\n",
    "\n",
    "Object.prototype.color = 'white';\n",
    "\n",
    "var v1 = new Vehicle(2, 50000);\n",
    "console.log(v1.color);"
   ]
  },
  {
   "cell_type": "code",
   "execution_count": null,
   "id": "2a12533f",
   "metadata": {},
   "outputs": [],
   "source": [
    "# output in above case\n",
    "\n",
    "# white\n",
    "\n",
    "# First it will for 'color' property in v1, then it will look in Vehicle.prototype and then finally in Object.prototype\n",
    "\n",
    "# In the above case, we made all objects in javascript to have the property 'color'"
   ]
  },
  {
   "cell_type": "raw",
   "id": "be80d761",
   "metadata": {},
   "source": [
    "function Vehicle(numWheels, price){\n",
    "  this.numWheels = numWheels;\n",
    "  this.price = price;\n",
    "}\n",
    "\n",
    "Vehicle.prototype.color = 'red';\n",
    "Object.prototype.color = 'white';\n",
    "\n",
    "\n",
    "var v1 = new Vehicle(2, 50000);\n",
    "console.log(v1.color);"
   ]
  },
  {
   "cell_type": "code",
   "execution_count": 21,
   "id": "5171efae",
   "metadata": {},
   "outputs": [],
   "source": [
    "# output in above case\n",
    "\n",
    "# red"
   ]
  },
  {
   "cell_type": "code",
   "execution_count": null,
   "id": "dacce462",
   "metadata": {},
   "outputs": [],
   "source": [
    "# We had looked at v1.hasOwnProperty('property')\n",
    "\n",
    "# We are getting the above 'behaviour' from the 'Object' prototype"
   ]
  },
  {
   "cell_type": "raw",
   "id": "43112e01",
   "metadata": {},
   "source": [
    "function A(){\n",
    "    this.name = \"A\";\n",
    "    this.color = \"blue\";\n",
    "}\n",
    "function B(){\n",
    "    this.name = \"B\";\n",
    "}\n",
    "function C(){\n",
    "    this.name =  \"C\";\n",
    "}\n",
    "\n",
    "let obj1 = new A() ;\n",
    "let obj2 = new B() ;\n",
    "let obj3 = new Object();\n",
    "let obj4 = new C();\n",
    "\n",
    "A.prototype.color = \"red\" ;\n",
    "B.prototype.color = \"red\" ;\n",
    "Object.prototype.color = \"pink\" ;\n",
    "\n",
    "console.log(obj1.color, obj2.color, obj4.color, obj3.color);"
   ]
  },
  {
   "cell_type": "code",
   "execution_count": 22,
   "id": "d260368e",
   "metadata": {},
   "outputs": [],
   "source": [
    "# output in above case\n",
    "\n",
    "# blue red pink pink\n",
    "\n",
    "# The obj1 has a property color of blue, so it doesn’t check for the value up the prototype chain. \n",
    "\n",
    "# The obj2 doesn’t have a property color, so it looks up in the prototype chain in its prototype, and a red value gets assigned to it. \n",
    "\n",
    "# The obj3 made using Object() directly inherits the color value pink from its prototype as it has no color property. \n",
    "\n",
    "# The obj4 has no property color, so it looks up in the prototype chain in the function prototype, which also doesn’t have a property color. \n",
    "# So it looks further up in the chain in the Object function, then in Object.prototype and assigns pink color."
   ]
  },
  {
   "cell_type": "code",
   "execution_count": 23,
   "id": "91870e01",
   "metadata": {},
   "outputs": [],
   "source": [
    "# object - Non-primitive data type. Collection of key-value pairs\n",
    "# Object() - Constructor function\n",
    "\n",
    "# All objects are inherited from Object"
   ]
  },
  {
   "cell_type": "code",
   "execution_count": 24,
   "id": "888786d2",
   "metadata": {},
   "outputs": [],
   "source": [
    "# Class"
   ]
  },
  {
   "cell_type": "raw",
   "id": "c3441f34",
   "metadata": {},
   "source": [
    "class Vehicle{\n",
    "  \n",
    "  constructor(numWheels, price){\n",
    "    this.numWheels = numWheels;\n",
    "    this.price = price\n",
    "  }\n",
    "  \n",
    "  getPrice(){\n",
    "    return this.price;\n",
    "  }\n",
    "}\n",
    "\n",
    "var v1 = new Vehicle(2, 50000);"
   ]
  },
  {
   "cell_type": "code",
   "execution_count": null,
   "id": "be5d1257",
   "metadata": {},
   "outputs": [],
   "source": [
    "# The above class is not the same as the classes in C++, Java.\n",
    "# The above class is just syntatically better (syntactical sugar) but it works the same way as prototypes work which we discussed earlier.\n",
    "\n",
    "# In the above case, we didn't have to write getPrice: function(){ return this.price } because in ES6 the above shortcut is available"
   ]
  },
  {
   "cell_type": "raw",
   "id": "1ca3c3c6",
   "metadata": {},
   "source": [
    "class Vehicle{\n",
    "  \n",
    "  constructor(numWheels, price){\n",
    "    this.numWheels = numWheels;\n",
    "    this.price = price\n",
    "  }\n",
    "  \n",
    "  getPrice(){\n",
    "    return this.price;\n",
    "  }\n",
    "}\n",
    "\n",
    "console.log(Vehicle);"
   ]
  },
  {
   "cell_type": "code",
   "execution_count": 26,
   "id": "7aea0003",
   "metadata": {},
   "outputs": [],
   "source": [
    "# output in above case\n",
    "\n",
    "# Vehicle(numWheels, price) {\n",
    "#    _classCallCheck(this, Vehicle);\n",
    "\n",
    "#    this.numWheels = numWheels;\n",
    "#    this.price = price;\n",
    "#  }"
   ]
  },
  {
   "cell_type": "raw",
   "id": "f8babb0f",
   "metadata": {},
   "source": [
    "class Vehicle{\n",
    "  \n",
    "  constructor(numWheels, price){\n",
    "    this.numWheels = numWheels;\n",
    "    this.price = price\n",
    "  }\n",
    "  \n",
    "  getPrice(){\n",
    "    return this.price;\n",
    "  }\n",
    "}\n",
    "\n",
    "console.log(Vehicle.prototype)\n",
    "console.log(Vehicle.prototype.constructor)"
   ]
  },
  {
   "cell_type": "code",
   "execution_count": null,
   "id": "8ef0c714",
   "metadata": {},
   "outputs": [],
   "source": [
    "# output in above case\n",
    "\n",
    "# {constructor: ƒ, getPrice: ƒ}\n",
    "\n",
    "\n",
    "# ƒ Vehicle(numWheels, price) {\n",
    "#    _classCallCheck(this, Vehicle);\n",
    "\n",
    "#    this.numWheels = numWheels;\n",
    "#    this.price = price;\n",
    "#  }"
   ]
  },
  {
   "cell_type": "code",
   "execution_count": 27,
   "id": "6ea8a566",
   "metadata": {},
   "outputs": [],
   "source": [
    "# The above ouputs suggest that class is just syntactical sugar and underneath it works the same way as the prototype we\n",
    "# discussed earlier"
   ]
  },
  {
   "cell_type": "raw",
   "id": "64cb0da4",
   "metadata": {},
   "source": [
    "class Vehicle{\n",
    "  \n",
    "  constructor(numWheels, price){\n",
    "    this.numWheels = numWheels;\n",
    "    this.price = price\n",
    "  }\n",
    "  \n",
    "  getPrice(){\n",
    "    return this.price;\n",
    "  }\n",
    "}\n",
    "\n",
    "var v1 = new Vehicle(2, 50000)\n",
    "\n",
    "console.log(Vehicle.prototype === Object.getPrototypeOf(v1))"
   ]
  },
  {
   "cell_type": "code",
   "execution_count": 28,
   "id": "b07a0ff9",
   "metadata": {},
   "outputs": [],
   "source": [
    "# output in above case\n",
    "\n",
    "# true"
   ]
  },
  {
   "cell_type": "code",
   "execution_count": null,
   "id": "feb880f2",
   "metadata": {},
   "outputs": [],
   "source": [
    "# Classes are special functions\n",
    "\n",
    "# There are 2 difference between Classes and other general functions\n",
    "\n",
    "# 1) We have to use the new keyword while defining the objects (var v1 = new Vehicle(2, 50000)) while using classes\n",
    "# 2)"
   ]
  },
  {
   "cell_type": "raw",
   "id": "598eeefa",
   "metadata": {},
   "source": [
    "var v1 = new Vehicle(2, 50000);\n",
    "\n",
    "function Vehicle(numWheels, price){\n",
    "  this.numWheels = numWheels;\n",
    "  this.price = price;\n",
    "}\n",
    "\n",
    "console.log(v1)"
   ]
  },
  {
   "cell_type": "code",
   "execution_count": null,
   "id": "a3b67845",
   "metadata": {},
   "outputs": [],
   "source": [
    "# No error in the above case as function hoisting takes place"
   ]
  },
  {
   "cell_type": "raw",
   "id": "58cffdbd",
   "metadata": {},
   "source": [
    "var v1 = new Vehicle(2, 50000);\n",
    "\n",
    "class Vehicle{\n",
    "  \n",
    "  constructor(numWheels, price){\n",
    "    this.numWheels = numWheels;\n",
    "    this.price = price\n",
    "  }\n",
    "  \n",
    "  getPrice(){\n",
    "    return this.price;\n",
    "  }\n",
    "}"
   ]
  },
  {
   "cell_type": "code",
   "execution_count": 29,
   "id": "c84cc8f6",
   "metadata": {},
   "outputs": [],
   "source": [
    "# output in above case\n",
    "\n",
    "# \"TypeError: Vehicle is not a constructor\"\n",
    "\n",
    "# Class declarations are not hoisted"
   ]
  },
  {
   "cell_type": "code",
   "execution_count": null,
   "id": "9e8e3b47",
   "metadata": {},
   "outputs": [],
   "source": [
    "# There are class expressions as function expressions as shown below"
   ]
  },
  {
   "cell_type": "raw",
   "id": "d4342625",
   "metadata": {},
   "source": [
    "var Vehicle = class{\n",
    "  \n",
    "  constructor(numWheels, price){\n",
    "    this.numWheels = numWheels;\n",
    "    this.price = price\n",
    "  }\n",
    "  \n",
    "  getPrice(){\n",
    "    return this.price;\n",
    "  }\n",
    "}\n",
    "\n",
    "var v1 = new Vehicle(2, 50000);\n",
    "\n",
    "console.log(Vehicle);"
   ]
  },
  {
   "cell_type": "code",
   "execution_count": null,
   "id": "d3d64439",
   "metadata": {},
   "outputs": [],
   "source": [
    "# output in above case\n",
    "\n",
    "# ƒ Vehicle(numWheels, price) {\n",
    "#    _classCallCheck(this, Vehicle);\n",
    "\n",
    "#    this.numWheels = numWheels;\n",
    "#    this.price = price;\n",
    "#  }"
   ]
  },
  {
   "cell_type": "code",
   "execution_count": 30,
   "id": "936fd7fa",
   "metadata": {},
   "outputs": [],
   "source": [
    "# Function declarations and function expressions are hoisted\n",
    "# Class declarations and class expressions are not hoisted"
   ]
  },
  {
   "cell_type": "code",
   "execution_count": null,
   "id": "cb88fc45",
   "metadata": {},
   "outputs": [],
   "source": [
    "# Inheritance in classes"
   ]
  },
  {
   "cell_type": "raw",
   "id": "52ff5658",
   "metadata": {},
   "source": [
    "class Vehicle{\n",
    "  \n",
    "  constructor(numWheels, price){\n",
    "    this.numWheels = numWheels;\n",
    "    this.price = price\n",
    "  }\n",
    "  \n",
    "  printDetails(){\n",
    "    console.log(\"Vehicles features are \" + this.numWheels + \" and \" + this.price)\n",
    "  }\n",
    "}\n",
    "\n",
    "class Car extends Vehicle{\n",
    "  constructor(price, numDoors){\n",
    "    super(4, price)\n",
    "    this.numDoors = numDoors;\n",
    "  }\n",
    "}\n",
    "\n",
    "var v1 = new Car(50000, 4);"
   ]
  },
  {
   "cell_type": "code",
   "execution_count": null,
   "id": "ba3d2677",
   "metadata": {},
   "outputs": [],
   "source": [
    "# super() calls the parent class constructor"
   ]
  },
  {
   "cell_type": "code",
   "execution_count": null,
   "id": "5533284c",
   "metadata": {},
   "outputs": [],
   "source": [
    "# Behaviours are also inhertied in classes as shown below"
   ]
  },
  {
   "cell_type": "raw",
   "id": "13016b97",
   "metadata": {},
   "source": [
    "class Vehicle{\n",
    "  \n",
    "  constructor(numWheels, price){\n",
    "    this.numWheels = numWheels;\n",
    "    this.price = price\n",
    "  }\n",
    "  \n",
    "  printDetails(){\n",
    "    console.log(\"Vehicles features are \" + this.numWheels + \" and \" + this.price)\n",
    "  }\n",
    "}\n",
    "\n",
    "class Car extends Vehicle{\n",
    "  constructor(price, numDoors){\n",
    "    super(4, price)\n",
    "    this.numDoors = numDoors;\n",
    "  }\n",
    "}\n",
    "\n",
    "var v1 = new Car(50000, 4);\n",
    "v1.printDetails();"
   ]
  },
  {
   "cell_type": "code",
   "execution_count": 31,
   "id": "57ea51d8",
   "metadata": {},
   "outputs": [],
   "source": [
    "# output in above case\n",
    "\n",
    "# Vehicles features are 4 and 50000"
   ]
  },
  {
   "cell_type": "code",
   "execution_count": null,
   "id": "8fb34697",
   "metadata": {},
   "outputs": [],
   "source": [
    "# Overriding behaviours by child functions"
   ]
  },
  {
   "cell_type": "raw",
   "id": "c0a2b854",
   "metadata": {},
   "source": [
    "class Vehicle{\n",
    "  \n",
    "  constructor(numWheels, price){\n",
    "    this.numWheels = numWheels;\n",
    "    this.price = price\n",
    "  }\n",
    "  \n",
    "  printDetails(){\n",
    "    console.log(\"Vehicles features are \" + this.numWheels + \" and \" + this.price)\n",
    "  }\n",
    "}\n",
    "\n",
    "class Car extends Vehicle{\n",
    "  constructor(price, numDoors){\n",
    "    super(4, price)\n",
    "    this.numDoors = numDoors;\n",
    "  }\n",
    "  \n",
    "  printDetails(){\n",
    "    console.log('Car');\n",
    "  }\n",
    "}\n",
    "\n",
    "var v1 = new Car(50000, 4);\n",
    "v1.printDetails();"
   ]
  },
  {
   "cell_type": "code",
   "execution_count": 32,
   "id": "7bf276a5",
   "metadata": {},
   "outputs": [],
   "source": [
    "# output in above case\n",
    "\n",
    "# Car"
   ]
  },
  {
   "cell_type": "code",
   "execution_count": 33,
   "id": "0d6d49b2",
   "metadata": {},
   "outputs": [],
   "source": [
    "# Calling Parents behaviour inside the child overriden behaviour using super()"
   ]
  },
  {
   "cell_type": "raw",
   "id": "611c6031",
   "metadata": {},
   "source": [
    "class Vehicle{\n",
    "  \n",
    "  constructor(numWheels, price){\n",
    "    this.numWheels = numWheels;\n",
    "    this.price = price\n",
    "  }\n",
    "  \n",
    "  printDetails(){\n",
    "    console.log(\"Vehicles features are \" + this.numWheels + \" and \" + this.price)\n",
    "  }\n",
    "}\n",
    "\n",
    "class Car extends Vehicle{\n",
    "  constructor(price, numDoors){\n",
    "    super(4, price)\n",
    "    this.numDoors = numDoors;\n",
    "  }\n",
    "  \n",
    "  printDetails(){\n",
    "    super.printDetails();\n",
    "    console.log('Car');\n",
    "  }\n",
    "}\n",
    "\n",
    "var v1 = new Car(50000, 4);\n",
    "v1.printDetails();"
   ]
  },
  {
   "cell_type": "code",
   "execution_count": null,
   "id": "57375c95",
   "metadata": {},
   "outputs": [],
   "source": [
    "# output in above case\n",
    "\n",
    "# Vehicles features are 4 and 50000\n",
    "# Car"
   ]
  },
  {
   "cell_type": "raw",
   "id": "fb3333b4",
   "metadata": {},
   "source": [
    "var Person = class {\n",
    "  constructor() {}\n",
    "  sayHello() {\n",
    "    return 'Hello!';\n",
    "  }\n",
    "};\n",
    "var instance = new Person();\n",
    "console.log(instance.sayHello()+\" \"+Person.name);"
   ]
  },
  {
   "cell_type": "code",
   "execution_count": null,
   "id": "730df6c4",
   "metadata": {},
   "outputs": [],
   "source": [
    "# output in above case\n",
    "\n",
    "# Hello! Person\n",
    "\n",
    "# Every function has a property called ‘name’. By default, the value of ‘name’ is set to the function's name. \n",
    "# At the back, the class is converted into a function only. Hence the ‘name’ property takes up the value of the class name. \n",
    "# The class syntax is just syntactical sugar over conventional function prototypes."
   ]
  },
  {
   "cell_type": "raw",
   "id": "0a49947c",
   "metadata": {},
   "source": [
    "function bike() {\n",
    "  console.log(this.name);\n",
    " }\n",
    "var name = \"Ninja\";\n",
    "bike();"
   ]
  },
  {
   "cell_type": "code",
   "execution_count": null,
   "id": "1f0816bd",
   "metadata": {},
   "outputs": [],
   "source": [
    "# output in above case\n",
    "\n",
    "# Ninja"
   ]
  },
  {
   "cell_type": "raw",
   "id": "578d5303",
   "metadata": {},
   "source": [
    "\"use strict\"\n",
    "function bike() {\n",
    "    console.log(this.name);\n",
    "}\n",
    "var name = \"Ninja\";\n",
    "bike();"
   ]
  },
  {
   "cell_type": "code",
   "execution_count": null,
   "id": "23473f7b",
   "metadata": {},
   "outputs": [],
   "source": [
    "# output in above case\n",
    "\n",
    "# Error because this is undefined"
   ]
  },
  {
   "cell_type": "raw",
   "id": "5060628b",
   "metadata": {},
   "source": [
    "var ninja = {\n",
    "name: 'Ninja',\n",
    "getName: function() {\n",
    "    var name = this.name;\n",
    "    return name;\n",
    "  }\n",
    "};\n",
    "var funcName = function(snack, hobby) {\n",
    "console.log(this.getName() + ' loves ' + snack + ' and ' + hobby);\n",
    "};\n",
    "funcName.call(ninja,'sushi', 'algorithms'); "
   ]
  },
  {
   "cell_type": "code",
   "execution_count": 34,
   "id": "7d96d487",
   "metadata": {},
   "outputs": [],
   "source": [
    "# output in above case\n",
    "\n",
    "# Ninja loves sushi and algorithms"
   ]
  },
  {
   "cell_type": "raw",
   "id": "87c31c49",
   "metadata": {},
   "source": [
    "class MyClass {\n",
    "   constructor(x) {\n",
    "       console.log(\"constructor is called!\");\n",
    "       this.x=x;\n",
    "   }\n",
    "}\n",
    "\n",
    "const obj = new MyClass();\n",
    "console.log(obj.x);"
   ]
  },
  {
   "cell_type": "code",
   "execution_count": 35,
   "id": "3766dbb2",
   "metadata": {},
   "outputs": [],
   "source": [
    "# output in above case\n",
    "\n",
    "# constructor is called! undefined"
   ]
  }
 ],
 "metadata": {
  "kernelspec": {
   "display_name": "Python 3 (ipykernel)",
   "language": "python",
   "name": "python3"
  },
  "language_info": {
   "codemirror_mode": {
    "name": "ipython",
    "version": 3
   },
   "file_extension": ".py",
   "mimetype": "text/x-python",
   "name": "python",
   "nbconvert_exporter": "python",
   "pygments_lexer": "ipython3",
   "version": "3.9.12"
  }
 },
 "nbformat": 4,
 "nbformat_minor": 5
}
