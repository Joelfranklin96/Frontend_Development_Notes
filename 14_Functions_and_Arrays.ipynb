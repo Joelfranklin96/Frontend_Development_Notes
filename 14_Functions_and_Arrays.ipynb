{
 "cells": [
  {
   "cell_type": "code",
   "execution_count": null,
   "id": "75eb5379",
   "metadata": {},
   "outputs": [],
   "source": [
    "# Functions"
   ]
  },
  {
   "cell_type": "raw",
   "id": "ac916889",
   "metadata": {},
   "source": [
    "function showAlert(msg){\n",
    "  alert(msg);\n",
    "}\n",
    "\n",
    "showAlert(\"Hello!!\");"
   ]
  },
  {
   "cell_type": "code",
   "execution_count": 1,
   "id": "f69eb0b4",
   "metadata": {},
   "outputs": [],
   "source": [
    "# In the above,\n",
    "\n",
    "# msg is called the parameter\n",
    "# \"Hello!!\" that is passed is called the argument"
   ]
  },
  {
   "cell_type": "raw",
   "id": "cbc157aa",
   "metadata": {},
   "source": [
    "function calculateSum(a,b){\n",
    "  console.log(a+b)\n",
    "}\n",
    "\n",
    "calculateSum(4);"
   ]
  },
  {
   "cell_type": "code",
   "execution_count": null,
   "id": "5a8710ff",
   "metadata": {},
   "outputs": [],
   "source": [
    "# output in above case\n",
    "\n",
    "# NaN"
   ]
  },
  {
   "cell_type": "raw",
   "id": "275fee16",
   "metadata": {},
   "source": [
    "function calculateSum(a,b){\n",
    "  console.log(a, b)\n",
    "}\n",
    "\n",
    "calculateSum(4);"
   ]
  },
  {
   "cell_type": "code",
   "execution_count": null,
   "id": "8e9e66c5",
   "metadata": {},
   "outputs": [],
   "source": [
    "# output in above case\n",
    "\n",
    "# 4 undefined\n",
    "\n",
    "# Adding 4 to undefined is NaN and that's why the output was NaN"
   ]
  },
  {
   "cell_type": "raw",
   "id": "89c45b78",
   "metadata": {},
   "source": [
    "function calculateSum(a,b){\n",
    "  console.log(a,b)\n",
    "}\n",
    "\n",
    "calculateSum(4,5,6);"
   ]
  },
  {
   "cell_type": "code",
   "execution_count": null,
   "id": "f1ef4855",
   "metadata": {},
   "outputs": [],
   "source": [
    "# output in above case\n",
    "\n",
    "# 4 5\n",
    "\n",
    "# The extra arguments are simply ignored"
   ]
  },
  {
   "cell_type": "code",
   "execution_count": null,
   "id": "49e8a41c",
   "metadata": {},
   "outputs": [],
   "source": [
    "# Variable Hoisting"
   ]
  },
  {
   "cell_type": "raw",
   "id": "8d47f013",
   "metadata": {},
   "source": [
    "function hoistDemo(){\n",
    "  console.log(z)\n",
    "}\n",
    "\n",
    "hoistDemo();"
   ]
  },
  {
   "cell_type": "code",
   "execution_count": 2,
   "id": "542e0a94",
   "metadata": {},
   "outputs": [],
   "source": [
    "# Output in above case\n",
    "\n",
    "# ReferenceError - z is not defined"
   ]
  },
  {
   "cell_type": "raw",
   "id": "eeaea2bb",
   "metadata": {},
   "source": [
    "function hoistDemo(){\n",
    "  console.log(z);\n",
    "  var z = 10;\n",
    "}\n",
    "\n",
    "hoistDemo();"
   ]
  },
  {
   "cell_type": "code",
   "execution_count": 3,
   "id": "6a7dae98",
   "metadata": {},
   "outputs": [],
   "source": [
    "# Output in above case\n",
    "\n",
    "# undefined"
   ]
  },
  {
   "cell_type": "raw",
   "id": "22ed7729",
   "metadata": {},
   "source": [
    "function hoistDemo(){\n",
    "  console.log(z);\n",
    "  var z = 10;\n",
    "}\n",
    "\n",
    "hoistDemo();"
   ]
  },
  {
   "cell_type": "code",
   "execution_count": 4,
   "id": "083337ac",
   "metadata": {},
   "outputs": [],
   "source": [
    "# The above code is equivalent to the below code and this process in javascript is known as Variable Hoisting"
   ]
  },
  {
   "cell_type": "raw",
   "id": "dcac1ef9",
   "metadata": {},
   "source": [
    "function hoistDemo(){\n",
    "  var z;\n",
    "  console.log(z);\n",
    "  z = 10;\n",
    "}\n",
    "\n",
    "hoistDemo();"
   ]
  },
  {
   "cell_type": "code",
   "execution_count": 5,
   "id": "19e0fff1",
   "metadata": {},
   "outputs": [],
   "source": [
    "# In Variable Hoisting, the variable declarations are moved to the top of the function"
   ]
  },
  {
   "cell_type": "raw",
   "id": "de6429dc",
   "metadata": {},
   "source": [
    "console.log(j)"
   ]
  },
  {
   "cell_type": "code",
   "execution_count": 6,
   "id": "89069cab",
   "metadata": {},
   "outputs": [],
   "source": [
    "# output in above case\n",
    "\n",
    "# ReferenceError : j is not defined"
   ]
  },
  {
   "cell_type": "raw",
   "id": "7ad5f6d0",
   "metadata": {},
   "source": [
    "console.log(j)\n",
    "var j = 10"
   ]
  },
  {
   "cell_type": "code",
   "execution_count": 7,
   "id": "3567cfc5",
   "metadata": {},
   "outputs": [],
   "source": [
    "# output in above case\n",
    "\n",
    "# undefined"
   ]
  },
  {
   "cell_type": "code",
   "execution_count": 8,
   "id": "52e57cc9",
   "metadata": {},
   "outputs": [],
   "source": [
    "# Function Hoisting"
   ]
  },
  {
   "cell_type": "raw",
   "id": "23eb1842",
   "metadata": {},
   "source": [
    "hoistDemo();\n",
    "\n",
    "function hoistDemo(){\n",
    "  var z = 10;\n",
    "  console.log(z);\n",
    "}"
   ]
  },
  {
   "cell_type": "code",
   "execution_count": 9,
   "id": "3d6fb3b2",
   "metadata": {},
   "outputs": [],
   "source": [
    "# output in above case\n",
    "\n",
    "# 10\n",
    "\n",
    "# The hoistDemo function declaration is moved to the top."
   ]
  },
  {
   "cell_type": "code",
   "execution_count": 10,
   "id": "8689c758",
   "metadata": {},
   "outputs": [],
   "source": [
    "# The javascript interpreter moves all the function declarations and variable declarations to the top of the code"
   ]
  },
  {
   "cell_type": "raw",
   "id": "25ab8482",
   "metadata": {},
   "source": [
    "x = 5;\n",
    "console.log(x);\n",
    "var x;"
   ]
  },
  {
   "cell_type": "code",
   "execution_count": 11,
   "id": "2c759a82",
   "metadata": {},
   "outputs": [],
   "source": [
    "# output in above case\n",
    "\n",
    "# 5"
   ]
  },
  {
   "cell_type": "raw",
   "id": "5b70630f",
   "metadata": {},
   "source": [
    "demo();\n",
    "\n",
    "function demo() {\n",
    "    console.log(x);\n",
    "    var x = 10;\n",
    "}"
   ]
  },
  {
   "cell_type": "code",
   "execution_count": 12,
   "id": "f493d0f7",
   "metadata": {},
   "outputs": [],
   "source": [
    "# output in above case\n",
    "\n",
    "# undefined\n",
    "\n",
    "# Both function hoisting and variable hoisting takes place in the above case"
   ]
  },
  {
   "cell_type": "code",
   "execution_count": 15,
   "id": "462872b6",
   "metadata": {},
   "outputs": [],
   "source": [
    "# Functions and Scope"
   ]
  },
  {
   "cell_type": "raw",
   "id": "a5c21e80",
   "metadata": {},
   "source": [
    "var name = \"scope\";\n",
    "console.log(name);"
   ]
  },
  {
   "cell_type": "code",
   "execution_count": 14,
   "id": "b8901980",
   "metadata": {},
   "outputs": [],
   "source": [
    "# Above is an example of 'global' scope"
   ]
  },
  {
   "cell_type": "raw",
   "id": "6692caa6",
   "metadata": {},
   "source": [
    "function scopeDemo(){\n",
    "  var i = 10;\n",
    "  console.log(i);\n",
    "}\n",
    "\n",
    "scopeDemo();"
   ]
  },
  {
   "cell_type": "code",
   "execution_count": 16,
   "id": "daef4fb8",
   "metadata": {},
   "outputs": [],
   "source": [
    "# In above example, i has 'function' scope"
   ]
  },
  {
   "cell_type": "raw",
   "id": "7f75a9a6",
   "metadata": {},
   "source": [
    "function scopeDemo(){\n",
    "  var i = 10;\n",
    "  console.log(i);\n",
    "}\n",
    "\n",
    "console.log(i)\n",
    "scopeDemo();"
   ]
  },
  {
   "cell_type": "code",
   "execution_count": 17,
   "id": "8fc55d16",
   "metadata": {},
   "outputs": [],
   "source": [
    "# output in above case\n",
    "\n",
    "# ReferenceError : i is not defined"
   ]
  },
  {
   "cell_type": "raw",
   "id": "88ba5147",
   "metadata": {},
   "source": [
    "var name = \"global\";\n",
    "\n",
    "function scopeDemo(){\n",
    "  var name = \"function\";\n",
    "  console.log(name);\n",
    "}\n",
    "\n",
    "scopeDemo();\n",
    "console.log(name);"
   ]
  },
  {
   "cell_type": "code",
   "execution_count": null,
   "id": "0a8407cc",
   "metadata": {},
   "outputs": [],
   "source": [
    "# output of above case\n",
    "\n",
    "# function\n",
    "# global"
   ]
  },
  {
   "cell_type": "raw",
   "id": "2bc25f6d",
   "metadata": {},
   "source": [
    "var name = \"global\";\n",
    "\n",
    "function scopeDemo(){\n",
    "  console.log(name);\n",
    "}\n",
    "\n",
    "scopeDemo();\n",
    "console.log(name);"
   ]
  },
  {
   "cell_type": "code",
   "execution_count": 19,
   "id": "e3d58ad2",
   "metadata": {},
   "outputs": [],
   "source": [
    "# output of above case\n",
    "\n",
    "# global\n",
    "# global"
   ]
  },
  {
   "cell_type": "code",
   "execution_count": 20,
   "id": "92227e95",
   "metadata": {},
   "outputs": [],
   "source": [
    "# Execution Context\n",
    "\n",
    "# It is an environment. Every code in javascript has an execution context associated with it\n",
    "\n",
    "# The global execution context will have 'variable environment' and 'this'.\n",
    "# Any function execution context will have it's variable environment', 'this' and reference to outer environment (hence we are\n",
    "# able to access outer environment variables).\n",
    "\n",
    "# The execution context is created when the code is being run.\n",
    "# The execution context of a function is created only when we call that function.\n",
    "# Multiple calls of the function will result in multiple execution contexts."
   ]
  },
  {
   "cell_type": "code",
   "execution_count": null,
   "id": "5ea40730",
   "metadata": {},
   "outputs": [],
   "source": [
    "# Execution Stack\n",
    "\n",
    "# Execution Stack contains all the Execution Contexts of the code.\n",
    "# The first entry in Execution Stack is the Global Execution Context."
   ]
  },
  {
   "cell_type": "raw",
   "id": "14a66ff7",
   "metadata": {},
   "source": [
    "function c(){\n",
    "  console.log(\"Inside c\");\n",
    "}\n",
    "\n",
    "function b(){\n",
    "  c();\n",
    "  console.log(\"Inside b\");\n",
    "}\n",
    "\n",
    "function a(){\n",
    "  b();\n",
    "  console.log(\"Inside a\");\n",
    "}\n",
    "\n",
    "a();\n",
    "console.log(\"Global context\");"
   ]
  },
  {
   "cell_type": "code",
   "execution_count": 21,
   "id": "19936bc2",
   "metadata": {},
   "outputs": [],
   "source": [
    "# output of above case\n",
    "\n",
    "# Inside c\n",
    "# Inside b\n",
    "# Inside a\n",
    "# Global context"
   ]
  },
  {
   "cell_type": "code",
   "execution_count": null,
   "id": "81935119",
   "metadata": {},
   "outputs": [],
   "source": [
    "# In above example,\n",
    "\n",
    "# First, the global context is created.\n",
    "# Second, the execution context of function a is created. It has it's variable environment and reference to the outside global environment.\n",
    "# Third, the execution context of function b is created. It has it's variable environment and reference to the outside global environment.\n",
    "# Fourth, the execution context of function c is created. It has it's variable environment and reference to the outside global environment.\n",
    "\n",
    "# All the above 4 execution contexts are stored in a Stack.\n",
    "# Since execution context of c is at the top most of the stack, first the function c will be executed.\n",
    "# Then since execution context of b is below execution context of c in the stack, the function c will be executed next.\n",
    "# Then function a is executed.\n",
    "# Then the global code is executed."
   ]
  },
  {
   "cell_type": "raw",
   "id": "b8988a4c",
   "metadata": {},
   "source": [
    "var a = 10;\n",
    "\n",
    "function test() {\n",
    "    var a = 20;\n",
    "}\n",
    "\n",
    "test(); \n",
    "console.log(a);"
   ]
  },
  {
   "cell_type": "code",
   "execution_count": 22,
   "id": "8bf8b93b",
   "metadata": {},
   "outputs": [],
   "source": [
    "# output in above case\n",
    "\n",
    "# 10"
   ]
  },
  {
   "cell_type": "raw",
   "id": "8205a458",
   "metadata": {},
   "source": [
    "var a = 10;\n",
    "\n",
    "function test() {\n",
    "    a = 20;\n",
    "}\n",
    "\n",
    "test(); \n",
    "console.log(a);"
   ]
  },
  {
   "cell_type": "code",
   "execution_count": 23,
   "id": "a59f01f8",
   "metadata": {},
   "outputs": [],
   "source": [
    "# output in above case\n",
    "\n",
    "# 20"
   ]
  },
  {
   "cell_type": "code",
   "execution_count": 24,
   "id": "5d05318e",
   "metadata": {},
   "outputs": [],
   "source": [
    "# Function within a function"
   ]
  },
  {
   "cell_type": "raw",
   "id": "ecb8075d",
   "metadata": {},
   "source": [
    "function outer(){\n",
    "  var a = 10;\n",
    "  function inner(){\n",
    "    console.log(a);\n",
    "  }\n",
    "  inner();\n",
    "}\n",
    "outer();"
   ]
  },
  {
   "cell_type": "code",
   "execution_count": 25,
   "id": "f55c5a7d",
   "metadata": {},
   "outputs": [],
   "source": [
    "# output in above case\n",
    "\n",
    "# 10"
   ]
  },
  {
   "cell_type": "raw",
   "id": "c4b4a2ac",
   "metadata": {},
   "source": [
    "function outer(){\n",
    "  var a = 10;\n",
    "  function inner(){\n",
    "    console.log(a);\n",
    "  }\n",
    "  inner();\n",
    "}\n",
    "inner();"
   ]
  },
  {
   "cell_type": "code",
   "execution_count": 26,
   "id": "82a963e5",
   "metadata": {},
   "outputs": [],
   "source": [
    "# output in above case\n",
    "\n",
    "# ReferenceError: inner is not defined"
   ]
  },
  {
   "cell_type": "raw",
   "id": "9d1ba6d0",
   "metadata": {},
   "source": [
    "function outer(){\n",
    "  var a = 10;\n",
    "  function inner(){\n",
    "    var b = 20;\n",
    "    console.log(a);\n",
    "  }\n",
    "  inner();\n",
    "  console.log(b);\n",
    "}\n",
    "outer();"
   ]
  },
  {
   "cell_type": "code",
   "execution_count": 27,
   "id": "8fd2cfdd",
   "metadata": {},
   "outputs": [],
   "source": [
    "# output in above case\n",
    "\n",
    "# 10\n",
    "# \"ReferenceError: b is not defined (because the scope of b is inner())"
   ]
  },
  {
   "cell_type": "raw",
   "id": "879f4dc3",
   "metadata": {},
   "source": [
    "function demo(){\n",
    "  console.log(\"Hi\");\n",
    "}\n",
    "\n",
    "console.log(demo);"
   ]
  },
  {
   "cell_type": "code",
   "execution_count": null,
   "id": "8f249203",
   "metadata": {},
   "outputs": [],
   "source": [
    "# output in above case\n",
    "\n",
    "# ƒ demo() {\n",
    "#   console.log(\"Hi\");\n",
    "# }"
   ]
  },
  {
   "cell_type": "raw",
   "id": "20bcb639",
   "metadata": {},
   "source": [
    "var name = \"global\"\n",
    "function outer(){\n",
    "  var name = \"outer\";\n",
    "  function inner(){\n",
    "    var name = \"inner\";\n",
    "    console.log(name);\n",
    "  }\n",
    "  inner();\n",
    "  console.log(name);\n",
    "}\n",
    "outer();\n",
    "console.log(name);"
   ]
  },
  {
   "cell_type": "code",
   "execution_count": 28,
   "id": "d66bdf6c",
   "metadata": {},
   "outputs": [],
   "source": [
    "# output in above case\n",
    "\n",
    "# inner\n",
    "# outer\n",
    "# global"
   ]
  },
  {
   "cell_type": "raw",
   "id": "e4b4702d",
   "metadata": {},
   "source": [
    "var name = \"global\"\n",
    "function outer(){\n",
    "  var name = \"outer\";\n",
    "  function inner(){\n",
    "    console.log(name);\n",
    "  }\n",
    "  inner();\n",
    "  console.log(name);\n",
    "}\n",
    "outer();\n",
    "console.log(name);"
   ]
  },
  {
   "cell_type": "code",
   "execution_count": 29,
   "id": "295649ba",
   "metadata": {},
   "outputs": [],
   "source": [
    "# output in above case\n",
    "\n",
    "# outer\n",
    "# outer\n",
    "# global"
   ]
  },
  {
   "cell_type": "raw",
   "id": "3863d179",
   "metadata": {},
   "source": [
    "function a() {\n",
    "    console.log(\"Inside a\");\n",
    "\n",
    "    function b() {\n",
    "        console.log(\"Inside b\");\n",
    "    }\n",
    "}\n",
    "\n",
    "b();"
   ]
  },
  {
   "cell_type": "code",
   "execution_count": 30,
   "id": "0c1d3d1a",
   "metadata": {},
   "outputs": [],
   "source": [
    "# output in above case\n",
    "\n",
    "# ReferenceError : b is not defined"
   ]
  },
  {
   "cell_type": "raw",
   "id": "b6ff3b77",
   "metadata": {},
   "source": [
    "var combinedString = \"\";\n",
    "function a() {\n",
    "    combinedString = \"Inside a\";\n",
    "\n",
    "    function b() {\n",
    "        combinedString = combinedString + \" Inside b\";\n",
    "    }\n",
    "\n",
    "    b();\n",
    "}\n",
    "\n",
    "a();\n",
    "console.log(combinedString);"
   ]
  },
  {
   "cell_type": "code",
   "execution_count": 31,
   "id": "c67c5797",
   "metadata": {},
   "outputs": [],
   "source": [
    "# output in above case\n",
    "\n",
    "# Inside a Inside b"
   ]
  },
  {
   "cell_type": "code",
   "execution_count": 32,
   "id": "06bcd7a8",
   "metadata": {},
   "outputs": [],
   "source": [
    "# Named Function Expressions"
   ]
  },
  {
   "cell_type": "raw",
   "id": "38cf92ab",
   "metadata": {},
   "source": [
    "var func1 = function sample(a){\n",
    "  return a*3\n",
    "};\n",
    "\n",
    "console.log(func1(5));"
   ]
  },
  {
   "cell_type": "code",
   "execution_count": null,
   "id": "337ad403",
   "metadata": {},
   "outputs": [],
   "source": [
    "# output in above case\n",
    "\n",
    "# 15"
   ]
  },
  {
   "cell_type": "raw",
   "id": "c022035b",
   "metadata": {},
   "source": [
    "var func1 = function sample(a){\n",
    "  return a*3\n",
    "};\n",
    "\n",
    "console.log(sample(5));"
   ]
  },
  {
   "cell_type": "code",
   "execution_count": null,
   "id": "00862fa4",
   "metadata": {},
   "outputs": [],
   "source": [
    "# output in above case\n",
    "\n",
    "# ReferenceError: sample is not defined"
   ]
  },
  {
   "cell_type": "code",
   "execution_count": null,
   "id": "ab4fb264",
   "metadata": {},
   "outputs": [],
   "source": [
    "# In below case, func2 is an example of Anonymous Function Expression"
   ]
  },
  {
   "cell_type": "raw",
   "id": "7eaf28e1",
   "metadata": {},
   "source": [
    "var func1 = function sample(a){\n",
    "  return a*3\n",
    "};\n",
    "\n",
    "var func2 = function (a){\n",
    "  return a*3\n",
    "};\n",
    "\n",
    "console.log(func1);\n",
    "console.log(func2);"
   ]
  },
  {
   "cell_type": "code",
   "execution_count": null,
   "id": "433fa6d1",
   "metadata": {},
   "outputs": [],
   "source": [
    "# output in above case\n",
    "\n",
    "# ƒ sample(a) {\n",
    "#  return a * 3;\n",
    "# }\n",
    "\n",
    "# ƒ func2(a) {\n",
    "#  return a * 3;\n",
    "# }"
   ]
  },
  {
   "cell_type": "code",
   "execution_count": 33,
   "id": "59e84b8c",
   "metadata": {},
   "outputs": [],
   "source": [
    "# Function Declaration and Function Expression are the 2 ways to create a function in javascript\n",
    "# But which one is better?"
   ]
  },
  {
   "cell_type": "raw",
   "id": "53bbba9a",
   "metadata": {},
   "source": [
    "console.log(func2(4));\n",
    "var func2 = function (a){\n",
    "  return a*3\n",
    "};"
   ]
  },
  {
   "cell_type": "code",
   "execution_count": null,
   "id": "905c4d81",
   "metadata": {},
   "outputs": [],
   "source": [
    "# output in above case\n",
    "\n",
    "# TypeError: func2 is not a function"
   ]
  },
  {
   "cell_type": "raw",
   "id": "20d885c9",
   "metadata": {},
   "source": [
    "console.log(func2);\n",
    "var func2 = function (a){\n",
    "  return a*3\n",
    "};"
   ]
  },
  {
   "cell_type": "code",
   "execution_count": 34,
   "id": "34f9b65e",
   "metadata": {},
   "outputs": [],
   "source": [
    "# output in above case\n",
    "\n",
    "# undefined"
   ]
  },
  {
   "cell_type": "code",
   "execution_count": 35,
   "id": "89bd8b45",
   "metadata": {},
   "outputs": [],
   "source": [
    "# Variable hoisting takes place when we create a function by Function Expression and we call the function before.\n",
    "# Function hoisting takes place when we create a function by Function Declaration and we call the function before."
   ]
  },
  {
   "cell_type": "code",
   "execution_count": 36,
   "id": "bdd72b5e",
   "metadata": {},
   "outputs": [],
   "source": [
    "# Usually Function Expressions are preferred."
   ]
  },
  {
   "cell_type": "code",
   "execution_count": 37,
   "id": "bcd018be",
   "metadata": {},
   "outputs": [],
   "source": [
    "# Functions can be passed as arguments to other functions"
   ]
  },
  {
   "cell_type": "raw",
   "id": "d376d904",
   "metadata": {},
   "source": [
    "function square(n){\n",
    "  return n*n;\n",
    "}\n",
    "\n",
    "function cube(n, func){\n",
    "  return n*func(n);\n",
    "}\n",
    "\n",
    "console.log(cube(5, square));"
   ]
  },
  {
   "cell_type": "code",
   "execution_count": 53,
   "id": "fb857396",
   "metadata": {},
   "outputs": [],
   "source": [
    "# output in above case\n",
    "\n",
    "# 125"
   ]
  },
  {
   "cell_type": "code",
   "execution_count": 38,
   "id": "eac06ba9",
   "metadata": {},
   "outputs": [],
   "source": [
    "# Arrays"
   ]
  },
  {
   "cell_type": "code",
   "execution_count": 39,
   "id": "f641832b",
   "metadata": {},
   "outputs": [],
   "source": [
    "# Different ways to initialize the array"
   ]
  },
  {
   "cell_type": "raw",
   "id": "845d81fd",
   "metadata": {},
   "source": [
    "var arr = [1,2,3,4,5];\n",
    "var arr = new Array(1,2,3,4,5);"
   ]
  },
  {
   "cell_type": "code",
   "execution_count": 40,
   "id": "8a51e8f1",
   "metadata": {},
   "outputs": [],
   "source": [
    "# If we try to access an element which is out of bound,\n",
    "\n",
    "# arr[5]\n",
    "\n",
    "# output - undefined"
   ]
  },
  {
   "cell_type": "raw",
   "id": "0863655f",
   "metadata": {},
   "source": [
    "var arr = [1,2,3,4,5];\n",
    "arr[6] = 100;\n",
    "console.log(arr);"
   ]
  },
  {
   "cell_type": "code",
   "execution_count": null,
   "id": "02cb217f",
   "metadata": {},
   "outputs": [],
   "source": [
    "# output in above case\n",
    "\n",
    "# [1, 2, 3, 4, 5, empty, 100]"
   ]
  },
  {
   "cell_type": "raw",
   "id": "e54f682b",
   "metadata": {},
   "source": [
    "var arr = [1,2,3,4,5];\n",
    "arr[7] = 100;\n",
    "console.log(arr);\n",
    "console.log(arr.length);"
   ]
  },
  {
   "cell_type": "code",
   "execution_count": 41,
   "id": "3d1f971a",
   "metadata": {},
   "outputs": [],
   "source": [
    "# output in above case\n",
    "\n",
    "# [1, 2, 3, 4, 5, empty × 2, 100]\n",
    "# 8\n",
    "\n",
    "# empty means undefined"
   ]
  },
  {
   "cell_type": "code",
   "execution_count": 42,
   "id": "18672f92",
   "metadata": {},
   "outputs": [],
   "source": [
    "# Creating an empty array\n",
    "\n",
    "# var arr = new Array();\n",
    "\n",
    "# Creating an empty array with size 2\n",
    "# Only the length has been initialized but this empty array doesn't occupy any space\n",
    "\n",
    "# var arr = new Array(2);\n",
    "\n",
    "# If we pass more than 1 argument, they will treated as elements of the array"
   ]
  },
  {
   "cell_type": "code",
   "execution_count": null,
   "id": "d72c8833",
   "metadata": {},
   "outputs": [],
   "source": [
    "# Arrays can be heterogenous in Javascript\n",
    "\n",
    "# Array is not a contiguous block of memory in Javascript"
   ]
  },
  {
   "cell_type": "code",
   "execution_count": 43,
   "id": "af66709b",
   "metadata": {},
   "outputs": [],
   "source": [
    "# pushing into an array"
   ]
  },
  {
   "cell_type": "raw",
   "id": "0b5d9129",
   "metadata": {},
   "source": [
    "var arr = [1,2,3,4,5];\n",
    "arr.push(10);\n",
    "console.log(arr);"
   ]
  },
  {
   "cell_type": "code",
   "execution_count": 44,
   "id": "fffe1696",
   "metadata": {},
   "outputs": [],
   "source": [
    "# output in above case\n",
    "\n",
    "# [1, 2, 3, 4, 5, 10]"
   ]
  },
  {
   "cell_type": "raw",
   "id": "71cbdee5",
   "metadata": {},
   "source": [
    "var arr = [1,2,3,4,5];\n",
    "arr.pop();\n",
    "console.log(arr);"
   ]
  },
  {
   "cell_type": "code",
   "execution_count": null,
   "id": "a0d0675a",
   "metadata": {},
   "outputs": [],
   "source": [
    "# output in above case\n",
    "\n",
    "# [1, 2, 3, 4]"
   ]
  },
  {
   "cell_type": "raw",
   "id": "97346966",
   "metadata": {},
   "source": [
    "var arr = [1,2,3,4,5];\n",
    "arr.shift();\n",
    "console.log(arr);"
   ]
  },
  {
   "cell_type": "code",
   "execution_count": null,
   "id": "8f5b13a9",
   "metadata": {},
   "outputs": [],
   "source": [
    "# output in above case\n",
    "\n",
    "# The elements are shifted to the left\n",
    "\n",
    "# [2, 3, 4, 5]"
   ]
  },
  {
   "cell_type": "raw",
   "id": "c050a5fd",
   "metadata": {},
   "source": [
    "var arr = [1,2,3,4,5];\n",
    "arr.unshift(100);\n",
    "console.log(arr);"
   ]
  },
  {
   "cell_type": "code",
   "execution_count": null,
   "id": "11d2db5b",
   "metadata": {},
   "outputs": [],
   "source": [
    "# output in above case\n",
    "\n",
    "# The elements are shifted to the right\n",
    "\n",
    "# [100, 1, 2, 3, 4, 5]"
   ]
  },
  {
   "cell_type": "code",
   "execution_count": 45,
   "id": "5b24f5c2",
   "metadata": {},
   "outputs": [],
   "source": [
    "# Splice function"
   ]
  },
  {
   "cell_type": "raw",
   "id": "acbd8528",
   "metadata": {},
   "source": [
    "var arr = [2,3,4,5,6];\n",
    "arr.splice(1,2)\n",
    "console.log(arr);"
   ]
  },
  {
   "cell_type": "code",
   "execution_count": 46,
   "id": "a0d7836d",
   "metadata": {},
   "outputs": [],
   "source": [
    "# output in above case\n",
    "\n",
    "# [2, 5, 6]\n",
    "\n",
    "# 1 is the starting element and 2 elements have to be deleted"
   ]
  },
  {
   "cell_type": "raw",
   "id": "54513a2f",
   "metadata": {},
   "source": [
    "var arr = [2,3,4,5,6];\n",
    "arr.splice(1)\n",
    "console.log(arr);"
   ]
  },
  {
   "cell_type": "code",
   "execution_count": null,
   "id": "e61f846e",
   "metadata": {},
   "outputs": [],
   "source": [
    "# output in above case\n",
    "\n",
    "# [2]\n",
    "\n",
    "# All the elements from index 1 have been removed"
   ]
  },
  {
   "cell_type": "raw",
   "id": "b5820acb",
   "metadata": {},
   "source": [
    "var arr = [2,3,4,5,6];\n",
    "arr.splice(2,0,10)\n",
    "console.log(arr);"
   ]
  },
  {
   "cell_type": "code",
   "execution_count": 48,
   "id": "6affce4e",
   "metadata": {},
   "outputs": [],
   "source": [
    "# output in above case\n",
    "\n",
    "# [2, 3, 10, 4, 5, 6]\n",
    "\n",
    "# 10 is inserted at index 2"
   ]
  },
  {
   "cell_type": "raw",
   "id": "b5f54b25",
   "metadata": {},
   "source": [
    "var arr = [2,3,4,5,6];\n",
    "arr.splice(2,0,10,20,30)\n",
    "console.log(arr);"
   ]
  },
  {
   "cell_type": "code",
   "execution_count": null,
   "id": "d162b81a",
   "metadata": {},
   "outputs": [],
   "source": [
    "# output in above case\n",
    "\n",
    "# [2, 3, 10, 20, 30, 4, 5, 6]"
   ]
  },
  {
   "cell_type": "raw",
   "id": "1d6f912b",
   "metadata": {},
   "source": [
    "var arr = [2,3,4,5,6];\n",
    "arr.splice(2,2,10,20,30)\n",
    "console.log(arr);"
   ]
  },
  {
   "cell_type": "code",
   "execution_count": 49,
   "id": "d703b022",
   "metadata": {},
   "outputs": [],
   "source": [
    "# output in above case\n",
    "\n",
    "# [2, 3, 10, 20, 30, 6]"
   ]
  },
  {
   "cell_type": "code",
   "execution_count": 51,
   "id": "01ac102b",
   "metadata": {},
   "outputs": [],
   "source": [
    "# Iterating over arrays"
   ]
  },
  {
   "cell_type": "code",
   "execution_count": null,
   "id": "8a8e1c86",
   "metadata": {},
   "outputs": [],
   "source": [
    "# Method 1"
   ]
  },
  {
   "cell_type": "raw",
   "id": "0c368c23",
   "metadata": {},
   "source": [
    "var arr = [2,3,4,5,6];\n",
    "\n",
    "for(var i = 0; i < arr.length; i++){\n",
    "  console.log(arr[i])\n",
    "}"
   ]
  },
  {
   "cell_type": "code",
   "execution_count": null,
   "id": "dac5deae",
   "metadata": {},
   "outputs": [],
   "source": [
    "# Method 2"
   ]
  },
  {
   "cell_type": "raw",
   "id": "75776233",
   "metadata": {},
   "source": [
    "var arr = [2,3,4,5,6];\n",
    "\n",
    "function print(element){\n",
    "  console.log(element);\n",
    "}\n",
    "\n",
    "arr.forEach(print);"
   ]
  },
  {
   "cell_type": "code",
   "execution_count": null,
   "id": "d8f69b7c",
   "metadata": {},
   "outputs": [],
   "source": [
    "# forEach method applies the function 'print' once to every element of the arr."
   ]
  },
  {
   "cell_type": "code",
   "execution_count": 54,
   "id": "26cfd644",
   "metadata": {},
   "outputs": [],
   "source": [
    "# every method"
   ]
  },
  {
   "cell_type": "raw",
   "id": "e029dd1a",
   "metadata": {},
   "source": [
    "var array = [ 60, 70, 20, 10, 40, 90 ];\n",
    "\n",
    "const test = function(x) {\n",
    "    return x > 5;\n",
    "}\n",
    "\n",
    "console.log(array.every(test));"
   ]
  },
  {
   "cell_type": "code",
   "execution_count": null,
   "id": "77edf1dd",
   "metadata": {},
   "outputs": [],
   "source": [
    "# output in above case\n",
    "\n",
    "# true"
   ]
  }
 ],
 "metadata": {
  "kernelspec": {
   "display_name": "Python 3 (ipykernel)",
   "language": "python",
   "name": "python3"
  },
  "language_info": {
   "codemirror_mode": {
    "name": "ipython",
    "version": 3
   },
   "file_extension": ".py",
   "mimetype": "text/x-python",
   "name": "python",
   "nbconvert_exporter": "python",
   "pygments_lexer": "ipython3",
   "version": "3.9.12"
  }
 },
 "nbformat": 4,
 "nbformat_minor": 5
}
