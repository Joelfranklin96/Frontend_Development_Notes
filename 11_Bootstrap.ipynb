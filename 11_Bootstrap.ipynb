{
 "cells": [
  {
   "cell_type": "code",
   "execution_count": 1,
   "id": "097dab99",
   "metadata": {},
   "outputs": [],
   "source": [
    "# Framework in context with web development is a web framework\n",
    "\n",
    "# A web framework helps us in structuring our code better and provides us with features that we can use in our code.\n",
    "# A web framework helps us to quickly develop our website with proper structure."
   ]
  },
  {
   "cell_type": "code",
   "execution_count": 3,
   "id": "f163c807",
   "metadata": {},
   "outputs": [],
   "source": [
    "# Some popular front end frameworks\n",
    "\n",
    "# 1) Bootstrap\n",
    "# 2) Materialize CSS\n",
    "# 3) Semantic CSS"
   ]
  },
  {
   "cell_type": "code",
   "execution_count": 4,
   "id": "6de20c40",
   "metadata": {},
   "outputs": [],
   "source": [
    "# Front end framework may not give total felxibility as writing code from scratch."
   ]
  },
  {
   "cell_type": "code",
   "execution_count": 5,
   "id": "124e947c",
   "metadata": {},
   "outputs": [],
   "source": [
    "# Boostrap is an open source front end framework"
   ]
  },
  {
   "cell_type": "code",
   "execution_count": 7,
   "id": "4dec3c9c",
   "metadata": {},
   "outputs": [],
   "source": [
    "# Pros of Bootstrap\n",
    "\n",
    "# 1) Popular\n",
    "# 2) Saves time\n",
    "# 3) Loads of styles\n",
    "# 4) Responsive\n",
    "# 5) Customizable\n",
    "# 6) Great support\n",
    "\n",
    "# Cons of Bootstrap\n",
    "\n",
    "# 1) It is bulky\n",
    "# 2) It is popular. So your website looks very similar to other websites\n",
    "# 3) Less flexibility than writing code from scratch (general drawback of any framework)"
   ]
  },
  {
   "cell_type": "code",
   "execution_count": 1,
   "id": "81666a43",
   "metadata": {},
   "outputs": [],
   "source": [
    "# The easiest way to use Bootstrap in our project is through CDN.\n",
    "\n",
    "# CDN stands for Content Delivery Network. In the context of frameworks, \n",
    "# a CDN refers to a distributed network of servers located in different geographical locations. \n",
    "# These servers store and deliver static files, such as JavaScript libraries, CSS stylesheets, and other assets, to end-users.\n",
    "\n",
    "# When using a framework, such as a JavaScript framework or CSS framework, developers often rely on external libraries and \n",
    "# dependencies. These files can be quite large and can affect the performance of a website if served from a single server. \n",
    "# CDN providers help mitigate this issue by hosting these files on multiple servers globally."
   ]
  },
  {
   "cell_type": "code",
   "execution_count": null,
   "id": "6ca94ba1",
   "metadata": {},
   "outputs": [],
   "source": [
    "# Bootstrap frame"
   ]
  },
  {
   "cell_type": "raw",
   "id": "edf69389",
   "metadata": {},
   "source": [
    "<!doctype html>\n",
    "<html lang=\"en\">\n",
    "  <head>\n",
    "    <meta charset=\"utf-8\">\n",
    "    <meta name=\"viewport\" content=\"width=device-width, initial-scale=1\">\n",
    "    <title>Bootstrap demo</title>\n",
    "    <link href=\"https://cdn.jsdelivr.net/npm/bootstrap@5.3.0-alpha3/dist/css/bootstrap.min.css\" rel=\"stylesheet\" integrity=\"sha384-KK94CHFLLe+nY2dmCWGMq91rCGa5gtU4mk92HdvYe+M/SXH301p5ILy+dN9+nJOZ\" crossorigin=\"anonymous\">\n",
    "    <link rel=\"stylesheet\" type=\"text/css\" href=\"style.css\">\n",
    "  </head>\n",
    "  <body>\n",
    "  \t\n",
    "  \t\n",
    "\n",
    "\n",
    "\n",
    "\n",
    "\n",
    "\n",
    "\n",
    "    <script src=\"https://cdn.jsdelivr.net/npm/bootstrap@5.3.0-alpha3/dist/js/bootstrap.bundle.min.js\" integrity=\"sha384-ENjdO4Dr2bkBIFxQpeoTz1HIcje39Wm4jDKdf19U8gI4ddQ3GYNS7NTKfAdVQSZe\" crossorigin=\"anonymous\"></script>\n",
    "    <script src=\"https://cdn.jsdelivr.net/npm/@popperjs/core@2.11.7/dist/umd/popper.min.js\" integrity=\"sha384-zYPOMqeu1DAVkHiLqWBUTcbYfZ8osu1Nd6Z89ify25QV9guujx43ITvfi12/QExE\" crossorigin=\"anonymous\"></script>\n",
    "\t<script src=\"https://cdn.jsdelivr.net/npm/bootstrap@5.3.0-alpha3/dist/js/bootstrap.min.js\" integrity=\"sha384-Y4oOpwW3duJdCWv5ly8SCFYWqFDsfob/3GkgExXKV4idmbt98QcxXYs9UoXAB7BZ\" crossorigin=\"anonymous\"></script>\n",
    "  </body>\n",
    "</html>"
   ]
  },
  {
   "cell_type": "code",
   "execution_count": 2,
   "id": "4c10cbb4",
   "metadata": {},
   "outputs": [],
   "source": [
    "# Breakpoints\n",
    "\n",
    "# xs --> < 576 px\n",
    "# sm --> < 768 px\n",
    "# md --> 768 px onwards\n",
    "# lg --> 992 px onwards\n",
    "# xl --> 1200 px onwards\n",
    "\n",
    "# In Boostrap, the above points are hard coded. \n",
    "# We can change the breakpoints by making changes in the css file of bootstrap or\n",
    "# we can use media queries to make changes in the breakpoints."
   ]
  },
  {
   "cell_type": "code",
   "execution_count": null,
   "id": "841887e9",
   "metadata": {},
   "outputs": [],
   "source": [
    "# Bootstrap uses a grid system\n",
    "# Bootstrap uses flex box grid (12 column grid) to build its layout\n",
    "# The width is specified in terms of the number of columns\n",
    "# In Boostrap, the container will have multiple rows within it and the row will have multiple elements within it."
   ]
  },
  {
   "cell_type": "raw",
   "id": "06795b8b",
   "metadata": {},
   "source": [
    "<!doctype html>\n",
    "<html lang=\"en\">\n",
    "  <head>\n",
    "    <meta charset=\"utf-8\">\n",
    "    <meta name=\"viewport\" content=\"width=device-width, initial-scale=1\">\n",
    "    <title>Bootstrap demo</title>\n",
    "    <link href=\"https://cdn.jsdelivr.net/npm/bootstrap@5.3.0-alpha3/dist/css/bootstrap.min.css\" rel=\"stylesheet\" integrity=\"sha384-KK94CHFLLe+nY2dmCWGMq91rCGa5gtU4mk92HdvYe+M/SXH301p5ILy+dN9+nJOZ\" crossorigin=\"anonymous\">\n",
    "  </head>\n",
    "  <body>\n",
    "  \t<div class=\"container\">\n",
    "  \t\t<div class=\"row\">\n",
    "  \t\t\t<div class=\"col\" style=\"background-color: red; height: 60px;\">\n",
    "  \t\t\t\t\n",
    "  \t\t\t</div>\n",
    "  \t\t</div>\n",
    "  \t</div>\n",
    "  \t\n",
    "    <script src=\"https://cdn.jsdelivr.net/npm/bootstrap@5.3.0-alpha3/dist/js/bootstrap.bundle.min.js\" integrity=\"sha384-ENjdO4Dr2bkBIFxQpeoTz1HIcje39Wm4jDKdf19U8gI4ddQ3GYNS7NTKfAdVQSZe\" crossorigin=\"anonymous\"></script>\n",
    "    <script src=\"https://cdn.jsdelivr.net/npm/@popperjs/core@2.11.7/dist/umd/popper.min.js\" integrity=\"sha384-zYPOMqeu1DAVkHiLqWBUTcbYfZ8osu1Nd6Z89ify25QV9guujx43ITvfi12/QExE\" crossorigin=\"anonymous\"></script>\n",
    "\t<script src=\"https://cdn.jsdelivr.net/npm/bootstrap@5.3.0-alpha3/dist/js/bootstrap.min.js\" integrity=\"sha384-Y4oOpwW3duJdCWv5ly8SCFYWqFDsfob/3GkgExXKV4idmbt98QcxXYs9UoXAB7BZ\" crossorigin=\"anonymous\"></script>\n",
    "  </body>\n",
    "</html>"
   ]
  },
  {
   "cell_type": "code",
   "execution_count": 3,
   "id": "f2011b5b",
   "metadata": {},
   "outputs": [],
   "source": [
    "# The red background color div doesn't occupy the entire screen width because that's how in the bootstrap it has been designed.\n",
    "# If we want the div to occupy the entire screen size, we can use class = \"container-fluid\""
   ]
  },
  {
   "cell_type": "code",
   "execution_count": null,
   "id": "e5f3b6da",
   "metadata": {},
   "outputs": [],
   "source": [
    "# In the below html, the first col-6 div (red) will occupy 6 columns and \n",
    "# the next col-6 div(blue) will occupy the next 6 columns.\n",
    "\n",
    "# This rule is applicable to all screens"
   ]
  },
  {
   "cell_type": "raw",
   "id": "c733bf18",
   "metadata": {},
   "source": [
    "<body>\n",
    "  \t<div class=\"container\">\n",
    "  \t\t<div class=\"row\">\n",
    "  \t\t\t<div class=\"col-6\" style=\"background-color: red; height: 60px;\"></div>\n",
    "  \t\t\t<div class=\"col-6\" style=\"background-color: blue; height: 60px\"></div>\n",
    "  \t\t</div>\n",
    "  \t</div>\n",
    "</body>"
   ]
  },
  {
   "cell_type": "code",
   "execution_count": 4,
   "id": "31d97d7b",
   "metadata": {},
   "outputs": [],
   "source": [
    "# In the below html, the first div(red) will occupy 6 columns in xs and it will occupy 4 columns in sm size onwards.\n",
    "# So for all screens sm onwards (sm, md, lg, xl), it will occupy 4 columns."
   ]
  },
  {
   "cell_type": "raw",
   "id": "e5d2e98e",
   "metadata": {},
   "source": [
    "<body>\n",
    "  \t<div class=\"container\">\n",
    "  \t\t<div class=\"row\">\n",
    "  \t\t\t<div class=\"col-6 col-sm-4\" style=\"background-color: red; height: 60px;\"></div>\n",
    "  \t\t\t<div class=\"col-6\" style=\"background-color: blue; height: 60px;\"></div>\n",
    "  \t\t</div>\n",
    "  \t</div>\n",
    "</body>"
   ]
  },
  {
   "cell_type": "code",
   "execution_count": 5,
   "id": "0f254f88",
   "metadata": {},
   "outputs": [],
   "source": [
    "# In the below html, the first div(red) will occupy 6 columns, 4 columns in sm and md, and 2 columns in lg size onwards.\n",
    "# So for all screens lg onwards(lg, xl), it will occupy 2 columns\n",
    "\n",
    "# xs --> 6 columns\n",
    "# sm --> 4 columns\n",
    "# md --> 4 columns\n",
    "# lg --> 2 columns\n",
    "# xl --> 2 columns"
   ]
  },
  {
   "cell_type": "raw",
   "id": "573f703e",
   "metadata": {},
   "source": [
    "<body>\n",
    "  \t<div class=\"container\">\n",
    "  \t\t<div class=\"row\">\n",
    "  \t\t\t<div class=\"col-6 col-sm-4 col-lg-2\" style=\"background-color: red; height: 60px;\"></div>\n",
    "  \t\t\t<div class=\"col-6\" style=\"background-color: blue; height: 60px;\"></div>\n",
    "  \t\t</div>\n",
    "  \t</div>\n",
    "</body>"
   ]
  },
  {
   "cell_type": "code",
   "execution_count": null,
   "id": "350c44d7",
   "metadata": {},
   "outputs": [],
   "source": [
    "# Display Utilities"
   ]
  },
  {
   "cell_type": "code",
   "execution_count": null,
   "id": "d5ac841d",
   "metadata": {},
   "outputs": [],
   "source": [
    "# In the below html, the red div will not be displayed in size md and onwards."
   ]
  },
  {
   "cell_type": "raw",
   "id": "9add1b08",
   "metadata": {},
   "source": [
    "<body>\n",
    "  \t<div class=\"container\">\n",
    "  \t\t<div class=\"row\">\n",
    "  \t\t\t<div class=\"col-6 d-md-none\" style=\"background-color: red; height: 60px;\"></div>\n",
    "  \t\t\t<div class=\"col-6\" style=\"background-color: blue; height: 60px;\"></div>\n",
    "  \t\t</div>\n",
    "  \t</div>\n",
    "</body>"
   ]
  },
  {
   "cell_type": "code",
   "execution_count": null,
   "id": "1dbe2607",
   "metadata": {},
   "outputs": [],
   "source": [
    "# In the below html, the red div will be visible for xs,sm and invisible for md and visible for lg, xl."
   ]
  },
  {
   "cell_type": "raw",
   "id": "269a72e5",
   "metadata": {},
   "source": [
    "<body>\n",
    "  \t<div class=\"container\">\n",
    "  \t\t<div class=\"row\">\n",
    "  \t\t\t<div class=\"col-6 d-md-none d-lg-block\" style=\"background-color: red; height: 60px;\"></div>\n",
    "  \t\t\t<div class=\"col-6\" style=\"background-color: blue; height: 60px;\"></div>\n",
    "  \t\t</div>\n",
    "  \t</div>\n",
    "</body>"
   ]
  },
  {
   "cell_type": "code",
   "execution_count": 6,
   "id": "a61c02cb",
   "metadata": {},
   "outputs": [],
   "source": [
    "# Margin Utilities"
   ]
  },
  {
   "cell_type": "code",
   "execution_count": null,
   "id": "66c1f143",
   "metadata": {},
   "outputs": [],
   "source": [
    "# In the below html, the red div has a margin top of 2\n",
    "\n",
    "# What is the value 2? It is $spacer * x where x keeps changing as we change the mt value.\n",
    "\n",
    "# So if we specify mt-2, we are specifying a margin of $spacer * x"
   ]
  },
  {
   "cell_type": "raw",
   "id": "d468b1d7",
   "metadata": {},
   "source": [
    "<body>\n",
    "  \t<div class=\"container\">\n",
    "  \t\t<div class=\"row\" style=\"background-color: yellow\">\n",
    "  \t\t\t<div class=\"col-6 mt-2\" style=\"background-color: red; height: 60px;\"></div>\n",
    "  \t\t\t<div class=\"col-6\" style=\"background-color: blue; height: 60px;\"></div>\n",
    "  \t\t</div>\n",
    "  \t</div>\n",
    "</body>"
   ]
  },
  {
   "cell_type": "code",
   "execution_count": 7,
   "id": "e79e6237",
   "metadata": {},
   "outputs": [],
   "source": [
    "# Border Utilities"
   ]
  },
  {
   "cell_type": "code",
   "execution_count": 8,
   "id": "19efeb13",
   "metadata": {},
   "outputs": [],
   "source": [
    "# Additive Borders"
   ]
  },
  {
   "cell_type": "raw",
   "id": "8080a220",
   "metadata": {},
   "source": [
    "<span class = \"border\"></span> # All borders\n",
    "<span class = \"border-top\"></span> # Only top border\n",
    "<span class = \"border-right\"></span> # Only right border\n",
    "<span class = \"border-bottom\"></span>\n",
    "<span class = \"border-left\"></span>"
   ]
  },
  {
   "cell_type": "code",
   "execution_count": 9,
   "id": "30c7f5d1",
   "metadata": {},
   "outputs": [],
   "source": [
    "# Subtractive Borders"
   ]
  },
  {
   "cell_type": "raw",
   "id": "2ecc3074",
   "metadata": {},
   "source": [
    "<span class = \"border-0\"></span> # No borders\n",
    "<span class = \"border-top-0\"></span> # All borders except top\n",
    "<span class = \"border-right-0\"></span> # All borders except right\n",
    "<span class = \"border-bottom-0\"></span>\n",
    "<span class = \"border-left-0\"></span>"
   ]
  },
  {
   "cell_type": "code",
   "execution_count": 10,
   "id": "dfafd2fe",
   "metadata": {},
   "outputs": [],
   "source": [
    "# Adding colors to Borders"
   ]
  },
  {
   "cell_type": "raw",
   "id": "50ec78ed",
   "metadata": {},
   "source": [
    "<span class=\"border border-primary\"></span>\n",
    "<span class=\"border border-primary-subtle\"></span>\n",
    "<span class=\"border border-secondary\"></span>\n",
    "<span class=\"border border-secondary-subtle\"></span>\n",
    "<span class=\"border border-success\"></span>\n",
    "<span class=\"border border-success-subtle\"></span>\n",
    "<span class=\"border border-danger\"></span>\n",
    "<span class=\"border border-danger-subtle\"></span>\n",
    "<span class=\"border border-warning\"></span>\n",
    "<span class=\"border border-warning-subtle\"></span>\n",
    "<span class=\"border border-info\"></span>\n",
    "<span class=\"border border-info-subtle\"></span>\n",
    "<span class=\"border border-light\"></span>\n",
    "<span class=\"border border-light-subtle\"></span>\n",
    "<span class=\"border border-dark\"></span>\n",
    "<span class=\"border border-dark-subtle\"></span>\n",
    "<span class=\"border border-black\"></span>\n",
    "<span class=\"border border-white\"></span>"
   ]
  },
  {
   "cell_type": "code",
   "execution_count": 11,
   "id": "abb335ad",
   "metadata": {},
   "outputs": [],
   "source": [
    "# The default width of border is 1 px in Bootstrap. Bootstrap doesn't give us the option to change the border width.\n",
    "# We have do it by altering the .border-dark class as shown below"
   ]
  },
  {
   "cell_type": "code",
   "execution_count": 12,
   "id": "6b6a1c0c",
   "metadata": {},
   "outputs": [],
   "source": [
    "# style.css"
   ]
  },
  {
   "cell_type": "raw",
   "id": "2526c2b4",
   "metadata": {},
   "source": [
    ".border-dark{\n",
    "\tborder-width: 4px !important;\n",
    "}"
   ]
  },
  {
   "cell_type": "code",
   "execution_count": 13,
   "id": "98f60099",
   "metadata": {},
   "outputs": [],
   "source": [
    "# 1) We link the style.css in our index.html\n",
    "# 2) Make sure to place link of style.css after the bootstrap link in the index.html because the code is scanned from top to \n",
    "# bottom and the latest one will be applied.\n",
    "# 3) Make sure to mark the border-width attribute as !important in style.css because the bootstrap attributes are mostly\n",
    "# marked as important."
   ]
  },
  {
   "cell_type": "code",
   "execution_count": 14,
   "id": "e9e81463",
   "metadata": {},
   "outputs": [],
   "source": [
    "# Bootstrap Components"
   ]
  },
  {
   "cell_type": "raw",
   "id": "897d42f5",
   "metadata": {},
   "source": [
    "<button type=\"button\" class=\"btn btn-primary\">Primary</button>\n",
    "<button type=\"button\" class=\"btn btn-secondary\">Secondary</button>\n",
    "<button type=\"button\" class=\"btn btn-success\">Success</button>\n",
    "<button type=\"button\" class=\"btn btn-danger\">Danger</button>\n",
    "<button type=\"button\" class=\"btn btn-warning\">Warning</button>\n",
    "<button type=\"button\" class=\"btn btn-info\">Info</button>\n",
    "<button type=\"button\" class=\"btn btn-light\">Light</button>\n",
    "<button type=\"button\" class=\"btn btn-dark\">Dark</button>\n",
    "\n",
    "<button type=\"button\" class=\"btn btn-link\">Link</button>"
   ]
  },
  {
   "cell_type": "code",
   "execution_count": 15,
   "id": "b9b4db33",
   "metadata": {},
   "outputs": [],
   "source": [
    "# 1) Buttons\n",
    "\n",
    "# Button component can be used along with anchor tag\n",
    "\n",
    "# When we click on the below button, it takes us to the top of the current page."
   ]
  },
  {
   "cell_type": "raw",
   "id": "f947602e",
   "metadata": {},
   "source": [
    "<a class=\"btn btn-primary\" href=\"#\" role=\"button\">Link</a>"
   ]
  },
  {
   "cell_type": "code",
   "execution_count": 16,
   "id": "fa140faa",
   "metadata": {},
   "outputs": [],
   "source": [
    "# 2) Cards"
   ]
  },
  {
   "cell_type": "code",
   "execution_count": 17,
   "id": "2fe668e0",
   "metadata": {},
   "outputs": [],
   "source": [
    "# Card uses the properties of flex"
   ]
  },
  {
   "cell_type": "code",
   "execution_count": 18,
   "id": "c59aac32",
   "metadata": {},
   "outputs": [],
   "source": [
    "# 3) Dropdown"
   ]
  },
  {
   "cell_type": "raw",
   "id": "829df27e",
   "metadata": {},
   "source": [
    "<div class=\"dropdown\">\n",
    "  <button class=\"btn btn-secondary dropdown-toggle\" type=\"button\" data-bs-toggle=\"dropdown\" aria-expanded=\"false\">\n",
    "    Dropdown button\n",
    "  </button>\n",
    "  <ul class=\"dropdown-menu\">\n",
    "    <li><a class=\"dropdown-item\" href=\"#\">Action</a></li>\n",
    "    <li><a class=\"dropdown-item\" href=\"#\">Another action</a></li>\n",
    "    <li><a class=\"dropdown-item\" href=\"#\">Something else here</a></li>\n",
    "  </ul>\n",
    "</div>"
   ]
  },
  {
   "cell_type": "code",
   "execution_count": 19,
   "id": "17657532",
   "metadata": {},
   "outputs": [],
   "source": [
    "# 4) Modals\n",
    "\n",
    "# A modal is a dialog box or window that appears on top of the current page to display additional content or \n",
    "# interactive features. It is typically used to capture user input, display messages, or \n",
    "# present additional information without navigating away from the current page."
   ]
  },
  {
   "cell_type": "code",
   "execution_count": 21,
   "id": "9b247ce3",
   "metadata": {},
   "outputs": [],
   "source": [
    "# Modals in Bootstrap are built with HTML, CSS and Javascript\n",
    "\n",
    "# Modals take the position:fixed so that it comes over the other components and doesn't take any of it's own space. It stays\n",
    "# there even when we scroll."
   ]
  },
  {
   "cell_type": "raw",
   "id": "2dc77dc3",
   "metadata": {},
   "source": [
    "<!-- Button trigger modal -->\n",
    "<button type=\"button\" class=\"btn btn-primary\" data-bs-toggle=\"modal\" data-bs-target=\"#exampleModal\">\n",
    "  Launch demo modal\n",
    "</button>\n",
    "\n",
    "<!-- Modal -->\n",
    "<div class=\"modal fade\" id=\"exampleModal\" tabindex=\"-1\" aria-labelledby=\"exampleModalLabel\" aria-hidden=\"true\">\n",
    "  <div class=\"modal-dialog\">\n",
    "    <div class=\"modal-content\">\n",
    "      <div class=\"modal-header\">\n",
    "        <h1 class=\"modal-title fs-5\" id=\"exampleModalLabel\">Modal title</h1>\n",
    "        <button type=\"button\" class=\"btn-close\" data-bs-dismiss=\"modal\" aria-label=\"Close\"></button>\n",
    "      </div>\n",
    "      <div class=\"modal-body\">\n",
    "        ...\n",
    "      </div>\n",
    "      <div class=\"modal-footer\">\n",
    "        <button type=\"button\" class=\"btn btn-secondary\" data-bs-dismiss=\"modal\">Close</button>\n",
    "        <button type=\"button\" class=\"btn btn-primary\">Save changes</button>\n",
    "      </div>\n",
    "    </div>\n",
    "  </div>\n",
    "</div>"
   ]
  },
  {
   "cell_type": "code",
   "execution_count": 22,
   "id": "2ce8d04c",
   "metadata": {},
   "outputs": [],
   "source": [
    "# The 'data-bs-toggle' attribute in the Bootstrap modal component is used to define the action that triggers the opening or \n",
    "# closing of a modal window. It is part of Bootstrap's data API, which allows you to interact with Bootstrap components using \n",
    "# data attributes instead of JavaScript.\n",
    "\n",
    "# If the widget we are working on is a button, then data-bs-toggle = \"button\"\n",
    "# If the widget we are working on is a modal, then data-bs-toggle = \"modal\"\n",
    "# If the widget we are working on is a dropdown, then data-bs-toggle = \"dropdown\"\n",
    "\n",
    "# The 'data-bs-target' is the targeted div that should come up when the modal is triggered.\n",
    "\n",
    "# The 'role' and 'aria' tags are for assistive technologies which make the web friendly for people with disabilities.\n",
    "\n",
    "# If we want a scroll bar to scroll the content, we can use 'modal-dialog-scrollable' instead of 'modal-dialog'"
   ]
  },
  {
   "cell_type": "code",
   "execution_count": 23,
   "id": "cc1cdc32",
   "metadata": {},
   "outputs": [],
   "source": [
    "# Tooltips and Popover"
   ]
  },
  {
   "cell_type": "raw",
   "id": "96e250d0",
   "metadata": {},
   "source": [
    "<div class=\"modal-body\">\n",
    "  <h2 class=\"fs-5\">Popover in a modal</h2>\n",
    "  <p>This <button class=\"btn btn-secondary\" data-bs-toggle=\"popover\" title=\"Popover title\" data-bs-content=\"Popover body content is set in this attribute.\">button</button> triggers a popover on click.</p>\n",
    "  <hr>\n",
    "  <h2 class=\"fs-5\">Tooltips in a modal</h2>\n",
    "  <p><a href=\"#\" data-bs-toggle=\"tooltip\" title=\"Tooltip\">This link</a> and <a href=\"#\" data-bs-toggle=\"tooltip\" title=\"Tooltip\">that link</a> have tooltips on hover.</p>\n",
    "</div>"
   ]
  },
  {
   "cell_type": "code",
   "execution_count": 24,
   "id": "e2211ffe",
   "metadata": {},
   "outputs": [],
   "source": [
    "# In the above modal,\n",
    "\n",
    "# there is a 'popover' when we click on 'btn btn-secondary' button.\n",
    "# The content of popover is 'Popover body content is set in this attribute.'\n",
    "\n",
    "# When we hover over the 2 links 'this link' and 'that link', we can see the following tooltip - 'Tooltip'"
   ]
  },
  {
   "cell_type": "code",
   "execution_count": 25,
   "id": "3f0a3129",
   "metadata": {},
   "outputs": [],
   "source": [
    "# The size of the modal on the screen can be controlled directly using certain bootstrap classes"
   ]
  },
  {
   "cell_type": "code",
   "execution_count": 26,
   "id": "5d0fc1c3",
   "metadata": {},
   "outputs": [],
   "source": [
    "# 5) Collapse Component\n",
    "\n",
    "# When we click on the 'collapse' button, a dialogue box opens up. \n",
    "# When we click on the 'collapse' button again, the dialogue box closes.\n",
    "\n",
    "# The Collapse component is used to create collapsible content that can be expanded or collapsed with the help of a \n",
    "# button or a link\n",
    "\n",
    "# Collapse component uses javascript plugin.\n",
    "\n",
    "# Collapsing an element will animate the height from its current value to 0."
   ]
  },
  {
   "cell_type": "raw",
   "id": "171b50e6",
   "metadata": {},
   "source": [
    "<p>\n",
    "  <a class=\"btn btn-primary\" data-bs-toggle=\"collapse\" href=\"#collapseExample\" role=\"button\" aria-expanded=\"false\" aria-controls=\"collapseExample\">\n",
    "    Link with href\n",
    "  </a>\n",
    "  <button class=\"btn btn-primary\" type=\"button\" data-bs-toggle=\"collapse\" data-bs-target=\"#collapseExample\" aria-expanded=\"false\" aria-controls=\"collapseExample\">\n",
    "    Button with data-bs-target\n",
    "  </button>\n",
    "</p>\n",
    "<div class=\"collapse\" id=\"collapseExample\">\n",
    "  <div class=\"card card-body\">\n",
    "    Some placeholder content for the collapse component. This panel is hidden by default but revealed when the user activates the relevant trigger.\n",
    "  </div>\n",
    "</div>"
   ]
  },
  {
   "cell_type": "code",
   "execution_count": 27,
   "id": "97dc3c97",
   "metadata": {},
   "outputs": [],
   "source": [
    "# If we want to set the anchor tag as 'button', we have to set the role = 'button'\n",
    "# In the above case, we achieve the collapse component through both link (we make the link to act as button) and button.\n",
    "\n",
    "# The collapse content is just a card with only card-body. It doesn't have a card-title.\n",
    "# We can have multiple targets. We can link the button to multiple targets."
   ]
  },
  {
   "cell_type": "code",
   "execution_count": 28,
   "id": "9244ee4a",
   "metadata": {},
   "outputs": [],
   "source": [
    "# Collapse componenet with multiple targets"
   ]
  },
  {
   "cell_type": "raw",
   "id": "a968e0e0",
   "metadata": {},
   "source": [
    "<p>\n",
    "  <a class=\"btn btn-primary\" data-bs-toggle=\"collapse\" href=\"#multiCollapseExample1\" role=\"button\" aria-expanded=\"false\" aria-controls=\"multiCollapseExample1\">Toggle first element</a>\n",
    "  <button class=\"btn btn-primary\" type=\"button\" data-bs-toggle=\"collapse\" data-bs-target=\"#multiCollapseExample2\" aria-expanded=\"false\" aria-controls=\"multiCollapseExample2\">Toggle second element</button>\n",
    "  <button class=\"btn btn-primary\" type=\"button\" data-bs-toggle=\"collapse\" data-bs-target=\".multi-collapse\" aria-expanded=\"false\" aria-controls=\"multiCollapseExample1 multiCollapseExample2\">Toggle both elements</button>\n",
    "</p>\n",
    "<div class=\"row\">\n",
    "  <div class=\"col\">\n",
    "    <div class=\"collapse multi-collapse\" id=\"multiCollapseExample1\">\n",
    "      <div class=\"card card-body\">\n",
    "        Some placeholder content for the first collapse component of this multi-collapse example. This panel is hidden by default but revealed when the user activates the relevant trigger.\n",
    "      </div>\n",
    "    </div>\n",
    "  </div>\n",
    "  <div class=\"col\">\n",
    "    <div class=\"collapse multi-collapse\" id=\"multiCollapseExample2\">\n",
    "      <div class=\"card card-body\">\n",
    "        Some placeholder content for the second collapse component of this multi-collapse example. This panel is hidden by default but revealed when the user activates the relevant trigger.\n",
    "      </div>\n",
    "    </div>\n",
    "  </div>\n",
    "</div>"
   ]
  },
  {
   "cell_type": "code",
   "execution_count": 29,
   "id": "1eb059b0",
   "metadata": {},
   "outputs": [],
   "source": [
    "# In the above case, there is a link (which controls multiCollapseExample1), \n",
    "# a second button (which controls multiCollapseExample2) and third button (which controls both multiCollapseExample1 and 2)\n",
    "\n",
    "# For the third button, the data-bs-target is '.multi-collapse' class and \n",
    "# aria-controls=\"multiCollapseExample1 multiCollapseExample2\".\n",
    "\n",
    "# Both the collapsed content belong to the classes multi-collapse."
   ]
  },
  {
   "cell_type": "code",
   "execution_count": 31,
   "id": "d8f5d99f",
   "metadata": {},
   "outputs": [],
   "source": [
    "# 6) Accordion Component\n",
    "\n",
    "# Accordion are for the FAQ section.\n",
    "\n",
    "# Every accordion item has an accordian header and accordian body. It also has a button that handles the collapse effect and \n",
    "# targets a particular div as shown below"
   ]
  },
  {
   "cell_type": "raw",
   "id": "d446ae92",
   "metadata": {},
   "source": [
    "<div class=\"accordion\" id=\"accordionExample\">\n",
    "  <div class=\"accordion-item\">\n",
    "    <h2 class=\"accordion-header\">\n",
    "      <button class=\"accordion-button\" type=\"button\" data-bs-toggle=\"collapse\" data-bs-target=\"#collapseOne\" aria-expanded=\"true\" aria-controls=\"collapseOne\">\n",
    "        Accordion Item #1\n",
    "      </button>\n",
    "    </h2>\n",
    "    <div id=\"collapseOne\" class=\"accordion-collapse collapse show\" data-bs-parent=\"#accordionExample\">\n",
    "      <div class=\"accordion-body\">\n",
    "        <strong>This is the first item's accordion body.</strong> It is shown by default, until the collapse plugin adds the appropriate classes that we use to style each element. These classes control the overall appearance, as well as the showing and hiding via CSS transitions. You can modify any of this with custom CSS or overriding our default variables. It's also worth noting that just about any HTML can go within the <code>.accordion-body</code>, though the transition does limit overflow.\n",
    "      </div>\n",
    "    </div>\n",
    "  </div>\n",
    "  <div class=\"accordion-item\">\n",
    "    <h2 class=\"accordion-header\">\n",
    "      <button class=\"accordion-button collapsed\" type=\"button\" data-bs-toggle=\"collapse\" data-bs-target=\"#collapseTwo\" aria-expanded=\"false\" aria-controls=\"collapseTwo\">\n",
    "        Accordion Item #2\n",
    "      </button>\n",
    "    </h2>\n",
    "    <div id=\"collapseTwo\" class=\"accordion-collapse collapse\" data-bs-parent=\"#accordionExample\">\n",
    "      <div class=\"accordion-body\">\n",
    "        <strong>This is the second item's accordion body.</strong> It is hidden by default, until the collapse plugin adds the appropriate classes that we use to style each element. These classes control the overall appearance, as well as the showing and hiding via CSS transitions. You can modify any of this with custom CSS or overriding our default variables. It's also worth noting that just about any HTML can go within the <code>.accordion-body</code>, though the transition does limit overflow.\n",
    "      </div>\n",
    "    </div>\n",
    "  </div>"
   ]
  },
  {
   "cell_type": "code",
   "execution_count": 32,
   "id": "64b738a8",
   "metadata": {},
   "outputs": [],
   "source": [
    "# 7) Navs\n",
    "\n",
    "# Nav class is built using flex.\n",
    "# It has different alignments like horizontal and vertical alignments\n",
    "\n",
    "# The first item is an active link. The next 2 are links. The fourth one is a disabled link.\n"
   ]
  },
  {
   "cell_type": "raw",
   "id": "7ec6763c",
   "metadata": {},
   "source": [
    "<ul class=\"nav\">\n",
    "  <li class=\"nav-item\">\n",
    "    <a class=\"nav-link active\" aria-current=\"page\" href=\"#\">Active</a>\n",
    "  </li>\n",
    "  <li class=\"nav-item\">\n",
    "    <a class=\"nav-link\" href=\"#\">Link</a>\n",
    "  </li>\n",
    "  <li class=\"nav-item\">\n",
    "    <a class=\"nav-link\" href=\"#\">Link</a>\n",
    "  </li>\n",
    "  <li class=\"nav-item\">\n",
    "    <a class=\"nav-link disabled\">Disabled</a>\n",
    "  </li>\n",
    "</ul>"
   ]
  },
  {
   "cell_type": "code",
   "execution_count": 33,
   "id": "ae8c4ff8",
   "metadata": {},
   "outputs": [],
   "source": [
    "# Tab effect\n",
    "\n",
    "# To get the tab effect, we just add nav-tabs to the ul class.\n",
    "# Now we can see tabs on each of the item."
   ]
  },
  {
   "cell_type": "raw",
   "id": "815e512a",
   "metadata": {},
   "source": [
    "<ul class=\"nav nav-tabs\">\n",
    "  <li class=\"nav-item\">\n",
    "    <a class=\"nav-link active\" aria-current=\"page\" href=\"#\">Active</a>\n",
    "  </li>\n",
    "  <li class=\"nav-item\">\n",
    "    <a class=\"nav-link\" href=\"#\">Link</a>\n",
    "  </li>\n",
    "  <li class=\"nav-item\">\n",
    "    <a class=\"nav-link\" href=\"#\">Link</a>\n",
    "  </li>\n",
    "  <li class=\"nav-item\">\n",
    "    <a class=\"nav-link disabled\">Disabled</a>\n",
    "  </li>\n",
    "</ul>"
   ]
  },
  {
   "cell_type": "code",
   "execution_count": 34,
   "id": "d0238cca",
   "metadata": {},
   "outputs": [],
   "source": [
    "# Pill effect\n",
    "\n",
    "# To get the pill effect, we just add nav-pills to the ul class\n",
    "# Now we can see pills on each of the item."
   ]
  },
  {
   "cell_type": "raw",
   "id": "1e13932c",
   "metadata": {},
   "source": [
    "<ul class=\"nav nav-pills\">\n",
    "  <li class=\"nav-item\">\n",
    "    <a class=\"nav-link active\" aria-current=\"page\" href=\"#\">Active</a>\n",
    "  </li>\n",
    "  <li class=\"nav-item\">\n",
    "    <a class=\"nav-link\" href=\"#\">Link</a>\n",
    "  </li>\n",
    "  <li class=\"nav-item\">\n",
    "    <a class=\"nav-link\" href=\"#\">Link</a>\n",
    "  </li>\n",
    "  <li class=\"nav-item\">\n",
    "    <a class=\"nav-link disabled\">Disabled</a>\n",
    "  </li>\n",
    "</ul>"
   ]
  },
  {
   "cell_type": "code",
   "execution_count": 35,
   "id": "6e300db0",
   "metadata": {},
   "outputs": [],
   "source": [
    "# Fill and Justify"
   ]
  },
  {
   "cell_type": "code",
   "execution_count": 36,
   "id": "8f7a222f",
   "metadata": {},
   "outputs": [],
   "source": [
    "# To proportionately fill all available space with your .nav-items, use .nav-fill. \n",
    "# Notice that all horizontal space is occupied, but not every nav item has the same width.\n",
    "\n",
    "# We just add 'nav-fill' to the ul class."
   ]
  },
  {
   "cell_type": "raw",
   "id": "716ec6a4",
   "metadata": {},
   "source": [
    "<ul class=\"nav nav-pills nav-fill\">\n",
    "  <li class=\"nav-item\">\n",
    "    <a class=\"nav-link active\" aria-current=\"page\" href=\"#\">Active</a>\n",
    "  </li>\n",
    "  <li class=\"nav-item\">\n",
    "    <a class=\"nav-link\" href=\"#\">Much longer nav link</a>\n",
    "  </li>\n",
    "  <li class=\"nav-item\">\n",
    "    <a class=\"nav-link\" href=\"#\">Link</a>\n",
    "  </li>\n",
    "  <li class=\"nav-item\">\n",
    "    <a class=\"nav-link disabled\">Disabled</a>\n",
    "  </li>\n",
    "</ul>"
   ]
  },
  {
   "cell_type": "code",
   "execution_count": 37,
   "id": "df9196d7",
   "metadata": {},
   "outputs": [],
   "source": [
    "# For equal-width elements, use .nav-justified. All horizontal space will be occupied by nav links, \n",
    "# but unlike the .nav-fill above, every nav item will be the same width.\n",
    "\n",
    "# We just add 'nav-justified' to the ul class."
   ]
  },
  {
   "cell_type": "raw",
   "id": "bc19fec3",
   "metadata": {},
   "source": [
    "<ul class=\"nav nav-pills nav-justified\">\n",
    "  <li class=\"nav-item\">\n",
    "    <a class=\"nav-link active\" aria-current=\"page\" href=\"#\">Active</a>\n",
    "  </li>\n",
    "  <li class=\"nav-item\">\n",
    "    <a class=\"nav-link\" href=\"#\">Much longer nav link</a>\n",
    "  </li>\n",
    "  <li class=\"nav-item\">\n",
    "    <a class=\"nav-link\" href=\"#\">Link</a>\n",
    "  </li>\n",
    "  <li class=\"nav-item\">\n",
    "    <a class=\"nav-link disabled\">Disabled</a>\n",
    "  </li>\n",
    "</ul>"
   ]
  },
  {
   "cell_type": "code",
   "execution_count": 38,
   "id": "53b25657",
   "metadata": {},
   "outputs": [],
   "source": [
    "# In all the above cases, we weren't able to switch the tabs (no toggling behaviour)\n",
    "# In the below case, using javascript we are able to switch the tab.\n",
    "\n",
    "# In the below case,\n",
    "# there are 4 buttons namely 'Home', 'Profile', 'Contact' and 'Disabled'.\n",
    "# The data-bs-toggle = \"tab\" is responsible for the toggling behaviour.\n",
    "# After all the 4 buttons are listed, we have the tab content part.\n",
    "# The 'data-bs-target' attribute triggers the tab content part."
   ]
  },
  {
   "cell_type": "raw",
   "id": "170a9ca2",
   "metadata": {},
   "source": [
    "<ul class=\"nav nav-tabs\" id=\"myTab\" role=\"tablist\">\n",
    "  <li class=\"nav-item\" role=\"presentation\">\n",
    "    <button class=\"nav-link active\" id=\"home-tab\" data-bs-toggle=\"tab\" data-bs-target=\"#home-tab-pane\" type=\"button\" role=\"tab\" aria-controls=\"home-tab-pane\" aria-selected=\"true\">Home</button>\n",
    "  </li>\n",
    "  <li class=\"nav-item\" role=\"presentation\">\n",
    "    <button class=\"nav-link\" id=\"profile-tab\" data-bs-toggle=\"tab\" data-bs-target=\"#profile-tab-pane\" type=\"button\" role=\"tab\" aria-controls=\"profile-tab-pane\" aria-selected=\"false\">Profile</button>\n",
    "  </li>\n",
    "  <li class=\"nav-item\" role=\"presentation\">\n",
    "    <button class=\"nav-link\" id=\"contact-tab\" data-bs-toggle=\"tab\" data-bs-target=\"#contact-tab-pane\" type=\"button\" role=\"tab\" aria-controls=\"contact-tab-pane\" aria-selected=\"false\">Contact</button>\n",
    "  </li>\n",
    "  <li class=\"nav-item\" role=\"presentation\">\n",
    "    <button class=\"nav-link\" id=\"disabled-tab\" data-bs-toggle=\"tab\" data-bs-target=\"#disabled-tab-pane\" type=\"button\" role=\"tab\" aria-controls=\"disabled-tab-pane\" aria-selected=\"false\" disabled>Disabled</button>\n",
    "  </li>\n",
    "</ul>\n",
    "<div class=\"tab-content\" id=\"myTabContent\">\n",
    "  <div class=\"tab-pane fade show active\" id=\"home-tab-pane\" role=\"tabpanel\" aria-labelledby=\"home-tab\" tabindex=\"0\">...</div>\n",
    "  <div class=\"tab-pane fade\" id=\"profile-tab-pane\" role=\"tabpanel\" aria-labelledby=\"profile-tab\" tabindex=\"0\">...</div>\n",
    "  <div class=\"tab-pane fade\" id=\"contact-tab-pane\" role=\"tabpanel\" aria-labelledby=\"contact-tab\" tabindex=\"0\">...</div>\n",
    "  <div class=\"tab-pane fade\" id=\"disabled-tab-pane\" role=\"tabpanel\" aria-labelledby=\"disabled-tab\" tabindex=\"0\">...</div>\n",
    "</div>"
   ]
  },
  {
   "cell_type": "code",
   "execution_count": 39,
   "id": "294b40fb",
   "metadata": {},
   "outputs": [],
   "source": [
    "# 8) Navbar\n",
    "\n",
    "# The Navbar is responsive. If we go on decreasing the screen size, a hamburger icon appears and the navbar becomes a dropdown.\n",
    "\n",
    "# Navbar and their contents are fluid by default. Like in the case that we saw for container-fluid. They occupy the complete width.\n",
    "\n",
    "# class 'navbar-expand-lg' - The navbar expands on large screens. On xs, sm and md, it will shrink/collapse. \n",
    "# We can see the hamburger button in the 4th line. 'data-bs-toggle' = \"collapse\" and data-bs-target = \"#navbarSupportedContent\"\n",
    "# The 'navbarSupportedContent' is an unordered list.\n",
    "# One of the list item is dropdown and we have the dropdown code\n",
    "# We also have the navbar form at the last which is responsible for the search option.\n",
    "# The form is inline.\n",
    "\n",
    "# We can add text around navbar.\n",
    "# There are different color schemes for navbar.\n",
    "# We can have fixed and sticky navbar."
   ]
  },
  {
   "cell_type": "raw",
   "id": "a0614782",
   "metadata": {},
   "source": [
    "<nav class=\"navbar navbar-expand-lg bg-body-tertiary\">\n",
    "  <div class=\"container-fluid\">\n",
    "    <a class=\"navbar-brand\" href=\"#\">Navbar</a>\n",
    "    <button class=\"navbar-toggler\" type=\"button\" data-bs-toggle=\"collapse\" data-bs-target=\"#navbarSupportedContent\" aria-controls=\"navbarSupportedContent\" aria-expanded=\"false\" aria-label=\"Toggle navigation\">\n",
    "      <span class=\"navbar-toggler-icon\"></span>\n",
    "    </button>\n",
    "    <div class=\"collapse navbar-collapse\" id=\"navbarSupportedContent\">\n",
    "      <ul class=\"navbar-nav me-auto mb-2 mb-lg-0\">\n",
    "        <li class=\"nav-item\">\n",
    "          <a class=\"nav-link active\" aria-current=\"page\" href=\"#\">Home</a>\n",
    "        </li>\n",
    "        <li class=\"nav-item\">\n",
    "          <a class=\"nav-link\" href=\"#\">Link</a>\n",
    "        </li>\n",
    "        <li class=\"nav-item dropdown\">\n",
    "          <a class=\"nav-link dropdown-toggle\" href=\"#\" role=\"button\" data-bs-toggle=\"dropdown\" aria-expanded=\"false\">\n",
    "            Dropdown\n",
    "          </a>\n",
    "          <ul class=\"dropdown-menu\">\n",
    "            <li><a class=\"dropdown-item\" href=\"#\">Action</a></li>\n",
    "            <li><a class=\"dropdown-item\" href=\"#\">Another action</a></li>\n",
    "            <li><hr class=\"dropdown-divider\"></li>\n",
    "            <li><a class=\"dropdown-item\" href=\"#\">Something else here</a></li>\n",
    "          </ul>\n",
    "        </li>\n",
    "        <li class=\"nav-item\">\n",
    "          <a class=\"nav-link disabled\">Disabled</a>\n",
    "        </li>\n",
    "      </ul>\n",
    "      <form class=\"d-flex\" role=\"search\">\n",
    "        <input class=\"form-control me-2\" type=\"search\" placeholder=\"Search\" aria-label=\"Search\">\n",
    "        <button class=\"btn btn-outline-success\" type=\"submit\">Search</button>\n",
    "      </form>\n",
    "    </div>\n",
    "  </div>\n",
    "</nav>"
   ]
  },
  {
   "cell_type": "code",
   "execution_count": 1,
   "id": "e86ae491",
   "metadata": {},
   "outputs": [],
   "source": [
    "# Jumbotron is a class to add a lot spaces around the content."
   ]
  },
  {
   "cell_type": "code",
   "execution_count": 2,
   "id": "2edf0cf2",
   "metadata": {},
   "outputs": [],
   "source": [
    "# For a div element, here are some of the commonly inherited properties are color, font-family, font-sze, font-style, font-weight\n",
    "# text-align, text-indent, line-height, opacity\n",
    "\n",
    "# Properties related to box-model, like padding, margin, border, width, height, background, position, etc., are not inherited. \n",
    "# This means if you set these properties on a parent div, they will not automatically apply to a child div."
   ]
  },
  {
   "cell_type": "raw",
   "id": "eb00d867",
   "metadata": {},
   "source": [
    "<body>\n",
    "\n",
    "<p style=\"color: red\">\n",
    "  <span> This is a paragraph.</span>\n",
    "  <a href=\"\">Click on me</a>\n",
    "</p>\n",
    "\n",
    "</body>"
   ]
  },
  {
   "cell_type": "code",
   "execution_count": null,
   "id": "d43836bc",
   "metadata": {},
   "outputs": [],
   "source": [
    "#The colour of text inside span and anchor tag are Red and Blue.\n",
    "\n",
    "# The Colour for text in the span tag is inherited here but the colour for text in the anchor tag is not inherited because \n",
    "# already has its colour set in the browser's default stylesheet."
   ]
  }
 ],
 "metadata": {
  "kernelspec": {
   "display_name": "Python 3 (ipykernel)",
   "language": "python",
   "name": "python3"
  },
  "language_info": {
   "codemirror_mode": {
    "name": "ipython",
    "version": 3
   },
   "file_extension": ".py",
   "mimetype": "text/x-python",
   "name": "python",
   "nbconvert_exporter": "python",
   "pygments_lexer": "ipython3",
   "version": "3.9.12"
  }
 },
 "nbformat": 4,
 "nbformat_minor": 5
}
