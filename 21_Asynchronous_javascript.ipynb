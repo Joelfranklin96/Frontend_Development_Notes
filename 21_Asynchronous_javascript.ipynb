{
 "cells": [
  {
   "cell_type": "code",
   "execution_count": null,
   "id": "6246dd76",
   "metadata": {},
   "outputs": [],
   "source": []
  },
  {
   "cell_type": "code",
   "execution_count": 1,
   "id": "c2de7f29",
   "metadata": {},
   "outputs": [],
   "source": [
    "# Promises"
   ]
  },
  {
   "cell_type": "code",
   "execution_count": null,
   "id": "fd5c6fb0",
   "metadata": {},
   "outputs": [],
   "source": [
    "# Promises have 3 states - Pending, Fulfilled, Rejected\n",
    "\n",
    "# A promise is settled only when it is in either of the 2 states - Fulfilled or Rejected"
   ]
  },
  {
   "cell_type": "raw",
   "id": "c2b22395",
   "metadata": {},
   "source": [
    "var promise = new Promise(() => {})\n",
    "console.log(promise);"
   ]
  },
  {
   "cell_type": "code",
   "execution_count": null,
   "id": "4c5fc1b3",
   "metadata": {},
   "outputs": [],
   "source": [
    "# output in above case\n",
    "\n",
    "# Promise {<pending>}\n",
    "# [[Prototype]]: Promise\n",
    "# [[PromiseState]]: \"pending\"\n",
    "# [[PromiseResult]]: undefined\n",
    "\n",
    "# The above promise is in \"pending\" state"
   ]
  },
  {
   "cell_type": "raw",
   "id": "8a589eb3",
   "metadata": {},
   "source": [
    "var promise = new Promise((resolve, reject) => {\n",
    "  resolve(\"Yes! Promise fulfilled\")\n",
    "})\n",
    "\n",
    "console.log(promise);"
   ]
  },
  {
   "cell_type": "code",
   "execution_count": null,
   "id": "7ccbd1a0",
   "metadata": {},
   "outputs": [],
   "source": [
    "# output in above case\n",
    "\n",
    "# Promise {<fulfilled>: 'Yes! Promise fulfilled'}\n",
    "# [[Prototype]]: Promise\n",
    "# [[PromiseState]]: \"fulfilled\"\n",
    "# [[PromiseResult]]: \"Yes! Promise fulfilled\""
   ]
  },
  {
   "cell_type": "raw",
   "id": "d554017e",
   "metadata": {},
   "source": [
    "var promise = new Promise((resolve, reject) => {\n",
    "  reject(\"Something went wrong\")\n",
    "})\n",
    "\n",
    "console.log(promise);"
   ]
  },
  {
   "cell_type": "code",
   "execution_count": null,
   "id": "63463c18",
   "metadata": {},
   "outputs": [],
   "source": [
    "# output in above case\n",
    "\n",
    "# Promise {<fulfilled>: 'Something went wrong'}\n",
    "# [[Prototype]]: Promise\n",
    "# [[PromiseState]]: \"fulfilled\"\n",
    "# [[PromiseResult]]: \"Something went wrong\"\n",
    "\n",
    "# The console throws an error that \n",
    "# Uncaught (in promise)\n",
    "# Something went wrong"
   ]
  },
  {
   "cell_type": "raw",
   "id": "5f6f03d5",
   "metadata": {},
   "source": [
    "var promise = new Promise((resolve, reject) => {\n",
    "  setTimeout(() => {\n",
    "    resolve({message : \"Success\"})\n",
    "  }, 3000)\n",
    "})\n",
    "\n",
    "console.log(promise);"
   ]
  },
  {
   "cell_type": "code",
   "execution_count": null,
   "id": "6e532bda",
   "metadata": {},
   "outputs": [],
   "source": [
    "# output in above case\n",
    "\n",
    "# Promise {<pending>}\n",
    "# [[Prototype]]: Promise\n",
    "# [[PromiseState]]: \"fulfilled\"\n",
    "# [[PromiseResult]]: Object\n",
    "\n",
    "# In above case, initially the promise was pending and then it changed it's state to 'fulfilled' after 3 secs.\n",
    "# The PromiseResult is an object ({message : 'Success'})"
   ]
  },
  {
   "cell_type": "raw",
   "id": "9fe95a5e",
   "metadata": {},
   "source": [
    "var promise = new Promise((resolve, reject) => {\n",
    "  setTimeout(() => {\n",
    "    resolve({message : \"Sucess\"})\n",
    "  }, 3000)\n",
    "})\n",
    "\n",
    "promise.then((data) => {\n",
    "  console.log(data);\n",
    "})"
   ]
  },
  {
   "cell_type": "code",
   "execution_count": null,
   "id": "c3bd457d",
   "metadata": {},
   "outputs": [],
   "source": [
    "# output in above case\n",
    "\n",
    "# {message: 'Success'}\n",
    "\n",
    "# After 3 seconds, the promise.then() function is called which returns the data ({message : 'Success'})"
   ]
  },
  {
   "cell_type": "raw",
   "id": "9dbe5d95",
   "metadata": {},
   "source": [
    "var promise = new Promise((resolve, reject) => {\n",
    "  setTimeout(() => {\n",
    "    resolve({message : \"Success\"})\n",
    "  }, 3000)\n",
    "})\n",
    "\n",
    "promise\n",
    "  .then((data) => {\n",
    "  console.log(data);\n",
    "})\n",
    "  .catch((error) => {\n",
    "  console.log('error', error)\n",
    "})"
   ]
  },
  {
   "cell_type": "code",
   "execution_count": null,
   "id": "057ca758",
   "metadata": {},
   "outputs": [],
   "source": [
    "# output in above case\n",
    "\n",
    "# {message: 'Success'}\n",
    "\n",
    "# After 3 seconds, the promise.then() function is called which returns the data ({message : 'Success'})\n",
    "\n",
    "# When a promise is resolved, promise.then() would be called\n",
    "# When there is an error, promise.catch() would be called"
   ]
  },
  {
   "cell_type": "raw",
   "id": "61b3f4e4",
   "metadata": {},
   "source": [
    "var promise = new Promise((resolve, reject) => {\n",
    "  setTimeout(() => {\n",
    "    reject({error : \"Something went wrong\"})\n",
    "  }, 3000)\n",
    "})\n",
    "\n",
    "promise\n",
    "  .then((data) => {\n",
    "  console.log(data);\n",
    "})\n",
    "  .catch((error) => {\n",
    "  console.log('error', error)\n",
    "})"
   ]
  },
  {
   "cell_type": "code",
   "execution_count": null,
   "id": "1e9db8ef",
   "metadata": {},
   "outputs": [],
   "source": [
    "# output in above case\n",
    "\n",
    "# error {error: 'Something went wrong'}\n",
    "\n",
    "# When a promise is rejected, promise.catch() would be called"
   ]
  },
  {
   "cell_type": "code",
   "execution_count": null,
   "id": "d514b440",
   "metadata": {},
   "outputs": [],
   "source": [
    "# The promise will never get settled as resolve() or reject() is never called"
   ]
  },
  {
   "cell_type": "code",
   "execution_count": 1,
   "id": "f96f2c7a",
   "metadata": {},
   "outputs": [],
   "source": [
    "# callbacks"
   ]
  },
  {
   "cell_type": "raw",
   "id": "ca6f04bb",
   "metadata": {},
   "source": [
    "function greet(name, callback){\n",
    "  console.log(\"Hi\" + \" \" + name)\n",
    "  callback();\n",
    "}\n",
    "\n",
    "function callback(){\n",
    "  console.log(\"How are you?\")\n",
    "}\n",
    "\n",
    "greet(\"John\", callback);"
   ]
  },
  {
   "cell_type": "code",
   "execution_count": null,
   "id": "72d194fa",
   "metadata": {},
   "outputs": [],
   "source": [
    "# output in above case\n",
    "\n",
    "# Hi John\n",
    "# How are you?"
   ]
  },
  {
   "cell_type": "code",
   "execution_count": null,
   "id": "ddc7e81f",
   "metadata": {},
   "outputs": [],
   "source": [
    "# Javascript is a single threaded language which means it has one call stack and one heap\n",
    "\n",
    "# Javascript is synchronous in nature which means if function A takes 1 min and function B is after function A, then function B\n",
    "# will not be called until function A is completed.\n",
    "\n",
    "# But we have seen the ansynchronous nature of Javascript in the setTimeout function case though javascript is a \n",
    "# single threaded language"
   ]
  },
  {
   "cell_type": "code",
   "execution_count": 2,
   "id": "b564e6dc",
   "metadata": {},
   "outputs": [],
   "source": [
    "# Below is an example of asynchronous nature of javascript even though javascript is a single threaded language"
   ]
  },
  {
   "cell_type": "raw",
   "id": "0af06234",
   "metadata": {},
   "source": [
    "console.log(1)\n",
    "\n",
    "setTimeout(function(){\n",
    "  console.log(2)\n",
    "}, 1000);\n",
    "\n",
    "console.log(3);"
   ]
  },
  {
   "cell_type": "code",
   "execution_count": 3,
   "id": "3d8de806",
   "metadata": {},
   "outputs": [],
   "source": [
    "# output in above case\n",
    "\n",
    "# 1\n",
    "# 3\n",
    "# 2\n",
    "\n",
    "# In the above case, the function passed as argument to setTimeout function is a callback function"
   ]
  },
  {
   "cell_type": "raw",
   "id": "f359d343",
   "metadata": {},
   "source": [
    "var promise = new Promise(function(resolve, reject){\n",
    "  resolve(1);\n",
    "})\n",
    "\n",
    "promise.then(function(data){\n",
    "  console.log(data);\n",
    "})"
   ]
  },
  {
   "cell_type": "code",
   "execution_count": 4,
   "id": "68f8680e",
   "metadata": {},
   "outputs": [],
   "source": [
    "# output in above case\n",
    "\n",
    "# 1"
   ]
  },
  {
   "cell_type": "raw",
   "id": "320dc9d1",
   "metadata": {},
   "source": [
    "console.log(1);\n",
    "\n",
    "var promise = new Promise(function(resolve, reject){\n",
    "  resolve(2);\n",
    "})\n",
    "\n",
    "promise.then(function(data){\n",
    "  console.log(data);\n",
    "})\n",
    "\n",
    "console.log(3);"
   ]
  },
  {
   "cell_type": "code",
   "execution_count": 5,
   "id": "eef0c122",
   "metadata": {},
   "outputs": [],
   "source": [
    "# output in above case\n",
    "\n",
    "# 1\n",
    "# 3\n",
    "# 2"
   ]
  },
  {
   "cell_type": "code",
   "execution_count": 6,
   "id": "28bf8a5f",
   "metadata": {},
   "outputs": [],
   "source": [
    "# CallBacks help to achieve asynchronous nature in javascript"
   ]
  },
  {
   "cell_type": "raw",
   "id": "f204d5a8",
   "metadata": {},
   "source": [
    "console.log(1);\n",
    "\n",
    "setTimeout(function(){\n",
    "  console.log(2)\n",
    "}, 0);\n",
    "\n",
    "console.log(3);"
   ]
  },
  {
   "cell_type": "code",
   "execution_count": 7,
   "id": "3e66b577",
   "metadata": {},
   "outputs": [],
   "source": [
    "# output in above case\n",
    "\n",
    "# 1\n",
    "# 3\n",
    "# 2"
   ]
  },
  {
   "cell_type": "code",
   "execution_count": 8,
   "id": "4e220725",
   "metadata": {},
   "outputs": [],
   "source": [
    "# setTimeout is a fucntion of the browser API\n",
    "# V8 is the javascript engine for chrome\n",
    "\n",
    "# setTimeout doesn't create execution context in the call stack\n",
    "\n",
    "# console.log(1) is first put into the execution context\n",
    "# Then setTimeout is put into the execution context but it has no effect on the execution context\n",
    "# setTimeout starts the timer in the browser and pop out of the call stack\n",
    "# When the timer ends, the callBack function of the setTimeout goes into the task queue (or callBack queue)\n",
    "\n",
    "# There is 'Event Loop' which constantly checks if the call stack is empty or not\n",
    "# As soon as the call stack is empty, the 'Event Loop' will dequeue the callBack queue into the call stack\n",
    "# As a result the callback function of setTimeout is executed at last"
   ]
  },
  {
   "cell_type": "raw",
   "id": "1ea13dfd",
   "metadata": {},
   "source": [
    "setTimeout(function(){\n",
    "  console.log(1)\n",
    "}, 0);\n",
    "\n",
    "var promise = new Promise(function(resolve, reject){\n",
    "  resolve(2);\n",
    "});\n",
    "\n",
    "promise.then(function(data){\n",
    "  console.log(data);\n",
    "})\n",
    "\n",
    "console.log(3);"
   ]
  },
  {
   "cell_type": "code",
   "execution_count": 9,
   "id": "3ea79cc3",
   "metadata": {},
   "outputs": [],
   "source": [
    "# output in above case\n",
    "\n",
    "# 3\n",
    "# 2\n",
    "# 1"
   ]
  },
  {
   "cell_type": "code",
   "execution_count": null,
   "id": "5575d892",
   "metadata": {},
   "outputs": [],
   "source": [
    "# The callBack function of setTimeout (cb1) is pushed to the task queue (or callback queue) when the timer ends\n",
    "# The callBack function of promise (cb2) is pushed to the micro task queue\n",
    "# The 'Event Loop' keeps checking if the call stack is empty or not\n",
    "# Once the call stack is empty, the 'Event Loop' dequeues first from the micro task queue and puts cb2 into the call stack\n",
    "# After the micro task queue is empty, the 'Event Loop' then dequeues the task queue and puts cb1 into the call stack\n",
    "\n",
    "# Micro task queue is given more preference over task queue\n",
    "# Even if micro task queue has 100 callback functions, the 'Event loop' dequeues all 100 callback functions before dequeuing \n",
    "# the task queue"
   ]
  },
  {
   "cell_type": "raw",
   "id": "19ad6fe0",
   "metadata": {},
   "source": [
    "var promise = new Promise(function(resolve, reject){\n",
    "  resolve('resolved');\n",
    "})\n",
    "\n",
    "promise.then(function(data){\n",
    "  console.log(data)\n",
    "})"
   ]
  },
  {
   "cell_type": "code",
   "execution_count": 10,
   "id": "b022ec5a",
   "metadata": {},
   "outputs": [],
   "source": [
    "# The below is the shorthand of the above code"
   ]
  },
  {
   "cell_type": "raw",
   "id": "52b4e65a",
   "metadata": {},
   "source": [
    "Promise.resolve('resolved').then(data => console.log(data));"
   ]
  },
  {
   "cell_type": "code",
   "execution_count": 11,
   "id": "0fa9815f",
   "metadata": {},
   "outputs": [],
   "source": [
    "# The promise is immediately resolved in the above case"
   ]
  },
  {
   "cell_type": "raw",
   "id": "f86b6c1d",
   "metadata": {},
   "source": [
    "async function asyncTask (){\n",
    "  return 'Resolved';\n",
    "}\n",
    "\n",
    "asyncTask()"
   ]
  },
  {
   "cell_type": "code",
   "execution_count": null,
   "id": "a38e6b89",
   "metadata": {},
   "outputs": [],
   "source": [
    "# output in above case\n",
    "\n",
    "# Promise {<fulfilled>: \"Resolved\"}\n",
    "\n",
    "# When we attach async to a function, it returns a promise"
   ]
  },
  {
   "cell_type": "raw",
   "id": "7df0ab57",
   "metadata": {},
   "source": [
    "async function asyncTask (){\n",
    "  return 'Resolved';\n",
    "}\n",
    "\n",
    "asyncTask().then(function(data){\n",
    "  console.log(data);\n",
    "})"
   ]
  },
  {
   "cell_type": "code",
   "execution_count": null,
   "id": "20005a78",
   "metadata": {},
   "outputs": [],
   "source": [
    "# output in above case\n",
    "\n",
    "# Resolved"
   ]
  },
  {
   "cell_type": "raw",
   "id": "6b600863",
   "metadata": {},
   "source": [
    "function getData(){\n",
    "  return Promise.resolve('Some data');\n",
    "}\n",
    "\n",
    "async function abc(){\n",
    "  const data = await getData();\n",
    "  console.log(data)\n",
    "}\n",
    "\n",
    "abc();\n",
    "console.log(1);"
   ]
  },
  {
   "cell_type": "code",
   "execution_count": 12,
   "id": "42492bc6",
   "metadata": {},
   "outputs": [],
   "source": [
    "# output in above case\n",
    "\n",
    "# 1\n",
    "# 'Some data'"
   ]
  },
  {
   "cell_type": "code",
   "execution_count": null,
   "id": "31399477",
   "metadata": {},
   "outputs": [],
   "source": [
    "# await\n",
    "\n",
    "# 1) await suspends the function getData() and the function abc() is thrown into the micro task queue\n",
    "# 2) waits for getData()\n",
    "# 3) converts javascript to synchronous code\n",
    "\n",
    "# await can be used only within the async function\n",
    "# await getData() would store the resolved value of the promise (in this case, 'Some data') into the data variable\n",
    "# The function abc() behaves like the callback function of promises because it is thrown into the micro task queue"
   ]
  },
  {
   "cell_type": "raw",
   "id": "bc33240d",
   "metadata": {},
   "source": [
    "const promise1 = new Promise((resolve,reject) => { setTimeout(() => { resolve('a') }) })\n",
    "\n",
    "const promise2 = new Promise((resolve,reject) => { resolve('b') })\n",
    "\n",
    "const promise3 = new Promise((resolve,reject) => { setTimeout(() => { resolve('c') },10) })\n",
    "\n",
    "Promise.all([promise1,promise2,promise3]) .then((msg) => { console.log(msg) })"
   ]
  },
  {
   "cell_type": "code",
   "execution_count": 13,
   "id": "7cd5c83a",
   "metadata": {},
   "outputs": [],
   "source": [
    "# output in above case\n",
    "\n",
    "# ['a', 'b', 'c']"
   ]
  },
  {
   "cell_type": "code",
   "execution_count": 14,
   "id": "fff42140",
   "metadata": {},
   "outputs": [],
   "source": [
    "# The Promise.all method takes an array of promises and returns a new promise that only resolves when all of the promises in the\n",
    "# array have resolved. It returns the values of the resolved promises in the same order as the promises were listed in the array.\n",
    "\n",
    "# In our case, promise1 resolves with a value of 'a' after some delay due to the setTimeout, promise2 resolves immediately with \n",
    "# a value of 'b', and promise3 resolves with a value of 'c' after a 10 millisecond delay.\n",
    "\n",
    "# Even though promise2 resolves before promise1 and promise3, Promise.all waits for all the promises to resolve. \n",
    "# The order of promises in the output array is the same as the order of promises in the input array, so the output will be an \n",
    "# array ['a', 'b', 'c']."
   ]
  },
  {
   "cell_type": "raw",
   "id": "ffb8d37f",
   "metadata": {},
   "source": [
    "setTimeout(() => {\n",
    "  console.log('a')\n",
    "})\n",
    "\n",
    "new Promise((resolve,reject) => {\n",
    "  setTimeout(() => {\n",
    "    console.log('b')\n",
    "  })\n",
    "})"
   ]
  },
  {
   "cell_type": "code",
   "execution_count": 15,
   "id": "2e1e1f9e",
   "metadata": {},
   "outputs": [],
   "source": [
    "# output in above case\n",
    "\n",
    "# a b"
   ]
  },
  {
   "cell_type": "code",
   "execution_count": 16,
   "id": "6992da62",
   "metadata": {},
   "outputs": [],
   "source": [
    "# The callback function (cb1) of first setTimeout is pushed into the task queue\n",
    "# The callback function (cb2) of the setTimeout inside the Promise is also pushed into the task queue\n",
    "# Hence we get the output a b"
   ]
  },
  {
   "cell_type": "raw",
   "id": "1d47655c",
   "metadata": {},
   "source": [
    "const promise = new Promise((resolve,reject) => {\n",
    "  resolve('a')\n",
    "})\n",
    "\n",
    "setTimeout(() => {\n",
    "  console.log('b')\n",
    "})\n",
    "\n",
    "promise.then((msg) => {\n",
    "  console.log(msg)\n",
    "})"
   ]
  },
  {
   "cell_type": "code",
   "execution_count": 1,
   "id": "470fb97d",
   "metadata": {},
   "outputs": [],
   "source": [
    "# output in above case\n",
    "\n",
    "# a b"
   ]
  },
  {
   "cell_type": "raw",
   "id": "a2394d0d",
   "metadata": {},
   "source": [
    "const promise1 = new Promise((resolve,reject) => {\n",
    "  setTimeout(() => {\n",
    "    resolve('a')\n",
    "  })\n",
    "})\n",
    "\n",
    "const promise2 = new Promise((resolve,reject) => {\n",
    "  resolve('b')\n",
    "})\n",
    "\n",
    "const promise3 = new Promise((resolve,reject) => {\n",
    "  setTimeout(() => {\n",
    "    resolve('c')\n",
    "  },10)\n",
    "})\n",
    "\n",
    "\n",
    "Promise.race([promise1,promise2,promise3])\n",
    ".then((msg) => {\n",
    "  console.log(msg)\n",
    "})"
   ]
  },
  {
   "cell_type": "code",
   "execution_count": null,
   "id": "1f20d856",
   "metadata": {},
   "outputs": [],
   "source": [
    "# output in above case\n",
    "\n",
    "# b\n",
    "\n",
    "# The Promise.race function accepts an iterable of promises and returns a promise that fulfills or rejects as soon as one of \n",
    "# the promises in the iterable fulfills or rejects, with the value or reason from that promise."
   ]
  },
  {
   "cell_type": "raw",
   "id": "f13c150e",
   "metadata": {},
   "source": [
    "const foo = new Promise((res, rej) => {\n",
    "    res(1);\n",
    " });\n",
    "\n",
    "async function faa(){\n",
    "    return foo;\n",
    "}\n",
    "\n",
    " function res(){\n",
    "     return Promise.resolve(foo);\n",
    "}\n",
    "\n",
    "console.log(foo === faa()); //statement 1\n",
    "console.log(foo === res()); //statement 2"
   ]
  },
  {
   "cell_type": "code",
   "execution_count": 4,
   "id": "d658f8da",
   "metadata": {},
   "outputs": [],
   "source": [
    "# output in above case\n",
    "\n",
    "# false\n",
    "# true"
   ]
  }
 ],
 "metadata": {
  "kernelspec": {
   "display_name": "Python 3 (ipykernel)",
   "language": "python",
   "name": "python3"
  },
  "language_info": {
   "codemirror_mode": {
    "name": "ipython",
    "version": 3
   },
   "file_extension": ".py",
   "mimetype": "text/x-python",
   "name": "python",
   "nbconvert_exporter": "python",
   "pygments_lexer": "ipython3",
   "version": "3.9.12"
  }
 },
 "nbformat": 4,
 "nbformat_minor": 5
}
