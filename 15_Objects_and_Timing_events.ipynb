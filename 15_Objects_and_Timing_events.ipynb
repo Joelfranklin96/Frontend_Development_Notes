{
 "cells": [
  {
   "cell_type": "code",
   "execution_count": 1,
   "id": "802c4491",
   "metadata": {},
   "outputs": [],
   "source": [
    "# Javascript is a object oriented programming language"
   ]
  },
  {
   "cell_type": "code",
   "execution_count": null,
   "id": "786b0d1f",
   "metadata": {},
   "outputs": [],
   "source": [
    "# The 'objects' in object oriented programming language is different from the 'object' in Javascript.\n",
    "# An 'object' in javascript is more like a key-value pair."
   ]
  },
  {
   "cell_type": "raw",
   "id": "cbe763dd",
   "metadata": {},
   "source": [
    "var student = {};\n",
    "console.log(typeof(student));"
   ]
  },
  {
   "cell_type": "code",
   "execution_count": 2,
   "id": "b580f41b",
   "metadata": {},
   "outputs": [],
   "source": [
    "# output in above case\n",
    "\n",
    "# object"
   ]
  },
  {
   "cell_type": "raw",
   "id": "189c0f66",
   "metadata": {},
   "source": [
    "var student = {name: \"abc\", rollno:135, marks:90};\n",
    "console.log(student.name)\n",
    "console.log(student.rollno)\n",
    "console.log(student.marks)"
   ]
  },
  {
   "cell_type": "code",
   "execution_count": 3,
   "id": "ba07c4d8",
   "metadata": {},
   "outputs": [],
   "source": [
    "# output in above case\n",
    "\n",
    "# abc\n",
    "# 135\n",
    "# 90"
   ]
  },
  {
   "cell_type": "code",
   "execution_count": null,
   "id": "f9280ad6",
   "metadata": {},
   "outputs": [],
   "source": [
    "# All the keys of the 'object' in javascript is treated as a string even without the quotes"
   ]
  },
  {
   "cell_type": "raw",
   "id": "8d228324",
   "metadata": {},
   "source": [
    "var student = {name: \"abc\", rollno:135, marks:90};\n",
    "student.marks = 100;\n",
    "console.log(student.marks);"
   ]
  },
  {
   "cell_type": "code",
   "execution_count": 4,
   "id": "c78ae9df",
   "metadata": {},
   "outputs": [],
   "source": [
    "# output in above case\n",
    "\n",
    "# 100"
   ]
  },
  {
   "cell_type": "raw",
   "id": "440199e3",
   "metadata": {},
   "source": [
    "var student = {\n",
    "  name: \"abc\", \n",
    "  rollno:135, \n",
    "  marks:90};\n",
    "  \n",
    "console.log(student.sem);"
   ]
  },
  {
   "cell_type": "code",
   "execution_count": null,
   "id": "8e1637a8",
   "metadata": {},
   "outputs": [],
   "source": [
    "# output in above case\n",
    "\n",
    "# undefined"
   ]
  },
  {
   "cell_type": "raw",
   "id": "caaa4377",
   "metadata": {},
   "source": [
    "var student = {\n",
    "  name: \"abc\", \n",
    "  rollno:135, \n",
    "  marks:90};\n",
    "  \n",
    "student.sem = 4;\n",
    "console.log(student.sem);"
   ]
  },
  {
   "cell_type": "code",
   "execution_count": 5,
   "id": "647e3efc",
   "metadata": {},
   "outputs": [],
   "source": [
    "# output in above case\n",
    "\n",
    "# 4"
   ]
  },
  {
   "cell_type": "code",
   "execution_count": 6,
   "id": "1ceb3e31",
   "metadata": {},
   "outputs": [],
   "source": [
    "# In other object oriented programming languages, there is a fixed template that the class follows\n",
    "# In javascript, object is like a key-value pair and we can create a new key.\n",
    "# Also in javascript, the objects don't have access modifiers (public, private, etc)\n",
    "\n",
    "# In the key-value pair, the values can be functions."
   ]
  },
  {
   "cell_type": "code",
   "execution_count": 7,
   "id": "990f2d8d",
   "metadata": {},
   "outputs": [],
   "source": [
    "# Ways of creating empty objects"
   ]
  },
  {
   "cell_type": "raw",
   "id": "08ef3527",
   "metadata": {},
   "source": [
    "var student = {};\n",
    "var student = new Object();"
   ]
  },
  {
   "cell_type": "raw",
   "id": "1c43d862",
   "metadata": {},
   "source": [
    "var student = {\n",
    "  name: \"abc\", \n",
    "  rollno:135, \n",
    "  marks:90};\n",
    "  \n",
    "console.log(student.marks);\n",
    "console.log(student[\"marks\"]);"
   ]
  },
  {
   "cell_type": "code",
   "execution_count": 8,
   "id": "5debaec4",
   "metadata": {},
   "outputs": [],
   "source": [
    "# output in above case\n",
    "\n",
    "# 90\n",
    "# 90"
   ]
  },
  {
   "cell_type": "code",
   "execution_count": 9,
   "id": "887a262f",
   "metadata": {},
   "outputs": [],
   "source": [
    "# In the case of invalid key, we can't use dot to access the properties.\n",
    "# But we can use square brackets to access the properties."
   ]
  },
  {
   "cell_type": "raw",
   "id": "f1937ec0",
   "metadata": {},
   "source": [
    "var student = {\n",
    "  \"-name\": \"abc\", \n",
    "  rollno:135, \n",
    "  marks:90};\n",
    "  \n",
    "console.log(student.-name);"
   ]
  },
  {
   "cell_type": "code",
   "execution_count": 10,
   "id": "aff1fcfd",
   "metadata": {},
   "outputs": [],
   "source": [
    "# The above throws an error"
   ]
  },
  {
   "cell_type": "raw",
   "id": "b8f6ed6d",
   "metadata": {},
   "source": [
    "var student = {\n",
    "  \"-name\": \"abc\", \n",
    "  rollno:135, \n",
    "  marks:90};\n",
    "\n",
    "console.log(student.[\"-name\"]);"
   ]
  },
  {
   "cell_type": "code",
   "execution_count": 12,
   "id": "f5b685a8",
   "metadata": {},
   "outputs": [],
   "source": [
    "# The above doesn't throw an error"
   ]
  },
  {
   "cell_type": "code",
   "execution_count": null,
   "id": "fbe233e3",
   "metadata": {},
   "outputs": [],
   "source": [
    "# An invalid is one starting with hyphens or numbers"
   ]
  },
  {
   "cell_type": "raw",
   "id": "bb247416",
   "metadata": {},
   "source": [
    "var student = {\n",
    "  name: \"abc\", \n",
    "  rollno:135, \n",
    "  marks:90\n",
    "};\n",
    "\n",
    "function printProperty(obj, prop){\n",
    "  console.log(obj[\"name\"]);\n",
    "}\n",
    "\n",
    "printProperty(student, \"name\");"
   ]
  },
  {
   "cell_type": "code",
   "execution_count": 13,
   "id": "5ef68a21",
   "metadata": {},
   "outputs": [],
   "source": [
    "# In above case, we can't use dot notation.\n",
    "# Like console.log(obj.name) will give undefined as output"
   ]
  },
  {
   "cell_type": "code",
   "execution_count": 14,
   "id": "667ed77f",
   "metadata": {},
   "outputs": [],
   "source": [
    "# Deleting Property of an object"
   ]
  },
  {
   "cell_type": "raw",
   "id": "828e2105",
   "metadata": {},
   "source": [
    "var student = {\n",
    "  name: \"abc\", \n",
    "  rollno:135, \n",
    "  marks:90\n",
    "};\n",
    "\n",
    "delete student.marks;\n",
    "\n",
    "console.log(student.marks);"
   ]
  },
  {
   "cell_type": "code",
   "execution_count": 16,
   "id": "a36b046d",
   "metadata": {},
   "outputs": [],
   "source": [
    "# output in above case\n",
    "\n",
    "# undefined\n",
    "\n",
    "# We can also delete using the below\n",
    "\n",
    "# delete student[\"marks\"];"
   ]
  },
  {
   "cell_type": "code",
   "execution_count": 17,
   "id": "7071a7e5",
   "metadata": {},
   "outputs": [],
   "source": [
    "# The 'student' is pointing to the student object stored in the heap memory"
   ]
  },
  {
   "cell_type": "raw",
   "id": "e7d0dc43",
   "metadata": {},
   "source": [
    "var student1 = {\n",
    "  name: \"abc\", \n",
    "  rollno: 135, \n",
    "  marks: 90\n",
    "};\n",
    "\n",
    "var student2 = student1;"
   ]
  },
  {
   "cell_type": "code",
   "execution_count": 18,
   "id": "2cfa56a3",
   "metadata": {},
   "outputs": [],
   "source": [
    "# Both 'student2' and 'student1' are pointing to the same reference.\n",
    "# So any changes in the properties of 'student1' will also result in changes in properties of 'student2'"
   ]
  },
  {
   "cell_type": "raw",
   "id": "12be6804",
   "metadata": {},
   "source": [
    "var student1 = {\n",
    "  name: \"abc\", \n",
    "  rollno:135, \n",
    "  marks:90\n",
    "};\n",
    "\n",
    "var student2 = student1;\n",
    "\n",
    "console.log(student2 == student1);\n",
    "console.log(student2 === student1);"
   ]
  },
  {
   "cell_type": "code",
   "execution_count": null,
   "id": "18c6d9a5",
   "metadata": {},
   "outputs": [],
   "source": [
    "# output in above case\n",
    "\n",
    "# true\n",
    "# true\n",
    "\n",
    "# When we compare the objects, we are comparing the references."
   ]
  },
  {
   "cell_type": "raw",
   "id": "89f87351",
   "metadata": {},
   "source": [
    "var arr = [1,2,3,4]\n",
    "\n",
    "for (var x in arr){\n",
    "  console.log(x);\n",
    "}"
   ]
  },
  {
   "cell_type": "code",
   "execution_count": 19,
   "id": "e639f2ea",
   "metadata": {},
   "outputs": [],
   "source": [
    "# output in above case\n",
    "\n",
    "# 1\n",
    "# 2\n",
    "# 3\n",
    "# 4"
   ]
  },
  {
   "cell_type": "code",
   "execution_count": null,
   "id": "2a2fed20",
   "metadata": {},
   "outputs": [],
   "source": [
    "# Iterating over an object"
   ]
  },
  {
   "cell_type": "raw",
   "id": "6d985689",
   "metadata": {},
   "source": [
    "var student1 = {\n",
    "  name: \"abc\", \n",
    "  rollno: 135, \n",
    "  marks: 90\n",
    "};\n",
    "\n",
    "for (var prop in student1){\n",
    "  console.log(prop);\n",
    "}"
   ]
  },
  {
   "cell_type": "code",
   "execution_count": 21,
   "id": "f890e01b",
   "metadata": {},
   "outputs": [],
   "source": [
    "# output in above case\n",
    "\n",
    "# name\n",
    "# rollno\n",
    "# marks"
   ]
  },
  {
   "cell_type": "raw",
   "id": "3458b385",
   "metadata": {},
   "source": [
    "var student1 = {\n",
    "  name: \"abc\", \n",
    "  rollno: 135, \n",
    "  marks: 90\n",
    "};\n",
    "\n",
    "for (var prop in student1){\n",
    "  console.log(student1[prop]);\n",
    "}"
   ]
  },
  {
   "cell_type": "code",
   "execution_count": 22,
   "id": "80b89069",
   "metadata": {},
   "outputs": [],
   "source": [
    "# output in above case\n",
    "\n",
    "# abc\n",
    "# 135\n",
    "# 90"
   ]
  },
  {
   "cell_type": "raw",
   "id": "261f4988",
   "metadata": {},
   "source": [
    "var student1 = {\n",
    "  name: \"abc\", \n",
    "  rollno: 135, \n",
    "  marks: 90\n",
    "};\n",
    "\n",
    "var list_of_keys1 = Object.keys(student1);\n",
    "var list_of_keys2 = Object.getOwnPropertyNames(student1);\n",
    "\n",
    "console.log(list_of_keys1);\n",
    "console.log(list_of_keys2);"
   ]
  },
  {
   "cell_type": "code",
   "execution_count": 23,
   "id": "30109101",
   "metadata": {},
   "outputs": [],
   "source": [
    "# output in above case\n",
    "\n",
    "# ['name', 'rollno', 'marks']\n",
    "# ['name', 'rollno', 'marks']"
   ]
  },
  {
   "cell_type": "code",
   "execution_count": 24,
   "id": "45f86b76",
   "metadata": {},
   "outputs": [],
   "source": [
    "# Nested Objects"
   ]
  },
  {
   "cell_type": "raw",
   "id": "31210cf9",
   "metadata": {},
   "source": [
    "var student1 = {\n",
    "  name: \"abc\", \n",
    "  rollno: 135, \n",
    "  marks: 90,\n",
    "  address: {\n",
    "    house: \"2\",\n",
    "    street: \"Adam's street\",\n",
    "    locality: \"Leeds\"\n",
    "  }\n",
    "};\n",
    "\n",
    "console.log(student1.address);\n",
    "console.log(student1[\"address\"]);"
   ]
  },
  {
   "cell_type": "code",
   "execution_count": 25,
   "id": "fde062f1",
   "metadata": {},
   "outputs": [],
   "source": [
    "# output in above case\n",
    "\n",
    "# {house: '2', street: \"Adam's street\", locality: 'Leeds'}\n",
    "# {house: '2', street: \"Adam's street\", locality: 'Leeds'}"
   ]
  },
  {
   "cell_type": "code",
   "execution_count": null,
   "id": "0108980b",
   "metadata": {},
   "outputs": [],
   "source": [
    "# The nesting can be done to any level. There can be multiple nestings within a nesting"
   ]
  },
  {
   "cell_type": "code",
   "execution_count": 26,
   "id": "819c51ee",
   "metadata": {},
   "outputs": [],
   "source": [
    "# In javascript, arrays are objects"
   ]
  },
  {
   "cell_type": "raw",
   "id": "e175a4c4",
   "metadata": {},
   "source": [
    "var arr = [1,2,3]\n",
    "console.log(arr[0]);\n",
    "console.log(arr[\"0\"]);"
   ]
  },
  {
   "cell_type": "code",
   "execution_count": 27,
   "id": "7e82a5ad",
   "metadata": {},
   "outputs": [],
   "source": [
    "# output in above case\n",
    "\n",
    "# 1\n",
    "# 1\n",
    "\n",
    "# The number 0 is coverted to string because of type conversion. Hence we don't need double quotes."
   ]
  },
  {
   "cell_type": "raw",
   "id": "dc08b63f",
   "metadata": {},
   "source": [
    "var arr = {\n",
    "  \"0\":10,\n",
    "  \"1\":20,\n",
    "  \"2\":30\n",
    "};\n",
    "\n",
    "console.log(arr[0]);\n",
    "console.log(arr[\"0\"]);"
   ]
  },
  {
   "cell_type": "code",
   "execution_count": null,
   "id": "64040ef2",
   "metadata": {},
   "outputs": [],
   "source": [
    "# output in above case\n",
    "\n",
    "# 10\n",
    "# 10\n",
    "\n",
    "# The above object is an equivalent form of array but array has methods like length, push that the object doesn't have."
   ]
  },
  {
   "cell_type": "raw",
   "id": "b4da0be3",
   "metadata": {},
   "source": [
    "var arr = [10,20,30,40];\n",
    "arr.prop1 = \"sample\";\n",
    "\n",
    "console.log(arr.prop1);\n",
    "console.log(arr.length);"
   ]
  },
  {
   "cell_type": "code",
   "execution_count": 29,
   "id": "0ab46c7c",
   "metadata": {},
   "outputs": [],
   "source": [
    "# output in above case\n",
    "\n",
    "# sample\n",
    "# 4\n",
    "\n",
    "# In the above case, the length of the array has not increased.\n",
    "# In an array, the length is calculated by the maximum integer index value + 1"
   ]
  },
  {
   "cell_type": "raw",
   "id": "8eac0499",
   "metadata": {},
   "source": [
    "var arr = [10,20,30,40];\n",
    "arr.prop1 = \"Hi\";\n",
    "arr[4] = 50;\n",
    "\n",
    "for (var x in arr){\n",
    "  console.log(x);\n",
    "}"
   ]
  },
  {
   "cell_type": "code",
   "execution_count": 31,
   "id": "db0c3da6",
   "metadata": {},
   "outputs": [],
   "source": [
    "# output in above case\n",
    "\n",
    "# 10\n",
    "# 20\n",
    "# 30\n",
    "# 40\n",
    "# 50\n",
    "# prop1"
   ]
  },
  {
   "cell_type": "code",
   "execution_count": 32,
   "id": "6cbc061d",
   "metadata": {},
   "outputs": [],
   "source": [
    "# Timing Events"
   ]
  },
  {
   "cell_type": "raw",
   "id": "156260da",
   "metadata": {},
   "source": [
    "function sayHello(){\n",
    "  console.log(\"Hello\")\n",
    "}\n",
    "\n",
    "setTimeout(sayHello, 3000);"
   ]
  },
  {
   "cell_type": "code",
   "execution_count": 33,
   "id": "76f13dde",
   "metadata": {},
   "outputs": [],
   "source": [
    "# \"Hello\" is printed on the console after 3000 milliseconds (3 secs)\n",
    "\n",
    "# In the above case, we have to pass the function (sayHello) and not make a function call (sayHello())"
   ]
  },
  {
   "cell_type": "raw",
   "id": "f4c23985",
   "metadata": {},
   "source": [
    "function sayHello(){\n",
    "  console.log(\"Hello\");\n",
    "}\n",
    "\n",
    "setInterval(sayHello, 1000);"
   ]
  },
  {
   "cell_type": "code",
   "execution_count": null,
   "id": "9fa3908b",
   "metadata": {},
   "outputs": [],
   "source": [
    "# \"Hello\" is being printed on the console after every 1000 milliseconds (1 sec)\n",
    "# We can stop the function by refreshing the page"
   ]
  },
  {
   "cell_type": "raw",
   "id": "738c0c4d",
   "metadata": {},
   "source": [
    "var sec = 1;\n",
    "\n",
    "function sayHello(){\n",
    "  console.log(\"Hi\");\n",
    "  \n",
    "  if (sec == 6){\n",
    "    clearInterval(id);\n",
    "  }\n",
    "  sec++;\n",
    "}\n",
    "\n",
    "var id = setInterval(sayHello, 1000);"
   ]
  },
  {
   "cell_type": "code",
   "execution_count": 34,
   "id": "04df8935",
   "metadata": {},
   "outputs": [],
   "source": [
    "# We can stop setInterval() using clearInterval()\n",
    "# The setInterval() function returns the instance if\n",
    "# We need to pass in the instance id returned by setInterval() to the clearInterval() to stop setInterval() function."
   ]
  },
  {
   "cell_type": "code",
   "execution_count": null,
   "id": "3844d977",
   "metadata": {},
   "outputs": [],
   "source": [
    "# Pass by reference vs Pass by value"
   ]
  },
  {
   "cell_type": "code",
   "execution_count": null,
   "id": "203826dd",
   "metadata": {},
   "outputs": [],
   "source": [
    "# In javascript, all are passed by values except objects and arrays.\n",
    "# In the case of arrays (which are objects) and objects, the reference of the array/object is passed."
   ]
  },
  {
   "cell_type": "raw",
   "id": "749185b1",
   "metadata": {},
   "source": [
    "function sample(a,b,c){\n",
    "  a = 10;\n",
    "  b.push(\"bob\");\n",
    "  c.first = true;\n",
    "}\n",
    "\n",
    "var x = 5;\n",
    "var y = [\"Mohan\",\"Raj\"];\n",
    "var z = {first:false};\n",
    "\n",
    "sample(x,y,z);\n",
    "console.log(x);\n",
    "console.log(y);\n",
    "console.log(z);"
   ]
  },
  {
   "cell_type": "code",
   "execution_count": 35,
   "id": "e42eba6e",
   "metadata": {},
   "outputs": [],
   "source": [
    "# output in above case\n",
    "\n",
    "# 5\n",
    "# ['Mohan', 'Raj', 'bob']\n",
    "# {first: true}"
   ]
  },
  {
   "cell_type": "code",
   "execution_count": 36,
   "id": "7b062822",
   "metadata": {},
   "outputs": [],
   "source": [
    "# The primitive data types are passed by values.\n",
    "# When we pass by value, the copy of the variable is being made."
   ]
  },
  {
   "cell_type": "code",
   "execution_count": 37,
   "id": "e04f28d9",
   "metadata": {},
   "outputs": [],
   "source": [
    "# Deep copy vs Shallow copy"
   ]
  },
  {
   "cell_type": "code",
   "execution_count": 38,
   "id": "8a5e0156",
   "metadata": {},
   "outputs": [],
   "source": [
    "# In Deep copy, when value of variable a is copied to variable b, the value is copied and a & b are disconnected from each other\n",
    "# In Shallow copy, when value of variable a is copied to variable b, the value is copied and \n",
    "# a & b are still connected to each other."
   ]
  },
  {
   "cell_type": "code",
   "execution_count": 39,
   "id": "ca965817",
   "metadata": {},
   "outputs": [],
   "source": [
    "# When you copy primitive data types, it's a Deep copy.\n",
    "# When you copy objects (including arrays), it's a Shallow copy"
   ]
  },
  {
   "cell_type": "raw",
   "id": "bac7452b",
   "metadata": {},
   "source": [
    "var student1 = {\n",
    "  name: \"Raj\",\n",
    "  age: 10\n",
    "};\n",
    "\n",
    "var student2 = student1;\n",
    "student2.name = \"Mohan\";\n",
    "\n",
    "console.log(student2.name);\n",
    "console.log(student1.name);"
   ]
  },
  {
   "cell_type": "code",
   "execution_count": 40,
   "id": "51780dcf",
   "metadata": {},
   "outputs": [],
   "source": [
    "# output in above case\n",
    "\n",
    "# Mohan\n",
    "# Mohan\n",
    "\n",
    "# In above case student1 stores the reference of the actual object"
   ]
  },
  {
   "cell_type": "code",
   "execution_count": 41,
   "id": "38e98353",
   "metadata": {},
   "outputs": [],
   "source": [
    "# Deep copy in the case of objects using the spread operator"
   ]
  },
  {
   "cell_type": "raw",
   "id": "fbce4790",
   "metadata": {},
   "source": [
    "var student1 = {\n",
    "  name: \"Raj\",\n",
    "  age: 10\n",
    "};\n",
    "\n",
    "var student2 = {...student1};\n",
    "student2.name = \"Mohan\";\n",
    "\n",
    "console.log(student2.name);\n",
    "console.log(student1.name);"
   ]
  },
  {
   "cell_type": "code",
   "execution_count": 42,
   "id": "d432de9d",
   "metadata": {},
   "outputs": [],
   "source": [
    "# output in above case\n",
    "\n",
    "# Mohan\n",
    "# Raj\n",
    "\n",
    "# In above case, student1 and student2 are pointing to different references"
   ]
  },
  {
   "cell_type": "code",
   "execution_count": 43,
   "id": "e9ced3dd",
   "metadata": {},
   "outputs": [],
   "source": [
    "# Different ways of making deep copy in the case of objects"
   ]
  },
  {
   "cell_type": "raw",
   "id": "08e8c6c5",
   "metadata": {},
   "source": [
    "var student2 = {...student1};\n",
    "var student2 = Object.assign({}, student1);"
   ]
  },
  {
   "cell_type": "code",
   "execution_count": 44,
   "id": "111957ca",
   "metadata": {},
   "outputs": [],
   "source": [
    "# Deep copy in the case of arrays"
   ]
  },
  {
   "cell_type": "raw",
   "id": "09944bf5",
   "metadata": {},
   "source": [
    "var arr2 = [...arr1];\n",
    "var arr2 = arr1.map(el => el); # Inside the map we are returning the element (el) as it is\n",
    "var arr2 = arr1.slice();"
   ]
  },
  {
   "cell_type": "code",
   "execution_count": 45,
   "id": "ddfae860",
   "metadata": {},
   "outputs": [],
   "source": [
    "# Filter function"
   ]
  },
  {
   "cell_type": "raw",
   "id": "e028acd4",
   "metadata": {},
   "source": [
    "var array = [1, 2, 3, 4, 5, 6, 7, 8, 9, 10, 11, 12, 13, 14, 15];\n",
    "var myArr= array.filter(v => v % 3 === 0);\n",
    "console.log(myArr);"
   ]
  },
  {
   "cell_type": "code",
   "execution_count": null,
   "id": "be919ae3",
   "metadata": {},
   "outputs": [],
   "source": [
    "# output in above case\n",
    "\n",
    "# [3,6,9,12,15]"
   ]
  },
  {
   "cell_type": "code",
   "execution_count": 46,
   "id": "0c6c408a",
   "metadata": {},
   "outputs": [],
   "source": [
    "# Function with variable arguments"
   ]
  },
  {
   "cell_type": "raw",
   "id": "24c4df82",
   "metadata": {},
   "source": [
    "function sum(...numbers) {\n",
    "  var total = 0;\n",
    "  for (let i = 0; i < numbers.length; i++) {\n",
    "    total += numbers[i];\n",
    "  }\n",
    "  return total;\n",
    "}\n",
    "\n",
    "console.log(sum(1, 2, 3));"
   ]
  },
  {
   "cell_type": "code",
   "execution_count": 47,
   "id": "6b652812",
   "metadata": {},
   "outputs": [],
   "source": [
    "# output in above case\n",
    "\n",
    "# 6"
   ]
  },
  {
   "cell_type": "raw",
   "id": "02765a40",
   "metadata": {},
   "source": [
    "var list = [4, 5, 6];\n",
    "for (var i in list) {\n",
    "   console.log(i); \n",
    "}\n",
    "\n",
    "for (var i of list) {\n",
    "   console.log(i); \n",
    "}"
   ]
  },
  {
   "cell_type": "code",
   "execution_count": 48,
   "id": "2f99dc69",
   "metadata": {},
   "outputs": [],
   "source": [
    "# 0,1,2 and 4,5,6"
   ]
  },
  {
   "cell_type": "raw",
   "id": "79912877",
   "metadata": {},
   "source": [
    "function add(a,b) {\n",
    "  console.log(a+b)\n",
    "}\n",
    "\n",
    "setTimeout(add,1000,1,2);"
   ]
  },
  {
   "cell_type": "code",
   "execution_count": null,
   "id": "8c5bff60",
   "metadata": {},
   "outputs": [],
   "source": [
    "# output in above case\n",
    "\n",
    "# 3\n",
    "\n",
    "# 3 is printed after 1000 milliseconds"
   ]
  },
  {
   "cell_type": "raw",
   "id": "a6815515",
   "metadata": {},
   "source": [
    "function change(obj) {\n",
    "  obj = {name: \"changed\"}\n",
    "}\n",
    "\n",
    "var obj = {name:\"coding\"}\n",
    "\n",
    "change(obj)\n",
    "console.log(obj.name)  "
   ]
  },
  {
   "cell_type": "code",
   "execution_count": 49,
   "id": "1b97930f",
   "metadata": {},
   "outputs": [],
   "source": [
    "# output in above case\n",
    "\n",
    "# coding"
   ]
  },
  {
   "cell_type": "raw",
   "id": "84cbaf16",
   "metadata": {},
   "source": [
    "var d = {h: 2, j: 3}\n",
    "\n",
    "var f = {...d, j: 4}\n",
    "\n",
    "console.log(f.h)\n",
    "console.log(f.j)"
   ]
  },
  {
   "cell_type": "code",
   "execution_count": null,
   "id": "76c91364",
   "metadata": {},
   "outputs": [],
   "source": [
    "# output in above case\n",
    "\n",
    "# 2\n",
    "# 4"
   ]
  }
 ],
 "metadata": {
  "kernelspec": {
   "display_name": "Python 3 (ipykernel)",
   "language": "python",
   "name": "python3"
  },
  "language_info": {
   "codemirror_mode": {
    "name": "ipython",
    "version": 3
   },
   "file_extension": ".py",
   "mimetype": "text/x-python",
   "name": "python",
   "nbconvert_exporter": "python",
   "pygments_lexer": "ipython3",
   "version": "3.9.12"
  }
 },
 "nbformat": 4,
 "nbformat_minor": 5
}
