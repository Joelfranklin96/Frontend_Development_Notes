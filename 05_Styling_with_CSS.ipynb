{
 "cells": [
  {
   "cell_type": "code",
   "execution_count": null,
   "id": "d9ff320f",
   "metadata": {},
   "outputs": [],
   "source": [
    "# Different ways of specifying colors"
   ]
  },
  {
   "cell_type": "code",
   "execution_count": null,
   "id": "725d0912",
   "metadata": {},
   "outputs": [],
   "source": [
    "# style.css"
   ]
  },
  {
   "cell_type": "raw",
   "id": "b5ae3b5d",
   "metadata": {},
   "source": [
    "#sample{\n",
    "\theight: 200px;\n",
    "\twidth: 200px;\n",
    "\tbackground-color: #393a7b;\n",
    "}"
   ]
  },
  {
   "cell_type": "raw",
   "id": "7ef52a6a",
   "metadata": {},
   "source": [
    "#sample{\n",
    "\theight: 200px;\n",
    "\twidth: 200px;\n",
    "\tbackground-color: rgb(25,200,45)\n",
    "}"
   ]
  },
  {
   "cell_type": "code",
   "execution_count": null,
   "id": "98158287",
   "metadata": {},
   "outputs": [],
   "source": [
    "# rgba where a stands for opacity value and ranges between 0 and 1"
   ]
  },
  {
   "cell_type": "raw",
   "id": "580a8414",
   "metadata": {},
   "source": [
    "#sample{\n",
    "\theight: 200px;\n",
    "\twidth: 200px;\n",
    "\tbackground-color: rgba(25,200,45,0.6)\n",
    "}"
   ]
  },
  {
   "cell_type": "code",
   "execution_count": 1,
   "id": "12fd0992",
   "metadata": {},
   "outputs": [],
   "source": [
    "# We can specify color using hsl() too.\n",
    "# h - hue (degree) (0-120 for red, 120-240 for green and 240-360 for blue)\n",
    "# s - saturation (0-100 percent) (shades of grey)\n",
    "# l - lightness (0-100 percent) (dark or light)\n",
    "\n",
    "# We can specify color using hsla() too where alpha stands for opacity value"
   ]
  },
  {
   "cell_type": "code",
   "execution_count": 2,
   "id": "5c5acab6",
   "metadata": {},
   "outputs": [],
   "source": [
    "# Different ways to specify color\n",
    "# 1) Name\n",
    "# 2) hex code\n",
    "# 3) rgb\n",
    "# 4) rgba\n",
    "# 5) hsl\n",
    "# 6) hsla"
   ]
  },
  {
   "cell_type": "raw",
   "id": "067e8bb7",
   "metadata": {},
   "source": [
    "<!DOCTYPE html>\n",
    "<html>\n",
    "<head>\n",
    "  <link rel=\"stylesheet\" type=\"text/css\" href=\"style.css\">\n",
    "</head>\n",
    "<body>\n",
    "  <div id=\"sample\"></div>\n",
    "</body>\n",
    "</html>"
   ]
  },
  {
   "cell_type": "code",
   "execution_count": null,
   "id": "664a86c4",
   "metadata": {},
   "outputs": [],
   "source": [
    "# CSS Units\n",
    "# Absolute units - cm, m, inches, pixels\n",
    "# 1 pixel = (1/96) * inch\n",
    "\n",
    "# We will explore 'Relative units'"
   ]
  },
  {
   "cell_type": "code",
   "execution_count": 3,
   "id": "c2a8e909",
   "metadata": {},
   "outputs": [],
   "source": [
    "# style.css\n",
    "\n",
    "# 1) Percentage values\n",
    "\n",
    "# We specified the height and width of 'child' relative to the 'parent'"
   ]
  },
  {
   "cell_type": "raw",
   "id": "0a144b21",
   "metadata": {},
   "source": [
    "#parent{\n",
    "\theight: 200px;\n",
    "\twidth: 300px;\n",
    "\tbackground-color: blue;\n",
    "}\n",
    "\n",
    "#child{\n",
    "\theight: 50%;\n",
    "\twidth: 50%;\n",
    "\tbackground-color: green;\n",
    "}"
   ]
  },
  {
   "cell_type": "code",
   "execution_count": null,
   "id": "d641cae4",
   "metadata": {},
   "outputs": [],
   "source": [
    "# index.html"
   ]
  },
  {
   "cell_type": "raw",
   "id": "cb60fdc2",
   "metadata": {},
   "source": [
    "<!DOCTYPE html>\n",
    "<html>\n",
    "<head>\n",
    "  <link rel=\"stylesheet\" type=\"text/css\" href=\"style.css\">\n",
    "</head>\n",
    "<body>\n",
    "  <div id=\"parent\">\n",
    "    <div id=\"child\"></div>\n",
    "  </div>\n",
    "</body>\n",
    "</html>"
   ]
  },
  {
   "cell_type": "code",
   "execution_count": null,
   "id": "41a913dd",
   "metadata": {},
   "outputs": [],
   "source": [
    "# 2) Viewport height and Viewport width\n",
    "\n",
    "# viewport height and viewport width are the visible height and width of the browser"
   ]
  },
  {
   "cell_type": "raw",
   "id": "8df3d914",
   "metadata": {},
   "source": [
    "#parent{\n",
    "\theight: 75vh;\n",
    "\twidth: 100vw;\n",
    "\tbackground-color: blue;\n",
    "}\n",
    "\n",
    "#child{\n",
    "\theight: 50%;\n",
    "\twidth: 50%;\n",
    "\tbackground-color: green;\n",
    "}"
   ]
  },
  {
   "cell_type": "code",
   "execution_count": null,
   "id": "c5ec5938",
   "metadata": {},
   "outputs": [],
   "source": [
    "# In the above style.css, the 'parent id' is occupying 75% of browser height and complete width of browser window and \n",
    "# the 'child id' is occupying 50% of height and 50% of width of the 'parent id'."
   ]
  },
  {
   "cell_type": "code",
   "execution_count": 4,
   "id": "4d0e0758",
   "metadata": {},
   "outputs": [],
   "source": [
    "# 3) REM units\n",
    "\n",
    "# 1 REM = font-size of root"
   ]
  },
  {
   "cell_type": "raw",
   "id": "d386dbcc",
   "metadata": {},
   "source": [
    "#parent{\n",
    "\theight: 6rem;\n",
    "\twidth: 4rem;\n",
    "\tbackground-color: blue;\n",
    "}\n",
    "\n",
    "#child{\n",
    "\theight: 50%;\n",
    "\twidth: 50%;\n",
    "\tbackground-color: green;\n",
    "}"
   ]
  },
  {
   "cell_type": "code",
   "execution_count": 5,
   "id": "c1cb5253",
   "metadata": {},
   "outputs": [],
   "source": [
    "# We can change the REM values"
   ]
  },
  {
   "cell_type": "raw",
   "id": "2bd60a42",
   "metadata": {},
   "source": [
    "html{\n",
    "\tfont-size: 40px;\n",
    "}\n",
    "\n",
    "#parent{\n",
    "\theight: 6rem;\n",
    "\twidth: 4rem;\n",
    "\tbackground-color: blue;\n",
    "}\n",
    "\n",
    "#child{\n",
    "\theight: 50%;\n",
    "\twidth: 50%;\n",
    "\tbackground-color: green;\n",
    "}"
   ]
  },
  {
   "cell_type": "code",
   "execution_count": null,
   "id": "e5558787",
   "metadata": {},
   "outputs": [],
   "source": [
    "# In the above, 1 rem is 40 pixels."
   ]
  },
  {
   "cell_type": "code",
   "execution_count": 6,
   "id": "737295f3",
   "metadata": {},
   "outputs": [],
   "source": [
    "# Adding border to an element"
   ]
  },
  {
   "cell_type": "raw",
   "id": "ba8ce4a5",
   "metadata": {},
   "source": [
    "#sample_div{\n",
    "\tborder-width: 2px 4px;\n",
    "\tborder-style: solid;\n",
    "\tborder-color: red;\n",
    "\theight: 120px;\n",
    "\twidth: 160px;\n",
    "\tbackground-color: blue;\n",
    "}"
   ]
  },
  {
   "cell_type": "code",
   "execution_count": null,
   "id": "86ddbe30",
   "metadata": {},
   "outputs": [],
   "source": [
    "# Top and Bottom have 2px border whereas left and right have 4px border\n",
    "# If we specify 3 values - 2px, 4px, 6px then top border is 2px, left-right border is 4px and bottom border is 6px.\n",
    "# If we specify 4 values - 2px, 4px, 6px, 8px then \n",
    "# top border - first value\n",
    "# right border - second value\n",
    "# bottom border - third value\n",
    "# left border - fourth value"
   ]
  },
  {
   "cell_type": "code",
   "execution_count": 7,
   "id": "db2fe982",
   "metadata": {},
   "outputs": [],
   "source": [
    "# Instead of spcifying 3 lines, we can make it into a single line"
   ]
  },
  {
   "cell_type": "raw",
   "id": "4bf5357f",
   "metadata": {},
   "source": [
    "#sample_div{\n",
    "\tborder: 4px solid red;\n",
    "\theight: 120px;\n",
    "\twidth: 160px;\n",
    "\tbackground-color: blue;\n",
    "}"
   ]
  },
  {
   "cell_type": "code",
   "execution_count": 8,
   "id": "fc403b29",
   "metadata": {},
   "outputs": [],
   "source": [
    "# border-radius makes the edges round"
   ]
  },
  {
   "cell_type": "raw",
   "id": "48e813e2",
   "metadata": {},
   "source": [
    "#sample_div{\n",
    "\tborder: 4px solid red;\n",
    "\tborder-radius: 10px;\n",
    "\theight: 120px;\n",
    "\twidth: 160px;\n",
    "\tbackground-color: blue;\n",
    "}"
   ]
  },
  {
   "cell_type": "code",
   "execution_count": 9,
   "id": "9fb73f5f",
   "metadata": {},
   "outputs": [],
   "source": [
    "# Adding border to a paragraph"
   ]
  },
  {
   "cell_type": "code",
   "execution_count": 10,
   "id": "d622e750",
   "metadata": {},
   "outputs": [],
   "source": [
    "# style.css"
   ]
  },
  {
   "cell_type": "raw",
   "id": "93a30fd5",
   "metadata": {},
   "source": [
    "#sample_text{\n",
    "\tborder: 4px solid red;\n",
    "\tborder-radius: 10px;\n",
    "}"
   ]
  },
  {
   "cell_type": "code",
   "execution_count": 11,
   "id": "2405ba0c",
   "metadata": {},
   "outputs": [],
   "source": [
    "# index.html"
   ]
  },
  {
   "cell_type": "raw",
   "id": "7a7912fe",
   "metadata": {},
   "source": [
    "<!DOCTYPE html>\n",
    "<html>\n",
    "<head>\n",
    "  <link rel=\"stylesheet\" type=\"text/css\" href=\"style.css\">\n",
    "</head>\n",
    "<body>\n",
    "  <p id = \"sample_text\"> This is a sample paragraph </p>\n",
    "</body>\n",
    "</html>"
   ]
  },
  {
   "cell_type": "code",
   "execution_count": 12,
   "id": "318e219b",
   "metadata": {},
   "outputs": [],
   "source": [
    "# If we want border only the left of the text, we can use 'border-left' attribute"
   ]
  },
  {
   "cell_type": "raw",
   "id": "d138340d",
   "metadata": {},
   "source": [
    "#sample_text{\n",
    "\tborder-left: 2px solid red;\n",
    "}"
   ]
  },
  {
   "cell_type": "code",
   "execution_count": 14,
   "id": "bc08c051",
   "metadata": {},
   "outputs": [],
   "source": [
    "# Text Styling"
   ]
  },
  {
   "cell_type": "raw",
   "id": "2e1ac917",
   "metadata": {},
   "source": [
    "#sample_para{\n",
    "\tfont-size: 30px;\n",
    "\tcolor: blue;\n",
    "\tfont-weight: 100;\n",
    "\ttext-align: right;\n",
    "\tword-spacing: 5px;\n",
    "\ttext-transform: uppercase;\n",
    "\ttext-decoration: underline;\n",
    "\tline-height: 3px;\n",
    "}"
   ]
  },
  {
   "cell_type": "code",
   "execution_count": 15,
   "id": "21db39e6",
   "metadata": {},
   "outputs": [],
   "source": [
    "# font-weight ranges from 100 to 900.\n",
    "# line-height is the distance between the lines\n",
    "# font-style is to display the style in italics\n",
    "# All hyperlinks are displayed with an underline. The underline from hyperlinks can be removed by using \n",
    "# a {text-decoration:none;}"
   ]
  },
  {
   "cell_type": "code",
   "execution_count": 16,
   "id": "0da87ea5",
   "metadata": {},
   "outputs": [],
   "source": [
    "# Adding background image to an element"
   ]
  },
  {
   "cell_type": "raw",
   "id": "8e070e96",
   "metadata": {},
   "source": [
    "#sample_div{\n",
    "\theight: 100vh;\n",
    "\twidth: 100vw;\n",
    "\tbackground-image: url(\"Passport size photograph.jpg\");\n",
    "\tbackground-repeat: no-repeat;\n",
    "\tbackground-position: center;\n",
    "\tbackground-size: contain;\n",
    "}"
   ]
  },
  {
   "cell_type": "code",
   "execution_count": 1,
   "id": "6dff6c86",
   "metadata": {},
   "outputs": [],
   "source": [
    "# The height and width of 'sample_div' are 100vh and 100vw\n",
    "# The background image is a passport size photograph\n",
    "# If 'no-repeat' is not mentioned, then the passport size photograph will be repeated until it fills the entire height and\n",
    "# width of the background.\n",
    "# The 'background-size: contain' makes sure the height and width of the background contains the entirely of the passport size\n",
    "# photograph.\n",
    "# To control the scrolling of an image in the background, we use background-attachment"
   ]
  },
  {
   "cell_type": "code",
   "execution_count": null,
   "id": "1029718f",
   "metadata": {},
   "outputs": [],
   "source": [
    "# Here are the different values of background-size:\n",
    "\n",
    "# auto: The background image is displayed at its original size.\n",
    "\n",
    "# cover: The background image is scaled proportionally to cover the entire background area. \n",
    "# This may result in cropping or stretching of the image as needed to fill the container.\n",
    "\n",
    "# contain: The background image is scaled proportionally to fit within the background area. \n",
    "# This ensures the entire image is visible without cropping, but it may result in empty spaces if \n",
    "# the aspect ratio of the image and container differ.\n",
    "\n",
    "# <length>: You can specify a specific length value to set the width and height of the background image. \n",
    "# For example, background-size: 200px 300px; sets the background image's width to 200 pixels and height to 300 pixels.\n",
    "\n",
    "# <percentage>: You can use a percentage value to specify the size relative to the container's dimensions. \n",
    "# For example, background-size: 50% 75%; sets the background image's width to 50% of the container's width and \n",
    "# height to 75% of the container's height."
   ]
  },
  {
   "cell_type": "code",
   "execution_count": null,
   "id": "6d858205",
   "metadata": {},
   "outputs": [],
   "source": [
    "# We can have more than 1 image as the background as shown below (but it's not working. Don't know why)"
   ]
  },
  {
   "cell_type": "raw",
   "id": "eb15b508",
   "metadata": {},
   "source": [
    "#sample_div{\n",
    "\theight: 100vh;\n",
    "\twidth: 100vw;\n",
    "\tbackground-image: url(\"scenery.jpg\"),url(\"Passport size photograph.jpg\");\n",
    "}"
   ]
  },
  {
   "cell_type": "code",
   "execution_count": 18,
   "id": "b2a096ab",
   "metadata": {},
   "outputs": [],
   "source": [
    "# Margins"
   ]
  },
  {
   "cell_type": "code",
   "execution_count": 19,
   "id": "7d1906ae",
   "metadata": {},
   "outputs": [],
   "source": [
    "# style.css"
   ]
  },
  {
   "cell_type": "raw",
   "id": "8625066e",
   "metadata": {},
   "source": [
    "#outer_div1{\n",
    "\theight: 100px;\n",
    "\twidth: 100px;\n",
    "\tbackground-color: blue;\n",
    "}\n",
    "\n",
    "#inner_div{\n",
    "\theight: 50%;\n",
    "\twidth: 50%;\n",
    "\tbackground-color: yellow;\n",
    "}\n",
    "\n",
    "#outer_div2{\n",
    "\theight: 100px;\n",
    "\twidth: 100px;\n",
    "\tbackground-color: green;\n",
    "}"
   ]
  },
  {
   "cell_type": "code",
   "execution_count": 20,
   "id": "fadf8759",
   "metadata": {},
   "outputs": [],
   "source": [
    "# index.html"
   ]
  },
  {
   "cell_type": "raw",
   "id": "5115d427",
   "metadata": {},
   "source": [
    "<!DOCTYPE html>\n",
    "<html>\n",
    "<head>\n",
    "  <link rel=\"stylesheet\" type=\"text/css\" href=\"style.css\">\n",
    "</head>\n",
    "<body>\n",
    "  <div id = \"outer_div1\">\n",
    "    <div id = \"inner_div\">\n",
    "      \n",
    "    </div>\n",
    "  </div>\n",
    "  <div id = \"outer_div2\">\n",
    "  \n",
    "  </div>\n",
    "</body>\n",
    "</html>"
   ]
  },
  {
   "cell_type": "code",
   "execution_count": 21,
   "id": "56d0722e",
   "metadata": {},
   "outputs": [],
   "source": [
    "# We notice that there is no margins between outer_div1 and outer_div2.\n",
    "# We set the margins as shown below"
   ]
  },
  {
   "cell_type": "raw",
   "id": "a487f2f9",
   "metadata": {},
   "source": [
    "#outer_div1{\n",
    "\theight: 100px;\n",
    "\twidth: 100px;\n",
    "\tbackground-color: blue;\n",
    "\tmargin: 4px;\n",
    "}\n",
    "\n",
    "#inner_div{\n",
    "\theight: 50%;\n",
    "\twidth: 50%;\n",
    "\tbackground-color: yellow;\n",
    "}\n",
    "\n",
    "#outer_div2{\n",
    "\theight: 100px;\n",
    "\twidth: 100px;\n",
    "\tbackground-color: green;\n",
    "}"
   ]
  },
  {
   "cell_type": "code",
   "execution_count": 22,
   "id": "bb13aac7",
   "metadata": {},
   "outputs": [],
   "source": [
    "# Now there is a gap of 4px between outer_div1 and outer_div2.\n",
    "# top, right, bottom, left margins are all 4 px.\n",
    "# We can specify different values for top, right, bottom, left margins. This works in the same way as border values.\n",
    "# We can assign negative values to margins. Will make the divs to overlap."
   ]
  },
  {
   "cell_type": "code",
   "execution_count": 23,
   "id": "2231e19e",
   "metadata": {},
   "outputs": [],
   "source": [
    "# Vertical margins collapse meaning if the 'margin bottom' for 'outer_div1' is 10px and 'margin top' for 'outer_div2' is 10px,\n",
    "# then the total space between 'outer_div1' and 'outer_div2' is 10px and not 20px.\n",
    "\n",
    "# If the 'margin bottom' for 'outer_div1' is 20px and 'margin top' for 'outer_div2' is 10px,\n",
    "# then the total space between 'outer_div1' and 'outer_div2' is 20px and not 30px.\n",
    "\n",
    "# This is not the case with horizontal margins as horizontal margins add up."
   ]
  },
  {
   "cell_type": "code",
   "execution_count": 24,
   "id": "3bda8331",
   "metadata": {},
   "outputs": [],
   "source": [
    "# Padding\n",
    "\n",
    "# Margin decides the space around the element whereas Padding decides the space within the element.\n",
    "\n",
    "# Padding assigns the space between 'outer_div1' and 'inner_div'\n",
    "# In the case of Padding, negative values are treated as 0."
   ]
  },
  {
   "cell_type": "code",
   "execution_count": 26,
   "id": "d56eb21d",
   "metadata": {},
   "outputs": [],
   "source": [
    "# Display Property\n",
    "\n",
    "# Using the display property, we can make the inline elements behave as block elements and the block elements as inline elements"
   ]
  },
  {
   "cell_type": "code",
   "execution_count": 27,
   "id": "e57c3ad5",
   "metadata": {},
   "outputs": [],
   "source": [
    "# style.css"
   ]
  },
  {
   "cell_type": "raw",
   "id": "1f9d53d1",
   "metadata": {},
   "source": [
    "span{\n",
    "\tdisplay: block;\n",
    "}"
   ]
  },
  {
   "cell_type": "raw",
   "id": "a5350484",
   "metadata": {},
   "source": [
    "<!DOCTYPE html>\n",
    "<html>\n",
    "<head>\n",
    "  <link rel=\"stylesheet\" type=\"text/css\" href=\"style.css\">\n",
    "</head>\n",
    "<body>\n",
    "  <span>How are you?</span>\n",
    "  <span>I am fine</span>\n",
    "</body>\n",
    "</html>"
   ]
  },
  {
   "cell_type": "code",
   "execution_count": 28,
   "id": "dde76384",
   "metadata": {},
   "outputs": [],
   "source": [
    "# In the above we can see that the 'span' elements are behaving as block elements"
   ]
  },
  {
   "cell_type": "code",
   "execution_count": 29,
   "id": "90ede50a",
   "metadata": {},
   "outputs": [],
   "source": [
    "# Now let's try to convert the 'div' into 'inline' elements"
   ]
  },
  {
   "cell_type": "code",
   "execution_count": 30,
   "id": "1afac554",
   "metadata": {},
   "outputs": [],
   "source": [
    "# style.css"
   ]
  },
  {
   "cell_type": "raw",
   "id": "a0005912",
   "metadata": {},
   "source": [
    "#div1{\n",
    "\theight:200px;\n",
    "\twidth:200px;\n",
    "\tbackground-color: red;\n",
    "}\n",
    "\n",
    "#div2{\n",
    "\theight:200px;\n",
    "\twidth:200px;\n",
    "\tbackground-color: blue;\n",
    "}\n",
    "\n",
    "div{\n",
    "\tdisplay: inline;\n",
    "}"
   ]
  },
  {
   "cell_type": "code",
   "execution_count": 31,
   "id": "f8ef2ac9",
   "metadata": {},
   "outputs": [],
   "source": [
    "# index.html"
   ]
  },
  {
   "cell_type": "raw",
   "id": "de1869cf",
   "metadata": {},
   "source": [
    "<!DOCTYPE html>\n",
    "<html>\n",
    "<head>\n",
    "  <link rel=\"stylesheet\" type=\"text/css\" href=\"style.css\">\n",
    "</head>\n",
    "<body>\n",
    "  <div id=\"div1\"></div>\n",
    "  <div id = \"div2\"></div>\n",
    "</body>\n",
    "</html>"
   ]
  },
  {
   "cell_type": "code",
   "execution_count": 32,
   "id": "6ec52802",
   "metadata": {},
   "outputs": [],
   "source": [
    "# Nothing is displayed on the screen. Because we can't give height and width to inline elements.\n",
    "# Also we can't give vertical (top & bottom) margins/paddings to inline elements.\n",
    "\n",
    "# If we give some content to the 2 'divs', then they are visible. The height and width of the 'divs' are exactly equal to\n",
    "# the height and width of the contents. Now the 'divs' behave as inline elements."
   ]
  },
  {
   "cell_type": "raw",
   "id": "5b676e1b",
   "metadata": {},
   "source": [
    "<!DOCTYPE html>\n",
    "<html>\n",
    "<head>\n",
    "  <link rel=\"stylesheet\" type=\"text/css\" href=\"style.css\">\n",
    "</head>\n",
    "<body>\n",
    "  <div id=\"div1\">How are you?</div>\n",
    "  <div id = \"div2\">I am fine</div>\n",
    "</body>\n",
    "</html>"
   ]
  },
  {
   "cell_type": "code",
   "execution_count": 33,
   "id": "14e7fe2a",
   "metadata": {},
   "outputs": [],
   "source": [
    "# We can 'display' the 'div' elements as inline-block as shown below"
   ]
  },
  {
   "cell_type": "code",
   "execution_count": 34,
   "id": "3bf8f642",
   "metadata": {},
   "outputs": [],
   "source": [
    "# style.css"
   ]
  },
  {
   "cell_type": "raw",
   "id": "4e5fa368",
   "metadata": {},
   "source": [
    "#div1{\n",
    "\theight:200px;\n",
    "\twidth:200px;\n",
    "\tbackground-color: red;\n",
    "}\n",
    "\n",
    "#div2{\n",
    "\theight:200px;\n",
    "\twidth:200px;\n",
    "\tbackground-color: blue;\n",
    "}\n",
    "\n",
    "div{\n",
    "\tdisplay: inline-block;\n",
    "}"
   ]
  },
  {
   "cell_type": "code",
   "execution_count": 35,
   "id": "1a1fb4c4",
   "metadata": {},
   "outputs": [],
   "source": [
    "# index.html"
   ]
  },
  {
   "cell_type": "raw",
   "id": "eb1c85ab",
   "metadata": {},
   "source": [
    "<!DOCTYPE html>\n",
    "<html>\n",
    "<head>\n",
    "  <link rel=\"stylesheet\" type=\"text/css\" href=\"style.css\">\n",
    "</head>\n",
    "<body>\n",
    "  <div id=\"div1\"></div>\n",
    "  <div id = \"div2\"></div>\n",
    "</body>\n",
    "</html>"
   ]
  },
  {
   "cell_type": "code",
   "execution_count": 37,
   "id": "8b7c276e",
   "metadata": {},
   "outputs": [],
   "source": [
    "# Now we see that the 'divs' appear as in-line elements. But there is a small margin between them. They are not exactly next\n",
    "# to each other. This is because the in-line elements always have some spacing between them. The spacing can be removed by\n",
    "# giving 'div-2' some amount of margin-left."
   ]
  },
  {
   "cell_type": "code",
   "execution_count": 38,
   "id": "20863087",
   "metadata": {},
   "outputs": [],
   "source": [
    "# visibility:hidden vs display:none\n",
    "\n",
    "# In the case of display:none, the element becomes invisible but its space on the screen becomes \n",
    "# vacant for other elements to occupy.\n",
    "\n",
    "# In the case of visiblity:hidden, the element becomes invisible but the rest of the webpage layout is not affected"
   ]
  },
  {
   "cell_type": "code",
   "execution_count": 39,
   "id": "5d1633b5",
   "metadata": {},
   "outputs": [],
   "source": [
    "# Position Property\n",
    "\n",
    "# 1) Static (default value)\n",
    "\n",
    "# 2) Relative (top, bottom, left, right) (if left: 20px, then it will shift to the right by 20px from the ideal position)\n",
    "# Space reserved is actual position\n",
    "\n",
    "# 3) Absolute (top, bottom, left, right) (if left: 20px, then it will shift to the right by 20px relative to the first parent position)\n",
    "# No space is reserved for the element when position is Absolute\n",
    "\n",
    "# 4) Fixed (top, bottom, left, right) (if left: 20px, top: 20 px, then it will shift to the right and bottom by 20 px relative\n",
    "# to the viewport and it stays there even when we scroll)\n",
    "\n",
    "# 5) Sticky (top, bottom, left, right) (if left: 20px, then it will shift to the right by 20 px relative to the viewport. It\n",
    "# stays there till we scroll past the outer div)"
   ]
  },
  {
   "cell_type": "code",
   "execution_count": 40,
   "id": "89fa2f7d",
   "metadata": {},
   "outputs": [],
   "source": [
    "# style.css"
   ]
  },
  {
   "cell_type": "raw",
   "id": "ddbff04f",
   "metadata": {},
   "source": [
    "#div1{\n",
    "\theight: 200px;\n",
    "\twidth: 20px;\n",
    "\tbackground-color: blue;\n",
    "\tposition: relative;\n",
    "\tleft: 20px\n",
    "\ttop: 20px;\n",
    "}"
   ]
  },
  {
   "cell_type": "code",
   "execution_count": null,
   "id": "29785f58",
   "metadata": {},
   "outputs": [],
   "source": [
    "# index.html"
   ]
  },
  {
   "cell_type": "raw",
   "id": "ee4d1a08",
   "metadata": {},
   "source": [
    "<!DOCTYPE html>\n",
    "<html>\n",
    "<head>\n",
    "  <link rel=\"stylesheet\" type=\"text/css\" href=\"style.css\">\n",
    "</head>\n",
    "<body>\n",
    "  <div id = \"div1\"></div>\n",
    "</body>\n",
    "</html>"
   ]
  },
  {
   "cell_type": "code",
   "execution_count": null,
   "id": "64089562",
   "metadata": {},
   "outputs": [],
   "source": [
    "# The div will shift to the right by 20px and to the bottom by 20px."
   ]
  },
  {
   "cell_type": "code",
   "execution_count": 41,
   "id": "f706d75f",
   "metadata": {},
   "outputs": [],
   "source": [
    "# Box Model (Default value is Content-Box model)"
   ]
  },
  {
   "cell_type": "code",
   "execution_count": 42,
   "id": "7b53238f",
   "metadata": {},
   "outputs": [],
   "source": [
    "# Every HTML element can be imagined as a rectangular element."
   ]
  },
  {
   "attachments": {
    "html1.PNG": {
     "image/png": "[encoded data removed]"
    }
   },
   "cell_type": "markdown",
   "id": "cbc4dfac",
   "metadata": {},
   "source": [
    "![html1.PNG](attachment:html1.PNG)"
   ]
  },
  {
   "cell_type": "code",
   "execution_count": null,
   "id": "986b328a",
   "metadata": {},
   "outputs": [],
   "source": [
    "# Content Box model"
   ]
  },
  {
   "cell_type": "code",
   "execution_count": 43,
   "id": "a71925d8",
   "metadata": {},
   "outputs": [],
   "source": [
    "# If content height and width are 200px x 200px\n",
    "# If padding is 2 px on all sides\n",
    "# If border is 2 px on all sides\n",
    "\n",
    "# Then total rendered dimensions = 208px x 208px\n",
    "\n",
    "# Margins don't add to the total rendered dimensions"
   ]
  },
  {
   "cell_type": "code",
   "execution_count": 44,
   "id": "3b88d690",
   "metadata": {},
   "outputs": [],
   "source": [
    "# Border-box model"
   ]
  },
  {
   "cell_type": "raw",
   "id": "6c8ecf7c",
   "metadata": {},
   "source": [
    "#div1{\n",
    "\theight: 200px;\n",
    "\twidth: 200px;\n",
    "\tbackground-color: blue;\n",
    "\tborder: 2px solid red;\n",
    "\tpadding: 2px;\n",
    "\tmargin: 4px;\n",
    "\tbox-sizing: border-box;\n",
    "}"
   ]
  },
  {
   "cell_type": "code",
   "execution_count": 45,
   "id": "aa30acac",
   "metadata": {},
   "outputs": [],
   "source": [
    "# In 'border-box' model, the height and width are fixed as 200px x 200px\n",
    "\n",
    "# Now height and width of content = 192px x 192px\n",
    "# Border = 2px\n",
    "# Padding = 2px\n",
    "# Margin = 4px"
   ]
  },
  {
   "cell_type": "code",
   "execution_count": 46,
   "id": "b752c236",
   "metadata": {},
   "outputs": [],
   "source": [
    "# Min/Max width"
   ]
  },
  {
   "cell_type": "code",
   "execution_count": 47,
   "id": "0cbbe780",
   "metadata": {},
   "outputs": [],
   "source": [
    "# style.css"
   ]
  },
  {
   "cell_type": "raw",
   "id": "9beeaada",
   "metadata": {},
   "source": [
    "#div1{\n",
    "\theight: 200px;\n",
    "\twidth: 50%;\n",
    "\tbackground-color: blue;\n",
    "}"
   ]
  },
  {
   "cell_type": "code",
   "execution_count": 48,
   "id": "cec1dc70",
   "metadata": {},
   "outputs": [],
   "source": [
    "# index.html"
   ]
  },
  {
   "cell_type": "raw",
   "id": "6ff4f51c",
   "metadata": {},
   "source": [
    "<!DOCTYPE html>\n",
    "<html>\n",
    "<head>\n",
    "  <link rel=\"stylesheet\" type=\"text/css\" href=\"style.css\">\n",
    "</head>\n",
    "<body>\n",
    "  <div id = \"div1\"></div>\n",
    "</body>\n",
    "</html>"
   ]
  },
  {
   "cell_type": "code",
   "execution_count": 49,
   "id": "157e6d4f",
   "metadata": {},
   "outputs": [],
   "source": [
    "# The height of the above 'div1' element is 200 px and width is 50% of parent (which is body). So as we decrease the size of\n",
    "# window/screen, the width decreases as it keeps becoming 50% of the window/screen"
   ]
  },
  {
   "cell_type": "code",
   "execution_count": null,
   "id": "4499df87",
   "metadata": {},
   "outputs": [],
   "source": [
    "# Min width\n",
    "\n",
    "# The width of 'div1' can't be less than min width irrespective of how much the size of window/screen decreases.\n",
    "\n",
    "# Max width\n",
    "\n",
    "# The width of 'div1' can't be more than max width irrespective of how much the size of window/screen is.\n",
    "\n",
    "# Similarly there is Min height/Max height"
   ]
  },
  {
   "cell_type": "code",
   "execution_count": 50,
   "id": "c3f77e6c",
   "metadata": {},
   "outputs": [],
   "source": [
    "# Overflow\n",
    "\n",
    "# The size of actual content (paragraphs) is bigger than the div element which contains the paragraphs\n",
    "# There are 3 values of Overflow attribute - Visible(default), Hidden(overflow content is hidden), Scroll(we get a scrollbar to\n",
    "# view the overflow content) and auto(the browser will decide whether the overflow is visible or scrolled)\n",
    "# overflow attribute can be overflow-x, overflow-y"
   ]
  },
  {
   "cell_type": "code",
   "execution_count": 51,
   "id": "ec4408af",
   "metadata": {},
   "outputs": [],
   "source": [
    "# style.css"
   ]
  },
  {
   "cell_type": "raw",
   "id": "ef26204d",
   "metadata": {},
   "source": [
    "#div1{\n",
    "\theight: 100px;\n",
    "\twidth: 100px;\n",
    "\tbackground-color: blue;\n",
    "\toverflow: scroll;\n",
    "}"
   ]
  },
  {
   "cell_type": "code",
   "execution_count": 52,
   "id": "5a9c4000",
   "metadata": {},
   "outputs": [],
   "source": [
    "# index.html"
   ]
  },
  {
   "cell_type": "raw",
   "id": "446a6200",
   "metadata": {},
   "source": [
    "<!DOCTYPE html>\n",
    "<html>\n",
    "<head>\n",
    "  <link rel=\"stylesheet\" type=\"text/css\" href=\"style.css\">\n",
    "</head>\n",
    "<body>\n",
    "  <div id = \"div1\">\n",
    "    <p>This is paragraph 1</p>\n",
    "    <p>This is paragraph 2</p>\n",
    "    <p>This is paragraph 3</p>\n",
    "  </div>\n",
    "</body>\n",
    "</html>"
   ]
  }
 ],
 "metadata": {
  "kernelspec": {
   "display_name": "Python 3 (ipykernel)",
   "language": "python",
   "name": "python3"
  },
  "language_info": {
   "codemirror_mode": {
    "name": "ipython",
    "version": 3
   },
   "file_extension": ".py",
   "mimetype": "text/x-python",
   "name": "python",
   "nbconvert_exporter": "python",
   "pygments_lexer": "ipython3",
   "version": "3.9.12"
  }
 },
 "nbformat": 4,
 "nbformat_minor": 5
}
