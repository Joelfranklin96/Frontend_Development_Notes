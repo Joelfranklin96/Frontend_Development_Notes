{
 "cells": [
  {
   "cell_type": "code",
   "execution_count": 2,
   "id": "c3b38139",
   "metadata": {},
   "outputs": [],
   "source": [
    "# CSS (Cascading Style Sheets)\n",
    "\n",
    "# CSS makes the html pages look presentable. We can add styling to html pages using CSS."
   ]
  },
  {
   "cell_type": "code",
   "execution_count": 3,
   "id": "99acbee5",
   "metadata": {},
   "outputs": [],
   "source": [
    "# Aside tag is used to contain content that is related to the primary content of the webpage, \n",
    "# but isn't the primary content of the page."
   ]
  },
  {
   "cell_type": "code",
   "execution_count": null,
   "id": "476a1ade",
   "metadata": {},
   "outputs": [],
   "source": [
    "# Inline CSS"
   ]
  },
  {
   "cell_type": "raw",
   "id": "0039e414",
   "metadata": {},
   "source": [
    "<!DOCTYPE html>\n",
    "<html>\n",
    "  <head> </head>\n",
    "  <body>\n",
    "    <p style=\"color: blue;\">How are you?</p>\n",
    "  </body>\n",
    "</html>"
   ]
  },
  {
   "cell_type": "markdown",
   "id": "9f8542d5",
   "metadata": {},
   "source": [
    "<!DOCTYPE html>\n",
    "<html>\n",
    "  <head> </head>\n",
    "  <body>\n",
    "    <p style=\"color: blue;\">How are you?</p>\n",
    "  </body>\n",
    "</html>"
   ]
  },
  {
   "cell_type": "raw",
   "id": "8b7210a6",
   "metadata": {},
   "source": [
    "<!DOCTYPE html>\n",
    "<html>\n",
    "  <head> </head>\n",
    "  <body>\n",
    "    <p style=\"color: blue; font-size: 30px;\">How are you?</p>\n",
    "  </body>\n",
    "</html>"
   ]
  },
  {
   "cell_type": "markdown",
   "id": "c0d617cc",
   "metadata": {},
   "source": [
    "<!DOCTYPE html>\n",
    "<html>\n",
    "  <head> </head>\n",
    "  <body>\n",
    "    <p style=\"color: blue; font-size: 30px;\">How are you?</p>\n",
    "  </body>\n",
    "</html>"
   ]
  },
  {
   "cell_type": "code",
   "execution_count": null,
   "id": "5d47c400",
   "metadata": {},
   "outputs": [],
   "source": [
    "# Internal CSS"
   ]
  },
  {
   "cell_type": "raw",
   "id": "0b2b72bf",
   "metadata": {},
   "source": [
    "<!DOCTYPE html>\n",
    "<html>\n",
    "  <head> </head>\n",
    "  <style type=\"text/css\">\n",
    "    p{\n",
    "      color: blue;\n",
    "      font-size: 20px;\n",
    "    }\n",
    "  </style>\n",
    "  <body>\n",
    "    <p >I am fine</p>\n",
    "    <P>How are you?</P>\n",
    "    <p>The weather is good</p>\n",
    "  </body>\n",
    "</html>"
   ]
  },
  {
   "cell_type": "code",
   "execution_count": 4,
   "id": "a828f92f",
   "metadata": {},
   "outputs": [],
   "source": [
    "# Inline CSS is given preference over Internal CSS"
   ]
  },
  {
   "cell_type": "raw",
   "id": "946f309f",
   "metadata": {},
   "source": [
    "<!DOCTYPE html>\n",
    "<html>\n",
    "  <head> </head>\n",
    "  <style type=\"text/css\">\n",
    "    p{\n",
    "      color: blue;\n",
    "      font-size: 20px;\n",
    "    }\n",
    "  </style>\n",
    "  <body>\n",
    "    <p style=\"color: red;\">I am fine</p>\n",
    "    <P>How are you?</P>\n",
    "    <p>The weather is good</p>\n",
    "  </body>\n",
    "</html>"
   ]
  },
  {
   "cell_type": "markdown",
   "id": "9da7e1c8",
   "metadata": {},
   "source": [
    "<!DOCTYPE html>\n",
    "<html>\n",
    "  <head> </head>\n",
    "  <style type=\"text/css\">\n",
    "    p{\n",
    "      color: blue;\n",
    "      font-size: 20px;\n",
    "    }\n",
    "  </style>\n",
    "  <body>\n",
    "    <p style=\"color: red;\">I am fine</p>\n",
    "    <P>How are you?</P>\n",
    "    <p>The weather is good</p>\n",
    "  </body>\n",
    "</html>"
   ]
  },
  {
   "cell_type": "code",
   "execution_count": 5,
   "id": "7430a824",
   "metadata": {},
   "outputs": [],
   "source": [
    "# Note\n",
    "\n",
    "# The Internal CSS doesn't work well in markdown. The first paragraph must be in red and the other 2 paragraphs must be in blue"
   ]
  },
  {
   "cell_type": "code",
   "execution_count": 6,
   "id": "2ea3df33",
   "metadata": {},
   "outputs": [],
   "source": [
    "# External CSS"
   ]
  },
  {
   "cell_type": "code",
   "execution_count": 7,
   "id": "46fdc826",
   "metadata": {},
   "outputs": [],
   "source": [
    "# External CSS - We put all the styling outside the html\n",
    "# Making a new CSS file for the styles really means cleaner code, less redundancy and easy debugging."
   ]
  },
  {
   "cell_type": "code",
   "execution_count": null,
   "id": "5c8fe616",
   "metadata": {},
   "outputs": [],
   "source": [
    "# style.css (The below is an example of Type selector)"
   ]
  },
  {
   "cell_type": "raw",
   "id": "b682b09a",
   "metadata": {},
   "source": [
    "p{\n",
    "      color: blue;\n",
    "      font-size: 20px;\n",
    "    }"
   ]
  },
  {
   "cell_type": "code",
   "execution_count": 8,
   "id": "8ad0cdd2",
   "metadata": {},
   "outputs": [],
   "source": [
    "# index.html"
   ]
  },
  {
   "cell_type": "raw",
   "id": "1e49e3fc",
   "metadata": {},
   "source": [
    "<!DOCTYPE html>\n",
    "<html>\n",
    "  <head> \n",
    "    <link rel=\"stylesheet\" type=\"text/css\" href=\"style.css\">\n",
    "  </head>\n",
    "  <body>\n",
    "    <p>I am fine</p>\n",
    "    <P>How are you?</P>\n",
    "    <p>The weather is good</p>\n",
    "  </body>\n",
    "</html>"
   ]
  },
  {
   "cell_type": "code",
   "execution_count": 9,
   "id": "f8ab5c58",
   "metadata": {},
   "outputs": [],
   "source": [
    "# Preference order - Inline CSS vs Internal CSS vs External CSS"
   ]
  },
  {
   "cell_type": "code",
   "execution_count": 10,
   "id": "518b7b4b",
   "metadata": {},
   "outputs": [],
   "source": [
    "# Inline CSS is always given preference over Internal CSS and External CSS\n",
    "\n",
    "# In the head section, if the 'style' tag is above the 'link' tag, then External CSS is given preference over Internal CSS\n",
    "# Whereas if the 'link' tag is above the 'style' tag, then Internal CSS is given preference over External CSS.\n",
    "\n",
    "# In general, the rule is that when scanning the code from top to bottom, the last mentioned rule wins."
   ]
  },
  {
   "cell_type": "code",
   "execution_count": null,
   "id": "26b3c972",
   "metadata": {},
   "outputs": [],
   "source": [
    "# Even in 'style.css', if we mention the color of the paragraph twice, the color of paragraph would be as\n",
    "# per the last rule which is red"
   ]
  },
  {
   "cell_type": "code",
   "execution_count": null,
   "id": "7d5d7397",
   "metadata": {},
   "outputs": [],
   "source": [
    "p{\n",
    "      color: blue;\n",
    "    }\n",
    "p{\n",
    "      color: red;\n",
    "    }"
   ]
  },
  {
   "cell_type": "code",
   "execution_count": 11,
   "id": "03b94d97",
   "metadata": {},
   "outputs": [],
   "source": [
    "# External CSS helps in writing less repeated code hence the loading time of the page decreases.\n",
    "\n",
    "# External CSS is preferred over inline and internal CSS for styling purposes, \n",
    "# as you can not re-use inline or internal CSS with other HTML code files."
   ]
  },
  {
   "cell_type": "code",
   "execution_count": null,
   "id": "2f6a71b2",
   "metadata": {},
   "outputs": [],
   "source": [
    "# Chrome Developer Tools\n",
    "\n",
    "# Right click on the webpage and click inspect and this will open Chrome Developer Tools.\n",
    "# Developer tools is used for seeing which color/font-size/other attributes best suit the webpage.\n",
    "# Every browser has its own developer tools.\n",
    "# Developer tools are very handy in seeing which attributes suit the webpage."
   ]
  },
  {
   "cell_type": "code",
   "execution_count": 13,
   "id": "1d71519c",
   "metadata": {},
   "outputs": [],
   "source": [
    "# CSS Class Selector\n",
    "\n",
    "# Class selector can be used to select a group of elements by mentioning the class attribute of each of the element as the\n",
    "# class name"
   ]
  },
  {
   "cell_type": "code",
   "execution_count": 14,
   "id": "0e0d9b85",
   "metadata": {},
   "outputs": [],
   "source": [
    "# style.css"
   ]
  },
  {
   "cell_type": "raw",
   "id": "f8606634",
   "metadata": {},
   "source": [
    ".upper{\n",
    "\ttext-transform: uppercase;\n",
    "}"
   ]
  },
  {
   "cell_type": "code",
   "execution_count": null,
   "id": "9bff8b35",
   "metadata": {},
   "outputs": [],
   "source": [
    "# In the above style.css, . is the syntax and 'upper' is the name of the class."
   ]
  },
  {
   "cell_type": "code",
   "execution_count": 15,
   "id": "fc122d2b",
   "metadata": {},
   "outputs": [],
   "source": [
    "# index.html"
   ]
  },
  {
   "cell_type": "raw",
   "id": "c9e23a84",
   "metadata": {},
   "source": [
    "<!DOCTYPE html>\n",
    "<html>\n",
    "  <head> \n",
    "    <link rel=\"stylesheet\" type=\"text/css\" href=\"style.css\">\n",
    "  </head>\n",
    "  <body>\n",
    "    <h3>I am fine</h3>\n",
    "    <h3 class=\"upper\">How are you?</h3>\n",
    "    <h3>The weather is good</h3>\n",
    "  </body>\n",
    "</html>"
   ]
  },
  {
   "cell_type": "code",
   "execution_count": 16,
   "id": "8eca13eb",
   "metadata": {},
   "outputs": [],
   "source": [
    "# Applying 2 classes for a particular tag"
   ]
  },
  {
   "cell_type": "code",
   "execution_count": 17,
   "id": "63395c02",
   "metadata": {},
   "outputs": [],
   "source": [
    "# style.css"
   ]
  },
  {
   "cell_type": "raw",
   "id": "6e773a5b",
   "metadata": {},
   "source": [
    ".upper{\n",
    "\ttext-transform: uppercase;\n",
    "}\n",
    "\n",
    ".cursive{\n",
    "\tfont-family: cursive;\n",
    "}"
   ]
  },
  {
   "cell_type": "code",
   "execution_count": 18,
   "id": "63ad527e",
   "metadata": {},
   "outputs": [],
   "source": [
    "# index.html"
   ]
  },
  {
   "cell_type": "raw",
   "id": "74495994",
   "metadata": {},
   "source": [
    "<!DOCTYPE html>\n",
    "<html>\n",
    "  <head> \n",
    "    <link rel=\"stylesheet\" type=\"text/css\" href=\"style.css\">\n",
    "  </head>\n",
    "  <body>\n",
    "    <h3>I am fine</h3>\n",
    "    <h3 class=\"upper cursive\">How are you?</h3>\n",
    "    <h3>The weather is good</h3>\n",
    "  </body>\n",
    "</html>"
   ]
  },
  {
   "cell_type": "code",
   "execution_count": 19,
   "id": "9d87e976",
   "metadata": {},
   "outputs": [],
   "source": [
    "# ID Selector\n",
    "\n",
    "# ID Selector is used to select an unique element"
   ]
  },
  {
   "cell_type": "code",
   "execution_count": 20,
   "id": "b6ef6b85",
   "metadata": {},
   "outputs": [],
   "source": [
    "# style.css"
   ]
  },
  {
   "cell_type": "raw",
   "id": "b36ea159",
   "metadata": {},
   "source": [
    "#middle{\n",
    "\tcolor: blue;\n",
    "}"
   ]
  },
  {
   "cell_type": "code",
   "execution_count": 21,
   "id": "b67c7ad9",
   "metadata": {},
   "outputs": [],
   "source": [
    "# index.html"
   ]
  },
  {
   "cell_type": "raw",
   "id": "04265e70",
   "metadata": {},
   "source": [
    "<!DOCTYPE html>\n",
    "<html>\n",
    "  <head> \n",
    "    <link rel=\"stylesheet\" type=\"text/css\" href=\"style.css\">\n",
    "  </head>\n",
    "  <body>\n",
    "    <h3>I am fine</h3>\n",
    "    <h3 id=\"middle\">How are you?</h3>\n",
    "    <h3>The weather is good</h3>\n",
    "  </body>\n",
    "</html>"
   ]
  },
  {
   "cell_type": "code",
   "execution_count": 22,
   "id": "3a477340",
   "metadata": {},
   "outputs": [],
   "source": [
    "# There are 3 types of Selectors in the context of External CSS\n",
    "\n",
    "# 1) Type Selector\n",
    "# 2) Class Selector\n",
    "# 3) ID Selector\n",
    "\n",
    "# Specificity of the 3 selectors"
   ]
  },
  {
   "cell_type": "code",
   "execution_count": 23,
   "id": "7b14c675",
   "metadata": {},
   "outputs": [],
   "source": [
    "# style.css"
   ]
  },
  {
   "cell_type": "raw",
   "id": "e290e64d",
   "metadata": {},
   "source": [
    "p{\n",
    "\tcolor: blue;\n",
    "}\n",
    "\n",
    ".class-para{\n",
    "\tcolor: red;\n",
    "}\n",
    "\n",
    "#id-para{\n",
    "\tcolor: purple;\n",
    "}"
   ]
  },
  {
   "cell_type": "code",
   "execution_count": 25,
   "id": "9c6dde52",
   "metadata": {},
   "outputs": [],
   "source": [
    "# index.html"
   ]
  },
  {
   "cell_type": "raw",
   "id": "cd85a2b9",
   "metadata": {},
   "source": [
    "<!DOCTYPE html>\n",
    "<html>\n",
    "  <head> \n",
    "    <link rel=\"stylesheet\" type=\"text/css\" href=\"style.css\">\n",
    "  </head>\n",
    "  <body>\n",
    "    <p> Paragraph - Type </p>\n",
    "    <p class=\"class-para\"> Paragraph - Class </p>\n",
    "    <p class=\"class-para\" id = \"id-para\"> Paragraph - Id</p>\n",
    "    <p class=\"class-para\" id = \"id-para\" style=\"color: orange\"> Paragraph - Inline</p>\n",
    "  </body>\n",
    "</html>"
   ]
  },
  {
   "cell_type": "code",
   "execution_count": 26,
   "id": "8b9c6159",
   "metadata": {},
   "outputs": [],
   "source": [
    "# The 'Paragraph-Type' would be in blue\n",
    "# The 'Paragraph-Class' would be in red\n",
    "# The 'Paragraph-Id' would be in purple\n",
    "# The 'Paragraph-Inline' would be in orange\n",
    "\n",
    "# Class Selector is given preference over Type Selector and\n",
    "# Id Selector is given preference over Class Selector\n",
    "# Inline CSS is given preference over Id Selector\n",
    "\n",
    "# Type Selector < Class Selector < Id Selector < Inline CSS"
   ]
  },
  {
   "cell_type": "code",
   "execution_count": null,
   "id": "a15fa65e",
   "metadata": {},
   "outputs": [],
   "source": [
    "# Type Selector, Class Selector, Id Selector are all External CSS\n",
    "# Under the head section, if internal CSS (style tag) is mentioned below external css (link tag), then internal CSS is given\n",
    "# preference over external CSS.\n",
    "# Inline CSS is topmost priority"
   ]
  },
  {
   "cell_type": "code",
   "execution_count": 27,
   "id": "67205ede",
   "metadata": {},
   "outputs": [],
   "source": [
    "# If we specify a particular class twice in the style.css, then the class which was mentioned latest (last) would be given\n",
    "# preference. If 2 selector have same specificity, then the most recent selector would be given preference."
   ]
  },
  {
   "cell_type": "code",
   "execution_count": 31,
   "id": "f2ee8215",
   "metadata": {},
   "outputs": [],
   "source": [
    "# Grouping of CSS Selectors\n",
    "\n",
    "# In the below style.cc, we have grouped the p and h type selectors as they have the common attribute 'font-family: cursive'\n",
    "# We can also group type and class selectors or type and id selectors or class and id selectors together."
   ]
  },
  {
   "cell_type": "code",
   "execution_count": 32,
   "id": "af2da6f1",
   "metadata": {},
   "outputs": [],
   "source": [
    "# style.css"
   ]
  },
  {
   "cell_type": "raw",
   "id": "c2f00b5b",
   "metadata": {},
   "source": [
    "p{\n",
    "\tcolor: blue;\n",
    "}\n",
    "\n",
    "h{\n",
    "\tfont-size: 40px;\n",
    "}\n",
    "\n",
    "p,h{\n",
    "\tfont-family: cursive;\n",
    "}"
   ]
  },
  {
   "cell_type": "code",
   "execution_count": 33,
   "id": "e290db5f",
   "metadata": {},
   "outputs": [],
   "source": [
    "# index.html"
   ]
  },
  {
   "cell_type": "raw",
   "id": "7f37a334",
   "metadata": {},
   "source": [
    "<!DOCTYPE html>\n",
    "<html>\n",
    "  <head> \n",
    "    <link rel=\"stylesheet\" type=\"text/css\" href=\"style.css\">\n",
    "  </head>\n",
    "  <body>\n",
    "    <h>How are you?</h>\n",
    "    <p>The weather is good</p>\n",
    "  </body>\n",
    "</html>"
   ]
  },
  {
   "cell_type": "code",
   "execution_count": 37,
   "id": "6b582fb4",
   "metadata": {},
   "outputs": [],
   "source": [
    "# Nesting of CSS Selectors\n",
    "\n",
    "# In the below style.css, all h1 headings within li will be in blue color"
   ]
  },
  {
   "cell_type": "code",
   "execution_count": 38,
   "id": "28e95b67",
   "metadata": {},
   "outputs": [],
   "source": [
    "# style.css"
   ]
  },
  {
   "cell_type": "raw",
   "id": "c8910f01",
   "metadata": {},
   "source": [
    "li h1{\n",
    "\tcolor: blue;\n",
    "}"
   ]
  },
  {
   "cell_type": "code",
   "execution_count": 39,
   "id": "6bb19832",
   "metadata": {},
   "outputs": [],
   "source": [
    "# index.html"
   ]
  },
  {
   "cell_type": "raw",
   "id": "55aa8818",
   "metadata": {},
   "source": [
    "<!DOCTYPE html>\n",
    "<html>\n",
    "  <head> \n",
    "    <link rel=\"stylesheet\" type=\"text/css\" href=\"style.css\">\n",
    "  </head>\n",
    "  <body>\n",
    "    <ul>\n",
    "      <li>\n",
    "        <h1> First point </h1>\n",
    "      </li>\n",
    "      <li>\n",
    "        Second point\n",
    "      </li>\n",
    "      <li>\n",
    "        Third point\n",
    "      </li>\n",
    "      <li>\n",
    "        Fourth point\n",
    "      </li>\n",
    "    </ul>\n",
    "    <ol>\n",
    "      <li>First point</li>\n",
    "      <li>\n",
    "        <h1>Second point</h1>\n",
    "      </li>\n",
    "      <li>\n",
    "        Third point\n",
    "      </li>\n",
    "      <li>\n",
    "        Fourth point\n",
    "      </li>\n",
    "  </body>\n",
    "</html>"
   ]
  },
  {
   "cell_type": "code",
   "execution_count": 40,
   "id": "c0f16cd6",
   "metadata": {},
   "outputs": [],
   "source": [
    "# The Nesting of CSS selectors can be done between type and id, type and class, id and class selectors as shown below"
   ]
  },
  {
   "cell_type": "code",
   "execution_count": 41,
   "id": "d2f42b3f",
   "metadata": {},
   "outputs": [],
   "source": [
    "# style.css"
   ]
  },
  {
   "cell_type": "raw",
   "id": "f61edf06",
   "metadata": {},
   "source": [
    "#example p{\n",
    "\tcolor: blue;\n",
    "}"
   ]
  },
  {
   "cell_type": "raw",
   "id": "8524a5f6",
   "metadata": {},
   "source": [
    "<!DOCTYPE html>\n",
    "<html>\n",
    "  <head> \n",
    "    <link rel=\"stylesheet\" type=\"text/css\" href=\"style.css\">\n",
    "  </head>\n",
    "  <body>\n",
    "    <div id = \"example\">\n",
    "      <h1>Description</h1>\n",
    "      <p>How are you?</p>\n",
    "      <p>The weather is good</p>\n",
    "    </div>\n",
    "  </body>\n",
    "</html>"
   ]
  },
  {
   "cell_type": "code",
   "execution_count": 42,
   "id": "8468bead",
   "metadata": {},
   "outputs": [],
   "source": [
    "# Psuedo classes (Hovering)"
   ]
  },
  {
   "cell_type": "code",
   "execution_count": 43,
   "id": "a1280073",
   "metadata": {},
   "outputs": [],
   "source": [
    "# style.css"
   ]
  },
  {
   "cell_type": "raw",
   "id": "5d8ab7d2",
   "metadata": {},
   "source": [
    "#hovering_example:hover{\n",
    "\tcolor:orange;\n",
    "}"
   ]
  },
  {
   "cell_type": "code",
   "execution_count": 44,
   "id": "af6ae950",
   "metadata": {},
   "outputs": [],
   "source": [
    "# index.html"
   ]
  },
  {
   "cell_type": "raw",
   "id": "0f2d41ee",
   "metadata": {},
   "source": [
    "<!DOCTYPE html>\n",
    "<html>\n",
    "  <head> \n",
    "    <link rel=\"stylesheet\" type=\"text/css\" href=\"style.css\">\n",
    "  </head>\n",
    "  <body>\n",
    "    <h1 id = \"hovering_example\">Blog Title</h1>\n",
    "  </body>\n",
    "</html>"
   ]
  },
  {
   "cell_type": "code",
   "execution_count": 45,
   "id": "e7fa16b3",
   "metadata": {},
   "outputs": [],
   "source": [
    "# How to apply styles to para’s having class ‘style’? (There are other elements with same class name)"
   ]
  },
  {
   "cell_type": "raw",
   "id": "0a39f970",
   "metadata": {},
   "source": [
    "<!DOCTYPE html>\n",
    "<html>\n",
    "<head>\n",
    "  <style type=\"text/css\">\n",
    "    p.sample1{\n",
    "      color: red\n",
    "    }\n",
    "    h1.sample2{\n",
    "      color: blue;\n",
    "    }\n",
    "  </style>\n",
    "</head>\n",
    "<body>\n",
    "  <p class = \"sample1\">How are you?</p>\n",
    "  <p>I am good</p>\n",
    "  <h1 class = \"sample2\">The weather is good</h1>\n",
    "</body>\n",
    "</html>"
   ]
  },
  {
   "cell_type": "code",
   "execution_count": null,
   "id": "d9228473",
   "metadata": {},
   "outputs": [],
   "source": [
    "# \"How are you\" is in red color\n",
    "# \"I am good\" is in default black color\n",
    "# \"The weather is good\" is in blue color"
   ]
  }
 ],
 "metadata": {
  "kernelspec": {
   "display_name": "Python 3 (ipykernel)",
   "language": "python",
   "name": "python3"
  },
  "language_info": {
   "codemirror_mode": {
    "name": "ipython",
    "version": 3
   },
   "file_extension": ".py",
   "mimetype": "text/x-python",
   "name": "python",
   "nbconvert_exporter": "python",
   "pygments_lexer": "ipython3",
   "version": "3.9.12"
  }
 },
 "nbformat": 4,
 "nbformat_minor": 5
}
