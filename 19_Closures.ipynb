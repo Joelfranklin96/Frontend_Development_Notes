{
 "cells": [
  {
   "cell_type": "raw",
   "id": "60ff24dc",
   "metadata": {},
   "source": [
    "var var1 = 10;\n",
    "\n",
    "function outer(){\n",
    "  var b = 20;\n",
    "  console.log(b)\n",
    "}\n",
    "\n",
    "console.log(var1);"
   ]
  },
  {
   "cell_type": "code",
   "execution_count": 1,
   "id": "5cf85589",
   "metadata": {},
   "outputs": [],
   "source": [
    "# window comes at the top of the DOM\n",
    "\n",
    "# When the above code is implemented, 'outer' is created as a property of window.\n",
    "# var1 is also created as a property of window.\n",
    "\n",
    "# Everything that has a goblal scope exists as a property of window\n",
    "\n",
    "# We can call on 'var1' and 'outer' as window.var1 and window.outer()"
   ]
  },
  {
   "cell_type": "code",
   "execution_count": 2,
   "id": "a93f952b",
   "metadata": {},
   "outputs": [],
   "source": [
    "# Whenever we run a javascript code, an execution context is created.\n",
    "\n",
    "# All execution contexts are stored in an execution stack\n",
    "\n",
    "# The first execution context that is created is the global execution context."
   ]
  },
  {
   "cell_type": "code",
   "execution_count": 3,
   "id": "5765ed2e",
   "metadata": {},
   "outputs": [],
   "source": [
    "# Global execution context is associated with a lexical environment which contains all variables and functions defined in \n",
    "# global scope and this.\n",
    "\n",
    "# Whenever we call a function, a new function context with a new lexical environment is created.\n",
    "\n",
    "# When outer function is called, the outer function context is created and the outer function context is associated with a \n",
    "# lexical environment which contains all variables defined in 'outer' scope, this and outer enviroment (which is global enviroment)"
   ]
  },
  {
   "cell_type": "raw",
   "id": "a294a421",
   "metadata": {},
   "source": [
    "var a =10;\n",
    "function foo(){\n",
    "var a = 20;\n",
    "console.log(a);\n",
    "console.log(window.a);    \n",
    "}\n",
    "console.log(a);\n",
    "window.foo();"
   ]
  },
  {
   "cell_type": "code",
   "execution_count": null,
   "id": "3d77e31c",
   "metadata": {},
   "outputs": [],
   "source": [
    "# output in above case\n",
    "\n",
    "# 10\n",
    "# 20 \n",
    "# 10"
   ]
  },
  {
   "cell_type": "raw",
   "id": "d4075948",
   "metadata": {},
   "source": [
    "var a = 10;\n",
    "console.log(a);\n",
    "var a =20;\n",
    "console.log(a);"
   ]
  },
  {
   "cell_type": "code",
   "execution_count": 4,
   "id": "b8c6dfef",
   "metadata": {},
   "outputs": [],
   "source": [
    "# output in above case\n",
    "\n",
    "# 10\n",
    "# 20"
   ]
  },
  {
   "cell_type": "code",
   "execution_count": 5,
   "id": "19bb7a9d",
   "metadata": {},
   "outputs": [],
   "source": [
    "# index.html"
   ]
  },
  {
   "cell_type": "raw",
   "id": "8ce9da3f",
   "metadata": {},
   "source": [
    "<!DOCTYPE html>\n",
    "<html>\n",
    "    <head>\n",
    "\n",
    "    </head>\n",
    "    <body>\n",
    "        <p>Sample Paragraph</p>\n",
    "\n",
    "        <script src=\"script1.js\"></script>\n",
    "        <script src=\"script2.js\"></script>\n",
    "    </body>\n",
    "</html>"
   ]
  },
  {
   "cell_type": "code",
   "execution_count": 7,
   "id": "0eeed586",
   "metadata": {},
   "outputs": [],
   "source": [
    "# script1.js"
   ]
  },
  {
   "cell_type": "raw",
   "id": "083c2508",
   "metadata": {},
   "source": [
    "var name = 'file1';\n",
    "console.log(name);"
   ]
  },
  {
   "cell_type": "code",
   "execution_count": 8,
   "id": "8b61e5f9",
   "metadata": {},
   "outputs": [],
   "source": [
    "# script2.js"
   ]
  },
  {
   "cell_type": "raw",
   "id": "dc458ec1",
   "metadata": {},
   "source": [
    "var name = 'file2';\n",
    "console.log(name);"
   ]
  },
  {
   "cell_type": "code",
   "execution_count": 9,
   "id": "d217c300",
   "metadata": {},
   "outputs": [],
   "source": [
    "# output in console\n",
    "\n",
    "# file1\n",
    "# file2"
   ]
  },
  {
   "cell_type": "code",
   "execution_count": 10,
   "id": "181cf4f4",
   "metadata": {},
   "outputs": [],
   "source": [
    "# But now if we type 'name' in console, 'file2' will be displayed"
   ]
  },
  {
   "cell_type": "code",
   "execution_count": 11,
   "id": "c85cbc06",
   "metadata": {},
   "outputs": [],
   "source": [
    "# script1.js"
   ]
  },
  {
   "cell_type": "raw",
   "id": "8dbbb4cd",
   "metadata": {},
   "source": [
    "var name = 'file1';\n",
    "\n",
    "setTimeout(function(){\n",
    "    console.log(name);\n",
    "}, 1000);"
   ]
  },
  {
   "cell_type": "code",
   "execution_count": 12,
   "id": "b24e79ca",
   "metadata": {},
   "outputs": [],
   "source": [
    "# script2.js"
   ]
  },
  {
   "cell_type": "raw",
   "id": "123e47cd",
   "metadata": {},
   "source": [
    "var name = 'file2';\n",
    "console.log(name);"
   ]
  },
  {
   "cell_type": "code",
   "execution_count": 14,
   "id": "7ad3f813",
   "metadata": {},
   "outputs": [],
   "source": [
    "# output in console when we refresh 'index.html'\n",
    "\n",
    "# file2\n",
    "# file2"
   ]
  },
  {
   "cell_type": "code",
   "execution_count": null,
   "id": "a64ee646",
   "metadata": {},
   "outputs": [],
   "source": [
    "# The above combination of script1.js and script2.js are equivalent to the below single javascript file"
   ]
  },
  {
   "cell_type": "raw",
   "id": "e705b51d",
   "metadata": {},
   "source": [
    "var name = 'file1';\n",
    "\n",
    "setTimeout(function(){\n",
    "    console.log(name);\n",
    "}, 1000);\n",
    "\n",
    "var name = 'file2';\n",
    "console.log(name);"
   ]
  },
  {
   "cell_type": "code",
   "execution_count": 15,
   "id": "9a1c37da",
   "metadata": {},
   "outputs": [],
   "source": [
    "# output in above case\n",
    "\n",
    "# file2\n",
    "# file2"
   ]
  },
  {
   "cell_type": "code",
   "execution_count": null,
   "id": "47548987",
   "metadata": {},
   "outputs": [],
   "source": [
    "# script1.js"
   ]
  },
  {
   "cell_type": "raw",
   "id": "c9568ab8",
   "metadata": {},
   "source": [
    "var name = 'file1';\n",
    "\n",
    "setTimeout(function(){\n",
    "    console.log(name);\n",
    "}, 1000);"
   ]
  },
  {
   "cell_type": "code",
   "execution_count": null,
   "id": "6334da6d",
   "metadata": {},
   "outputs": [],
   "source": [
    "# script2.js"
   ]
  },
  {
   "cell_type": "raw",
   "id": "258553a7",
   "metadata": {},
   "source": [
    "var name = 'file2';\n",
    "\n",
    "setTimeout(function(){\n",
    "    console.log(name);\n",
    "}, 1000);"
   ]
  },
  {
   "cell_type": "code",
   "execution_count": null,
   "id": "51d2dccd",
   "metadata": {},
   "outputs": [],
   "source": [
    "# output in above case\n",
    "\n",
    "# file2\n",
    "# file2"
   ]
  },
  {
   "cell_type": "code",
   "execution_count": 16,
   "id": "8b4b32a5",
   "metadata": {},
   "outputs": [],
   "source": [
    "# script1.js"
   ]
  },
  {
   "cell_type": "raw",
   "id": "3a44439f",
   "metadata": {},
   "source": [
    "function print1(){\n",
    "    var name = \"file1\";\n",
    "    setTimeout(function(){\n",
    "        console.log(name);\n",
    "    },1000);\n",
    "}\n",
    "\n",
    "print1();"
   ]
  },
  {
   "cell_type": "code",
   "execution_count": 17,
   "id": "f5a41f89",
   "metadata": {},
   "outputs": [],
   "source": [
    "# script2.js"
   ]
  },
  {
   "cell_type": "raw",
   "id": "82078bcc",
   "metadata": {},
   "source": [
    "var name = 'file2';\n",
    "console.log(name);"
   ]
  },
  {
   "cell_type": "code",
   "execution_count": 18,
   "id": "b11fd335",
   "metadata": {},
   "outputs": [],
   "source": [
    "# output in above case\n",
    "\n",
    "# file2\n",
    "# file1"
   ]
  },
  {
   "cell_type": "code",
   "execution_count": 19,
   "id": "3cd7400a",
   "metadata": {},
   "outputs": [],
   "source": [
    "# script1.js"
   ]
  },
  {
   "cell_type": "raw",
   "id": "940d9aa4",
   "metadata": {},
   "source": [
    "function print1(){\n",
    "    var name = 'file1';\n",
    "    setTimeout(function(){\n",
    "        console.log(name);\n",
    "    },1000);\n",
    "}\n",
    "\n",
    "print1();"
   ]
  },
  {
   "cell_type": "code",
   "execution_count": 20,
   "id": "fce1b131",
   "metadata": {},
   "outputs": [],
   "source": [
    "# script2.js"
   ]
  },
  {
   "cell_type": "raw",
   "id": "7a97ae77",
   "metadata": {},
   "source": [
    "function print2(){\n",
    "    var name = 'file2';\n",
    "    console.log(name);\n",
    "}\n",
    "\n",
    "print2();"
   ]
  },
  {
   "cell_type": "code",
   "execution_count": 22,
   "id": "f7dac5ae",
   "metadata": {},
   "outputs": [],
   "source": [
    "# output in above case\n",
    "\n",
    "# file2\n",
    "# file1\n",
    "\n",
    "# In above case, we have avoided global variables but we have used global functions."
   ]
  },
  {
   "cell_type": "code",
   "execution_count": 23,
   "id": "45889333",
   "metadata": {},
   "outputs": [],
   "source": [
    "# script1.js"
   ]
  },
  {
   "cell_type": "raw",
   "id": "ff577246",
   "metadata": {},
   "source": [
    "function print(){\n",
    "    var name = 'file1';\n",
    "    setTimeout(function(){\n",
    "        console.log(name);\n",
    "    },1000);\n",
    "}\n",
    "\n",
    "print();"
   ]
  },
  {
   "cell_type": "code",
   "execution_count": 24,
   "id": "d84e4ab5",
   "metadata": {},
   "outputs": [],
   "source": [
    "# script2.js"
   ]
  },
  {
   "cell_type": "raw",
   "id": "a5b80148",
   "metadata": {},
   "source": [
    "function print(){\n",
    "    var name = 'file2';\n",
    "    console.log(name);\n",
    "}\n",
    "\n",
    "print();"
   ]
  },
  {
   "cell_type": "code",
   "execution_count": 25,
   "id": "0e76969c",
   "metadata": {},
   "outputs": [],
   "source": [
    "# output in above case\n",
    "\n",
    "# file2\n",
    "# file1"
   ]
  },
  {
   "cell_type": "code",
   "execution_count": 26,
   "id": "6730ac9d",
   "metadata": {},
   "outputs": [],
   "source": [
    "# In above case, we have avoided global variables but we have used global functions.\n",
    "# Suppose 2 functions have the same name even though they are in 2 different javascript files, they can pose a problem."
   ]
  },
  {
   "cell_type": "code",
   "execution_count": 27,
   "id": "89189ba7",
   "metadata": {},
   "outputs": [],
   "source": [
    "# The solution to the above problem is IIFE (Immediately Invoked Function Expression)"
   ]
  },
  {
   "cell_type": "code",
   "execution_count": 28,
   "id": "48dfccf5",
   "metadata": {},
   "outputs": [],
   "source": [
    "# script1.js"
   ]
  },
  {
   "cell_type": "raw",
   "id": "af982c14",
   "metadata": {},
   "source": [
    "(function() {\n",
    "    var name = 'file1';\n",
    "    setTimeout(function(){\n",
    "        console.log(name);\n",
    "    },1000);\n",
    "})();"
   ]
  },
  {
   "cell_type": "code",
   "execution_count": 29,
   "id": "e8b4c70c",
   "metadata": {},
   "outputs": [],
   "source": [
    "# script2.js"
   ]
  },
  {
   "cell_type": "raw",
   "id": "0a406d69",
   "metadata": {},
   "source": [
    "(function(){\n",
    "    var name = 'file2';\n",
    "    console.log(name);\n",
    "})();"
   ]
  },
  {
   "cell_type": "code",
   "execution_count": 30,
   "id": "a84c86e0",
   "metadata": {},
   "outputs": [],
   "source": [
    "# In the above case, we don't name the function but we invoke the function immediately. The functions are for one time use.\n",
    "\n",
    "# output in above case\n",
    "\n",
    "# file2\n",
    "# file1"
   ]
  },
  {
   "cell_type": "code",
   "execution_count": 31,
   "id": "f13f7955",
   "metadata": {},
   "outputs": [],
   "source": [
    "# Another alternative is to use the 'let' variable which has additional 'block' scope"
   ]
  },
  {
   "cell_type": "code",
   "execution_count": 32,
   "id": "cab5de40",
   "metadata": {},
   "outputs": [],
   "source": [
    "# script1.js"
   ]
  },
  {
   "cell_type": "raw",
   "id": "2902eed4",
   "metadata": {},
   "source": [
    "{\n",
    "    let name = 'file1';\n",
    "    setTimeout(function(){\n",
    "        console.log(name);\n",
    "    }, 1000)\n",
    "}"
   ]
  },
  {
   "cell_type": "code",
   "execution_count": 33,
   "id": "005d5199",
   "metadata": {},
   "outputs": [],
   "source": [
    "# script2.js"
   ]
  },
  {
   "cell_type": "raw",
   "id": "ed5b1981",
   "metadata": {},
   "source": [
    "var name = 'file2';\n",
    "console.log(name);"
   ]
  },
  {
   "cell_type": "code",
   "execution_count": null,
   "id": "7a668177",
   "metadata": {},
   "outputs": [],
   "source": [
    "# output in above case\n",
    "\n",
    "# file2\n",
    "# file1"
   ]
  },
  {
   "cell_type": "code",
   "execution_count": 34,
   "id": "d3836421",
   "metadata": {},
   "outputs": [],
   "source": [
    "# script1.js"
   ]
  },
  {
   "cell_type": "raw",
   "id": "31f32d6c",
   "metadata": {},
   "source": [
    "{\n",
    "    let filename = 'file1'\n",
    "    setTimeout(function(){\n",
    "        console.log(filename);\n",
    "    }, 1000)\n",
    "}"
   ]
  },
  {
   "cell_type": "code",
   "execution_count": 35,
   "id": "23e2705b",
   "metadata": {},
   "outputs": [],
   "source": [
    "# script2.js"
   ]
  },
  {
   "cell_type": "raw",
   "id": "40bc29b5",
   "metadata": {},
   "source": [
    "{\n",
    "    let filename = 'file2';\n",
    "    console.log(filename);\n",
    "}"
   ]
  },
  {
   "cell_type": "code",
   "execution_count": null,
   "id": "81c41108",
   "metadata": {},
   "outputs": [],
   "source": [
    "# output in above case\n",
    "\n",
    "# file2\n",
    "# file1"
   ]
  },
  {
   "cell_type": "code",
   "execution_count": null,
   "id": "0616fb27",
   "metadata": {},
   "outputs": [],
   "source": [
    "# Now if try to print console.log(window.filename), we get \"ReferenceError: filename is not defined\n",
    "# Because filename has block scope and not global scope."
   ]
  },
  {
   "cell_type": "code",
   "execution_count": 36,
   "id": "c6e167fc",
   "metadata": {},
   "outputs": [],
   "source": [
    "# script.js"
   ]
  },
  {
   "cell_type": "raw",
   "id": "cf379016",
   "metadata": {},
   "source": [
    "{\n",
    "  var a = 10 ;\n",
    "  let b = 20 ;\n",
    "}\n",
    "\n",
    "c = 30 ;\n",
    "\n",
    "if(c===30){\n",
    "    let d = 50 ;\n",
    "    console.log(d) ;\n",
    "}\n",
    "else{\n",
    "     var e = 20;\n",
    "     console.log(e) ;\n",
    "}"
   ]
  },
  {
   "cell_type": "code",
   "execution_count": 37,
   "id": "046fb99c",
   "metadata": {},
   "outputs": [],
   "source": [
    "# a -> global scope\n",
    "# b -> block scope\n",
    "# c -> global scope\n",
    "# d -> block scope\n",
    "# e -> global scope if the else block of code ran"
   ]
  },
  {
   "cell_type": "code",
   "execution_count": 38,
   "id": "89a40819",
   "metadata": {},
   "outputs": [],
   "source": [
    "# script.js"
   ]
  },
  {
   "cell_type": "raw",
   "id": "b64fc7c7",
   "metadata": {},
   "source": [
    "var i = 10;\n",
    "\n",
    "function outer(){\n",
    "    var j = 20;\n",
    "    console.log(i, j);\n",
    "    var inner = function(){\n",
    "        var k = 30;\n",
    "        console.log(j,k);\n",
    "    }\n",
    "    return inner;\n",
    "}\n",
    "\n",
    "var inner = outer();\n",
    "inner();"
   ]
  },
  {
   "cell_type": "code",
   "execution_count": 39,
   "id": "fe52029b",
   "metadata": {},
   "outputs": [],
   "source": [
    "# output in above case\n",
    "\n",
    "# 10 20\n",
    "# 20 30\n",
    "\n",
    "# Ideally the output must have been\n",
    "# 10 20\n",
    "\n",
    "# Because once the function outer() is executed, all the variables and functions that have the outer() as scope would be removed\n",
    "\n",
    "# But we get the below output because of a property called Closure\n",
    "# 10 20\n",
    "# 20 30\n",
    "\n",
    "# By the property of Closure, the inner() function (defined above) has access to the variables and functions in the outer() function\n",
    "# So even if outer() execution is completed, the variables and functions defined in outer() function scope are not removed\n",
    "# from memory.\n"
   ]
  },
  {
   "cell_type": "code",
   "execution_count": 40,
   "id": "c50c964c",
   "metadata": {},
   "outputs": [],
   "source": [
    "# script.js"
   ]
  },
  {
   "cell_type": "raw",
   "id": "7ca30947",
   "metadata": {},
   "source": [
    "var i = 10;\n",
    "\n",
    "function outer(){\n",
    "    var j = 20;\n",
    "    var inner = function(){\n",
    "        var k = 30;\n",
    "        console.log(j,k);\n",
    "        k++;\n",
    "    }\n",
    "    return inner;\n",
    "}\n",
    "\n",
    "var inner = outer();\n",
    "inner();\n",
    "inner();"
   ]
  },
  {
   "cell_type": "code",
   "execution_count": 41,
   "id": "926f8ff7",
   "metadata": {},
   "outputs": [],
   "source": [
    "# output in above case\n",
    "\n",
    "# 20 30\n",
    "# 20 30"
   ]
  },
  {
   "cell_type": "raw",
   "id": "23df9127",
   "metadata": {},
   "source": [
    "var i = 10;\n",
    "\n",
    "function outer(){\n",
    "    var j = 20;\n",
    "    var inner = function(){\n",
    "        var k = 30;\n",
    "        console.log(j,k);\n",
    "        k++;\n",
    "        j++;\n",
    "    }\n",
    "    return inner;\n",
    "}\n",
    "\n",
    "var inner = outer();\n",
    "inner();\n",
    "inner();"
   ]
  },
  {
   "cell_type": "code",
   "execution_count": 42,
   "id": "f25e82fa",
   "metadata": {},
   "outputs": [],
   "source": [
    "# output in above case\n",
    "\n",
    "# 20 30\n",
    "# 21 30"
   ]
  },
  {
   "cell_type": "code",
   "execution_count": 43,
   "id": "096759ac",
   "metadata": {},
   "outputs": [],
   "source": [
    "# script.js"
   ]
  },
  {
   "cell_type": "raw",
   "id": "4780aac0",
   "metadata": {},
   "source": [
    "var a = 10;\n",
    "\n",
    "function sample1(){\n",
    "    var b = 5;\n",
    "    function sample2(){\n",
    "        console.log(a);\n",
    "        function sample3(){\n",
    "            console.log(b);\n",
    "        }\n",
    "        sample3();\n",
    "    }\n",
    "    sample2();\n",
    "}\n",
    "\n",
    "sample1();"
   ]
  },
  {
   "cell_type": "code",
   "execution_count": 44,
   "id": "f1eb5bb8",
   "metadata": {},
   "outputs": [],
   "source": [
    "# output in above case\n",
    "\n",
    "# 10\n",
    "# 5\n",
    "\n",
    "# In above case, the sample3() function has access to the variables which have the scope of sample1()\n",
    "# and sample2() has access to the global variables."
   ]
  },
  {
   "cell_type": "code",
   "execution_count": 45,
   "id": "e46d7b40",
   "metadata": {},
   "outputs": [],
   "source": [
    "# script.js"
   ]
  },
  {
   "cell_type": "raw",
   "id": "b892ad3e",
   "metadata": {},
   "source": [
    "var i = 10;\n",
    "\n",
    "function outer(){\n",
    "    var j = 20;\n",
    "    var inner = function(){\n",
    "        var k = 30;\n",
    "        console.log(i,j,k);\n",
    "        k++;\n",
    "        j++;\n",
    "        i++;\n",
    "    }\n",
    "    return inner;\n",
    "}\n",
    "\n",
    "var inner = outer();\n",
    "inner();\n",
    "var inner = outer();\n",
    "inner();"
   ]
  },
  {
   "cell_type": "code",
   "execution_count": 46,
   "id": "8a912645",
   "metadata": {},
   "outputs": [],
   "source": [
    "# output in above case\n",
    "\n",
    "# 10 20 30\n",
    "# 11 20 30"
   ]
  },
  {
   "cell_type": "raw",
   "id": "469123a7",
   "metadata": {},
   "source": [
    "function Adder(x) {\n",
    "  return function(y) {\n",
    "    return x + y;\n",
    "  };\n",
    "}\n",
    "var add5 = Adder(5);\n",
    "var add10 = Adder(10);\n",
    "console.log(add5(2));\n",
    "console.log(add10(2));"
   ]
  },
  {
   "cell_type": "code",
   "execution_count": null,
   "id": "02d5693b",
   "metadata": {},
   "outputs": [],
   "source": [
    "# output in above case\n",
    "\n",
    "# 7 12"
   ]
  },
  {
   "cell_type": "code",
   "execution_count": null,
   "id": "73a4238f",
   "metadata": {},
   "outputs": [],
   "source": [
    "# script.js"
   ]
  },
  {
   "cell_type": "raw",
   "id": "b755ea68",
   "metadata": {},
   "source": [
    "var i = 10;\n",
    "\n",
    "function outer(){\n",
    "    var j = 20;\n",
    "    var inner = function(){\n",
    "        var k = 30;\n",
    "        console.log(i,j,k);\n",
    "    }\n",
    "    return inner;\n",
    "}\n",
    "\n",
    "var inner = outer();\n",
    "console.log(inner);"
   ]
  },
  {
   "cell_type": "raw",
   "id": "7fb31a0c",
   "metadata": {},
   "source": [
    "# output in above case\n",
    "\n",
    "ƒ (){\n",
    "        var k = 30;\n",
    "        console.log(i,j,k);\n",
    "    }"
   ]
  },
  {
   "cell_type": "code",
   "execution_count": 47,
   "id": "f8e7b562",
   "metadata": {},
   "outputs": [],
   "source": [
    "# script.js"
   ]
  },
  {
   "cell_type": "raw",
   "id": "08e7e4cd",
   "metadata": {},
   "source": [
    "var i = 10;\n",
    "\n",
    "function outer(){\n",
    "    var j = 20;\n",
    "    var inner = function(){\n",
    "        var k = 30;\n",
    "        console.log(i,j,k);\n",
    "    }\n",
    "    return inner();\n",
    "}\n",
    "\n",
    "var inner = outer();\n",
    "inner;"
   ]
  },
  {
   "cell_type": "code",
   "execution_count": 48,
   "id": "a26be7da",
   "metadata": {},
   "outputs": [],
   "source": [
    "# output in above case\n",
    "\n",
    "# 10 20 30"
   ]
  },
  {
   "cell_type": "code",
   "execution_count": 49,
   "id": "f7184fd8",
   "metadata": {},
   "outputs": [],
   "source": [
    "# script.js"
   ]
  },
  {
   "cell_type": "raw",
   "id": "0b6bc23d",
   "metadata": {},
   "source": [
    "for(var i = 1; i <= 5; i++){\n",
    "    setTimeout(function(){\n",
    "        console.log(i);\n",
    "    }, 1000)\n",
    "}\n",
    "console.log(\"After for loop\", i);"
   ]
  },
  {
   "cell_type": "code",
   "execution_count": 50,
   "id": "7003989f",
   "metadata": {},
   "outputs": [],
   "source": [
    "# output in above case\n",
    "\n",
    "# After for loop 6\n",
    "# 6\n",
    "# 6\n",
    "# 6\n",
    "# 6\n",
    "# 6"
   ]
  },
  {
   "cell_type": "code",
   "execution_count": 51,
   "id": "919402a7",
   "metadata": {},
   "outputs": [],
   "source": [
    "# script.js"
   ]
  },
  {
   "cell_type": "raw",
   "id": "b457273d",
   "metadata": {},
   "source": [
    "for(let i = 1; i <= 5; i++){\n",
    "    setTimeout(function(){\n",
    "        console.log(i);\n",
    "    }, 1000)\n",
    "}\n",
    "console.log(\"After for loop\", i);"
   ]
  },
  {
   "cell_type": "code",
   "execution_count": 52,
   "id": "7ec2fc05",
   "metadata": {},
   "outputs": [],
   "source": [
    "# output in above case\n",
    "\n",
    "# Uncaught ReferenceError: i is not defined\n",
    "# 1\n",
    "# 2\n",
    "# 3\n",
    "# 4\n",
    "# 5"
   ]
  },
  {
   "cell_type": "code",
   "execution_count": null,
   "id": "e626ab3c",
   "metadata": {},
   "outputs": [],
   "source": [
    "# In above case, each function inside setTimeout is binded to a particular value of i."
   ]
  },
  {
   "cell_type": "raw",
   "id": "3ab1cfd4",
   "metadata": {},
   "source": [
    "var arr = new Array(6);\n",
    "\n",
    "for (let i = 1; i <=5; i++){\n",
    "  i++;\n",
    "  arr[i] = function(){\n",
    "    console.log(i)\n",
    "  }\n",
    "  i--;\n",
    "}\n",
    "\n",
    "for (var i = 2; i <=6; i++){\n",
    "  arr[i]();\n",
    "}"
   ]
  },
  {
   "cell_type": "code",
   "execution_count": 1,
   "id": "0487669c",
   "metadata": {},
   "outputs": [],
   "source": [
    "# output in above case\n",
    "\n",
    "# 1\n",
    "# 2\n",
    "# 3\n",
    "# 4\n",
    "# 5"
   ]
  },
  {
   "cell_type": "code",
   "execution_count": 2,
   "id": "c3d5d997",
   "metadata": {},
   "outputs": [],
   "source": [
    "# Arrow functions"
   ]
  },
  {
   "cell_type": "raw",
   "id": "d0b058d0",
   "metadata": {},
   "source": [
    "var multiply1 = function(x,y){\n",
    "  return x*y;\n",
    "}\n",
    "\n",
    "var multiply2 = (x,y) => {return x*y};\n",
    "\n",
    "console.log(multiply1(4,5));\n",
    "console.log(multiply2(4,5));"
   ]
  },
  {
   "cell_type": "code",
   "execution_count": 3,
   "id": "d3013670",
   "metadata": {},
   "outputs": [],
   "source": [
    "# output in above case\n",
    "\n",
    "# 20\n",
    "# 20"
   ]
  },
  {
   "cell_type": "raw",
   "id": "a2ef78ff",
   "metadata": {},
   "source": [
    "var multiply1 = function(x,y){\n",
    "  return x*y;\n",
    "}\n",
    "\n",
    "var multiply2 = (x,y) => {return x*y};\n",
    "\n",
    "var multiply3 = (x,y) => x*y;\n",
    "\n",
    "console.log(multiply1(4,5));\n",
    "console.log(multiply2(4,5));\n",
    "console.log(multiply3(4,5));"
   ]
  },
  {
   "cell_type": "code",
   "execution_count": 4,
   "id": "ec418180",
   "metadata": {},
   "outputs": [],
   "source": [
    "# output in above case\n",
    "\n",
    "# 20\n",
    "# 20\n",
    "# 20"
   ]
  },
  {
   "cell_type": "code",
   "execution_count": 5,
   "id": "b8850d63",
   "metadata": {},
   "outputs": [],
   "source": [
    "# Bindings in Arrow function"
   ]
  },
  {
   "cell_type": "raw",
   "id": "9f0ecf68",
   "metadata": {},
   "source": [
    "function Person(name){\n",
    "  this.name = name;\n",
    "  console.log(this);\n",
    "  setTimeout(function(){\n",
    "    console.log(this);\n",
    "  }, 1000)\n",
    "}\n",
    "\n",
    "var p = new Person(\"Joel\")"
   ]
  },
  {
   "cell_type": "code",
   "execution_count": null,
   "id": "34fa1ba1",
   "metadata": {},
   "outputs": [],
   "source": [
    "# output in above case\n",
    "\n",
    "# Person {name: 'Joel'}\n",
    "# Window {window: Window, self: Window, document: document, name: 'file2', location: Location, …}"
   ]
  },
  {
   "cell_type": "raw",
   "id": "63ceb447",
   "metadata": {},
   "source": [
    "function Person(name){\n",
    "  this.name = name;\n",
    "  console.log(this);\n",
    "  setTimeout(() => console.log(this), 1000)\n",
    "}\n",
    "\n",
    "var p = new Person(\"Joel\")"
   ]
  },
  {
   "cell_type": "code",
   "execution_count": 6,
   "id": "affebfee",
   "metadata": {},
   "outputs": [],
   "source": [
    "# output in above case\n",
    "\n",
    "# Person {name: 'Joel'}\n",
    "# Person {name: 'Joel'}\n",
    "\n",
    "# Arrow functions do not have their own binding of 'this' variable. The value of picked by arrow function is from the outer scope.\n"
   ]
  },
  {
   "cell_type": "raw",
   "id": "da969df6",
   "metadata": {},
   "source": [
    "let user = {\n",
    "   firstname: 'John',\n",
    "   lastname: 'Doe',\n",
    "   getFullName: function(){\n",
    "       return function(){\n",
    "           console.log(`The full name of the user is ${this.firstname} ${this.lastname} `);\n",
    "       }\n",
    "   }    \n",
    "}\n",
    "user.getFullName()();"
   ]
  },
  {
   "cell_type": "code",
   "execution_count": 7,
   "id": "6632a659",
   "metadata": {},
   "outputs": [],
   "source": [
    "# output in above case\n",
    "\n",
    "# The full name of the user is undefined undefined"
   ]
  },
  {
   "cell_type": "raw",
   "id": "740b50cc",
   "metadata": {},
   "source": [
    "function makeCounter() {\n",
    "  let count = 0;\n",
    "  return function() {\n",
    "    return count++;\n",
    "  };\n",
    "}\n",
    "let counter1 = makeCounter();\n",
    "let counter2 = makeCounter();\n",
    "console.log( counter1() ); \n",
    "console.log( counter1() ); \n",
    "console.log( counter2() ); "
   ]
  },
  {
   "cell_type": "code",
   "execution_count": 8,
   "id": "77b8242c",
   "metadata": {},
   "outputs": [],
   "source": [
    "# output in above case\n",
    "\n",
    "# 0\n",
    "# 1\n",
    "# 0"
   ]
  },
  {
   "cell_type": "raw",
   "id": "41d64fd1",
   "metadata": {},
   "source": [
    "function makeArmy() {\n",
    "  let shooters = [];\n",
    "  let i = 0;\n",
    "  while (i < 10) {\n",
    "    let shooter = function() {\n",
    "      console.log( i ); \n",
    "    };\n",
    "    shooters.push(shooter);\n",
    "    i++;\n",
    "  }\n",
    "  return shooters;\n",
    "}\n",
    "let army = makeArmy();\n",
    "army[0]();\n",
    "army[5]();"
   ]
  },
  {
   "cell_type": "code",
   "execution_count": 9,
   "id": "bd715edc",
   "metadata": {},
   "outputs": [],
   "source": [
    "# output in above case\n",
    "\n",
    "# 10\n",
    "# 10"
   ]
  },
  {
   "cell_type": "raw",
   "id": "3d52b81b",
   "metadata": {},
   "source": [
    "function makeArmy() {\n",
    "  let shooters = [];\n",
    "  let i = 0;\n",
    "  while (i < 10) {\n",
    "    let j = i;\n",
    "    let shooter = function() {\n",
    "      console.log( j ); \n",
    "    };\n",
    "    shooters.push(shooter);\n",
    "    i++;\n",
    "  }\n",
    "  return shooters;\n",
    "}\n",
    "let army = makeArmy();\n",
    "army[0]();\n",
    "army[5]();"
   ]
  },
  {
   "cell_type": "code",
   "execution_count": 10,
   "id": "eab7dacc",
   "metadata": {},
   "outputs": [],
   "source": [
    "# output in above case\n",
    "\n",
    "# 0\n",
    "# 5"
   ]
  },
  {
   "cell_type": "raw",
   "id": "f83ecd82",
   "metadata": {},
   "source": [
    "function makeArmy() {\n",
    "  let shooters = [];\n",
    "  for(let i = 0; i < 10; i++) {\n",
    "    let shooter = function() {\n",
    "      console.log( i ); \n",
    "    };\n",
    "    shooters.push(shooter);\n",
    "  }\n",
    "  return shooters;\n",
    "}\n",
    "let army = makeArmy();\n",
    "army[0]();\n",
    "army[5]();"
   ]
  },
  {
   "cell_type": "code",
   "execution_count": 11,
   "id": "2a202370",
   "metadata": {},
   "outputs": [],
   "source": [
    "# output in above case\n",
    "\n",
    "# 0\n",
    "# 5"
   ]
  },
  {
   "cell_type": "raw",
   "id": "559ed8ef",
   "metadata": {},
   "source": [
    "var Sequence = (function sequenceIIFE() {\n",
    "    var current = 0;\n",
    "    return {\n",
    "        getCurrentValue: function() {\n",
    "            return current;\n",
    "        },  \n",
    "        getNextValue: function() {\n",
    "            current = current + 1;\n",
    "            return current;\n",
    "        }\n",
    "   };\n",
    "}());\n",
    "console.log(Sequence.getNextValue());\n",
    "console.log(Sequence.getNextValue());\n",
    "console.log(Sequence.getCurrentValue());"
   ]
  },
  {
   "cell_type": "code",
   "execution_count": null,
   "id": "b93775ad",
   "metadata": {},
   "outputs": [],
   "source": [
    "# output in above case\n",
    "\n",
    "# 1\n",
    "# 2\n",
    "# 2"
   ]
  },
  {
   "cell_type": "raw",
   "id": "deea2eae",
   "metadata": {},
   "source": [
    "var Sequence = (function sequenceIIFE() {\n",
    "    var current = 0;\n",
    "    return {\n",
    "        getCurrentValue: function() {\n",
    "            return current;\n",
    "        },  \n",
    "        getNextValue: function() {\n",
    "            current = current + 1;\n",
    "            return current;\n",
    "        }\n",
    "   };\n",
    "});\n",
    "console.log(Sequence().getNextValue());\n",
    "console.log(Sequence().getNextValue());\n",
    "console.log(Sequence().getCurrentValue());"
   ]
  },
  {
   "cell_type": "code",
   "execution_count": 12,
   "id": "e53cdf65",
   "metadata": {},
   "outputs": [],
   "source": [
    "# output in above case\n",
    "\n",
    "# 1\n",
    "# 1\n",
    "# 0"
   ]
  },
  {
   "cell_type": "raw",
   "id": "1b0de905",
   "metadata": {},
   "source": [
    "var args = [1, 2, 3];\n",
    "var arr = () => args[2];\n",
    "arr();\n",
    "function foo(n) {\n",
    "  var f = () => args[0] + n; \n",
    "  return f();\n",
    "}\n",
    "console.log(foo(3));    "
   ]
  },
  {
   "cell_type": "code",
   "execution_count": 13,
   "id": "1e68d990",
   "metadata": {},
   "outputs": [],
   "source": [
    "# output in above case\n",
    "\n",
    "# 4"
   ]
  },
  {
   "cell_type": "raw",
   "id": "0abaef3e",
   "metadata": {},
   "source": [
    "function foo() {\n",
    "    var a = 8;\n",
    "    function bar() {\n",
    "        console.log(a);\n",
    "    }\n",
    "    var a = a+2;\n",
    "    return bar;\n",
    "}\n",
    "var fun = foo();\n",
    "fun();"
   ]
  },
  {
   "cell_type": "code",
   "execution_count": 14,
   "id": "2dda1b63",
   "metadata": {},
   "outputs": [],
   "source": [
    "# output in above case\n",
    "\n",
    "# 10"
   ]
  }
 ],
 "metadata": {
  "kernelspec": {
   "display_name": "Python 3 (ipykernel)",
   "language": "python",
   "name": "python3"
  },
  "language_info": {
   "codemirror_mode": {
    "name": "ipython",
    "version": 3
   },
   "file_extension": ".py",
   "mimetype": "text/x-python",
   "name": "python",
   "nbconvert_exporter": "python",
   "pygments_lexer": "ipython3",
   "version": "3.9.12"
  }
 },
 "nbformat": 4,
 "nbformat_minor": 5
}
