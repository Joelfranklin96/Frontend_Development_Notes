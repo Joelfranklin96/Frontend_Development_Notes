{
 "cells": [
  {
   "cell_type": "raw",
   "id": "9537a155",
   "metadata": {},
   "source": [
    "var var1 = 10;\n",
    "\n",
    "function outer(){\n",
    "  var b = 20;\n",
    "  console.log(b)\n",
    "}\n",
    "\n",
    "console.log(var1);"
   ]
  },
  {
   "cell_type": "code",
   "execution_count": 1,
   "id": "99fa0b86",
   "metadata": {},
   "outputs": [],
   "source": [
    "# window comes at the top of the DOM\n",
    "\n",
    "# When the above code is implemented, 'outer' is created as a property of window.\n",
    "# var1 is also created as a property of window.\n",
    "\n",
    "# Everything that has a goblal scope exists as a property of window\n",
    "\n",
    "# We can call on 'var1' and 'outer' as window.var1 and window.outer()"
   ]
  },
  {
   "cell_type": "code",
   "execution_count": 2,
   "id": "67c1b471",
   "metadata": {},
   "outputs": [],
   "source": [
    "# Whenever we run a javascript code, an execution context is created.\n",
    "\n",
    "# All execution contexts are stored in an execution stack\n",
    "\n",
    "# The first execution context that is created is the global execution context."
   ]
  },
  {
   "cell_type": "code",
   "execution_count": 3,
   "id": "c1661337",
   "metadata": {},
   "outputs": [],
   "source": [
    "# Global execution context is associated with a lexical environment which contains all variables and functions defined in \n",
    "# global scope and this.\n",
    "\n",
    "# Whenever we call a function, a new function context with a new lexical environment is created.\n",
    "\n",
    "# When outer function is called, the outer function context is created and the outer function context is associated with a \n",
    "# lexical environment which contains all variables defined in 'outer' scope, this and outer enviroment (which is global enviroment)"
   ]
  },
  {
   "cell_type": "raw",
   "id": "624b7d18",
   "metadata": {},
   "source": [
    "var a =10;\n",
    "function foo(){\n",
    "var a = 20;\n",
    "console.log(a);\n",
    "console.log(window.a);    \n",
    "}\n",
    "console.log(a);\n",
    "window.foo();"
   ]
  },
  {
   "cell_type": "code",
   "execution_count": null,
   "id": "1478d4fd",
   "metadata": {},
   "outputs": [],
   "source": [
    "# output in above case\n",
    "\n",
    "# 10\n",
    "# 20 \n",
    "# 10"
   ]
  },
  {
   "cell_type": "raw",
   "id": "2f33f2b3",
   "metadata": {},
   "source": [
    "var a = 10;\n",
    "console.log(a);\n",
    "var a =20;\n",
    "console.log(a);"
   ]
  },
  {
   "cell_type": "code",
   "execution_count": 4,
   "id": "01c87d89",
   "metadata": {},
   "outputs": [],
   "source": [
    "# output in above case\n",
    "\n",
    "# 10\n",
    "# 20"
   ]
  },
  {
   "cell_type": "code",
   "execution_count": 5,
   "id": "857f4653",
   "metadata": {},
   "outputs": [],
   "source": [
    "# index.html"
   ]
  },
  {
   "cell_type": "raw",
   "id": "2cb455e2",
   "metadata": {},
   "source": [
    "<!DOCTYPE html>\n",
    "<html>\n",
    "    <head>\n",
    "\n",
    "    </head>\n",
    "    <body>\n",
    "        <p>Sample Paragraph</p>\n",
    "\n",
    "        <script src=\"script1.js\"></script>\n",
    "        <script src=\"script2.js\"></script>\n",
    "    </body>\n",
    "</html>"
   ]
  },
  {
   "cell_type": "code",
   "execution_count": 7,
   "id": "c9a2cdf8",
   "metadata": {},
   "outputs": [],
   "source": [
    "# script1.js"
   ]
  },
  {
   "cell_type": "raw",
   "id": "fc9ce318",
   "metadata": {},
   "source": [
    "var name = 'file1';\n",
    "console.log(name);"
   ]
  },
  {
   "cell_type": "code",
   "execution_count": 8,
   "id": "40f4ce46",
   "metadata": {},
   "outputs": [],
   "source": [
    "# script2.js"
   ]
  },
  {
   "cell_type": "raw",
   "id": "99496be4",
   "metadata": {},
   "source": [
    "var name = 'file2';\n",
    "console.log(name);"
   ]
  },
  {
   "cell_type": "code",
   "execution_count": 9,
   "id": "56f9448b",
   "metadata": {},
   "outputs": [],
   "source": [
    "# output in console\n",
    "\n",
    "# file1\n",
    "# file2"
   ]
  },
  {
   "cell_type": "code",
   "execution_count": 10,
   "id": "d7b8e5f1",
   "metadata": {},
   "outputs": [],
   "source": [
    "# But now if we type 'name' in console, 'file2' will be displayed"
   ]
  },
  {
   "cell_type": "code",
   "execution_count": 11,
   "id": "7f847601",
   "metadata": {},
   "outputs": [],
   "source": [
    "# script1.js"
   ]
  },
  {
   "cell_type": "raw",
   "id": "0dd9f459",
   "metadata": {},
   "source": [
    "var name = 'file1';\n",
    "\n",
    "setTimeout(function(){\n",
    "    console.log(name);\n",
    "}, 1000);"
   ]
  },
  {
   "cell_type": "code",
   "execution_count": 12,
   "id": "199eac13",
   "metadata": {},
   "outputs": [],
   "source": [
    "# script2.js"
   ]
  },
  {
   "cell_type": "raw",
   "id": "af91d4ab",
   "metadata": {},
   "source": [
    "var name = 'file2';\n",
    "console.log(name);"
   ]
  },
  {
   "cell_type": "code",
   "execution_count": 14,
   "id": "c5d44546",
   "metadata": {},
   "outputs": [],
   "source": [
    "# output in console when we refresh 'index.html'\n",
    "\n",
    "# file2\n",
    "# file2"
   ]
  },
  {
   "cell_type": "code",
   "execution_count": null,
   "id": "2147ed74",
   "metadata": {},
   "outputs": [],
   "source": [
    "# The above combination of script1.js and script2.js are equivalent to the below single javascript file"
   ]
  },
  {
   "cell_type": "raw",
   "id": "3b63817c",
   "metadata": {},
   "source": [
    "var name = 'file1';\n",
    "\n",
    "setTimeout(function(){\n",
    "    console.log(name);\n",
    "}, 1000);\n",
    "\n",
    "var name = 'file2';\n",
    "console.log(name);"
   ]
  },
  {
   "cell_type": "code",
   "execution_count": 15,
   "id": "274403f6",
   "metadata": {},
   "outputs": [],
   "source": [
    "# output in above case\n",
    "\n",
    "# file2\n",
    "# file2"
   ]
  },
  {
   "cell_type": "code",
   "execution_count": null,
   "id": "8be84013",
   "metadata": {},
   "outputs": [],
   "source": [
    "# script1.js"
   ]
  },
  {
   "cell_type": "raw",
   "id": "22b05873",
   "metadata": {},
   "source": [
    "var name = 'file1';\n",
    "\n",
    "setTimeout(function(){\n",
    "    console.log(name);\n",
    "}, 1000);"
   ]
  },
  {
   "cell_type": "code",
   "execution_count": null,
   "id": "cdc52270",
   "metadata": {},
   "outputs": [],
   "source": [
    "# script2.js"
   ]
  },
  {
   "cell_type": "raw",
   "id": "0ed0a3d5",
   "metadata": {},
   "source": [
    "var name = 'file2';\n",
    "\n",
    "setTimeout(function(){\n",
    "    console.log(name);\n",
    "}, 1000);"
   ]
  },
  {
   "cell_type": "code",
   "execution_count": null,
   "id": "2f3d28a6",
   "metadata": {},
   "outputs": [],
   "source": [
    "# output in above case\n",
    "\n",
    "# file2\n",
    "# file2"
   ]
  },
  {
   "cell_type": "code",
   "execution_count": 16,
   "id": "cbeb23bc",
   "metadata": {},
   "outputs": [],
   "source": [
    "# script1.js"
   ]
  },
  {
   "cell_type": "raw",
   "id": "303cb5da",
   "metadata": {},
   "source": [
    "function print1(){\n",
    "    var name = \"file1\";\n",
    "    setTimeout(function(){\n",
    "        console.log(name);\n",
    "    },1000);\n",
    "}\n",
    "\n",
    "print1();"
   ]
  },
  {
   "cell_type": "code",
   "execution_count": 17,
   "id": "e0310e3b",
   "metadata": {},
   "outputs": [],
   "source": [
    "# script2.js"
   ]
  },
  {
   "cell_type": "raw",
   "id": "51c7b246",
   "metadata": {},
   "source": [
    "var name = 'file2';\n",
    "console.log(name);"
   ]
  },
  {
   "cell_type": "code",
   "execution_count": 18,
   "id": "cc5dc98b",
   "metadata": {},
   "outputs": [],
   "source": [
    "# output in above case\n",
    "\n",
    "# file2\n",
    "# file1"
   ]
  },
  {
   "cell_type": "code",
   "execution_count": 19,
   "id": "40357584",
   "metadata": {},
   "outputs": [],
   "source": [
    "# script1.js"
   ]
  },
  {
   "cell_type": "raw",
   "id": "aed24be8",
   "metadata": {},
   "source": [
    "function print1(){\n",
    "    var name = 'file1';\n",
    "    setTimeout(function(){\n",
    "        console.log(name);\n",
    "    },1000);\n",
    "}\n",
    "\n",
    "print1();"
   ]
  },
  {
   "cell_type": "code",
   "execution_count": 20,
   "id": "bacf0310",
   "metadata": {},
   "outputs": [],
   "source": [
    "# script2.js"
   ]
  },
  {
   "cell_type": "raw",
   "id": "791ca230",
   "metadata": {},
   "source": [
    "function print2(){\n",
    "    var name = 'file2';\n",
    "    console.log(name);\n",
    "}\n",
    "\n",
    "print2();"
   ]
  },
  {
   "cell_type": "code",
   "execution_count": 22,
   "id": "31c29ee0",
   "metadata": {},
   "outputs": [],
   "source": [
    "# output in above case\n",
    "\n",
    "# file2\n",
    "# file1\n",
    "\n",
    "# In above case, we have avoided global variables but we have used global functions."
   ]
  },
  {
   "cell_type": "code",
   "execution_count": 23,
   "id": "8b3c8dd5",
   "metadata": {},
   "outputs": [],
   "source": [
    "# script1.js"
   ]
  },
  {
   "cell_type": "raw",
   "id": "acd95092",
   "metadata": {},
   "source": [
    "function print(){\n",
    "    var name = 'file1';\n",
    "    setTimeout(function(){\n",
    "        console.log(name);\n",
    "    },1000);\n",
    "}\n",
    "\n",
    "print();"
   ]
  },
  {
   "cell_type": "code",
   "execution_count": 24,
   "id": "137171e1",
   "metadata": {},
   "outputs": [],
   "source": [
    "# script2.js"
   ]
  },
  {
   "cell_type": "raw",
   "id": "79aa194b",
   "metadata": {},
   "source": [
    "function print(){\n",
    "    var name = 'file2';\n",
    "    console.log(name);\n",
    "}\n",
    "\n",
    "print();"
   ]
  },
  {
   "cell_type": "code",
   "execution_count": 25,
   "id": "646cf56a",
   "metadata": {},
   "outputs": [],
   "source": [
    "# output in above case\n",
    "\n",
    "# file2\n",
    "# file1"
   ]
  },
  {
   "cell_type": "code",
   "execution_count": 26,
   "id": "49ef956e",
   "metadata": {},
   "outputs": [],
   "source": [
    "# In above case, we have avoided global variables but we have used global functions.\n",
    "# Suppose 2 functions have the same name even though they are in 2 different javascript files, they can pose a problem."
   ]
  },
  {
   "cell_type": "code",
   "execution_count": 27,
   "id": "9f81c50c",
   "metadata": {},
   "outputs": [],
   "source": [
    "# The solution to the above problem is IIFE (Immediately Invoked Function Expression)"
   ]
  },
  {
   "cell_type": "code",
   "execution_count": 28,
   "id": "a2352897",
   "metadata": {},
   "outputs": [],
   "source": [
    "# script1.js"
   ]
  },
  {
   "cell_type": "raw",
   "id": "2854f31f",
   "metadata": {},
   "source": [
    "(function() {\n",
    "    var name = 'file1';\n",
    "    setTimeout(function(){\n",
    "        console.log(name);\n",
    "    },1000);\n",
    "})();"
   ]
  },
  {
   "cell_type": "code",
   "execution_count": 29,
   "id": "c1261553",
   "metadata": {},
   "outputs": [],
   "source": [
    "# script2.js"
   ]
  },
  {
   "cell_type": "raw",
   "id": "4e7837ea",
   "metadata": {},
   "source": [
    "(function(){\n",
    "    var name = 'file2';\n",
    "    console.log(name);\n",
    "})();"
   ]
  },
  {
   "cell_type": "code",
   "execution_count": 30,
   "id": "d63c7ea8",
   "metadata": {},
   "outputs": [],
   "source": [
    "# In the above case, we don't name the function but we invoke the function immediately. The functions are for one time use.\n",
    "\n",
    "# output in above case\n",
    "\n",
    "# file2\n",
    "# file1"
   ]
  },
  {
   "cell_type": "code",
   "execution_count": 31,
   "id": "899b5bb7",
   "metadata": {},
   "outputs": [],
   "source": [
    "# Another alternative is to use the 'let' variable which has additional 'block' scope"
   ]
  },
  {
   "cell_type": "code",
   "execution_count": 32,
   "id": "58e25b07",
   "metadata": {},
   "outputs": [],
   "source": [
    "# script1.js"
   ]
  },
  {
   "cell_type": "raw",
   "id": "4de5501a",
   "metadata": {},
   "source": [
    "{\n",
    "    let name = 'file1';\n",
    "    setTimeout(function(){\n",
    "        console.log(name);\n",
    "    }, 1000)\n",
    "}"
   ]
  },
  {
   "cell_type": "code",
   "execution_count": 33,
   "id": "0115bd50",
   "metadata": {},
   "outputs": [],
   "source": [
    "# script2.js"
   ]
  },
  {
   "cell_type": "raw",
   "id": "c36821ef",
   "metadata": {},
   "source": [
    "var name = 'file2';\n",
    "console.log(name);"
   ]
  },
  {
   "cell_type": "code",
   "execution_count": null,
   "id": "e27685df",
   "metadata": {},
   "outputs": [],
   "source": [
    "# output in above case\n",
    "\n",
    "# file2\n",
    "# file1"
   ]
  },
  {
   "cell_type": "code",
   "execution_count": 34,
   "id": "e0ede397",
   "metadata": {},
   "outputs": [],
   "source": [
    "# script1.js"
   ]
  },
  {
   "cell_type": "raw",
   "id": "fa94cd90",
   "metadata": {},
   "source": [
    "{\n",
    "    let filename = 'file1'\n",
    "    setTimeout(function(){\n",
    "        console.log(filename);\n",
    "    }, 1000)\n",
    "}"
   ]
  },
  {
   "cell_type": "code",
   "execution_count": 35,
   "id": "a81936ac",
   "metadata": {},
   "outputs": [],
   "source": [
    "# script2.js"
   ]
  },
  {
   "cell_type": "raw",
   "id": "ef752d15",
   "metadata": {},
   "source": [
    "{\n",
    "    let filename = 'file2';\n",
    "    console.log(filename);\n",
    "}"
   ]
  },
  {
   "cell_type": "code",
   "execution_count": null,
   "id": "d992b79c",
   "metadata": {},
   "outputs": [],
   "source": [
    "# output in above case\n",
    "\n",
    "# file2\n",
    "# file1"
   ]
  },
  {
   "cell_type": "code",
   "execution_count": null,
   "id": "ea8b6f7c",
   "metadata": {},
   "outputs": [],
   "source": [
    "# Now if try to print console.log(window.filename), we get \"ReferenceError: filename is not defined\n",
    "# Because filename has block scope and not global scope."
   ]
  },
  {
   "cell_type": "code",
   "execution_count": 36,
   "id": "91c35656",
   "metadata": {},
   "outputs": [],
   "source": [
    "# script.js"
   ]
  },
  {
   "cell_type": "raw",
   "id": "9d1efe99",
   "metadata": {},
   "source": [
    "{\n",
    "  var a = 10 ;\n",
    "  let b = 20 ;\n",
    "}\n",
    "\n",
    "c = 30 ;\n",
    "\n",
    "if(c===30){\n",
    "    let d = 50 ;\n",
    "    console.log(d) ;\n",
    "}\n",
    "else{\n",
    "     var e = 20;\n",
    "     console.log(e) ;\n",
    "}"
   ]
  },
  {
   "cell_type": "code",
   "execution_count": 37,
   "id": "49963ab1",
   "metadata": {},
   "outputs": [],
   "source": [
    "# a -> global scope\n",
    "# b -> block scope\n",
    "# c -> global scope\n",
    "# d -> block scope\n",
    "# e -> global scope if the else block of code ran"
   ]
  },
  {
   "cell_type": "code",
   "execution_count": 38,
   "id": "e7878fd7",
   "metadata": {},
   "outputs": [],
   "source": [
    "# script.js"
   ]
  },
  {
   "cell_type": "raw",
   "id": "d92e812a",
   "metadata": {},
   "source": [
    "var i = 10;\n",
    "\n",
    "function outer(){\n",
    "    var j = 20;\n",
    "    console.log(i, j);\n",
    "    var inner = function(){\n",
    "        var k = 30;\n",
    "        console.log(j,k);\n",
    "    }\n",
    "    return inner;\n",
    "}\n",
    "\n",
    "var inner = outer();\n",
    "inner();"
   ]
  },
  {
   "cell_type": "code",
   "execution_count": 39,
   "id": "25164e29",
   "metadata": {},
   "outputs": [],
   "source": [
    "# output in above case\n",
    "\n",
    "# 10 20\n",
    "# 20 30\n",
    "\n",
    "# Ideally the output must have been\n",
    "# 10 20\n",
    "\n",
    "# Because once the function outer() is executed, all the variables and functions that have the outer() as scope would be removed\n",
    "\n",
    "# But we get the below output because of a property called Closure\n",
    "# 10 20\n",
    "# 20 30\n",
    "\n",
    "# By the property of Closure, the inner() function (defined above) has access to the variables and functions in the outer() function\n",
    "# So even if outer() execution is completed, the variables and functions defined in outer() function scope are not removed\n",
    "# from memory.\n"
   ]
  },
  {
   "cell_type": "code",
   "execution_count": 40,
   "id": "0876cb9a",
   "metadata": {},
   "outputs": [],
   "source": [
    "# script.js"
   ]
  },
  {
   "cell_type": "raw",
   "id": "111b4ad7",
   "metadata": {},
   "source": [
    "var i = 10;\n",
    "\n",
    "function outer(){\n",
    "    var j = 20;\n",
    "    var inner = function(){\n",
    "        var k = 30;\n",
    "        console.log(j,k);\n",
    "        k++;\n",
    "    }\n",
    "    return inner;\n",
    "}\n",
    "\n",
    "var inner = outer();\n",
    "inner();\n",
    "inner();"
   ]
  },
  {
   "cell_type": "code",
   "execution_count": 41,
   "id": "be1dc2c7",
   "metadata": {},
   "outputs": [],
   "source": [
    "# output in above case\n",
    "\n",
    "# 20 30\n",
    "# 20 30"
   ]
  },
  {
   "cell_type": "raw",
   "id": "9b68ade0",
   "metadata": {},
   "source": [
    "var i = 10;\n",
    "\n",
    "function outer(){\n",
    "    var j = 20;\n",
    "    var inner = function(){\n",
    "        var k = 30;\n",
    "        console.log(j,k);\n",
    "        k++;\n",
    "        j++;\n",
    "    }\n",
    "    return inner;\n",
    "}\n",
    "\n",
    "var inner = outer();\n",
    "inner();\n",
    "inner();"
   ]
  },
  {
   "cell_type": "code",
   "execution_count": 42,
   "id": "4aae6217",
   "metadata": {},
   "outputs": [],
   "source": [
    "# output in above case\n",
    "\n",
    "# 20 30\n",
    "# 21 30"
   ]
  },
  {
   "cell_type": "code",
   "execution_count": 43,
   "id": "034ff1c9",
   "metadata": {},
   "outputs": [],
   "source": [
    "# script.js"
   ]
  },
  {
   "cell_type": "raw",
   "id": "c0d77bd0",
   "metadata": {},
   "source": [
    "var a = 10;\n",
    "\n",
    "function sample1(){\n",
    "    var b = 5;\n",
    "    function sample2(){\n",
    "        console.log(a);\n",
    "        function sample3(){\n",
    "            console.log(b);\n",
    "        }\n",
    "        sample3();\n",
    "    }\n",
    "    sample2();\n",
    "}\n",
    "\n",
    "sample1();"
   ]
  },
  {
   "cell_type": "code",
   "execution_count": 44,
   "id": "f0e749b8",
   "metadata": {},
   "outputs": [],
   "source": [
    "# output in above case\n",
    "\n",
    "# 10\n",
    "\n",
    "# In above case, the sample3() function has access to the variables which have the scope of sample1()\n",
    "# and sample2() has access to the global variables."
   ]
  },
  {
   "cell_type": "code",
   "execution_count": 45,
   "id": "c8249ded",
   "metadata": {},
   "outputs": [],
   "source": [
    "# script.js"
   ]
  },
  {
   "cell_type": "raw",
   "id": "0cd70e87",
   "metadata": {},
   "source": [
    "var i = 10;\n",
    "\n",
    "function outer(){\n",
    "    var j = 20;\n",
    "    var inner = function(){\n",
    "        var k = 30;\n",
    "        console.log(i,j,k);\n",
    "        k++;\n",
    "        j++;\n",
    "        i++;\n",
    "    }\n",
    "    return inner;\n",
    "}\n",
    "\n",
    "var inner = outer();\n",
    "inner();\n",
    "var inner = outer();\n",
    "inner();"
   ]
  },
  {
   "cell_type": "code",
   "execution_count": 46,
   "id": "8e704b6b",
   "metadata": {},
   "outputs": [],
   "source": [
    "# output in above case\n",
    "\n",
    "# 10 20 30\n",
    "# 11 20 30"
   ]
  },
  {
   "cell_type": "raw",
   "id": "27bb63d0",
   "metadata": {},
   "source": [
    "function Adder(x) {\n",
    "  return function(y) {\n",
    "    return x + y;\n",
    "  };\n",
    "}\n",
    "var add5 = Adder(5);\n",
    "var add10 = Adder(10);\n",
    "console.log(add5(2));\n",
    "console.log(add10(2));"
   ]
  },
  {
   "cell_type": "code",
   "execution_count": null,
   "id": "09c17d52",
   "metadata": {},
   "outputs": [],
   "source": [
    "# output in above case\n",
    "\n",
    "# 7 12"
   ]
  },
  {
   "cell_type": "code",
   "execution_count": null,
   "id": "ab05c76d",
   "metadata": {},
   "outputs": [],
   "source": [
    "# script.js"
   ]
  },
  {
   "cell_type": "raw",
   "id": "ea38bb36",
   "metadata": {},
   "source": [
    "var i = 10;\n",
    "\n",
    "function outer(){\n",
    "    var j = 20;\n",
    "    var inner = function(){\n",
    "        var k = 30;\n",
    "        console.log(i,j,k);\n",
    "    }\n",
    "    return inner;\n",
    "}\n",
    "\n",
    "var inner = outer();\n",
    "console.log(inner);"
   ]
  },
  {
   "cell_type": "raw",
   "id": "c726f295",
   "metadata": {},
   "source": [
    "# output in above case\n",
    "\n",
    "ƒ (){\n",
    "        var k = 30;\n",
    "        console.log(i,j,k);\n",
    "    }"
   ]
  },
  {
   "cell_type": "code",
   "execution_count": 47,
   "id": "118810bd",
   "metadata": {},
   "outputs": [],
   "source": [
    "# script.js"
   ]
  },
  {
   "cell_type": "raw",
   "id": "3842630e",
   "metadata": {},
   "source": [
    "var i = 10;\n",
    "\n",
    "function outer(){\n",
    "    var j = 20;\n",
    "    var inner = function(){\n",
    "        var k = 30;\n",
    "        console.log(i,j,k);\n",
    "    }\n",
    "    return inner();\n",
    "}\n",
    "\n",
    "var inner = outer();\n",
    "inner;"
   ]
  },
  {
   "cell_type": "code",
   "execution_count": 48,
   "id": "a80a4e90",
   "metadata": {},
   "outputs": [],
   "source": [
    "# output in above case\n",
    "\n",
    "# 10 20 30"
   ]
  },
  {
   "cell_type": "code",
   "execution_count": 49,
   "id": "8f17853d",
   "metadata": {},
   "outputs": [],
   "source": [
    "# script.js"
   ]
  },
  {
   "cell_type": "raw",
   "id": "f9c66baf",
   "metadata": {},
   "source": [
    "for(var i = 1; i <= 5; i++){\n",
    "    setTimeout(function(){\n",
    "        console.log(i);\n",
    "    }, 1000)\n",
    "}\n",
    "console.log(\"After for loop\", i);"
   ]
  },
  {
   "cell_type": "code",
   "execution_count": 50,
   "id": "3fecd92a",
   "metadata": {},
   "outputs": [],
   "source": [
    "# output in above case\n",
    "\n",
    "# After for loop 6\n",
    "# 6\n",
    "# 6\n",
    "# 6\n",
    "# 6\n",
    "# 6"
   ]
  },
  {
   "cell_type": "code",
   "execution_count": 51,
   "id": "4108f6d9",
   "metadata": {},
   "outputs": [],
   "source": [
    "# script.js"
   ]
  },
  {
   "cell_type": "raw",
   "id": "07057dde",
   "metadata": {},
   "source": [
    "for(let i = 1; i <= 5; i++){\n",
    "    setTimeout(function(){\n",
    "        console.log(i);\n",
    "    }, 1000)\n",
    "}\n",
    "console.log(\"After for loop\", i);"
   ]
  },
  {
   "cell_type": "code",
   "execution_count": 52,
   "id": "b699d06d",
   "metadata": {},
   "outputs": [],
   "source": [
    "# output in above case\n",
    "\n",
    "# Uncaught ReferenceError: i is not defined\n",
    "# 1\n",
    "# 2\n",
    "# 3\n",
    "# 4\n",
    "# 5"
   ]
  },
  {
   "cell_type": "code",
   "execution_count": null,
   "id": "bb72f681",
   "metadata": {},
   "outputs": [],
   "source": [
    "# In above case, each function inside setTimeout is binded to a particular value of i."
   ]
  }
 ],
 "metadata": {
  "kernelspec": {
   "display_name": "Python 3 (ipykernel)",
   "language": "python",
   "name": "python3"
  },
  "language_info": {
   "codemirror_mode": {
    "name": "ipython",
    "version": 3
   },
   "file_extension": ".py",
   "mimetype": "text/x-python",
   "name": "python",
   "nbconvert_exporter": "python",
   "pygments_lexer": "ipython3",
   "version": "3.9.12"
  }
 },
 "nbformat": 4,
 "nbformat_minor": 5
}
