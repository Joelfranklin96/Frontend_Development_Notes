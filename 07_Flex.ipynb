{
 "cells": [
  {
   "cell_type": "code",
   "execution_count": 1,
   "id": "3c81b9b9",
   "metadata": {},
   "outputs": [],
   "source": [
    "# Flex - Flexible box layout"
   ]
  },
  {
   "cell_type": "code",
   "execution_count": 2,
   "id": "cda43e15",
   "metadata": {},
   "outputs": [],
   "source": [
    "# In Flex, the cards are arranged row wise. The default direction is row-wise"
   ]
  },
  {
   "cell_type": "code",
   "execution_count": 3,
   "id": "fe97fdba",
   "metadata": {},
   "outputs": [],
   "source": [
    "# style.css"
   ]
  },
  {
   "cell_type": "raw",
   "id": "76b0e87d",
   "metadata": {},
   "source": [
    "#container{\n",
    "\theight: 75vh;\n",
    "\twidth: 75vw;\n",
    "\tbackground-color: cyan;\n",
    "\tdisplay: flex;\n",
    "}\n",
    "\n",
    "#container div{\n",
    "\theight: 200px;\n",
    "\twidth: 200px;\n",
    "}\n",
    "\n",
    "#div1{\n",
    "\tbackground-color: blue;\n",
    "}\n",
    "\n",
    "#div2{\n",
    "\tbackground-color: yellow;\n",
    "}\n",
    "\n",
    "#div3{\n",
    "\tbackground-color: red;\n",
    "}\n",
    "\n",
    "#div4{\n",
    "\tbackground-color: violet;\n",
    "}"
   ]
  },
  {
   "cell_type": "code",
   "execution_count": 4,
   "id": "7112baaa",
   "metadata": {},
   "outputs": [],
   "source": [
    "# index.html"
   ]
  },
  {
   "cell_type": "raw",
   "id": "82689907",
   "metadata": {},
   "source": [
    "<!DOCTYPE html>\n",
    "<html>\n",
    "<head>\n",
    "  <link rel=\"stylesheet\" type=\"text/css\" href=\"style.css\">\n",
    "</head>\n",
    "<body>\n",
    "  <div id=\"container\">\n",
    "    <div id=\"div1\">Div 1</div>\n",
    "    <div id=\"div2\">Div 2</div>\n",
    "    <div id=\"div3\">Div 3</div>\n",
    "    <div id=\"div4\">Div 4</div>\n",
    "  </div>\n",
    "</body>\n",
    "</html>"
   ]
  },
  {
   "cell_type": "code",
   "execution_count": 5,
   "id": "e9881bae",
   "metadata": {},
   "outputs": [],
   "source": [
    "# In the above code, the 4 divs are arranged row wise. If we want to make them appear column wise, use flex-direction: column\n",
    "# as below code"
   ]
  },
  {
   "cell_type": "raw",
   "id": "fd34ab0b",
   "metadata": {},
   "source": [
    "#container{\n",
    "\theight: 75vh;\n",
    "\twidth: 75vw;\n",
    "\tbackground-color: cyan;\n",
    "\tdisplay: flex;\n",
    "\tflex-direction: column;\n",
    "}\n",
    "\n",
    "#container div{\n",
    "\theight: 200px;\n",
    "\twidth: 200px;\n",
    "}\n",
    "\n",
    "#div1{\n",
    "\tbackground-color: blue;\n",
    "}\n",
    "\n",
    "#div2{\n",
    "\tbackground-color: yellow;\n",
    "}\n",
    "\n",
    "#div3{\n",
    "\tbackground-color: red;\n",
    "}\n",
    "\n",
    "#div4{\n",
    "\tbackground-color: violet;\n",
    "}"
   ]
  },
  {
   "cell_type": "code",
   "execution_count": 6,
   "id": "df2e8a49",
   "metadata": {},
   "outputs": [],
   "source": [
    "# The direction of 4 divs can be reversed by flex-direction: row-reverse or col-reverse;"
   ]
  },
  {
   "cell_type": "code",
   "execution_count": 7,
   "id": "95a0be16",
   "metadata": {},
   "outputs": [],
   "source": [
    "# Initially all divs have order of 0. If we want any div to come later, use order: 1;\n",
    "# 'order' can be assigned negative values too"
   ]
  },
  {
   "cell_type": "code",
   "execution_count": 8,
   "id": "5adbd697",
   "metadata": {},
   "outputs": [],
   "source": [
    "# If we want the div's to be in multiple lines (like each div will take up 200 px), then we can use 'flex-wrap' as shown below"
   ]
  },
  {
   "cell_type": "raw",
   "id": "08617a3f",
   "metadata": {},
   "source": [
    "#container{\n",
    "\theight: 75vh;\n",
    "\twidth: 75vw;\n",
    "\tbackground-color: cyan;\n",
    "\tdisplay: flex;\n",
    "\tflex-wrap: wrap;\n",
    "}\n",
    "\n",
    "#container div{\n",
    "\theight: 200px;\n",
    "\twidth: 200px;\n",
    "}\n",
    "\n",
    "#div1{\n",
    "\tbackground-color: blue;\n",
    "}\n",
    "\n",
    "#div2{\n",
    "\tbackground-color: yellow;\n",
    "}\n",
    "\n",
    "#div3{\n",
    "\tbackground-color: red;\n",
    "}\n",
    "\n",
    "#div4{\n",
    "\tbackground-color: violet;\n",
    "}"
   ]
  },
  {
   "cell_type": "code",
   "execution_count": 9,
   "id": "85734043",
   "metadata": {},
   "outputs": [],
   "source": [
    "# The default value of 'flex-wrap' is 'no-wrap'. It can also take the value 'wrap-reverse'"
   ]
  },
  {
   "cell_type": "code",
   "execution_count": 10,
   "id": "f17ebeb7",
   "metadata": {},
   "outputs": [],
   "source": [
    "# If we want the child divs to grow in space wrt to the available space, we can use 'flex-grow' to each of the child div"
   ]
  },
  {
   "cell_type": "code",
   "execution_count": 11,
   "id": "6bf8e401",
   "metadata": {},
   "outputs": [],
   "source": [
    "# style.css"
   ]
  },
  {
   "cell_type": "raw",
   "id": "2de4ccfd",
   "metadata": {},
   "source": [
    "#container{\n",
    "\theight: 500px;\n",
    "\twidth: 500px;\n",
    "\tbackground-color: cyan;\n",
    "\tdisplay: flex;\n",
    "}\n",
    "\n",
    "#container div{\n",
    "\theight: 200px;\n",
    "\twidth: 200px;\n",
    "}\n",
    "\n",
    "#div1{\n",
    "\tbackground-color: blue;\n",
    "\tflex-grow: 1;\n",
    "}\n",
    "\n",
    "#div2{\n",
    "\tbackground-color: yellow;\n",
    "\tflex-grow: 1;\n",
    "}"
   ]
  },
  {
   "cell_type": "code",
   "execution_count": 12,
   "id": "18f5c9c5",
   "metadata": {},
   "outputs": [],
   "source": [
    "# index.html"
   ]
  },
  {
   "cell_type": "raw",
   "id": "54ecafe9",
   "metadata": {},
   "source": [
    "<!DOCTYPE html>\n",
    "<html>\n",
    "<head>\n",
    "  <link rel=\"stylesheet\" type=\"text/css\" href=\"style.css\">\n",
    "</head>\n",
    "<body>\n",
    "  <div id=\"container\">\n",
    "    <div id=\"div1\">Div 1</div>\n",
    "    <div id=\"div2\">Div 2</div>\n",
    "  </div>\n",
    "</body>\n",
    "</html>"
   ]
  },
  {
   "cell_type": "code",
   "execution_count": 13,
   "id": "70f65341",
   "metadata": {},
   "outputs": [],
   "source": [
    "# In the above example, left over space is 100px. Since 'flex-grow' of both 'div1' and 'div2' are 1, each of the child div will\n",
    "# take 50px more. (i.e each div will be 250px)"
   ]
  },
  {
   "cell_type": "code",
   "execution_count": 14,
   "id": "668a8b3a",
   "metadata": {},
   "outputs": [],
   "source": [
    "# We also have 'flex-shrink'. If sum of dimensions of child div are greater than parent div dimensions, then we can use\n",
    "# 'flex-shrink' to decide which child div will shrink more.\n",
    "\n",
    "# 'flex-grow' will not work if sum of dimensions of child div are greater than parent div dimensions\n",
    "# 'flex-shrink' will not work if sum of dimensions of child div are less than parent div dimensions"
   ]
  },
  {
   "cell_type": "code",
   "execution_count": 15,
   "id": "e9792a76",
   "metadata": {},
   "outputs": [],
   "source": [
    "# We have 'justify-content'. It has the following values\n",
    "\n",
    "# 1) flex-start - same as 'flex-direction': row;. The child div elements align to the left of screen\n",
    "# 2) flex-end - The child div elements align to the right of screen\n",
    "# 3) center - The child div elements align at the center of screen\n",
    "# 4) space-around - Space around the child div elements are equal\n",
    "# 5) space-between - Space between the child div elements are equal"
   ]
  },
  {
   "cell_type": "code",
   "execution_count": 16,
   "id": "9267e6d1",
   "metadata": {},
   "outputs": [],
   "source": [
    "# We have 'align-items'. It has the following values\n",
    "\n",
    "# main-axis - flex-direction\n",
    "\n",
    "# 1) 'flex-start' - Alignment along cross-axis\n",
    "# 2) 'flex-end' - Alignment along cross-axis\n",
    "# 3) 'center' - Alignment along cross-axis\n",
    "# 4) 'stretch' - The child divs will be stretched along cross-axis if height of child divs is auto as 'stretch' respects the \n",
    "# assigned dimensions of child divs. We can set 'max-height' so that 'stretch' will not stretch the child divs beyond 'max-height'\n",
    "# 5) 'base-line' - Align all child div elements along the baseline\n",
    "\n",
    "# We can use 'justify-content' and 'align-items' together"
   ]
  },
  {
   "cell_type": "code",
   "execution_count": 17,
   "id": "2590105e",
   "metadata": {},
   "outputs": [],
   "source": [
    "# Another Psuedo class (nth child class)\n",
    "\n",
    "# nth-child(2n)\n",
    "# nth-child(2n + 1)\n",
    "\n",
    "# We can make it 4n or 6n"
   ]
  },
  {
   "cell_type": "code",
   "execution_count": null,
   "id": "1c40798c",
   "metadata": {},
   "outputs": [],
   "source": [
    "# Let’s say you want to set every odd-numbered paragraph element to be a green color using pseudo-class, \n",
    "# what will be the correct syntax for that?\n",
    "\n",
    "# p : nth-child(2n+1) { color: green; }\n",
    "# p : nth-child(odd) { color : green; }"
   ]
  }
 ],
 "metadata": {
  "kernelspec": {
   "display_name": "Python 3 (ipykernel)",
   "language": "python",
   "name": "python3"
  },
  "language_info": {
   "codemirror_mode": {
    "name": "ipython",
    "version": 3
   },
   "file_extension": ".py",
   "mimetype": "text/x-python",
   "name": "python",
   "nbconvert_exporter": "python",
   "pygments_lexer": "ipython3",
   "version": "3.9.12"
  }
 },
 "nbformat": 4,
 "nbformat_minor": 5
}
