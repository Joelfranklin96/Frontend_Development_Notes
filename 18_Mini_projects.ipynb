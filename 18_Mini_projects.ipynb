{
 "cells": [
  {
   "cell_type": "code",
   "execution_count": 1,
   "id": "14cbcd6e",
   "metadata": {},
   "outputs": [],
   "source": [
    "# const"
   ]
  },
  {
   "cell_type": "code",
   "execution_count": 2,
   "id": "7cd12ae4",
   "metadata": {},
   "outputs": [],
   "source": [
    "# const are used to declare read only variables"
   ]
  },
  {
   "cell_type": "raw",
   "id": "3f043984",
   "metadata": {},
   "source": [
    "var a = 10;\n",
    "a = 20;\n",
    "console.log(a);"
   ]
  },
  {
   "cell_type": "code",
   "execution_count": 3,
   "id": "198745aa",
   "metadata": {},
   "outputs": [],
   "source": [
    "# The above gives no error"
   ]
  },
  {
   "cell_type": "raw",
   "id": "25b2b38c",
   "metadata": {},
   "source": [
    "const a = 10;\n",
    "a = 20;\n",
    "console.log(a);"
   ]
  },
  {
   "cell_type": "code",
   "execution_count": null,
   "id": "86dfbbf9",
   "metadata": {},
   "outputs": [],
   "source": [
    "# The above gives TypeError : Assignment to constant variable"
   ]
  },
  {
   "cell_type": "raw",
   "id": "6675ef1a",
   "metadata": {},
   "source": [
    "const a;\n",
    "a = 10;\n",
    "console.log(a);"
   ]
  },
  {
   "cell_type": "code",
   "execution_count": 4,
   "id": "5b3d9ec1",
   "metadata": {},
   "outputs": [],
   "source": [
    "# The above gives SyntaxError : Missing initializer in const declaration"
   ]
  },
  {
   "cell_type": "code",
   "execution_count": null,
   "id": "b8fbc936",
   "metadata": {},
   "outputs": [],
   "source": [
    "# Properties of const variables\n",
    "\n",
    "# 1) We can't 'write' const variables\n",
    "# 2) We have to initialize the const variables then and there itself\n",
    "# 3) We can't use const variables before their definition statement is encountered."
   ]
  },
  {
   "cell_type": "raw",
   "id": "097b2f4e",
   "metadata": {},
   "source": [
    "console.log(a);\n",
    "var a = 10;"
   ]
  },
  {
   "cell_type": "code",
   "execution_count": null,
   "id": "00ca1f24",
   "metadata": {},
   "outputs": [],
   "source": [
    "# output in above case (variable hoisting takes place)\n",
    "\n",
    "# undefined"
   ]
  },
  {
   "cell_type": "raw",
   "id": "1f2dffcd",
   "metadata": {},
   "source": [
    "console.log(a);\n",
    "const a = 10;"
   ]
  },
  {
   "cell_type": "code",
   "execution_count": 5,
   "id": "d1209d19",
   "metadata": {},
   "outputs": [],
   "source": [
    "# output in above case\n",
    "\n",
    "# ReferenceError\n",
    "\n",
    "# Variable hoisting takes place in above case as well but we can't use the const variable 'a' until 'a' is defined"
   ]
  },
  {
   "cell_type": "code",
   "execution_count": 6,
   "id": "d40cd636",
   "metadata": {},
   "outputs": [],
   "source": [
    "# Properties of const variables\n",
    "\n",
    "# 1) We can't 'write' const variables\n",
    "# 2) We have to initialize the const variables then and there itself\n",
    "# 3) We can't use const variables before their definition statement is encountered."
   ]
  },
  {
   "cell_type": "code",
   "execution_count": 7,
   "id": "e7b07ea5",
   "metadata": {},
   "outputs": [],
   "source": [
    "# let"
   ]
  },
  {
   "cell_type": "raw",
   "id": "e1ccd1ad",
   "metadata": {},
   "source": [
    "var a = 10;\n",
    "\n",
    "if (a <= 10){\n",
    "    var b = 40;\n",
    "}\n",
    "else{\n",
    "    var c = 50;\n",
    "}\n",
    "\n",
    "console.log(a, b, c)"
   ]
  },
  {
   "cell_type": "code",
   "execution_count": 9,
   "id": "ca901db1",
   "metadata": {},
   "outputs": [],
   "source": [
    "# Output in above case\n",
    "\n",
    "# 10 40 undefined\n",
    "\n",
    "# All 3 variables a,b,c are hoisted\n",
    "# All 3 variables a,b,c have global scope"
   ]
  },
  {
   "cell_type": "code",
   "execution_count": 10,
   "id": "778755f0",
   "metadata": {},
   "outputs": [],
   "source": [
    "# The 'var' has only 2 scopes - global scope and function scope\n",
    "# The 'let' has 3 scopes - global scope, function scope and block scope"
   ]
  },
  {
   "cell_type": "raw",
   "id": "71e1f01d",
   "metadata": {},
   "source": [
    "var a = 10;\n",
    "\n",
    "if (a <= 10){\n",
    "    let b = 40;\n",
    "}\n",
    "else{\n",
    "    var c = 50;\n",
    "}\n",
    "\n",
    "console.log(a, b, c)"
   ]
  },
  {
   "cell_type": "code",
   "execution_count": 11,
   "id": "2a2fd09d",
   "metadata": {},
   "outputs": [],
   "source": [
    "# output in above case\n",
    "\n",
    "# ReferenceError: b is not defined\n",
    "\n",
    "# Because 'b' is only defined within the 'if' block and has 'block' scope."
   ]
  },
  {
   "cell_type": "raw",
   "id": "042a5e22",
   "metadata": {},
   "source": [
    "console.log(a);\n",
    "var a = 10;\n",
    "\n",
    "if (a <= 10){\n",
    "    console.log(b);\n",
    "    let b = 40;\n",
    "}"
   ]
  },
  {
   "cell_type": "code",
   "execution_count": 12,
   "id": "9ce5eaff",
   "metadata": {},
   "outputs": [],
   "source": [
    "# output in above case\n",
    "\n",
    "# ReferenceError: Cannot access 'b' before initialization\n",
    "\n",
    "# Variable hoisting takes in above case as well but we can't use 'let' variables unless it is defined first"
   ]
  },
  {
   "cell_type": "raw",
   "id": "ed5f90d3",
   "metadata": {},
   "source": [
    "let a = 10;\n",
    "a = 30;\n",
    "console.log(a)"
   ]
  },
  {
   "cell_type": "code",
   "execution_count": null,
   "id": "9b288963",
   "metadata": {},
   "outputs": [],
   "source": [
    "# output in above case\n",
    "\n",
    "# 30\n",
    "\n",
    "# We can write 'let' variables"
   ]
  },
  {
   "cell_type": "raw",
   "id": "4920c2b7",
   "metadata": {},
   "source": [
    "let a;\n",
    "a = 30;\n",
    "console.log(a)"
   ]
  },
  {
   "cell_type": "code",
   "execution_count": null,
   "id": "f9a0e15c",
   "metadata": {},
   "outputs": [],
   "source": [
    "# output in above case\n",
    "\n",
    "# 30\n",
    "\n",
    "# We don't have to initialize the 'let' variables then and there itself"
   ]
  },
  {
   "cell_type": "raw",
   "id": "bc909e32",
   "metadata": {},
   "source": [
    "console.log(a)\n",
    "let a = 20;"
   ]
  },
  {
   "cell_type": "code",
   "execution_count": null,
   "id": "0f5942a0",
   "metadata": {},
   "outputs": [],
   "source": [
    "# output in above case\n",
    "\n",
    "# ReferenceError: Cannot access 'a' before initialization\n",
    "\n",
    "# We can't use 'let' variables before their definition statement is encountered."
   ]
  },
  {
   "cell_type": "code",
   "execution_count": 13,
   "id": "c40ebc7e",
   "metadata": {},
   "outputs": [],
   "source": [
    "# Properties of 'let' scope\n",
    "\n",
    "# 1) 'let' creates variables in block scope\n",
    "# 2) We can write 'let' variables\n",
    "# 2) We don't have to initialize the 'let' variables then and there itself\n",
    "# 3) We can't use 'let' variables before their definition statement is encountered."
   ]
  },
  {
   "cell_type": "code",
   "execution_count": 14,
   "id": "4d8e3f6d",
   "metadata": {},
   "outputs": [],
   "source": [
    "# Both 'const' and 'let' variables have to be defined before they can be used. They don't take undefined values"
   ]
  },
  {
   "cell_type": "code",
   "execution_count": null,
   "id": "5fdd313f",
   "metadata": {},
   "outputs": [],
   "source": [
    "# 'let' vs 'var'"
   ]
  },
  {
   "cell_type": "raw",
   "id": "084a2192",
   "metadata": {},
   "source": [
    "for (var i = 1; i <= 5; i++){\n",
    "    setTimeout(function(){\n",
    "        console.log(i);\n",
    "    }, 1000);\n",
    "}"
   ]
  },
  {
   "cell_type": "code",
   "execution_count": 15,
   "id": "c4dcb619",
   "metadata": {},
   "outputs": [],
   "source": [
    "# output in above case\n",
    "\n",
    "# After 1 sec, five 6's are printed on a separate new line\n",
    "\n",
    "# 6\n",
    "# 6\n",
    "# 6\n",
    "# 6\n",
    "# 6\n",
    "\n",
    "# When i = 1, setTimeout is called and it is to be executed after 1 sec. Then i is incremented.\n",
    "# When i = 2, setTimeout is called and it is to be executed after 1 sec. Then i is incremented.\n",
    "# When i = 3, setTimeout is called and it is to be executed after 1 sec. Then i is incremented.\n",
    "# When i = 4, setTimeout is called and it is to be executed after 1 sec. Then i is incremented.\n",
    "# When i = 5, setTimeout is called and it is to be executed after 1 sec. Then i is incremented.\n",
    "# When i = 6, we come out of the loop.\n",
    "# Finally after 1 sec, setTimeout is run 5 times and now the value of i is equal to 6 and 6 is printed five times"
   ]
  },
  {
   "cell_type": "raw",
   "id": "4df6dc01",
   "metadata": {},
   "source": [
    "for (let i = 1; i <= 5; i++){\n",
    "    setTimeout(function(){\n",
    "        console.log(i);\n",
    "    }, 1000);\n",
    "}"
   ]
  },
  {
   "cell_type": "code",
   "execution_count": null,
   "id": "2b483f84",
   "metadata": {},
   "outputs": [],
   "source": [
    "# output in above case\n",
    "\n",
    "# After 1 sec, 1 to 5 are printed on a separate new line\n",
    "\n",
    "# This is because when we use 'let' i, i has 'block' scope\n",
    "# Each value of i is accessible only within one iteration of 'for' loop"
   ]
  },
  {
   "cell_type": "raw",
   "id": "7a5bb041",
   "metadata": {},
   "source": [
    "const pi=3.14;\n",
    "var pi=4;\n",
    "console.log(pi);"
   ]
  },
  {
   "cell_type": "code",
   "execution_count": 16,
   "id": "c081b7ba",
   "metadata": {},
   "outputs": [],
   "source": [
    "# output in above case\n",
    "\n",
    "# SyntaxError: Identifier 'pi' has already been declared"
   ]
  },
  {
   "cell_type": "raw",
   "id": "f66deca4",
   "metadata": {},
   "source": [
    "var arr = [1,2,3,4]\n",
    "\n",
    "for (let i of arr){\n",
    "    console.log(i);\n",
    "}"
   ]
  },
  {
   "cell_type": "code",
   "execution_count": 17,
   "id": "de08435e",
   "metadata": {},
   "outputs": [],
   "source": [
    "# output in above case\n",
    "\n",
    "# 1\n",
    "# 2\n",
    "# 3\n",
    "# 4"
   ]
  },
  {
   "cell_type": "code",
   "execution_count": 18,
   "id": "d3fd5435",
   "metadata": {},
   "outputs": [],
   "source": [
    "# smooth scroll"
   ]
  },
  {
   "cell_type": "raw",
   "id": "379ceb2b",
   "metadata": {},
   "source": [
    "window.scrollTo(0,200);"
   ]
  },
  {
   "cell_type": "code",
   "execution_count": 19,
   "id": "b9e229ca",
   "metadata": {},
   "outputs": [],
   "source": [
    "# 0 represents the x coordinate destination and 200 represents the y coordinate destination\n",
    "\n",
    "# We scroll to the 200th position."
   ]
  },
  {
   "cell_type": "raw",
   "id": "0a2e5cf9",
   "metadata": {},
   "source": [
    "window.pageYOffset();"
   ]
  },
  {
   "cell_type": "code",
   "execution_count": 20,
   "id": "bc0a09e5",
   "metadata": {},
   "outputs": [],
   "source": [
    "# The above command will tell us the current yth position of the scroll"
   ]
  },
  {
   "cell_type": "raw",
   "id": "c98ddab1",
   "metadata": {},
   "source": [
    "window.scrollBy(0, 100);"
   ]
  },
  {
   "cell_type": "code",
   "execution_count": null,
   "id": "7a2eac46",
   "metadata": {},
   "outputs": [],
   "source": [
    "# We are scrolling the window by 100 px"
   ]
  },
  {
   "cell_type": "raw",
   "id": "8770e6a6",
   "metadata": {},
   "source": [
    "var target_scroll = 2000;\n",
    "\n",
    "var id = setInterval(function (){\n",
    "  if (window.pageYOffset >= target_scroll){\n",
    "    clearInterval(id);\n",
    "  }\n",
    "  window.scrollBy(0,50)\n",
    "},50);"
   ]
  },
  {
   "cell_type": "code",
   "execution_count": null,
   "id": "9f3b80ba",
   "metadata": {},
   "outputs": [],
   "source": [
    "# The above function keeps scrolling 50 px in 50 milliseconds till we reach the 'target_scroll'"
   ]
  },
  {
   "cell_type": "raw",
   "id": "4658b3b7",
   "metadata": {},
   "source": [
    "var educationSection = document.getElementById('education');\n",
    "var coordinates = educationSection.getBoundingClientRect();\n",
    "console.log(coordinates['y']);"
   ]
  },
  {
   "cell_type": "code",
   "execution_count": 1,
   "id": "c885e932",
   "metadata": {},
   "outputs": [],
   "source": [
    "# The above function returns the y coordinates of the education section"
   ]
  },
  {
   "cell_type": "raw",
   "id": "fb23b1b5",
   "metadata": {},
   "source": [
    "var anchor = document.querySelectorAll('#navbar a');\n",
    "educationAnchor = anchor[4];\n",
    "educationAnchor.addEventListener('click', function(event){\n",
    "  event.preventDefault();\n",
    "})\n"
   ]
  },
  {
   "cell_type": "code",
   "execution_count": null,
   "id": "30ce3f2c",
   "metadata": {},
   "outputs": [],
   "source": [
    "# The above function makes sure when we click on 'education' anchor tag, we don't move down to the 'education' section"
   ]
  },
  {
   "cell_type": "raw",
   "id": "c6f78ba5",
   "metadata": {},
   "source": [
    "var anchor = document.querySelectorAll('#navbar a');\n",
    "\n",
    "for (let i = 0; i < anchor.length; i++){\n",
    "  anchor[i].addEventListener('click',function(event){\n",
    "    event.preventDefault();\n",
    "    var targetSectionId = this.textContent.trim().toLowerCase();\n",
    "    var targetSection = document.getElementById(targetSectionId);\n",
    "    var coordinates = targetSection.getBoundingClientRect();\n",
    "    var targetScroll = coordinates['y'];\n",
    "    var id = setInterval(function(){\n",
    "      if(window.pageYOffset >= targetScroll){\n",
    "        clearInterval(id)\n",
    "      }\n",
    "      scrollBy(0,100);\n",
    "    }, 100);\n",
    "  });\n",
    "}"
   ]
  },
  {
   "cell_type": "code",
   "execution_count": null,
   "id": "faa6405a",
   "metadata": {},
   "outputs": [],
   "source": [
    "# The above function makes sure we move smoothly to the respective sections\n",
    "\n",
    "# The first step is to prevent the default (which is to move abruptly to a section)\n",
    "# The second step is to find the targetScroll coordinates of the respective section.\n",
    "# The third step is to setInterval of scrolling till we reach the targetScroll"
   ]
  },
  {
   "cell_type": "raw",
   "id": "6a50a001",
   "metadata": {},
   "source": [
    "var anchor = document.querySelectorAll('#navbar a');\n",
    "\n",
    "for (let i = 0; i < anchor.length; i++){\n",
    "  anchor[i].addEventListener('click',function(event){\n",
    "    event.preventDefault();\n",
    "    var targetSectionId = this.textContent.trim().toLowerCase();\n",
    "    var targetSection = document.getElementById(targetSectionId);\n",
    "    \n",
    "    var id = setInterval(function(){\n",
    "      var coordinates = targetSection.getBoundingClientRect();\n",
    "      var coordinatesTop = coordinates['top'];\n",
    "      if (coordinatesTop <= 0){\n",
    "        clearInterval(id);\n",
    "      }\n",
    "      window.scrollBy(0,50);\n",
    "    }, 50);\n",
    "});\n",
    "}"
   ]
  },
  {
   "cell_type": "code",
   "execution_count": 2,
   "id": "036321e3",
   "metadata": {},
   "outputs": [],
   "source": [
    "# Another approach\n",
    "\n",
    "# The above function makes sure we move smoothly to the respective sections"
   ]
  },
  {
   "cell_type": "raw",
   "id": "ba1a3fa0",
   "metadata": {},
   "source": [
    "function scrollVertically(){\n",
    "    var coordinates = targetSection.getBoundingClientRect();\n",
    "    var coordinatesTop = coordinates['top'];\n",
    "    if (coordinatesTop <= 150){\n",
    "      clearInterval(id);\n",
    "    }\n",
    "    window.scrollBy(0,50);\n",
    "}\n",
    "\n",
    "\n",
    "var anchor = document.querySelectorAll('#navbar a');\n",
    "var targetSectionId;;\n",
    "var targetSection;\n",
    "var id;\n",
    "for (let i = 0; i < anchor.length; i++){\n",
    "  anchor[i].addEventListener('click',function(event){\n",
    "    event.preventDefault();\n",
    "    targetSectionId = this.textContent.trim().toLowerCase();\n",
    "    targetSection = document.getElementById(targetSectionId);\n",
    "    \n",
    "    id = setInterval(scrollVertically, 50);\n",
    "});\n",
    "}"
   ]
  },
  {
   "cell_type": "code",
   "execution_count": null,
   "id": "92738a3a",
   "metadata": {},
   "outputs": [],
   "source": [
    "# The above code is a cleaner version in case we want to reuse scrollVertically()\n",
    "\n",
    "# Note - The scrollVertically function is not within the function(event). If it would have been then we could have defined\n",
    "# var targetSectionId inside function(event) and used the targetSectionId within scrollVertically()\n",
    "# scrollVertically() and function(event) are 2 separate functions."
   ]
  },
  {
   "cell_type": "raw",
   "id": "f40cf417",
   "metadata": {},
   "source": [
    "function scrollVertically(targetSection){\n",
    "    var coordinates = targetSection.getBoundingClientRect();\n",
    "    var coordinatesTop = coordinates['top'];\n",
    "    if (coordinatesTop <= 150){\n",
    "      clearInterval(id);\n",
    "    }\n",
    "    window.scrollBy(0,50);\n",
    "}\n",
    "\n",
    "\n",
    "var anchor = document.querySelectorAll('#navbar a');\n",
    "var id;\n",
    "for (let i = 0; i < anchor.length; i++){\n",
    "  anchor[i].addEventListener('click',function(event){\n",
    "    event.preventDefault();\n",
    "    var targetSectionId = this.textContent.trim().toLowerCase();\n",
    "    var targetSection = document.getElementById(targetSectionId);\n",
    "    \n",
    "    id = setInterval(scrollVertically, 50, targetSection);\n",
    "});\n",
    "}"
   ]
  },
  {
   "cell_type": "code",
   "execution_count": 3,
   "id": "a44ca85d",
   "metadata": {},
   "outputs": [],
   "source": [
    "# In the above version, targetSection has been defined inside the function(event), so we need to pass the targetSection to \n",
    "# the function scrollVertically otherwise scrollVertically will not have access to targetSection."
   ]
  },
  {
   "cell_type": "raw",
   "id": "a4417950",
   "metadata": {},
   "source": [
    "function scrollVertically(targetSection){\n",
    "    var coordinates = targetSection.getBoundingClientRect();\n",
    "    var coordinatesTop = coordinates['top'];\n",
    "    if (coordinatesTop <= 150){\n",
    "      clearInterval(id);\n",
    "    }\n",
    "    window.scrollBy(0,50);\n",
    "}\n",
    "\n",
    "\n",
    "var anchor = document.querySelectorAll('#navbar a');\n",
    "var id;\n",
    "for (let i = 0; i < anchor.length; i++){\n",
    "  anchor[i].addEventListener('click',function(event){\n",
    "    event.preventDefault();\n",
    "    var targetSectionId = this.textContent.trim().toLowerCase();\n",
    "    var targetSection = document.getElementById(targetSectionId);\n",
    "    \n",
    "    id = setInterval(function(){\n",
    "      scrollVertically(targetSection)\n",
    "    }, 50);\n",
    "});\n",
    "}"
   ]
  },
  {
   "cell_type": "code",
   "execution_count": null,
   "id": "c1c5f02d",
   "metadata": {},
   "outputs": [],
   "source": [
    "# The above is a third version of the code"
   ]
  }
 ],
 "metadata": {
  "kernelspec": {
   "display_name": "Python 3 (ipykernel)",
   "language": "python",
   "name": "python3"
  },
  "language_info": {
   "codemirror_mode": {
    "name": "ipython",
    "version": 3
   },
   "file_extension": ".py",
   "mimetype": "text/x-python",
   "name": "python",
   "nbconvert_exporter": "python",
   "pygments_lexer": "ipython3",
   "version": "3.9.12"
  }
 },
 "nbformat": 4,
 "nbformat_minor": 5
}
