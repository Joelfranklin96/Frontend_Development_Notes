{
 "cells": [
  {
   "cell_type": "code",
   "execution_count": 1,
   "id": "e9337ade",
   "metadata": {},
   "outputs": [],
   "source": [
    "# Web Design Process\n",
    "\n",
    "# 1) Setting Goals and Targets\n",
    "# 2) Figuring out what to implement - Features and Screens\n",
    "# 3) Design \n",
    "# 4) Development\n",
    "# 5) Launch\n",
    "# 6) Maintenance"
   ]
  },
  {
   "cell_type": "code",
   "execution_count": 2,
   "id": "e9e8ae26",
   "metadata": {},
   "outputs": [],
   "source": [
    "# CSS Variables"
   ]
  },
  {
   "cell_type": "code",
   "execution_count": 3,
   "id": "5d3fd552",
   "metadata": {},
   "outputs": [],
   "source": [
    "# index.html"
   ]
  },
  {
   "cell_type": "raw",
   "id": "efeba09a",
   "metadata": {},
   "source": [
    "<!DOCTYPE html>\n",
    "<html>\n",
    "<head>\n",
    "    <link rel=\"stylesheet\" type=\"text/css\" href=\"style.css\">\n",
    "  </head>\n",
    "<body>\n",
    "\n",
    "\t<div class = \"testing\">\n",
    "\t\tHow are you?\n",
    "\t</div>\n",
    "\n",
    "</body>\n",
    "</html>"
   ]
  },
  {
   "cell_type": "code",
   "execution_count": 4,
   "id": "6e81c63a",
   "metadata": {},
   "outputs": [],
   "source": [
    "# style.css"
   ]
  },
  {
   "cell_type": "raw",
   "id": "52e9e446",
   "metadata": {},
   "source": [
    ":root{\n",
    "\t--section-color: #2857a4;\n",
    "}\n",
    "\n",
    ".testing{\n",
    "\tcolor: var(--section-color);\n",
    "}"
   ]
  },
  {
   "cell_type": "code",
   "execution_count": 5,
   "id": "b84836d9",
   "metadata": {},
   "outputs": [],
   "source": [
    "# In the above style.css, :root means the scope of the variable is the entire document. The variable is available to be used\n",
    "# throughout the entire document.\n",
    "\n",
    "# Not all modern browsers support CSS variables. Internet explorer doesn't support CSS variables.\n",
    "\n",
    "# Variables can be created for font-size, height, width dimensions as well.\n",
    "\n",
    "# CSS variables don't take up space. They are not like other programming language variables."
   ]
  },
  {
   "cell_type": "code",
   "execution_count": 6,
   "id": "272db3f8",
   "metadata": {},
   "outputs": [],
   "source": [
    "# Scope of CSS variables"
   ]
  },
  {
   "cell_type": "code",
   "execution_count": 7,
   "id": "fc2272f6",
   "metadata": {},
   "outputs": [],
   "source": [
    "# index.html"
   ]
  },
  {
   "cell_type": "raw",
   "id": "9fa947d8",
   "metadata": {},
   "source": [
    "<!DOCTYPE html>\n",
    "<html>\n",
    "<head>\n",
    "    <link rel=\"stylesheet\" type=\"text/css\" href=\"style.css\">\n",
    "  </head>\n",
    "<body>\n",
    "\n",
    "\t<div class = \"outer-div\">\n",
    "\t\t<p>Outer div</p>\n",
    "\t\t<div class=\"inner-div\">\n",
    "\t\t\t<p>Inner-div</p>\n",
    "\t\t\t<div class=\"inner-div1\">\n",
    "\t\t\t\t<p>Inner-div1</p>\n",
    "\t\t\t</div>\n",
    "\t\t\t<div class=\"inner-div2\">\n",
    "\t\t\t\t<p>Inner-div2</p>\n",
    "\t\t\t</div>\n",
    "\t\t</div>\n",
    "\t</div>\n",
    "</body>\n",
    "</html>"
   ]
  },
  {
   "cell_type": "code",
   "execution_count": 8,
   "id": "709b331c",
   "metadata": {},
   "outputs": [],
   "source": [
    "# style.css"
   ]
  },
  {
   "cell_type": "raw",
   "id": "c9f68d24",
   "metadata": {},
   "source": [
    ":root{\n",
    "\t--text-color: red;\n",
    "}\n",
    "\n",
    ".outer-div{\n",
    "\tcolor: var(--text-color);\n",
    "}\n",
    "\n",
    ".inner-div{\n",
    "\tcolor: var(--text-color);\n",
    "}\n",
    "\n",
    ".inner-div1{\n",
    "\tcolor: var(--text-color);\n",
    "}\n",
    "\n",
    ".inner-div2{\n",
    "\tcolor: var(--text-color);\n",
    "}"
   ]
  },
  {
   "cell_type": "code",
   "execution_count": 12,
   "id": "9063ad69",
   "metadata": {},
   "outputs": [],
   "source": [
    "# Result for above - All 4 divs are red in color\n",
    "\n",
    "# The outer-div will take the value of --text-color variable from it's parent which is root. All subsequent divs will take the\n",
    "# value of --text-color variable from their respective parents. And hence all the divs are red in color."
   ]
  },
  {
   "cell_type": "raw",
   "id": "c9a22514",
   "metadata": {},
   "source": [
    ":root{\n",
    "\t--text-color: red;\n",
    "}\n",
    "\n",
    ".outer-div{\n",
    "\tcolor: var(--text-color);\n",
    "}\n",
    "\n",
    ".inner-div{\n",
    "\t--text-color: blue;\n",
    "\tcolor: var(--text-color);\n",
    "}\n",
    "\n",
    ".inner-div1{\n",
    "\tcolor: var(--text-color);\n",
    "}\n",
    "\n",
    ".inner-div2{\n",
    "\tcolor: var(--text-color);\n",
    "}"
   ]
  },
  {
   "cell_type": "code",
   "execution_count": 11,
   "id": "45c4c71c",
   "metadata": {},
   "outputs": [],
   "source": [
    "# Result for above - Outer-div is red in color and Inner-div, Inner-div1, Inner-div2 are blue in color\n",
    "\n",
    "# This is because we have changed the value of --text-color variable to blue in inner-div. Now inner-div1 and inner-div2 will\n",
    "# inherit the value of --text-color from it's parent inner-div."
   ]
  },
  {
   "cell_type": "code",
   "execution_count": null,
   "id": "7c70aa7e",
   "metadata": {},
   "outputs": [],
   "source": [
    "# If there is a spelling error in the name of the CSS variable, then it will search for the color of the next parent (grandparent)"
   ]
  },
  {
   "cell_type": "raw",
   "id": "7879b091",
   "metadata": {},
   "source": [
    ".inner-div1{\n",
    "    --text-color: blue;\n",
    "\tcolor: var(--text-coloor, orange);\n",
    "}"
   ]
  },
  {
   "cell_type": "code",
   "execution_count": null,
   "id": "63be72b5",
   "metadata": {},
   "outputs": [],
   "source": [
    "# In the above case, inner-div1 will be in orange color.\n",
    "\n",
    "# color: var(--text-coloor, orange); means that if the CSS variable --text-coloor doesn't exist, inner-div1 will take on orange color."
   ]
  }
 ],
 "metadata": {
  "kernelspec": {
   "display_name": "Python 3 (ipykernel)",
   "language": "python",
   "name": "python3"
  },
  "language_info": {
   "codemirror_mode": {
    "name": "ipython",
    "version": 3
   },
   "file_extension": ".py",
   "mimetype": "text/x-python",
   "name": "python",
   "nbconvert_exporter": "python",
   "pygments_lexer": "ipython3",
   "version": "3.9.12"
  }
 },
 "nbformat": 4,
 "nbformat_minor": 5
}
