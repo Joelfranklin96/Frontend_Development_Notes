{
 "cells": [
  {
   "cell_type": "code",
   "execution_count": 1,
   "id": "a8513231",
   "metadata": {},
   "outputs": [],
   "source": [
    "# Scaling"
   ]
  },
  {
   "cell_type": "code",
   "execution_count": 2,
   "id": "e0365a5f",
   "metadata": {},
   "outputs": [],
   "source": [
    "# style.css\n",
    "\n",
    "# scale(x,y) The x gets scaled by 0.5 and the y gets scaled by 1.5"
   ]
  },
  {
   "cell_type": "raw",
   "id": "78cd4a55",
   "metadata": {},
   "source": [
    "#div1{\n",
    "\theight: 100px;\n",
    "\twidth: 100px;\n",
    "\tposition: absolute;\n",
    "\ttop: 20%;\n",
    "\tleft: 20%;\n",
    "\tbackground-color: aquamarine;\n",
    "\ttransform: scale(0.5,1.5);\n",
    "}"
   ]
  },
  {
   "cell_type": "code",
   "execution_count": 3,
   "id": "c32c4b40",
   "metadata": {},
   "outputs": [],
   "source": [
    "# index.html"
   ]
  },
  {
   "cell_type": "raw",
   "id": "4996b639",
   "metadata": {},
   "source": [
    "<!DOCTYPE html>\n",
    "<html>\n",
    "<head>\n",
    "    <title>Index</title>\n",
    "    <link rel=\"stylesheet\" type=\"text/css\" href=\"style.css\">\n",
    "</head>\n",
    "<body>\n",
    "    <div id=\"div1\"></div>\n",
    "</body>\n",
    "</html>"
   ]
  },
  {
   "cell_type": "code",
   "execution_count": 4,
   "id": "1ad7e824",
   "metadata": {},
   "outputs": [],
   "source": [
    "# translate\n",
    "\n",
    "# translate(100px, 150px) - The x length gets translated by 100px and the y length gets translated by 150px\n",
    "# The translate values can be in percentages too."
   ]
  },
  {
   "cell_type": "code",
   "execution_count": null,
   "id": "5bbba7a5",
   "metadata": {},
   "outputs": [],
   "source": [
    "# style.css"
   ]
  },
  {
   "cell_type": "raw",
   "id": "2a99a924",
   "metadata": {},
   "source": [
    "#div1{\n",
    "\theight: 100px;\n",
    "\twidth: 100px;\n",
    "\tposition: absolute;\n",
    "\ttop: 20%;\n",
    "\tleft: 20%;\n",
    "\tbackground-color: aquamarine;\n",
    "\ttransform: translate(100px, 150px)\n",
    "}"
   ]
  },
  {
   "cell_type": "code",
   "execution_count": 5,
   "id": "b9e6bda0",
   "metadata": {},
   "outputs": [],
   "source": [
    "# transition\n",
    "\n",
    "# If the we don't have transition: 1s ease-in-out, the length and width will be abruptly increased to 400 px and 400 px.\n",
    "# When we have the transtion: 1s ease-in-out, the length and width will slowly increase to 400 px and 400 px slowly in 1 sec."
   ]
  },
  {
   "cell_type": "code",
   "execution_count": null,
   "id": "932c4209",
   "metadata": {},
   "outputs": [],
   "source": [
    "# style.css"
   ]
  },
  {
   "cell_type": "raw",
   "id": "428ed756",
   "metadata": {},
   "source": [
    "#div1{\n",
    "\theight: 100px;\n",
    "\twidth: 100px;\n",
    "\tposition: absolute;\n",
    "\ttop: 20%;\n",
    "\tleft: 20%;\n",
    "\tbackground-color: aquamarine;\n",
    "\ttransition: 1s ease-in-out;\n",
    "}\n",
    "\n",
    "#div1:hover{\n",
    "\theight: 400px;\n",
    "\twidth: 400px;\n",
    "}"
   ]
  },
  {
   "cell_type": "code",
   "execution_count": 6,
   "id": "e279377b",
   "metadata": {},
   "outputs": [],
   "source": [
    "# If we have transition: height 1s ease-in-out, then width will abruptly increase to 400px whereas height will slowly increase\n",
    "# to 400px in 1 sec.\n",
    "\n",
    "# The default value of transition is 'all'"
   ]
  },
  {
   "cell_type": "code",
   "execution_count": null,
   "id": "a2e9b16f",
   "metadata": {},
   "outputs": [],
   "source": [
    "# In the below case, when we hover over the div, there is a delay of 1 sec and then the transition begins."
   ]
  },
  {
   "cell_type": "code",
   "execution_count": 7,
   "id": "e72c56e5",
   "metadata": {},
   "outputs": [],
   "source": [
    "# style.css"
   ]
  },
  {
   "cell_type": "raw",
   "id": "e35ed585",
   "metadata": {},
   "source": [
    "#div1{\n",
    "\theight: 100px;\n",
    "\twidth: 100px;\n",
    "\tposition: absolute;\n",
    "\ttop: 20%;\n",
    "\tleft: 20%;\n",
    "\tbackground-color: aquamarine;\n",
    "\ttransition: 1s ease-in-out 1s;\n",
    "}\n",
    "\n",
    "#div1:hover{\n",
    "\theight: 400px;\n",
    "\twidth: 400px;\n",
    "}"
   ]
  },
  {
   "cell_type": "code",
   "execution_count": 8,
   "id": "fc52e816",
   "metadata": {},
   "outputs": [],
   "source": [
    "# In the below style.css, when we hover over the div, the div will increase it's scale by 1.5 and translate by (100 px, 100 px)\n",
    "# in 1 sec"
   ]
  },
  {
   "cell_type": "raw",
   "id": "c604d06f",
   "metadata": {},
   "source": [
    "#div1{\n",
    "\theight: 100px;\n",
    "\twidth: 100px;\n",
    "\tposition: absolute;\n",
    "\ttop: 20%;\n",
    "\tleft: 20%;\n",
    "\tbackground-color: aquamarine;\n",
    "\ttransition: 1s ease-in-out;\n",
    "}\n",
    "\n",
    "#div1:hover{\n",
    "\ttransform: scale(1.5) translate(100px, 100px);\n",
    "}"
   ]
  },
  {
   "cell_type": "code",
   "execution_count": null,
   "id": "2f3551ff",
   "metadata": {},
   "outputs": [],
   "source": [
    "# In the below style.css, when we hover over the div, the div will increase it's height and width to 400 px in 4 steps."
   ]
  },
  {
   "cell_type": "raw",
   "id": "e1ff1e0f",
   "metadata": {},
   "source": [
    "#div1{\n",
    "\theight: 100px;\n",
    "\twidth: 100px;\n",
    "\tposition: absolute;\n",
    "\ttop: 20%;\n",
    "\tleft: 20%;\n",
    "\tbackground-color: aquamarine;\n",
    "\ttransition: 1s steps(4, end);\n",
    "}\n",
    "\n",
    "#div1:hover{\n",
    "\theight: 400px;\n",
    "\twidth: 400px;\n",
    "}"
   ]
  },
  {
   "cell_type": "code",
   "execution_count": 1,
   "id": "af1088a6",
   "metadata": {},
   "outputs": [],
   "source": [
    "# Creating Animations\n",
    "\n",
    "# The duration of animation is 1s and it changes shape 2 times"
   ]
  },
  {
   "cell_type": "raw",
   "id": "fa549244",
   "metadata": {},
   "source": [
    "@keyFrames changeShape{\n",
    "\tfrom{\n",
    "\t\tborder-radius: 0%;\n",
    "\t}\n",
    "\tto{\n",
    "\t\tborder-radius: 50%;\n",
    "\t}\n",
    "}\n",
    "\n",
    "#div1{\n",
    "\theight: 100px;\n",
    "\twidth: 100px;\n",
    "\tposition: absolute;\n",
    "\ttop: 20%;\n",
    "\tleft: 20%;\n",
    "\tbackground-color: aquamarine;\n",
    "\tanimation: changeShape 1s ease-in-out 2;\n",
    "}"
   ]
  },
  {
   "cell_type": "code",
   "execution_count": null,
   "id": "b3773510",
   "metadata": {},
   "outputs": [],
   "source": [
    "# In the below style.css, the animation happens infinite times\n",
    "# The shape changes from square to circle and then abruptly changes to square\n",
    "# If we use 'alternate', the circle does not abruptly change to square but slowly."
   ]
  },
  {
   "cell_type": "raw",
   "id": "1a7f82aa",
   "metadata": {},
   "source": [
    "@keyFrames changeShape{\n",
    "\tfrom{\n",
    "\t\tborder-radius: 0%;\n",
    "\t}\n",
    "\tto{\n",
    "\t\tborder-radius: 50%;\n",
    "\t}\n",
    "}\n",
    "\n",
    "#div1{\n",
    "\theight: 100px;\n",
    "\twidth: 100px;\n",
    "\tposition: absolute;\n",
    "\ttop: 20%;\n",
    "\tleft: 20%;\n",
    "\tbackground-color: aquamarine;\n",
    "\tanimation: changeShape 1s ease-in-out infinite alternate;\n",
    "}"
   ]
  },
  {
   "cell_type": "code",
   "execution_count": 2,
   "id": "fb519701",
   "metadata": {},
   "outputs": [],
   "source": [
    "# In the below style.css, when the animation becomes 25%, the border-radius becomes 12.5%\n",
    "# When the animation becomes 50%, the border-radius becomes 25%"
   ]
  },
  {
   "cell_type": "raw",
   "id": "ddd3f361",
   "metadata": {},
   "source": [
    "@keyFrames changeShape{\n",
    "\tfrom{\n",
    "\t\tborder-radius: 0%;\n",
    "\t}\n",
    "\t25%{\n",
    "\t\tborder-radius: 12.5%;\n",
    "\t}\n",
    "\t50%{\n",
    "\t\tborder-radius: 25%;\n",
    "\t}\n",
    "\tto{\n",
    "\t\tborder-radius: 50%;\n",
    "\t}\n",
    "}\n",
    "\n",
    "#div1{\n",
    "\theight: 100px;\n",
    "\twidth: 100px;\n",
    "\tposition: absolute;\n",
    "\ttop: 20%;\n",
    "\tleft: 20%;\n",
    "\tbackground-color: aquamarine;\n",
    "\tanimation: changeShape 1s ease-in-out 2;\n",
    "}"
   ]
  },
  {
   "cell_type": "code",
   "execution_count": null,
   "id": "786bdafc",
   "metadata": {},
   "outputs": [],
   "source": [
    "# The below style.css also produces the same result as above.\n",
    "# Instead of 'from' and 'to', we can also say 0% and 100%"
   ]
  },
  {
   "cell_type": "raw",
   "id": "a66439b5",
   "metadata": {},
   "source": [
    "@keyFrames changeShape{\n",
    "\t0%{\n",
    "\t\tborder-radius: 0%;\n",
    "\t}\n",
    "\t25%{\n",
    "\t\tborder-radius: 12.5%;\n",
    "\t}\n",
    "\t50%{\n",
    "\t\tborder-radius: 25%;\n",
    "\t}\n",
    "\t100%{\n",
    "\t\tborder-radius: 50%;\n",
    "\t}\n",
    "}\n",
    "\n",
    "#div1{\n",
    "\theight: 100px;\n",
    "\twidth: 100px;\n",
    "\tposition: absolute;\n",
    "\ttop: 20%;\n",
    "\tleft: 20%;\n",
    "\tbackground-color: aquamarine;\n",
    "\tanimation: changeShape 1s ease-in-out 2;\n",
    "}"
   ]
  },
  {
   "cell_type": "code",
   "execution_count": 3,
   "id": "a3141db3",
   "metadata": {},
   "outputs": [],
   "source": [
    "# Creating multiple animations"
   ]
  },
  {
   "cell_type": "code",
   "execution_count": 4,
   "id": "e7320e1e",
   "metadata": {},
   "outputs": [],
   "source": [
    "# style.css"
   ]
  },
  {
   "cell_type": "raw",
   "id": "51cbd364",
   "metadata": {},
   "source": [
    "@keyFrames changeShape{\n",
    "    0%{\n",
    "        border-radius: 0%;\n",
    "    }\n",
    "    25%{\n",
    "    \tborder-radius: 12.5%;\n",
    "    }\n",
    "    50%{\n",
    "    \tborder-radius:  25%;\n",
    "    }\n",
    "    100%{\n",
    "    \tborder-radius: 50%;\n",
    "    }  \n",
    "}\n",
    "\n",
    "@keyFrames rotate{\n",
    "\t0%{\n",
    "\t\trotate: 0deg;\n",
    "\t}\n",
    "\t100%{\n",
    "\t\trotate: 360deg;\n",
    "\t}\n",
    "}\n",
    "\n",
    "@keyFrames reduceSize{\n",
    "\t0%{\n",
    "\t\theight: 100px\n",
    "\t\twidth: 100px;\n",
    "\t}\n",
    "\t100%{\n",
    "\t\theight: 50px;\n",
    "\t\twidth: 50px;\n",
    "\t}\n",
    "}\n",
    "\n",
    "#div1 {\n",
    "height: 100px;\n",
    "width: 100px;\n",
    "position: relative;\n",
    "top: 100px;\n",
    "left: 100px;\n",
    "background-color: aqua;\n",
    "animation-name: changeShape, rotate, reduceSize;\n",
    "animation-duration: 1s, 1s, 1s;\n",
    "animation-iteration-count: infinite, infinite, infinite;\n",
    "animation-direction: alternate, alternate, alternate;\n",
    "}"
   ]
  },
  {
   "cell_type": "code",
   "execution_count": 1,
   "id": "9256bd3d",
   "metadata": {},
   "outputs": [],
   "source": [
    "# animate.css\n",
    "\n",
    "# A bunch of fun and cool animations to be used in projects"
   ]
  },
  {
   "cell_type": "code",
   "execution_count": 2,
   "id": "1a1e8b42",
   "metadata": {},
   "outputs": [],
   "source": [
    "# 3d animation"
   ]
  },
  {
   "cell_type": "code",
   "execution_count": 3,
   "id": "65572a8b",
   "metadata": {},
   "outputs": [],
   "source": [
    "# style.css"
   ]
  },
  {
   "cell_type": "raw",
   "id": "dc14743a",
   "metadata": {},
   "source": [
    ".cube{\n",
    "\theight: 200px;\n",
    "\twidth: 200px;\n",
    "\tposition: relative;\n",
    "\tmargin: 100px;\n",
    "\ttransform-style: preserve-3d;\n",
    "\tperspective: 1000px;\n",
    "\ttransform: rotateX(40deg) rotateY(40deg); # This is not required. It is for our easy visualization so that we can place the faces of the cube easily.\n",
    "}\n",
    "\n",
    ".face{\n",
    "\theight: 100%;\n",
    "\twidth: 100%;\n",
    "\tposition: absolute;\n",
    "\ttop: 20%;\n",
    "\tleft: 20%;\n",
    "\ttransition: all 1s;\n",
    "}\n",
    "\n",
    ".one{\n",
    "\tbackground-color: skyblue;\n",
    "}\n",
    "\n",
    ".two{\n",
    "\tbackground-color: orange;\n",
    "\ttransform: rotateY(90deg) translateZ(-100px) translateX(-100px);\n",
    "}\n",
    "\n",
    ".three{\n",
    "\tbackground-color: black;\n",
    "\ttransform: rotateY(90deg) translateZ(100px) translateX(-100px);\n",
    "}\n",
    "\n",
    ".four{\n",
    "\tbackground-color: red;\n",
    "\ttransform: translateZ(200px);\n",
    "}\n",
    "\n",
    ".five{\n",
    "\tbackground-color: yellow;\n",
    "\ttransform: rotateX(90deg) translateY(100px) translateZ(100px);\n",
    "}\n",
    "\n",
    ".six{\n",
    "\tbackground-color: violet;\n",
    "\ttransform: rotateX(90deg) translateY(100px) translateZ(-100px);\n",
    "}"
   ]
  },
  {
   "cell_type": "code",
   "execution_count": null,
   "id": "81d06f09",
   "metadata": {},
   "outputs": [],
   "source": [
    "# index.html"
   ]
  },
  {
   "cell_type": "raw",
   "id": "84d1422b",
   "metadata": {},
   "source": [
    "<!DOCTYPE html>\n",
    "<html>\n",
    "<head>\n",
    "    <link rel=\"stylesheet\" type=\"text/css\" href=\"style.css\">\n",
    "</head>\n",
    "<body>\n",
    "\t<div class=\"cube\">\n",
    "\t\t<div class=\"face one\"></div>\n",
    "\t\t<div class = \"face two\"></div>\n",
    "\t\t<div class = \"face three\"></div>\n",
    "\t\t<div class = \"face four\"></div>\n",
    "\t\t<div class = \"face five\"></div>\n",
    "\t\t<div class = \"face six\"></div>\n",
    "\t</div>\n",
    "</body>\n",
    "</html>"
   ]
  },
  {
   "cell_type": "code",
   "execution_count": null,
   "id": "97723846",
   "metadata": {},
   "outputs": [],
   "source": [
    "# 'preserve-3d'\n",
    "\n",
    "# The value 'preserve-3d' ensures that child elements maintain their 3D positioning and transformations within the parent element.\n",
    "# In the context of the code, it ensures that the faces of the cube maintain their 3D position and rotation within the \n",
    "# .cube container.\n",
    "\n",
    "# perspective: 1000px;:\n",
    "\n",
    "# This property is used to set the perspective from which 3D elements are viewed.\n",
    "# The value represents the distance from the viewer to the z=0 plane. It determines the intensity of the 3D effect.\n",
    "# In the code, perspective: 1000px sets the perspective of the .cube container to 1000 pixels."
   ]
  }
 ],
 "metadata": {
  "kernelspec": {
   "display_name": "Python 3 (ipykernel)",
   "language": "python",
   "name": "python3"
  },
  "language_info": {
   "codemirror_mode": {
    "name": "ipython",
    "version": 3
   },
   "file_extension": ".py",
   "mimetype": "text/x-python",
   "name": "python",
   "nbconvert_exporter": "python",
   "pygments_lexer": "ipython3",
   "version": "3.9.12"
  }
 },
 "nbformat": 4,
 "nbformat_minor": 5
}
